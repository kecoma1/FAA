{
 "cells": [
  {
   "cell_type": "markdown",
   "metadata": {},
   "source": [
    "# FAA 1462 Pareja 10. Práctica 2 K-NN y K-MEANS\n",
    "## Kevin de la Coba Malam\n",
    "En este documento se mostraran los resultados del clasificador __K-NN__ usando diferentes K. También se hará una análisis del algoritmo __K-Means__ con el dataset _nums.csv_.\n",
    "\n",
    "Para no hacer el documento muy extenso se han implementado las funciones de test en un archivo llamado ___utils.py___."
   ]
  },
  {
   "cell_type": "code",
   "execution_count": 1,
   "metadata": {},
   "outputs": [],
   "source": [
    "import utils\n",
    "from Datos import Datos\n",
    "pima = Datos(\"ConjuntosDatosP2Knn/pima-indians-diabetes__a.data\")\n",
    "wdbc = Datos(\"ConjuntosDatosP2Knn/wdbc__a.data\")\n"
   ]
  },
  {
   "cell_type": "markdown",
   "metadata": {},
   "source": [
    "### K-NN Tests sin normalizar"
   ]
  },
  {
   "cell_type": "code",
   "execution_count": 2,
   "metadata": {
    "scrolled": true
   },
   "outputs": [
    {
     "name": "stdout",
     "output_type": "stream",
     "text": [
      "Test K=1 K-NN SIN NORMALIZAR\t\tPima - Error Medio\tPima - std\tWDBC - Error Medio\tWDBC - std\n"
     ]
    },
    {
     "name": "stderr",
     "output_type": "stream",
     "text": [
      "C:\\ProgramData\\Anaconda3\\lib\\site-packages\\scipy\\stats\\_distn_infrastructure.py:1760: RuntimeWarning: invalid value encountered in double_scalars\n",
      "  x = np.asarray((x - loc)/scale, dtype=dtyp)\n"
     ]
    },
    {
     "name": "stdout",
     "output_type": "stream",
     "text": [
      "Validación Simple 25%\t\t\t0.608333\t\t0.134629\t0.728571\t\t0.214999\n",
      "Validación Cruzada K-Folds=4\t\t0.633333\t\t0.113039\t0.807143\t\t0.083299\n",
      "Validación Simple 20%\t\t\t0.640000\t\t0.185472\t0.868000\t\t0.110345\n",
      "Validación Cruzada K-Folds=6\t\t0.533333\t\t0.084984\t0.845833\t\t0.026680\n",
      "Validación Simple 15%\t\t\t0.641667\t\t0.134629\t0.845833\t\t0.061942\n",
      "Validación Cruzada K-Folds=8\t\t0.487500\t\t0.103833\t0.870833\t\t0.043501\n",
      "Validación Simple 10%\t\t\t0.470000\t\t0.118743\t0.890000\t\t0.066332\n",
      "Validación Cruzada K-Folds=10\t\t0.460000\t\t0.101980\t0.870000\t\t0.055678\n",
      "====================================================================================================================\n",
      "Test K=3 K-NN SIN NORMALIZAR\t\tPima - Error Medio\tPima - std\tWDBC - Error Medio\tWDBC - std\n",
      "Validación Simple 25%\t\t\t0.600000\t\t0.104083\t0.710714\t\t0.092375\n",
      "Validación Cruzada K-Folds=4\t\t0.608333\t\t0.075000\t0.621429\t\t0.103756\n",
      "Validación Simple 20%\t\t\t0.610000\t\t0.104403\t0.684000\t\t0.152263\n",
      "Validación Cruzada K-Folds=6\t\t0.600000\t\t0.116667\t0.829167\t\t0.070833\n",
      "Validación Simple 15%\t\t\t0.733333\t\t0.097183\t0.775000\t\t0.105738\n",
      "Validación Cruzada K-Folds=8\t\t0.500000\t\t0.193649\t0.850000\t\t0.053359\n",
      "Validación Simple 10%\t\t\t0.530000\t\t0.100499\t0.895000\t\t0.052202\n",
      "Validación Cruzada K-Folds=10\t\t0.520000\t\t0.166132\t0.895000\t\t0.041533\n",
      "====================================================================================================================\n",
      "Test K=5 K-NN SIN NORMALIZAR\t\tPima - Error Medio\tPima - std\tWDBC - Error Medio\tWDBC - std\n",
      "Validación Simple 25%\t\t\t0.616667\t\t0.150000\t0.110714\t\t0.082143\n",
      "Validación Cruzada K-Folds=4\t\t0.575000\t\t0.136677\t0.146429\t\t0.106486\n",
      "Validación Simple 20%\t\t\t0.570000\t\t0.141774\t0.128000\t\t0.053066\n",
      "Validación Cruzada K-Folds=6\t\t0.675000\t\t0.094648\t0.108333\t\t0.027639\n",
      "Validación Simple 15%\t\t\t0.591667\t\t0.069222\t0.104167\t\t0.059658\n",
      "Validación Cruzada K-Folds=8\t\t0.587500\t\t0.274146\t0.104167\t\t0.027951\n",
      "Validación Simple 10%\t\t\t0.570000\t\t0.141774\t0.100000\t\t0.063246\n",
      "Validación Cruzada K-Folds=10\t\t0.620000\t\t0.193907\t0.125000\t\t0.033541\n",
      "====================================================================================================================\n",
      "Test K=7 K-NN SIN NORMALIZAR\t\tPima - Error Medio\tPima - std\tWDBC - Error Medio\tWDBC - std\n",
      "Validación Simple 25%\t\t\t0.591667\t\t0.094648\t0.100000\t\t0.059333\n",
      "Validación Cruzada K-Folds=4\t\t0.633333\t\t0.092796\t0.107143\t\t0.000000\n",
      "Validación Simple 20%\t\t\t0.650000\t\t0.150000\t0.124000\t\t0.037736\n",
      "Validación Cruzada K-Folds=6\t\t0.650000\t\t0.152753\t0.108333\t\t0.020412\n",
      "Validación Simple 15%\t\t\t0.583333\t\t0.166667\t0.137500\t\t0.064684\n",
      "Validación Cruzada K-Folds=8\t\t0.650000\t\t0.352668\t0.104167\t\t0.027951\n",
      "Validación Simple 10%\t\t\t0.590000\t\t0.186815\t0.095000\t\t0.041533\n",
      "Validación Cruzada K-Folds=10\t\t0.560000\t\t0.272764\t0.085000\t\t0.045000\n",
      "====================================================================================================================\n",
      "Test K=9 K-NN SIN NORMALIZAR\t\tPima - Error Medio\tPima - std\tWDBC - Error Medio\tWDBC - std\n",
      "Validación Simple 25%\t\t\t0.708333\t\t0.085391\t0.096429\t\t0.050634\n",
      "Validación Cruzada K-Folds=4\t\t0.708333\t\t0.119315\t0.100000\t\t0.014286\n",
      "Validación Simple 20%\t\t\t0.650000\t\t0.111803\t0.084000\t\t0.052000\n",
      "Validación Cruzada K-Folds=6\t\t0.725000\t\t0.105738\t0.091667\t\t0.025000\n",
      "Validación Simple 15%\t\t\t0.683333\t\t0.148137\t0.100000\t\t0.065085\n",
      "Validación Cruzada K-Folds=8\t\t0.500000\t\t0.256174\t0.116667\t\t0.016667\n",
      "Validación Simple 10%\t\t\t0.620000\t\t0.124900\t0.130000\t\t0.050990\n",
      "Validación Cruzada K-Folds=10\t\t0.500000\t\t0.252982\t0.095000\t\t0.035000\n",
      "====================================================================================================================\n",
      "Test K=11 K-NN SIN NORMALIZAR\t\tPima - Error Medio\tPima - std\tWDBC - Error Medio\tWDBC - std\n",
      "Validación Simple 25%\t\t\t0.550000\t\t0.124722\t0.089286\t\t0.053571\n",
      "Validación Cruzada K-Folds=4\t\t0.583333\t\t0.144338\t0.103571\t\t0.010714\n",
      "Validación Simple 20%\t\t\t0.720000\t\t0.074833\t0.116000\t\t0.063119\n",
      "Validación Cruzada K-Folds=6\t\t0.666667\t\t0.134371\t0.104167\t\t0.027951\n",
      "Validación Simple 15%\t\t\t0.758333\t\t0.131498\t0.062500\t\t0.042696\n",
      "Validación Cruzada K-Folds=8\t\t0.475000\t\t0.278388\t0.112500\t\t0.019094\n",
      "Validación Simple 10%\t\t\t0.620000\t\t0.140000\t0.140000\t\t0.062450\n",
      "Validación Cruzada K-Folds=10\t\t0.540000\t\t0.307246\t0.100000\t\t0.050000\n",
      "====================================================================================================================\n",
      "Test K=13 K-NN SIN NORMALIZAR\t\tPima - Error Medio\tPima - std\tWDBC - Error Medio\tWDBC - std\n",
      "Validación Simple 25%\t\t\t0.591667\t\t0.108333\t0.078571\t\t0.044607\n",
      "Validación Cruzada K-Folds=4\t\t0.516667\t\t0.116667\t0.107143\t\t0.000000\n",
      "Validación Simple 20%\t\t\t0.650000\t\t0.092195\t0.096000\t\t0.048000\n",
      "Validación Cruzada K-Folds=6\t\t0.666667\t\t0.083333\t0.095833\t\t0.026680\n",
      "Validación Simple 15%\t\t\t0.691667\t\t0.123884\t0.125000\t\t0.037268\n",
      "Validación Cruzada K-Folds=8\t\t0.450000\t\t0.127475\t0.091667\t\t0.031180\n",
      "Validación Simple 10%\t\t\t0.410000\t\t0.130000\t0.145000\t\t0.085000\n",
      "Validación Cruzada K-Folds=10\t\t0.460000\t\t0.048990\t0.105000\t\t0.035000\n",
      "====================================================================================================================\n",
      "Test K=15 K-NN SIN NORMALIZAR\t\tPima - Error Medio\tPima - std\tWDBC - Error Medio\tWDBC - std\n",
      "Validación Simple 25%\t\t\t0.641667\t\t0.098953\t0.110714\t\t0.037287\n",
      "Validación Cruzada K-Folds=4\t\t0.533333\t\t0.113039\t0.103571\t\t0.010714\n",
      "Validación Simple 20%\t\t\t0.730000\t\t0.100499\t0.136000\t\t0.069742\n",
      "Validación Cruzada K-Folds=6\t\t0.658333\t\t0.136677\t0.100000\t\t0.033333\n",
      "Validación Simple 15%\t\t\t0.683333\t\t0.081650\t0.083333\t\t0.058926\n",
      "Validación Cruzada K-Folds=8\t\t0.462500\t\t0.137500\t0.100000\t\t0.027639\n",
      "Validación Simple 10%\t\t\t0.370000\t\t0.161555\t0.060000\t\t0.048990\n",
      "Validación Cruzada K-Folds=10\t\t0.470000\t\t0.064031\t0.110000\t\t0.037417\n",
      "====================================================================================================================\n",
      "Test K=17 K-NN SIN NORMALIZAR\t\tPima - Error Medio\tPima - std\tWDBC - Error Medio\tWDBC - std\n",
      "Validación Simple 25%\t\t\t0.583333\t\t0.105409\t0.092857\t\t0.039770\n",
      "Validación Cruzada K-Folds=4\t\t0.625000\t\t0.171796\t0.100000\t\t0.014286\n",
      "Validación Simple 20%\t\t\t0.650000\t\t0.092195\t0.120000\t\t0.050596\n",
      "Validación Cruzada K-Folds=6\t\t0.758333\t\t0.087003\t0.108333\t\t0.027639\n",
      "Validación Simple 15%\t\t\t0.716667\t\t0.140436\t0.125000\t\t0.079057\n",
      "Validación Cruzada K-Folds=8\t\t0.462500\t\t0.137500\t0.116667\t\t0.016667\n",
      "Validación Simple 10%\t\t\t0.420000\t\t0.183303\t0.075000\t\t0.051235\n",
      "Validación Cruzada K-Folds=10\t\t0.430000\t\t0.100499\t0.105000\t\t0.041533\n",
      "====================================================================================================================\n",
      "Test K=19 K-NN SIN NORMALIZAR\t\tPima - Error Medio\tPima - std\tWDBC - Error Medio\tWDBC - std\n",
      "Validación Simple 25%\t\t\t0.508333\t\t0.114564\t0.110714\t\t0.058576\n",
      "Validación Cruzada K-Folds=4\t\t0.575000\t\t0.136677\t0.103571\t\t0.010714\n",
      "Validación Simple 20%\t\t\t0.650000\t\t0.128452\t0.124000\t\t0.070314\n",
      "Validación Cruzada K-Folds=6\t\t0.716667\t\t0.100000\t0.091667\t\t0.025000\n",
      "Validación Simple 15%\t\t\t0.725000\t\t0.091667\t0.100000\t\t0.046398\n",
      "Validación Cruzada K-Folds=8\t\t0.425000\t\t0.100000\t0.108333\t\t0.020412\n",
      "Validación Simple 10%\t\t\t0.430000\t\t0.167631\t0.100000\t\t0.070711\n",
      "Validación Cruzada K-Folds=10\t\t0.450000\t\t0.080623\t0.105000\t\t0.026926\n",
      "====================================================================================================================\n",
      "Test K=21 K-NN SIN NORMALIZAR\t\tPima - Error Medio\tPima - std\tWDBC - Error Medio\tWDBC - std\n",
      "Validación Simple 25%\t\t\t0.583333\t\t0.105409\t0.100000\t\t0.072843\n",
      "Validación Cruzada K-Folds=4\t\t0.675000\t\t0.114564\t0.100000\t\t0.014286\n",
      "Validación Simple 20%\t\t\t0.690000\t\t0.144568\t0.088000\t\t0.029933\n",
      "Validación Cruzada K-Folds=6\t\t0.666667\t\t0.098601\t0.087500\t\t0.029167\n",
      "Validación Simple 15%\t\t\t0.766667\t\t0.138444\t0.095833\t\t0.041874\n",
      "Validación Cruzada K-Folds=8\t\t0.400000\t\t0.122474\t0.087500\t\t0.029167\n",
      "Validación Simple 10%\t\t\t0.470000\t\t0.179165\t0.085000\t\t0.059372\n",
      "Validación Cruzada K-Folds=10\t\t0.380000\t\t0.097980\t0.105000\t\t0.026926\n",
      "====================================================================================================================\n",
      "Test K=23 K-NN SIN NORMALIZAR\t\tPima - Error Medio\tPima - std\tWDBC - Error Medio\tWDBC - std\n",
      "Validación Simple 25%\t\t\t0.575000\t\t0.141667\t0.110714\t\t0.054046\n",
      "Validación Cruzada K-Folds=4\t\t0.600000\t\t0.116667\t0.100000\t\t0.014286\n",
      "Validación Simple 20%\t\t\t0.710000\t\t0.094340\t0.104000\t\t0.048000\n",
      "Validación Cruzada K-Folds=6\t\t0.700000\t\t0.092796\t0.100000\t\t0.027639\n"
     ]
    },
    {
     "name": "stdout",
     "output_type": "stream",
     "text": [
      "Validación Simple 15%\t\t\t0.683333\t\t0.089753\t0.091667\t\t0.069222\n",
      "Validación Cruzada K-Folds=8\t\t0.412500\t\t0.137500\t0.095833\t\t0.026680\n",
      "Validación Simple 10%\t\t\t0.400000\t\t0.100000\t0.095000\t\t0.041533\n",
      "Validación Cruzada K-Folds=10\t\t0.450000\t\t0.067082\t0.115000\t\t0.022913\n",
      "====================================================================================================================\n",
      "Test K=25 K-NN SIN NORMALIZAR\t\tPima - Error Medio\tPima - std\tWDBC - Error Medio\tWDBC - std\n",
      "Validación Simple 25%\t\t\t0.533333\t\t0.130171\t0.096429\t\t0.050634\n",
      "Validación Cruzada K-Folds=4\t\t0.558333\t\t0.105738\t0.103571\t\t0.010714\n",
      "Validación Simple 20%\t\t\t0.710000\t\t0.122066\t0.104000\t\t0.048000\n",
      "Validación Cruzada K-Folds=6\t\t0.700000\t\t0.066667\t0.100000\t\t0.020412\n",
      "Validación Simple 15%\t\t\t0.708333\t\t0.145535\t0.137500\t\t0.061942\n",
      "Validación Cruzada K-Folds=8\t\t0.462500\t\t0.112500\t0.095833\t\t0.019094\n",
      "Validación Simple 10%\t\t\t0.440000\t\t0.142829\t0.090000\t\t0.083066\n",
      "Validación Cruzada K-Folds=10\t\t0.410000\t\t0.113578\t0.095000\t\t0.035000\n",
      "====================================================================================================================\n",
      "Test K=27 K-NN SIN NORMALIZAR\t\tPima - Error Medio\tPima - std\tWDBC - Error Medio\tWDBC - std\n",
      "Validación Simple 25%\t\t\t0.583333\t\t0.105409\t0.089286\t\t0.039930\n",
      "Validación Cruzada K-Folds=4\t\t0.650000\t\t0.133333\t0.103571\t\t0.010714\n",
      "Validación Simple 20%\t\t\t0.730000\t\t0.134536\t0.084000\t\t0.037736\n",
      "Validación Cruzada K-Folds=6\t\t0.691667\t\t0.118145\t0.108333\t\t0.020412\n",
      "Validación Simple 15%\t\t\t0.758333\t\t0.108333\t0.133333\t\t0.071686\n",
      "Validación Cruzada K-Folds=8\t\t0.362500\t\t0.103833\t0.108333\t\t0.020412\n",
      "Validación Simple 10%\t\t\t0.460000\t\t0.156205\t0.100000\t\t0.083666\n",
      "Validación Cruzada K-Folds=10\t\t0.430000\t\t0.078102\t0.100000\t\t0.038730\n",
      "====================================================================================================================\n",
      "Test K=29 K-NN SIN NORMALIZAR\t\tPima - Error Medio\tPima - std\tWDBC - Error Medio\tWDBC - std\n",
      "Validación Simple 25%\t\t\t0.608333\t\t0.129368\t0.121429\t\t0.032733\n",
      "Validación Cruzada K-Folds=4\t\t0.625000\t\t0.119315\t0.103571\t\t0.010714\n",
      "Validación Simple 20%\t\t\t0.680000\t\t0.146969\t0.148000\t\t0.067052\n",
      "Validación Cruzada K-Folds=6\t\t0.750000\t\t0.098601\t0.108333\t\t0.020412\n",
      "Validación Simple 15%\t\t\t0.666667\t\t0.091287\t0.100000\t\t0.065085\n",
      "Validación Cruzada K-Folds=8\t\t0.487500\t\t0.103833\t0.108333\t\t0.020412\n",
      "Validación Simple 10%\t\t\t0.400000\t\t0.141421\t0.110000\t\t0.066332\n",
      "Validación Cruzada K-Folds=10\t\t0.400000\t\t0.044721\t0.110000\t\t0.043589\n",
      "====================================================================================================================\n",
      "Test K=31 K-NN SIN NORMALIZAR\t\tPima - Error Medio\tPima - std\tWDBC - Error Medio\tWDBC - std\n",
      "Validación Simple 25%\t\t\t0.608333\t\t0.123884\t0.110714\t\t0.033693\n",
      "Validación Cruzada K-Folds=4\t\t0.608333\t\t0.134629\t0.107143\t\t0.000000\n",
      "Validación Simple 20%\t\t\t0.660000\t\t0.111355\t0.092000\t\t0.044000\n",
      "Validación Cruzada K-Folds=6\t\t0.666667\t\t0.134371\t0.104167\t\t0.020833\n",
      "Validación Simple 15%\t\t\t0.758333\t\t0.108333\t0.108333\t\t0.059512\n",
      "Validación Cruzada K-Folds=8\t\t0.450000\t\t0.100000\t0.100000\t\t0.027639\n",
      "Validación Simple 10%\t\t\t0.460000\t\t0.135647\t0.100000\t\t0.050000\n",
      "Validación Cruzada K-Folds=10\t\t0.380000\t\t0.074833\t0.110000\t\t0.037417\n",
      "====================================================================================================================\n",
      "Test K=33 K-NN SIN NORMALIZAR\t\tPima - Error Medio\tPima - std\tWDBC - Error Medio\tWDBC - std\n",
      "Validación Simple 25%\t\t\t0.516667\t\t0.157233\t0.103571\t\t0.033693\n",
      "Validación Cruzada K-Folds=4\t\t0.550000\t\t0.150000\t0.107143\t\t0.000000\n",
      "Validación Simple 20%\t\t\t0.630000\t\t0.148661\t0.088000\t\t0.071106\n",
      "Validación Cruzada K-Folds=6\t\t0.716667\t\t0.113039\t0.116667\t\t0.016667\n",
      "Validación Simple 15%\t\t\t0.658333\t\t0.126106\t0.070833\t\t0.052869\n",
      "Validación Cruzada K-Folds=8\t\t0.387500\t\t0.130504\t0.095833\t\t0.019094\n",
      "Validación Simple 10%\t\t\t0.460000\t\t0.091652\t0.100000\t\t0.063246\n",
      "Validación Cruzada K-Folds=10\t\t0.450000\t\t0.092195\t0.100000\t\t0.038730\n",
      "====================================================================================================================\n"
     ]
    }
   ],
   "source": [
    "errorMedioPimaVC, errorMedioPimaVS, errorMedioWDBCVC, errorMedioWDBCVS = utils.knn_test(pima, wdbc)"
   ]
  },
  {
   "cell_type": "markdown",
   "metadata": {},
   "source": [
    "### K-NN Tests normalizados"
   ]
  },
  {
   "cell_type": "code",
   "execution_count": 23,
   "metadata": {},
   "outputs": [
    {
     "name": "stdout",
     "output_type": "stream",
     "text": [
      "Test K=1 K-NN NORMALIZANDO DATOS\t\tPima - Error Medio\tPima - std\tWDBC - Error Medio\tWDBC - std\n"
     ]
    },
    {
     "name": "stderr",
     "output_type": "stream",
     "text": [
      "C:\\ProgramData\\Anaconda3\\lib\\site-packages\\scipy\\stats\\_distn_infrastructure.py:1760: RuntimeWarning: invalid value encountered in double_scalars\n",
      "  x = np.asarray((x - loc)/scale, dtype=dtyp)\n"
     ]
    },
    {
     "name": "stdout",
     "output_type": "stream",
     "text": [
      "Validación Simple 25%\t\t\t0.091667\t0.108333\t0.153571\t0.035892\n",
      "Validación Cruzada K-Folds=4\t0.233333\t0.110554\t0.157143\t0.053452\n",
      "Validación Simple 20%\t\t\t0.370000\t0.100499\t0.144000\t0.044542\n",
      "Validación Cruzada K-Folds=6\t0.266667\t0.116667\t0.166667\t0.052705\n",
      "Validación Simple 15%\t\t\t0.266667\t0.104083\t0.154167\t0.061942\n",
      "Validación Cruzada K-Folds=8\t0.587500\t0.112500\t0.162500\t0.050861\n",
      "Validación Simple 10%\t\t\t0.640000\t0.135647\t0.145000\t0.112805\n",
      "Validación Cruzada K-Folds=10\t0.540000\t0.180000\t0.130000\t0.050990\n",
      "======================================================================================================\n",
      "Test K=3 K-NN NORMALIZANDO DATOS\t\tPima - Error Medio\tPima - std\tWDBC - Error Medio\tWDBC - std\n",
      "Validación Simple 25%\t\t\t0.200000\t0.135401\t0.114286\t0.041650\n",
      "Validación Cruzada K-Folds=4\t0.158333\t0.094648\t0.121429\t0.028571\n",
      "Validación Simple 20%\t\t\t0.320000\t0.116619\t0.128000\t0.089084\n",
      "Validación Cruzada K-Folds=6\t0.300000\t0.076376\t0.116667\t0.036324\n",
      "Validación Simple 15%\t\t\t0.366667\t0.150000\t0.125000\t0.055902\n",
      "Validación Cruzada K-Folds=8\t0.437500\t0.170018\t0.116667\t0.025000\n",
      "Validación Simple 10%\t\t\t0.600000\t0.109545\t0.140000\t0.076811\n",
      "Validación Cruzada K-Folds=10\t0.540000\t0.224499\t0.115000\t0.067268\n",
      "======================================================================================================\n",
      "Test K=5 K-NN NORMALIZANDO DATOS\t\tPima - Error Medio\tPima - std\tWDBC - Error Medio\tWDBC - std\n",
      "Validación Simple 25%\t\t\t0.175000\t0.114564\t0.164286\t0.039770\n",
      "Validación Cruzada K-Folds=4\t0.183333\t0.097183\t0.114286\t0.034993\n",
      "Validación Simple 20%\t\t\t0.380000\t0.213542\t0.124000\t0.057827\n",
      "Validación Cruzada K-Folds=6\t0.325000\t0.078617\t0.129167\t0.034611\n",
      "Validación Simple 15%\t\t\t0.341667\t0.168531\t0.100000\t0.033333\n",
      "Validación Cruzada K-Folds=8\t0.587500\t0.274146\t0.095833\t0.026680\n"
     ]
    },
    {
     "ename": "KeyboardInterrupt",
     "evalue": "",
     "output_type": "error",
     "traceback": [
      "\u001b[1;31m---------------------------------------------------------------------------\u001b[0m",
      "\u001b[1;31mKeyboardInterrupt\u001b[0m                         Traceback (most recent call last)",
      "\u001b[1;32m<ipython-input-23-04f337a7032b>\u001b[0m in \u001b[0;36m<module>\u001b[1;34m\u001b[0m\n\u001b[1;32m----> 1\u001b[1;33m \u001b[0merrorMedioPimaVCNorm\u001b[0m\u001b[1;33m,\u001b[0m \u001b[0merrorMedioPimaVSNorm\u001b[0m\u001b[1;33m,\u001b[0m \u001b[0merrorMedioWDBCVCNorm\u001b[0m\u001b[1;33m,\u001b[0m \u001b[0merrorMedioWDBCVSNorm\u001b[0m \u001b[1;33m=\u001b[0m \u001b[0mutils\u001b[0m\u001b[1;33m.\u001b[0m\u001b[0mknn_test_norm\u001b[0m\u001b[1;33m(\u001b[0m\u001b[0mpima\u001b[0m\u001b[1;33m,\u001b[0m \u001b[0mwdbc\u001b[0m\u001b[1;33m)\u001b[0m\u001b[1;33m\u001b[0m\u001b[1;33m\u001b[0m\u001b[0m\n\u001b[0m",
      "\u001b[1;32m~\\Documents\\GitHub\\FAA\\LAB_3\\utils.py\u001b[0m in \u001b[0;36mknn_test_norm\u001b[1;34m(pima, wdbc)\u001b[0m\n\u001b[0;32m     63\u001b[0m             \u001b[0mVC\u001b[0m \u001b[1;33m=\u001b[0m \u001b[0mValidacionCruzada\u001b[0m\u001b[1;33m(\u001b[0m\u001b[0mkFold\u001b[0m\u001b[1;33m)\u001b[0m\u001b[1;33m\u001b[0m\u001b[1;33m\u001b[0m\u001b[0m\n\u001b[0;32m     64\u001b[0m             \u001b[0mVS\u001b[0m \u001b[1;33m=\u001b[0m \u001b[0mValidacionSimple\u001b[0m\u001b[1;33m(\u001b[0m\u001b[0mporcentaje\u001b[0m\u001b[1;33m,\u001b[0m \u001b[0mint\u001b[0m\u001b[1;33m(\u001b[0m\u001b[1;36m100\u001b[0m\u001b[1;33m/\u001b[0m\u001b[0mporcentaje\u001b[0m\u001b[1;33m)\u001b[0m\u001b[1;33m)\u001b[0m\u001b[1;33m\u001b[0m\u001b[1;33m\u001b[0m\u001b[0m\n\u001b[1;32m---> 65\u001b[1;33m \u001b[1;33m\u001b[0m\u001b[0m\n\u001b[0m\u001b[0;32m     66\u001b[0m             \u001b[0mmediaVCNorm\u001b[0m\u001b[1;33m,\u001b[0m \u001b[0mstdVCNorm\u001b[0m \u001b[1;33m=\u001b[0m \u001b[0mknn_test_k\u001b[0m\u001b[1;33m(\u001b[0m\u001b[1;36m10\u001b[0m\u001b[1;33m,\u001b[0m \u001b[0mk\u001b[0m\u001b[1;33m,\u001b[0m \u001b[1;32mTrue\u001b[0m\u001b[1;33m,\u001b[0m \u001b[0mpima\u001b[0m\u001b[1;33m,\u001b[0m \u001b[0mVC\u001b[0m\u001b[1;33m)\u001b[0m\u001b[1;33m\u001b[0m\u001b[1;33m\u001b[0m\u001b[0m\n\u001b[0;32m     67\u001b[0m             \u001b[0mmediaVSNorm\u001b[0m\u001b[1;33m,\u001b[0m \u001b[0mstdVSNorm\u001b[0m \u001b[1;33m=\u001b[0m \u001b[0mknn_test_k\u001b[0m\u001b[1;33m(\u001b[0m\u001b[1;36m10\u001b[0m\u001b[1;33m,\u001b[0m \u001b[0mk\u001b[0m\u001b[1;33m,\u001b[0m \u001b[1;32mTrue\u001b[0m\u001b[1;33m,\u001b[0m \u001b[0mpima\u001b[0m\u001b[1;33m,\u001b[0m \u001b[0mVS\u001b[0m\u001b[1;33m)\u001b[0m\u001b[1;33m\u001b[0m\u001b[1;33m\u001b[0m\u001b[0m\n",
      "\u001b[1;32m~\\Documents\\GitHub\\FAA\\LAB_3\\utils.py\u001b[0m in \u001b[0;36mknn_test_k\u001b[1;34m(times, k, norm, dataset, particionado)\u001b[0m\n\u001b[0;32m     80\u001b[0m \u001b[1;33m\u001b[0m\u001b[0m\n\u001b[0;32m     81\u001b[0m \u001b[1;33m\u001b[0m\u001b[0m\n\u001b[1;32m---> 82\u001b[1;33m \u001b[1;32mdef\u001b[0m \u001b[0mknn_test_k\u001b[0m\u001b[1;33m(\u001b[0m\u001b[0mtimes\u001b[0m\u001b[1;33m,\u001b[0m \u001b[0mk\u001b[0m\u001b[1;33m,\u001b[0m \u001b[0mnorm\u001b[0m\u001b[1;33m,\u001b[0m \u001b[0mdataset\u001b[0m\u001b[1;33m,\u001b[0m \u001b[0mparticionado\u001b[0m\u001b[1;33m)\u001b[0m\u001b[1;33m:\u001b[0m\u001b[1;33m\u001b[0m\u001b[1;33m\u001b[0m\u001b[0m\n\u001b[0m\u001b[0;32m     83\u001b[0m     \u001b[0merror\u001b[0m \u001b[1;33m=\u001b[0m \u001b[1;33m[\u001b[0m\u001b[1;33m]\u001b[0m\u001b[1;33m\u001b[0m\u001b[1;33m\u001b[0m\u001b[0m\n\u001b[0;32m     84\u001b[0m     \u001b[1;32mfor\u001b[0m \u001b[0m_\u001b[0m \u001b[1;32min\u001b[0m \u001b[0mrange\u001b[0m\u001b[1;33m(\u001b[0m\u001b[0mtimes\u001b[0m\u001b[1;33m)\u001b[0m\u001b[1;33m:\u001b[0m\u001b[1;33m\u001b[0m\u001b[1;33m\u001b[0m\u001b[0m\n",
      "\u001b[1;32m~\\Documents\\GitHub\\FAA\\LAB_3\\Clasificador.py\u001b[0m in \u001b[0;36mvalidacion\u001b[1;34m(self, particionado, dataset, clasificador, seed)\u001b[0m\n\u001b[0;32m     66\u001b[0m                         \u001b[0mdatosTrain\u001b[0m \u001b[1;33m=\u001b[0m \u001b[0mdataset\u001b[0m\u001b[1;33m.\u001b[0m\u001b[0mdatos\u001b[0m\u001b[1;33m[\u001b[0m\u001b[0mparticion\u001b[0m\u001b[1;33m.\u001b[0m\u001b[0mindicesTrain\u001b[0m\u001b[1;33m,\u001b[0m \u001b[1;33m:\u001b[0m\u001b[1;33m]\u001b[0m\u001b[1;33m\u001b[0m\u001b[1;33m\u001b[0m\u001b[0m\n\u001b[0;32m     67\u001b[0m \u001b[1;33m\u001b[0m\u001b[0m\n\u001b[1;32m---> 68\u001b[1;33m                         \u001b[0mself\u001b[0m\u001b[1;33m.\u001b[0m\u001b[0mentrenamiento\u001b[0m\u001b[1;33m(\u001b[0m\u001b[0mdatosTrain\u001b[0m\u001b[1;33m,\u001b[0m \u001b[0mdataset\u001b[0m\u001b[1;33m.\u001b[0m\u001b[0mnominalAtributos\u001b[0m\u001b[1;33m,\u001b[0m \u001b[0mdataset\u001b[0m\u001b[1;33m.\u001b[0m\u001b[0mdiccionario\u001b[0m\u001b[1;33m)\u001b[0m\u001b[1;33m\u001b[0m\u001b[1;33m\u001b[0m\u001b[0m\n\u001b[0m\u001b[0;32m     69\u001b[0m                         \u001b[0mres\u001b[0m\u001b[1;33m,\u001b[0m \u001b[0mresCLP\u001b[0m \u001b[1;33m=\u001b[0m \u001b[0mclasificador\u001b[0m\u001b[1;33m.\u001b[0m\u001b[0mclasifica\u001b[0m\u001b[1;33m(\u001b[0m\u001b[0mdatosTest\u001b[0m\u001b[1;33m,\u001b[0m \u001b[0mdataset\u001b[0m\u001b[1;33m.\u001b[0m\u001b[0mnominalAtributos\u001b[0m\u001b[1;33m,\u001b[0m \u001b[0mdataset\u001b[0m\u001b[1;33m.\u001b[0m\u001b[0mdiccionario\u001b[0m\u001b[1;33m)\u001b[0m\u001b[1;33m\u001b[0m\u001b[1;33m\u001b[0m\u001b[0m\n\u001b[0;32m     70\u001b[0m                         \u001b[0mmediaError\u001b[0m \u001b[1;33m+=\u001b[0m \u001b[0mclasificador\u001b[0m\u001b[1;33m.\u001b[0m\u001b[0merror\u001b[0m\u001b[1;33m(\u001b[0m\u001b[0mdatosTest\u001b[0m\u001b[1;33m,\u001b[0m \u001b[0mres\u001b[0m\u001b[1;33m)\u001b[0m\u001b[1;33m\u001b[0m\u001b[1;33m\u001b[0m\u001b[0m\n",
      "\u001b[1;32m~\\Documents\\GitHub\\FAA\\LAB_3\\ClasificadorKNN.py\u001b[0m in \u001b[0;36mentrenamiento\u001b[1;34m(self, datostrain, atributosDiscretos, _)\u001b[0m\n\u001b[0;32m     26\u001b[0m         \u001b[1;32mdef\u001b[0m \u001b[0mentrenamiento\u001b[0m\u001b[1;33m(\u001b[0m\u001b[0mself\u001b[0m\u001b[1;33m,\u001b[0m \u001b[0mdatostrain\u001b[0m\u001b[1;33m,\u001b[0m \u001b[0matributosDiscretos\u001b[0m\u001b[1;33m,\u001b[0m \u001b[0m_\u001b[0m\u001b[1;33m)\u001b[0m\u001b[1;33m:\u001b[0m\u001b[1;33m\u001b[0m\u001b[1;33m\u001b[0m\u001b[0m\n\u001b[0;32m     27\u001b[0m                 \u001b[1;31m# Normalizamos los datos\u001b[0m\u001b[1;33m\u001b[0m\u001b[1;33m\u001b[0m\u001b[1;33m\u001b[0m\u001b[0m\n\u001b[1;32m---> 28\u001b[1;33m                 \u001b[0mself\u001b[0m\u001b[1;33m.\u001b[0m\u001b[0mdatosNormalizados\u001b[0m \u001b[1;33m=\u001b[0m \u001b[0mself\u001b[0m\u001b[1;33m.\u001b[0m\u001b[0mnormalizarDatos\u001b[0m\u001b[1;33m(\u001b[0m\u001b[0mdatostrain\u001b[0m\u001b[1;33m,\u001b[0m \u001b[0matributosDiscretos\u001b[0m\u001b[1;33m)\u001b[0m \u001b[1;32mif\u001b[0m \u001b[0mself\u001b[0m\u001b[1;33m.\u001b[0m\u001b[0mnorm\u001b[0m \u001b[1;32melse\u001b[0m \u001b[0mdatostrain\u001b[0m\u001b[1;33m\u001b[0m\u001b[1;33m\u001b[0m\u001b[0m\n\u001b[0m\u001b[0;32m     29\u001b[0m \u001b[1;33m\u001b[0m\u001b[0m\n\u001b[0;32m     30\u001b[0m                 \u001b[1;31m# Calculamos la probabilidad de las clases\u001b[0m\u001b[1;33m\u001b[0m\u001b[1;33m\u001b[0m\u001b[1;33m\u001b[0m\u001b[0m\n",
      "\u001b[1;32m~\\Documents\\GitHub\\FAA\\LAB_3\\ClasificadorKNN.py\u001b[0m in \u001b[0;36mnormalizarDatos\u001b[1;34m(self, datos, nominalAtributos)\u001b[0m\n\u001b[0;32m     84\u001b[0m                         \u001b[1;32melse\u001b[0m\u001b[1;33m:\u001b[0m\u001b[1;33m\u001b[0m\u001b[1;33m\u001b[0m\u001b[0m\n\u001b[0;32m     85\u001b[0m                                 \u001b[1;32mfor\u001b[0m \u001b[0mnumRow\u001b[0m \u001b[1;32min\u001b[0m \u001b[0mrange\u001b[0m\u001b[1;33m(\u001b[0m\u001b[0mlen\u001b[0m\u001b[1;33m(\u001b[0m\u001b[0mcol\u001b[0m\u001b[1;33m)\u001b[0m\u001b[1;33m)\u001b[0m\u001b[1;33m:\u001b[0m\u001b[1;33m\u001b[0m\u001b[1;33m\u001b[0m\u001b[0m\n\u001b[1;32m---> 86\u001b[1;33m                                         \u001b[0mdatosNormalizados\u001b[0m\u001b[1;33m[\u001b[0m\u001b[0mnumRow\u001b[0m\u001b[1;33m]\u001b[0m\u001b[1;33m[\u001b[0m\u001b[0mnumCol\u001b[0m\u001b[1;33m]\u001b[0m \u001b[1;33m=\u001b[0m \u001b[0mnorm\u001b[0m\u001b[1;33m(\u001b[0m\u001b[0mmediasDevs\u001b[0m\u001b[1;33m[\u001b[0m\u001b[0mnumCol\u001b[0m\u001b[1;33m]\u001b[0m\u001b[1;33m[\u001b[0m\u001b[1;36m0\u001b[0m\u001b[1;33m]\u001b[0m\u001b[1;33m,\u001b[0m \u001b[0mmediasDevs\u001b[0m\u001b[1;33m[\u001b[0m\u001b[0mnumCol\u001b[0m\u001b[1;33m]\u001b[0m\u001b[1;33m[\u001b[0m\u001b[1;36m1\u001b[0m\u001b[1;33m]\u001b[0m\u001b[1;33m)\u001b[0m\u001b[1;33m.\u001b[0m\u001b[0mpdf\u001b[0m\u001b[1;33m(\u001b[0m\u001b[0mdatos\u001b[0m\u001b[1;33m[\u001b[0m\u001b[0mnumRow\u001b[0m\u001b[1;33m]\u001b[0m\u001b[1;33m[\u001b[0m\u001b[0mnumCol\u001b[0m\u001b[1;33m]\u001b[0m\u001b[1;33m)\u001b[0m\u001b[1;33m\u001b[0m\u001b[1;33m\u001b[0m\u001b[0m\n\u001b[0m\u001b[0;32m     87\u001b[0m                 \u001b[1;32mreturn\u001b[0m \u001b[0mdatosNormalizados\u001b[0m\u001b[1;33m\u001b[0m\u001b[1;33m\u001b[0m\u001b[0m\n\u001b[0;32m     88\u001b[0m \u001b[1;33m\u001b[0m\u001b[0m\n",
      "\u001b[1;32mC:\\ProgramData\\Anaconda3\\lib\\site-packages\\scipy\\stats\\_distn_infrastructure.py\u001b[0m in \u001b[0;36mpdf\u001b[1;34m(self, x)\u001b[0m\n\u001b[0;32m    434\u001b[0m \u001b[1;33m\u001b[0m\u001b[0m\n\u001b[0;32m    435\u001b[0m     \u001b[1;32mdef\u001b[0m \u001b[0mpdf\u001b[0m\u001b[1;33m(\u001b[0m\u001b[0mself\u001b[0m\u001b[1;33m,\u001b[0m \u001b[0mx\u001b[0m\u001b[1;33m)\u001b[0m\u001b[1;33m:\u001b[0m   \u001b[1;31m# raises AttributeError in frozen discrete distribution\u001b[0m\u001b[1;33m\u001b[0m\u001b[1;33m\u001b[0m\u001b[0m\n\u001b[1;32m--> 436\u001b[1;33m         \u001b[1;32mreturn\u001b[0m \u001b[0mself\u001b[0m\u001b[1;33m.\u001b[0m\u001b[0mdist\u001b[0m\u001b[1;33m.\u001b[0m\u001b[0mpdf\u001b[0m\u001b[1;33m(\u001b[0m\u001b[0mx\u001b[0m\u001b[1;33m,\u001b[0m \u001b[1;33m*\u001b[0m\u001b[0mself\u001b[0m\u001b[1;33m.\u001b[0m\u001b[0margs\u001b[0m\u001b[1;33m,\u001b[0m \u001b[1;33m**\u001b[0m\u001b[0mself\u001b[0m\u001b[1;33m.\u001b[0m\u001b[0mkwds\u001b[0m\u001b[1;33m)\u001b[0m\u001b[1;33m\u001b[0m\u001b[1;33m\u001b[0m\u001b[0m\n\u001b[0m\u001b[0;32m    437\u001b[0m \u001b[1;33m\u001b[0m\u001b[0m\n\u001b[0;32m    438\u001b[0m     \u001b[1;32mdef\u001b[0m \u001b[0mlogpdf\u001b[0m\u001b[1;33m(\u001b[0m\u001b[0mself\u001b[0m\u001b[1;33m,\u001b[0m \u001b[0mx\u001b[0m\u001b[1;33m)\u001b[0m\u001b[1;33m:\u001b[0m\u001b[1;33m\u001b[0m\u001b[1;33m\u001b[0m\u001b[0m\n",
      "\u001b[1;32mC:\\ProgramData\\Anaconda3\\lib\\site-packages\\scipy\\stats\\_distn_infrastructure.py\u001b[0m in \u001b[0;36mpdf\u001b[1;34m(self, x, *args, **kwds)\u001b[0m\n\u001b[0;32m   1765\u001b[0m         \u001b[0mputmask\u001b[0m\u001b[1;33m(\u001b[0m\u001b[0moutput\u001b[0m\u001b[1;33m,\u001b[0m \u001b[1;33m(\u001b[0m\u001b[1;36m1\u001b[0m\u001b[1;33m-\u001b[0m\u001b[0mcond0\u001b[0m\u001b[1;33m)\u001b[0m\u001b[1;33m+\u001b[0m\u001b[0mnp\u001b[0m\u001b[1;33m.\u001b[0m\u001b[0misnan\u001b[0m\u001b[1;33m(\u001b[0m\u001b[0mx\u001b[0m\u001b[1;33m)\u001b[0m\u001b[1;33m,\u001b[0m \u001b[0mself\u001b[0m\u001b[1;33m.\u001b[0m\u001b[0mbadvalue\u001b[0m\u001b[1;33m)\u001b[0m\u001b[1;33m\u001b[0m\u001b[1;33m\u001b[0m\u001b[0m\n\u001b[0;32m   1766\u001b[0m         \u001b[1;32mif\u001b[0m \u001b[0mnp\u001b[0m\u001b[1;33m.\u001b[0m\u001b[0many\u001b[0m\u001b[1;33m(\u001b[0m\u001b[0mcond\u001b[0m\u001b[1;33m)\u001b[0m\u001b[1;33m:\u001b[0m\u001b[1;33m\u001b[0m\u001b[1;33m\u001b[0m\u001b[0m\n\u001b[1;32m-> 1767\u001b[1;33m             \u001b[0mgoodargs\u001b[0m \u001b[1;33m=\u001b[0m \u001b[0margsreduce\u001b[0m\u001b[1;33m(\u001b[0m\u001b[0mcond\u001b[0m\u001b[1;33m,\u001b[0m \u001b[1;33m*\u001b[0m\u001b[1;33m(\u001b[0m\u001b[1;33m(\u001b[0m\u001b[0mx\u001b[0m\u001b[1;33m,\u001b[0m\u001b[1;33m)\u001b[0m\u001b[1;33m+\u001b[0m\u001b[0margs\u001b[0m\u001b[1;33m+\u001b[0m\u001b[1;33m(\u001b[0m\u001b[0mscale\u001b[0m\u001b[1;33m,\u001b[0m\u001b[1;33m)\u001b[0m\u001b[1;33m)\u001b[0m\u001b[1;33m)\u001b[0m\u001b[1;33m\u001b[0m\u001b[1;33m\u001b[0m\u001b[0m\n\u001b[0m\u001b[0;32m   1768\u001b[0m             \u001b[0mscale\u001b[0m\u001b[1;33m,\u001b[0m \u001b[0mgoodargs\u001b[0m \u001b[1;33m=\u001b[0m \u001b[0mgoodargs\u001b[0m\u001b[1;33m[\u001b[0m\u001b[1;33m-\u001b[0m\u001b[1;36m1\u001b[0m\u001b[1;33m]\u001b[0m\u001b[1;33m,\u001b[0m \u001b[0mgoodargs\u001b[0m\u001b[1;33m[\u001b[0m\u001b[1;33m:\u001b[0m\u001b[1;33m-\u001b[0m\u001b[1;36m1\u001b[0m\u001b[1;33m]\u001b[0m\u001b[1;33m\u001b[0m\u001b[1;33m\u001b[0m\u001b[0m\n\u001b[0;32m   1769\u001b[0m             \u001b[0mplace\u001b[0m\u001b[1;33m(\u001b[0m\u001b[0moutput\u001b[0m\u001b[1;33m,\u001b[0m \u001b[0mcond\u001b[0m\u001b[1;33m,\u001b[0m \u001b[0mself\u001b[0m\u001b[1;33m.\u001b[0m\u001b[0m_pdf\u001b[0m\u001b[1;33m(\u001b[0m\u001b[1;33m*\u001b[0m\u001b[0mgoodargs\u001b[0m\u001b[1;33m)\u001b[0m \u001b[1;33m/\u001b[0m \u001b[0mscale\u001b[0m\u001b[1;33m)\u001b[0m\u001b[1;33m\u001b[0m\u001b[1;33m\u001b[0m\u001b[0m\n",
      "\u001b[1;32mC:\\ProgramData\\Anaconda3\\lib\\site-packages\\scipy\\stats\\_distn_infrastructure.py\u001b[0m in \u001b[0;36margsreduce\u001b[1;34m(cond, *args)\u001b[0m\n\u001b[0;32m    536\u001b[0m         \u001b[0mnewargs\u001b[0m \u001b[1;33m=\u001b[0m \u001b[1;33m[\u001b[0m\u001b[0mnewargs\u001b[0m\u001b[1;33m,\u001b[0m \u001b[1;33m]\u001b[0m\u001b[1;33m\u001b[0m\u001b[1;33m\u001b[0m\u001b[0m\n\u001b[0;32m    537\u001b[0m     \u001b[0mexpand_arr\u001b[0m \u001b[1;33m=\u001b[0m \u001b[1;33m(\u001b[0m\u001b[0mcond\u001b[0m \u001b[1;33m==\u001b[0m \u001b[0mcond\u001b[0m\u001b[1;33m)\u001b[0m\u001b[1;33m\u001b[0m\u001b[1;33m\u001b[0m\u001b[0m\n\u001b[1;32m--> 538\u001b[1;33m     \u001b[1;32mreturn\u001b[0m \u001b[1;33m[\u001b[0m\u001b[0mnp\u001b[0m\u001b[1;33m.\u001b[0m\u001b[0mextract\u001b[0m\u001b[1;33m(\u001b[0m\u001b[0mcond\u001b[0m\u001b[1;33m,\u001b[0m \u001b[0marr1\u001b[0m \u001b[1;33m*\u001b[0m \u001b[0mexpand_arr\u001b[0m\u001b[1;33m)\u001b[0m \u001b[1;32mfor\u001b[0m \u001b[0marr1\u001b[0m \u001b[1;32min\u001b[0m \u001b[0mnewargs\u001b[0m\u001b[1;33m]\u001b[0m\u001b[1;33m\u001b[0m\u001b[1;33m\u001b[0m\u001b[0m\n\u001b[0m\u001b[0;32m    539\u001b[0m \u001b[1;33m\u001b[0m\u001b[0m\n\u001b[0;32m    540\u001b[0m \u001b[1;33m\u001b[0m\u001b[0m\n",
      "\u001b[1;32mC:\\ProgramData\\Anaconda3\\lib\\site-packages\\scipy\\stats\\_distn_infrastructure.py\u001b[0m in \u001b[0;36m<listcomp>\u001b[1;34m(.0)\u001b[0m\n\u001b[0;32m    536\u001b[0m         \u001b[0mnewargs\u001b[0m \u001b[1;33m=\u001b[0m \u001b[1;33m[\u001b[0m\u001b[0mnewargs\u001b[0m\u001b[1;33m,\u001b[0m \u001b[1;33m]\u001b[0m\u001b[1;33m\u001b[0m\u001b[1;33m\u001b[0m\u001b[0m\n\u001b[0;32m    537\u001b[0m     \u001b[0mexpand_arr\u001b[0m \u001b[1;33m=\u001b[0m \u001b[1;33m(\u001b[0m\u001b[0mcond\u001b[0m \u001b[1;33m==\u001b[0m \u001b[0mcond\u001b[0m\u001b[1;33m)\u001b[0m\u001b[1;33m\u001b[0m\u001b[1;33m\u001b[0m\u001b[0m\n\u001b[1;32m--> 538\u001b[1;33m     \u001b[1;32mreturn\u001b[0m \u001b[1;33m[\u001b[0m\u001b[0mnp\u001b[0m\u001b[1;33m.\u001b[0m\u001b[0mextract\u001b[0m\u001b[1;33m(\u001b[0m\u001b[0mcond\u001b[0m\u001b[1;33m,\u001b[0m \u001b[0marr1\u001b[0m \u001b[1;33m*\u001b[0m \u001b[0mexpand_arr\u001b[0m\u001b[1;33m)\u001b[0m \u001b[1;32mfor\u001b[0m \u001b[0marr1\u001b[0m \u001b[1;32min\u001b[0m \u001b[0mnewargs\u001b[0m\u001b[1;33m]\u001b[0m\u001b[1;33m\u001b[0m\u001b[1;33m\u001b[0m\u001b[0m\n\u001b[0m\u001b[0;32m    539\u001b[0m \u001b[1;33m\u001b[0m\u001b[0m\n\u001b[0;32m    540\u001b[0m \u001b[1;33m\u001b[0m\u001b[0m\n",
      "\u001b[1;32m<__array_function__ internals>\u001b[0m in \u001b[0;36mextract\u001b[1;34m(*args, **kwargs)\u001b[0m\n",
      "\u001b[1;32mC:\\ProgramData\\Anaconda3\\lib\\site-packages\\numpy\\lib\\function_base.py\u001b[0m in \u001b[0;36mextract\u001b[1;34m(condition, arr)\u001b[0m\n\u001b[0;32m   1692\u001b[0m \u001b[1;33m\u001b[0m\u001b[0m\n\u001b[0;32m   1693\u001b[0m     \"\"\"\n\u001b[1;32m-> 1694\u001b[1;33m     \u001b[1;32mreturn\u001b[0m \u001b[0m_nx\u001b[0m\u001b[1;33m.\u001b[0m\u001b[0mtake\u001b[0m\u001b[1;33m(\u001b[0m\u001b[0mravel\u001b[0m\u001b[1;33m(\u001b[0m\u001b[0marr\u001b[0m\u001b[1;33m)\u001b[0m\u001b[1;33m,\u001b[0m \u001b[0mnonzero\u001b[0m\u001b[1;33m(\u001b[0m\u001b[0mravel\u001b[0m\u001b[1;33m(\u001b[0m\u001b[0mcondition\u001b[0m\u001b[1;33m)\u001b[0m\u001b[1;33m)\u001b[0m\u001b[1;33m[\u001b[0m\u001b[1;36m0\u001b[0m\u001b[1;33m]\u001b[0m\u001b[1;33m)\u001b[0m\u001b[1;33m\u001b[0m\u001b[1;33m\u001b[0m\u001b[0m\n\u001b[0m\u001b[0;32m   1695\u001b[0m \u001b[1;33m\u001b[0m\u001b[0m\n\u001b[0;32m   1696\u001b[0m \u001b[1;33m\u001b[0m\u001b[0m\n",
      "\u001b[1;32m<__array_function__ internals>\u001b[0m in \u001b[0;36mtake\u001b[1;34m(*args, **kwargs)\u001b[0m\n",
      "\u001b[1;32mC:\\ProgramData\\Anaconda3\\lib\\site-packages\\numpy\\core\\fromnumeric.py\u001b[0m in \u001b[0;36mtake\u001b[1;34m(a, indices, axis, out, mode)\u001b[0m\n\u001b[0;32m    189\u001b[0m            [5, 7]])\n\u001b[0;32m    190\u001b[0m     \"\"\"\n\u001b[1;32m--> 191\u001b[1;33m     \u001b[1;32mreturn\u001b[0m \u001b[0m_wrapfunc\u001b[0m\u001b[1;33m(\u001b[0m\u001b[0ma\u001b[0m\u001b[1;33m,\u001b[0m \u001b[1;34m'take'\u001b[0m\u001b[1;33m,\u001b[0m \u001b[0mindices\u001b[0m\u001b[1;33m,\u001b[0m \u001b[0maxis\u001b[0m\u001b[1;33m=\u001b[0m\u001b[0maxis\u001b[0m\u001b[1;33m,\u001b[0m \u001b[0mout\u001b[0m\u001b[1;33m=\u001b[0m\u001b[0mout\u001b[0m\u001b[1;33m,\u001b[0m \u001b[0mmode\u001b[0m\u001b[1;33m=\u001b[0m\u001b[0mmode\u001b[0m\u001b[1;33m)\u001b[0m\u001b[1;33m\u001b[0m\u001b[1;33m\u001b[0m\u001b[0m\n\u001b[0m\u001b[0;32m    192\u001b[0m \u001b[1;33m\u001b[0m\u001b[0m\n\u001b[0;32m    193\u001b[0m \u001b[1;33m\u001b[0m\u001b[0m\n",
      "\u001b[1;32mC:\\ProgramData\\Anaconda3\\lib\\site-packages\\numpy\\core\\fromnumeric.py\u001b[0m in \u001b[0;36m_wrapfunc\u001b[1;34m(obj, method, *args, **kwds)\u001b[0m\n\u001b[0;32m     56\u001b[0m \u001b[1;33m\u001b[0m\u001b[0m\n\u001b[0;32m     57\u001b[0m     \u001b[1;32mtry\u001b[0m\u001b[1;33m:\u001b[0m\u001b[1;33m\u001b[0m\u001b[1;33m\u001b[0m\u001b[0m\n\u001b[1;32m---> 58\u001b[1;33m         \u001b[1;32mreturn\u001b[0m \u001b[0mbound\u001b[0m\u001b[1;33m(\u001b[0m\u001b[1;33m*\u001b[0m\u001b[0margs\u001b[0m\u001b[1;33m,\u001b[0m \u001b[1;33m**\u001b[0m\u001b[0mkwds\u001b[0m\u001b[1;33m)\u001b[0m\u001b[1;33m\u001b[0m\u001b[1;33m\u001b[0m\u001b[0m\n\u001b[0m\u001b[0;32m     59\u001b[0m     \u001b[1;32mexcept\u001b[0m \u001b[0mTypeError\u001b[0m\u001b[1;33m:\u001b[0m\u001b[1;33m\u001b[0m\u001b[1;33m\u001b[0m\u001b[0m\n\u001b[0;32m     60\u001b[0m         \u001b[1;31m# A TypeError occurs if the object does have such a method in its\u001b[0m\u001b[1;33m\u001b[0m\u001b[1;33m\u001b[0m\u001b[1;33m\u001b[0m\u001b[0m\n",
      "\u001b[1;31mKeyboardInterrupt\u001b[0m: "
     ]
    }
   ],
   "source": [
    "errorMedioPimaVCNorm, errorMedioPimaVSNorm, errorMedioWDBCVCNorm, errorMedioWDBCVSNorm = utils.knn_test_norm(pima, wdbc)"
   ]
  },
  {
   "cell_type": "markdown",
   "metadata": {},
   "source": [
    "### Pima-Indians-Diabetes - Validación Simple"
   ]
  },
  {
   "cell_type": "code",
   "execution_count": null,
   "metadata": {},
   "outputs": [],
   "source": [
    "plot_VS(errorMedioPimaVS, errorMedioPimaVSNorm)"
   ]
  },
  {
   "cell_type": "markdown",
   "metadata": {},
   "source": [
    "### Pima-Indians-Diabetes - Validación Cruzada"
   ]
  },
  {
   "cell_type": "code",
   "execution_count": null,
   "metadata": {},
   "outputs": [],
   "source": [
    "plot_VC(errorMedioPimaVC, errorMedioPimaVCNorm)"
   ]
  },
  {
   "cell_type": "markdown",
   "metadata": {},
   "source": [
    "### WDBC - Validación Simple"
   ]
  },
  {
   "cell_type": "code",
   "execution_count": null,
   "metadata": {},
   "outputs": [],
   "source": [
    "plot_VS(errorMedioWDBCVS, errorMedioWDBCVSNorm)"
   ]
  },
  {
   "cell_type": "markdown",
   "metadata": {},
   "source": [
    "### WDBC - Validación Cruzada"
   ]
  },
  {
   "cell_type": "code",
   "execution_count": null,
   "metadata": {},
   "outputs": [],
   "source": [
    "plot_VS(errorMedioWDBCVC, errorMedioWDBCVCNorm)"
   ]
  },
  {
   "cell_type": "code",
   "execution_count": null,
   "metadata": {},
   "outputs": [],
   "source": []
  },
  {
   "cell_type": "code",
   "execution_count": null,
   "metadata": {},
   "outputs": [],
   "source": []
  },
  {
   "cell_type": "code",
   "execution_count": null,
   "metadata": {},
   "outputs": [],
   "source": []
  },
  {
   "cell_type": "code",
   "execution_count": null,
   "metadata": {},
   "outputs": [],
   "source": []
  },
  {
   "cell_type": "code",
   "execution_count": null,
   "metadata": {},
   "outputs": [],
   "source": []
  },
  {
   "cell_type": "code",
   "execution_count": null,
   "metadata": {},
   "outputs": [],
   "source": []
  },
  {
   "cell_type": "code",
   "execution_count": null,
   "metadata": {},
   "outputs": [],
   "source": []
  },
  {
   "cell_type": "code",
   "execution_count": null,
   "metadata": {},
   "outputs": [],
   "source": []
  },
  {
   "cell_type": "code",
   "execution_count": null,
   "metadata": {},
   "outputs": [],
   "source": []
  },
  {
   "cell_type": "code",
   "execution_count": null,
   "metadata": {},
   "outputs": [],
   "source": []
  },
  {
   "cell_type": "code",
   "execution_count": null,
   "metadata": {},
   "outputs": [],
   "source": []
  },
  {
   "cell_type": "code",
   "execution_count": null,
   "metadata": {},
   "outputs": [],
   "source": []
  },
  {
   "cell_type": "code",
   "execution_count": null,
   "metadata": {},
   "outputs": [],
   "source": []
  },
  {
   "cell_type": "code",
   "execution_count": null,
   "metadata": {},
   "outputs": [],
   "source": []
  },
  {
   "cell_type": "code",
   "execution_count": null,
   "metadata": {},
   "outputs": [],
   "source": []
  },
  {
   "cell_type": "code",
   "execution_count": null,
   "metadata": {},
   "outputs": [],
   "source": []
  }
 ],
 "metadata": {
  "kernelspec": {
   "display_name": "Python 3",
   "language": "python",
   "name": "python3"
  },
  "language_info": {
   "codemirror_mode": {
    "name": "ipython",
    "version": 3
   },
   "file_extension": ".py",
   "mimetype": "text/x-python",
   "name": "python",
   "nbconvert_exporter": "python",
   "pygments_lexer": "ipython3",
   "version": "3.8.5"
  }
 },
 "nbformat": 4,
 "nbformat_minor": 4
}
