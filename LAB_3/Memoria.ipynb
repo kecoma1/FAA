{
 "cells": [
  {
   "cell_type": "markdown",
   "metadata": {},
   "source": [
    "# FAA 1462 Pareja 10. Práctica 2 K-NN y K-MEANS\n",
    "## Kevin de la Coba Malam\n",
    "En este documento se mostraran los resultados del clasificador __K-NN__ usando diferentes K. También se hará una análisis del algoritmo __K-Means__ con el dataset _nums.csv_.\n",
    "\n",
    "Para no hacer el documento muy extenso se han implementado las funciones de test en un archivo llamado ___utils.py___."
   ]
  },
  {
   "cell_type": "code",
   "execution_count": 1,
   "metadata": {},
   "outputs": [],
   "source": [
    "from Distancias import distanciaEuclidea\n",
    "from Datos import Datos\n",
    "import utils\n",
    "import KMeans\n",
    "import MatrizConfusion as MC\n",
    "import matplotlib.pyplot as plt\n",
    "\n",
    "# Cargamos datos\n",
    "pima = Datos(\"ConjuntosDatosP2Knn/pima-indians-diabetes.data\")\n",
    "wdbc = Datos(\"ConjuntosDatosP2Knn/wdbc.data\")\n",
    "nums = Datos(\"ConjuntosDatosP2KMeans/nums.csv\")"
   ]
  },
  {
   "cell_type": "markdown",
   "metadata": {},
   "source": [
    "### K-NN Tests sin normalizar"
   ]
  },
  {
   "cell_type": "code",
   "execution_count": null,
   "metadata": {
    "scrolled": true
   },
   "outputs": [
    {
     "name": "stdout",
     "output_type": "stream",
     "text": [
      "Test K=1 K-NN SIN NORMALIZAR\t\tPima - Error\t\tWDBC - Error\n",
      "Validación Simple 25%\t\t\t0.361979\t\t0.375000\n",
      "Validación Cruzada K-Folds=4\t\t0.348958\t\t0.373239\n",
      "Validación Simple 20%\t\t\t0.358170\t\t0.380531\n",
      "Validación Cruzada K-Folds=6\t\t0.348958\t\t0.374113\n",
      "Validación Simple 15%\t\t\t0.350725\t\t0.366667\n",
      "Validación Cruzada K-Folds=8\t\t0.375000\t\t0.371479\n",
      "Validación Simple 10%\t\t\t0.347368\t\t0.342857\n",
      "Validación Cruzada K-Folds=10\t\t0.344737\t\t0.373214\n",
      "================================================================================\n",
      "Test K=3 K-NN SIN NORMALIZAR\t\tPima - Error\t\tWDBC - Error\n",
      "Validación Simple 25%\t\t\t0.356771\t\t0.348592\n",
      "Validación Cruzada K-Folds=4\t\t0.348958\t\t0.371479\n",
      "Validación Simple 20%\t\t\t0.350327\t\t0.357522\n",
      "Validación Cruzada K-Folds=6\t\t0.348958\t\t0.370567\n",
      "Validación Simple 15%\t\t\t0.363768\t\t0.382353\n",
      "Validación Cruzada K-Folds=8\t\t0.348958\t\t0.373239\n",
      "Validación Simple 10%\t\t\t0.365789\t\t0.348214\n",
      "Validación Cruzada K-Folds=10\t\t0.344737\t\t0.373214\n",
      "================================================================================\n",
      "Test K=5 K-NN SIN NORMALIZAR\t\tPima - Error\t\tWDBC - Error\n",
      "Validación Simple 25%\t\t\t0.317708\t\t0.376761\n",
      "Validación Cruzada K-Folds=4\t\t0.348958\t\t0.373239\n",
      "Validación Simple 20%\t\t\t0.381699\t\t0.373451\n",
      "Validación Cruzada K-Folds=6\t\t0.348958\t\t0.374113\n",
      "Validación Simple 15%\t\t\t0.362319\t\t0.378431\n",
      "Validación Cruzada K-Folds=8\t\t0.348958\t\t0.373239\n",
      "Validación Simple 10%\t\t\t0.328947\t\t0.380357\n",
      "Validación Cruzada K-Folds=10\t\t0.346053\t\t0.371429\n",
      "================================================================================\n",
      "Test K=7 K-NN SIN NORMALIZAR\t\tPima - Error\t\tWDBC - Error\n",
      "Validación Simple 25%\t\t\t0.345052\t\t0.410211\n",
      "Validación Cruzada K-Folds=4\t\t0.348958\t\t0.373239\n",
      "Validación Simple 20%\t\t\t0.385621\t\t0.384071\n",
      "Validación Cruzada K-Folds=6\t\t0.348958\t\t0.374113\n",
      "Validación Simple 15%\t\t\t0.360870\t\t0.368627\n",
      "Validación Cruzada K-Folds=8\t\t0.348958\t\t0.373239\n",
      "Validación Simple 10%\t\t\t0.336842\t\t0.364286\n",
      "Validación Cruzada K-Folds=10\t\t0.348684\t\t0.373214\n",
      "================================================================================\n",
      "Test K=9 K-NN SIN NORMALIZAR\t\tPima - Error\t\tWDBC - Error\n",
      "Validación Simple 25%\t\t\t0.345052\t\t0.371479\n",
      "Validación Cruzada K-Folds=4\t\t0.348958\t\t0.371479\n",
      "Validación Simple 20%\t\t\t0.347712\t\t0.371681\n",
      "Validación Cruzada K-Folds=6\t\t0.348958\t\t0.372340\n",
      "Validación Simple 15%\t\t\t0.368116\t\t0.356863\n",
      "Validación Cruzada K-Folds=8\t\t0.348958\t\t0.373239\n",
      "Validación Simple 10%\t\t\t0.356579\t\t0.410714\n",
      "Validación Cruzada K-Folds=10\t\t0.350000\t\t0.371429\n",
      "================================================================================\n",
      "Test K=11 K-NN SIN NORMALIZAR\t\tPima - Error\t\tWDBC - Error\n",
      "Validación Simple 25%\t\t\t0.355469\t\t0.378521\n",
      "Validación Cruzada K-Folds=4\t\t0.348958\t\t0.371479\n",
      "Validación Simple 20%\t\t\t0.354248\t\t0.378761\n",
      "Validación Cruzada K-Folds=6\t\t0.348958\t\t0.370567\n",
      "Validación Simple 15%\t\t\t0.346377\t\t0.401961\n",
      "Validación Cruzada K-Folds=8\t\t0.348958\t\t0.373239\n",
      "Validación Simple 10%\t\t\t0.400000\t\t0.367857\n",
      "Validación Cruzada K-Folds=10\t\t0.350000\t\t0.373214\n",
      "================================================================================\n",
      "Test K=13 K-NN SIN NORMALIZAR\t\tPima - Error\t\tWDBC - Error\n",
      "Validación Simple 25%\t\t\t0.354167\t\t0.367958\n",
      "Validación Cruzada K-Folds=4\t\t0.348958\t\t0.373239\n",
      "Validación Simple 20%\t\t\t0.359477\t\t0.361062\n",
      "Validación Cruzada K-Folds=6\t\t0.348958\t\t0.374113\n",
      "Validación Simple 15%\t\t\t0.360870\t\t0.407843\n",
      "Validación Cruzada K-Folds=8\t\t0.348958\t\t0.371479\n",
      "Validación Simple 10%\t\t\t0.353947\t\t0.333929\n",
      "Validación Cruzada K-Folds=10\t\t0.347368\t\t0.375000\n",
      "================================================================================\n",
      "Test K=15 K-NN SIN NORMALIZAR\t\tPima - Error\t\tWDBC - Error\n",
      "Validación Simple 25%\t\t\t0.351562\t\t0.396127\n",
      "Validación Cruzada K-Folds=4\t\t0.348958\t\t0.373239\n",
      "Validación Simple 20%\t\t\t0.334641\t\t0.357522\n",
      "Validación Cruzada K-Folds=6\t\t0.348958\t\t0.374113\n",
      "Validación Simple 15%\t\t\t0.368116\t\t0.380392\n",
      "Validación Cruzada K-Folds=8\t\t0.348958\t\t0.373239\n",
      "Validación Simple 10%\t\t\t0.351316\t\t0.364286\n",
      "Validación Cruzada K-Folds=10\t\t0.350000\t\t0.371429\n",
      "================================================================================\n",
      "Test K=17 K-NN SIN NORMALIZAR\t\tPima - Error\t\tWDBC - Error\n",
      "Validación Simple 25%\t\t\t0.368490\t\t0.329225\n",
      "Validación Cruzada K-Folds=4\t\t0.348958\t\t0.373239\n",
      "Validación Simple 20%\t\t\t0.356863\t\t0.362832\n",
      "Validación Cruzada K-Folds=6\t\t0.348958\t\t0.372340\n",
      "Validación Simple 15%\t\t\t0.346377\t\t0.354902\n",
      "Validación Cruzada K-Folds=8\t\t0.348958\t\t0.373239\n",
      "Validación Simple 10%\t\t\t0.357895\t\t0.376786\n",
      "Validación Cruzada K-Folds=10\t\t0.350000\t\t0.369643\n",
      "================================================================================\n",
      "Test K=19 K-NN SIN NORMALIZAR\t\tPima - Error\t\tWDBC - Error\n",
      "Validación Simple 25%\t\t\t0.343750\t\t0.373239\n",
      "Validación Cruzada K-Folds=4\t\t0.348958\t\t0.373239\n",
      "Validación Simple 20%\t\t\t0.346405\t\t0.375221\n",
      "Validación Cruzada K-Folds=6\t\t0.348958\t\t0.374113\n",
      "Validación Simple 15%\t\t\t0.357971\t\t0.374510\n",
      "Validación Cruzada K-Folds=8\t\t0.348958\t\t0.371479\n",
      "Validación Simple 10%\t\t\t0.371053\t\t0.403571\n",
      "Validación Cruzada K-Folds=10\t\t0.347368\t\t0.375000\n",
      "================================================================================\n",
      "Test K=21 K-NN SIN NORMALIZAR\t\tPima - Error\t\tWDBC - Error\n",
      "Validación Simple 25%\t\t\t0.334635\t\t0.369718\n",
      "Validación Cruzada K-Folds=4\t\t0.348958\t\t0.373239\n",
      "Validación Simple 20%\t\t\t0.347712\t\t0.415929\n",
      "Validación Cruzada K-Folds=6\t\t0.348958\t\t0.375887\n",
      "Validación Simple 15%\t\t\t0.342029\t\t0.384314\n",
      "Validación Cruzada K-Folds=8\t\t0.348958\t\t0.373239\n",
      "Validación Simple 10%\t\t\t0.361842\t\t0.378571\n",
      "Validación Cruzada K-Folds=10\t\t0.348684\t\t0.373214\n",
      "================================================================================\n",
      "Test K=23 K-NN SIN NORMALIZAR\t\tPima - Error\t\tWDBC - Error\n",
      "Validación Simple 25%\t\t\t0.338542\t\t0.373239\n",
      "Validación Cruzada K-Folds=4\t\t0.348958\t\t0.373239\n",
      "Validación Simple 20%\t\t\t0.335948\t\t0.378761\n",
      "Validación Cruzada K-Folds=6\t\t0.348958\t\t0.367021\n",
      "Validación Simple 15%\t\t\t0.363768\t\t0.376471\n",
      "Validación Cruzada K-Folds=8\t\t0.348958\t\t0.373239\n",
      "Validación Simple 10%\t\t\t0.334211\t\t0.369643\n",
      "Validación Cruzada K-Folds=10\t\t0.348684\t\t0.371429\n",
      "================================================================================\n",
      "Test K=25 K-NN SIN NORMALIZAR\t\tPima - Error\t\tWDBC - Error\n",
      "Validación Simple 25%\t\t\t0.375000\t\t0.385563\n",
      "Validación Cruzada K-Folds=4\t\t0.348958\t\t0.373239\n",
      "Validación Simple 20%\t\t\t0.342484\t\t0.373451\n",
      "Validación Cruzada K-Folds=6\t\t0.348958\t\t0.374113\n",
      "Validación Simple 15%\t\t\t0.334783\t\t0.388235\n",
      "Validación Cruzada K-Folds=8\t\t0.348958\t\t0.373239\n",
      "Validación Simple 10%\t\t\t0.326316\t\t0.351786\n",
      "Validación Cruzada K-Folds=10\t\t0.348684\t\t0.367857\n",
      "================================================================================\n",
      "Test K=27 K-NN SIN NORMALIZAR\t\tPima - Error\t\tWDBC - Error\n",
      "Validación Simple 25%\t\t\t0.346354\t\t0.378521\n",
      "Validación Cruzada K-Folds=4\t\t0.348958\t\t0.373239\n",
      "Validación Simple 20%\t\t\t0.354248\t\t0.364602\n",
      "Validación Cruzada K-Folds=6\t\t0.348958\t\t0.370567\n",
      "Validación Simple 15%\t\t\t0.344928\t\t0.360784\n",
      "Validación Cruzada K-Folds=8\t\t0.348958\t\t0.373239\n",
      "Validación Simple 10%\t\t\t0.351316\t\t0.325000\n",
      "Validación Cruzada K-Folds=10\t\t0.347368\t\t0.376786\n",
      "================================================================================\n",
      "Test K=29 K-NN SIN NORMALIZAR\t\tPima - Error\t\tWDBC - Error\n",
      "Validación Simple 25%\t\t\t0.346354\t\t0.373239\n",
      "Validación Cruzada K-Folds=4\t\t0.348958\t\t0.373239\n",
      "Validación Simple 20%\t\t\t0.342484\t\t0.421239\n",
      "Validación Cruzada K-Folds=6\t\t0.348958\t\t0.370567\n",
      "Validación Simple 15%\t\t\t0.355072\t\t0.386275\n",
      "Validación Cruzada K-Folds=8\t\t0.348958\t\t0.371479\n"
     ]
    }
   ],
   "source": [
    "errorMedioPimaVC, errorMedioPimaVS, errorMedioWDBCVC, errorMedioWDBCVS = utils.knn_test(pima, wdbc)"
   ]
  },
  {
   "cell_type": "markdown",
   "metadata": {},
   "source": [
    "### K-NN Tests normalizados"
   ]
  },
  {
   "cell_type": "code",
   "execution_count": null,
   "metadata": {
    "scrolled": true
   },
   "outputs": [],
   "source": [
    "errorMedioPimaVCNorm, errorMedioPimaVSNorm, errorMedioWDBCVCNorm, errorMedioWDBCVSNorm = utils.knn_test_norm(pima, wdbc)"
   ]
  },
  {
   "cell_type": "markdown",
   "metadata": {},
   "source": [
    "### Pima-Indians-Diabetes - Validación Simple"
   ]
  },
  {
   "cell_type": "code",
   "execution_count": null,
   "metadata": {},
   "outputs": [],
   "source": [
    "utils.plot_VS(errorMedioPimaVS, errorMedioPimaVSNorm)"
   ]
  },
  {
   "cell_type": "markdown",
   "metadata": {},
   "source": [
    "### Pima-Indians-Diabetes - Validación Cruzada"
   ]
  },
  {
   "cell_type": "code",
   "execution_count": null,
   "metadata": {},
   "outputs": [],
   "source": [
    "utils.plot_VS(errorMedioPimaVC, errorMedioPimaVCNorm)"
   ]
  },
  {
   "cell_type": "markdown",
   "metadata": {},
   "source": [
    "### WDBC - Validación Simple"
   ]
  },
  {
   "cell_type": "code",
   "execution_count": null,
   "metadata": {},
   "outputs": [],
   "source": [
    "utils.plot_VS(errorMedioWDBCVS, errorMedioWDBCVSNorm)"
   ]
  },
  {
   "cell_type": "markdown",
   "metadata": {},
   "source": [
    "### WDBC - Validación Cruzada"
   ]
  },
  {
   "cell_type": "code",
   "execution_count": null,
   "metadata": {},
   "outputs": [],
   "source": [
    "utils.plot_VS(errorMedioWDBCVC, errorMedioWDBCVCNorm)"
   ]
  },
  {
   "cell_type": "code",
   "execution_count": null,
   "metadata": {},
   "outputs": [],
   "source": []
  },
  {
   "cell_type": "markdown",
   "metadata": {},
   "source": [
    "### KMeans - 10 Clusters - Histogramas"
   ]
  },
  {
   "cell_type": "code",
   "execution_count": null,
   "metadata": {
    "scrolled": true
   },
   "outputs": [],
   "source": [
    "matrices_propia_10, centroides_propia_10 = utils.test_KMeans(10, nums)"
   ]
  },
  {
   "cell_type": "code",
   "execution_count": null,
   "metadata": {
    "scrolled": true
   },
   "outputs": [],
   "source": [
    "utils.tablas_matriz_confusion(matrices_propia_10)"
   ]
  },
  {
   "cell_type": "markdown",
   "metadata": {},
   "source": [
    "### KMeans - 11 Clusters - Histogramas"
   ]
  },
  {
   "cell_type": "code",
   "execution_count": null,
   "metadata": {
    "scrolled": true
   },
   "outputs": [],
   "source": [
    "matrices, _ = utils.test_KMeans(11, nums)"
   ]
  },
  {
   "cell_type": "code",
   "execution_count": null,
   "metadata": {
    "scrolled": true
   },
   "outputs": [],
   "source": [
    "utils.tablas_matriz_confusion(matrices)"
   ]
  },
  {
   "cell_type": "markdown",
   "metadata": {},
   "source": [
    "### KMeans - 12 Clusters - Histogramas"
   ]
  },
  {
   "cell_type": "code",
   "execution_count": null,
   "metadata": {
    "scrolled": true
   },
   "outputs": [],
   "source": [
    "matrices, _ = utils.test_KMeans(12, nums)"
   ]
  },
  {
   "cell_type": "code",
   "execution_count": null,
   "metadata": {
    "scrolled": true
   },
   "outputs": [],
   "source": [
    "utils.tablas_matriz_confusion(matrices)"
   ]
  },
  {
   "cell_type": "markdown",
   "metadata": {},
   "source": [
    "### KMeans - 13 Clusters - Histogramas"
   ]
  },
  {
   "cell_type": "code",
   "execution_count": null,
   "metadata": {
    "scrolled": true
   },
   "outputs": [],
   "source": [
    "matrices, _ = utils.test_KMeans(13, nums)"
   ]
  },
  {
   "cell_type": "code",
   "execution_count": null,
   "metadata": {
    "scrolled": true
   },
   "outputs": [],
   "source": [
    "utils.tablas_matriz_confusion(matrices)"
   ]
  },
  {
   "cell_type": "markdown",
   "metadata": {},
   "source": [
    "### KMeans - 14 Clusters - Histogramas"
   ]
  },
  {
   "cell_type": "code",
   "execution_count": null,
   "metadata": {
    "scrolled": true
   },
   "outputs": [],
   "source": [
    "matrices, _ = utils.test_KMeans(14, nums)"
   ]
  },
  {
   "cell_type": "code",
   "execution_count": null,
   "metadata": {},
   "outputs": [],
   "source": [
    "utils.tablas_matriz_confusion(matrices)"
   ]
  },
  {
   "cell_type": "markdown",
   "metadata": {},
   "source": [
    "### KMeans - 15 Clusters - Histogramas"
   ]
  },
  {
   "cell_type": "code",
   "execution_count": null,
   "metadata": {
    "scrolled": true
   },
   "outputs": [],
   "source": [
    "matrices, _ = utils.test_KMeans(15, nums)"
   ]
  },
  {
   "cell_type": "code",
   "execution_count": null,
   "metadata": {},
   "outputs": [],
   "source": [
    "utils.tablas_matriz_confusion(matrices)"
   ]
  },
  {
   "cell_type": "markdown",
   "metadata": {},
   "source": [
    "### KMeans - 16 Clusters - Histogramas"
   ]
  },
  {
   "cell_type": "code",
   "execution_count": null,
   "metadata": {
    "scrolled": true
   },
   "outputs": [],
   "source": [
    "matrices, _ = utils.test_KMeans(16, nums)"
   ]
  },
  {
   "cell_type": "code",
   "execution_count": null,
   "metadata": {},
   "outputs": [],
   "source": [
    "utils.tablas_matriz_confusion(matrices)"
   ]
  },
  {
   "cell_type": "markdown",
   "metadata": {},
   "source": [
    "### KMeans - 17 Clusters - Histogramas"
   ]
  },
  {
   "cell_type": "code",
   "execution_count": null,
   "metadata": {
    "scrolled": true
   },
   "outputs": [],
   "source": [
    "matrices, _ = utils.test_KMeans(17, nums)"
   ]
  },
  {
   "cell_type": "code",
   "execution_count": null,
   "metadata": {},
   "outputs": [],
   "source": [
    "utils.tablas_matriz_confusion(matrices)"
   ]
  },
  {
   "cell_type": "markdown",
   "metadata": {},
   "source": [
    "### KMeans - 18 Clusters - Histogramas"
   ]
  },
  {
   "cell_type": "code",
   "execution_count": null,
   "metadata": {
    "scrolled": true
   },
   "outputs": [],
   "source": [
    "matrices, _ = utils.test_KMeans(18, nums)"
   ]
  },
  {
   "cell_type": "code",
   "execution_count": null,
   "metadata": {
    "scrolled": true
   },
   "outputs": [],
   "source": [
    "utils.tablas_matriz_confusion(matrices)"
   ]
  },
  {
   "cell_type": "markdown",
   "metadata": {},
   "source": [
    "### KMeans - 19 Clusters - Histogramas"
   ]
  },
  {
   "cell_type": "code",
   "execution_count": null,
   "metadata": {
    "scrolled": true
   },
   "outputs": [],
   "source": [
    "matrices, _ = utils.test_KMeans(19, nums)"
   ]
  },
  {
   "cell_type": "code",
   "execution_count": null,
   "metadata": {},
   "outputs": [],
   "source": [
    "utils.tablas_matriz_confusion(matrices)"
   ]
  },
  {
   "cell_type": "markdown",
   "metadata": {},
   "source": [
    "### KMeans - 20 Clusters - Histogramas"
   ]
  },
  {
   "cell_type": "code",
   "execution_count": null,
   "metadata": {
    "scrolled": true
   },
   "outputs": [],
   "source": [
    "matrices_propia_20, centroides_propia_20 = utils.test_KMeans(20, nums)"
   ]
  },
  {
   "cell_type": "code",
   "execution_count": null,
   "metadata": {},
   "outputs": [],
   "source": [
    "utils.tablas_matriz_confusion(matrices_propia_20)"
   ]
  },
  {
   "cell_type": "code",
   "execution_count": null,
   "metadata": {},
   "outputs": [],
   "source": []
  },
  {
   "cell_type": "markdown",
   "metadata": {},
   "source": [
    "### K-NN SKLearn"
   ]
  },
  {
   "cell_type": "code",
   "execution_count": null,
   "metadata": {
    "scrolled": true
   },
   "outputs": [],
   "source": [
    "errorMedioPimaVC_SK, errorMedioPimaVS_SK, errorMedioWDBCVC_SK, errorMedioWDBCVS_SK = utils.knn_test_SK(pima, wdbc)"
   ]
  },
  {
   "cell_type": "code",
   "execution_count": null,
   "metadata": {},
   "outputs": [],
   "source": []
  },
  {
   "cell_type": "code",
   "execution_count": null,
   "metadata": {},
   "outputs": [],
   "source": [
    "errorMedioPimaVCNorm_SK, errorMedioPimaVSNorm_SK, errorMedioWDBCVCNorm_SK, errorMedioWDBCVSNorm_SK = utils.knn_test_norm_SK(pima, wdbc)"
   ]
  },
  {
   "cell_type": "markdown",
   "metadata": {},
   "source": [
    "### Pima-Indians-Diabetes - Validación Simple"
   ]
  },
  {
   "cell_type": "code",
   "execution_count": null,
   "metadata": {},
   "outputs": [],
   "source": [
    "utils.plot_VS(errorMedioPimaVS_SK, errorMedioPimaVSNorm_SK)"
   ]
  },
  {
   "cell_type": "markdown",
   "metadata": {},
   "source": [
    "### Pima-Indians-Diabetes - Validación Cruzada"
   ]
  },
  {
   "cell_type": "code",
   "execution_count": null,
   "metadata": {},
   "outputs": [],
   "source": [
    "utils.plot_VC(errorMedioPimaVC_SK, errorMedioPimaVCNorm_SK)"
   ]
  },
  {
   "cell_type": "markdown",
   "metadata": {},
   "source": [
    "### WDBC - Validación Simple"
   ]
  },
  {
   "cell_type": "code",
   "execution_count": null,
   "metadata": {},
   "outputs": [],
   "source": [
    "utils.plot_VS(errorMedioWDBCVS_SK, errorMedioWDBCVSNorm_SK)"
   ]
  },
  {
   "cell_type": "markdown",
   "metadata": {},
   "source": [
    "### WDBC - Validación Cruzada"
   ]
  },
  {
   "cell_type": "code",
   "execution_count": null,
   "metadata": {},
   "outputs": [],
   "source": [
    "utils.plot_VC(errorMedioWDBCVC_SK, errorMedioWDBCVCNorm_SK)"
   ]
  },
  {
   "cell_type": "code",
   "execution_count": null,
   "metadata": {},
   "outputs": [],
   "source": []
  },
  {
   "cell_type": "code",
   "execution_count": null,
   "metadata": {},
   "outputs": [],
   "source": []
  },
  {
   "cell_type": "markdown",
   "metadata": {},
   "source": [
    "### SKLearn VS Implementación Propia - KNN - Pima-Indians-Diabetes"
   ]
  },
  {
   "cell_type": "code",
   "execution_count": null,
   "metadata": {},
   "outputs": [],
   "source": [
    "utils.plot_VS_SK_Propio(errorMedioPimaVS, errorMedioPimaVSNorm, errorMedioPimaVS_SK, errorMedioPimaVSNorm_SK)"
   ]
  },
  {
   "cell_type": "code",
   "execution_count": null,
   "metadata": {},
   "outputs": [],
   "source": [
    "utils.plot_VS_SK_Propio(errorMedioPimaVC, errorMedioPimaVCNorm, errorMedioPimaVC_SK, errorMedioPimaVCNorm_SK)"
   ]
  },
  {
   "cell_type": "markdown",
   "metadata": {},
   "source": [
    "### SKLearn VS Implementación Propia - KNN - WDBC"
   ]
  },
  {
   "cell_type": "code",
   "execution_count": null,
   "metadata": {},
   "outputs": [],
   "source": [
    "utils.plot_VS_SK_Propio(errorMedioWDBCVS, errorMedioWDBCVSNorm, errorMedioWDBCVS_SK, errorMedioWDBCVSNorm_SK)"
   ]
  },
  {
   "cell_type": "code",
   "execution_count": null,
   "metadata": {},
   "outputs": [],
   "source": [
    "utils.plot_VS_SK_Propio(errorMedioWDBCVC, errorMedioWDBCVCNorm, errorMedioWDBCVC_SK, errorMedioWDBCVCNorm_SK)"
   ]
  },
  {
   "cell_type": "markdown",
   "metadata": {},
   "source": [
    "### KMeans - SKLearn - 10 Clusters"
   ]
  },
  {
   "cell_type": "code",
   "execution_count": null,
   "metadata": {
    "scrolled": true
   },
   "outputs": [],
   "source": [
    "matrices_SK_10, centroides_SK_10 = utils.test_KMeans_SK(10, nums)"
   ]
  },
  {
   "cell_type": "code",
   "execution_count": null,
   "metadata": {
    "scrolled": true
   },
   "outputs": [],
   "source": [
    "utils.tablas_matriz_confusion(matrices_SK_10)"
   ]
  },
  {
   "cell_type": "markdown",
   "metadata": {},
   "source": [
    "### SKLearn VS Implementación Propia - KMeans - 10 Clusters"
   ]
  },
  {
   "cell_type": "code",
   "execution_count": null,
   "metadata": {
    "scrolled": true
   },
   "outputs": [],
   "source": [
    "clusters = utils.create_clusters_for_comparing(matrices_propia_10, matrices_SK_10, 10)\n",
    "utils.plot_SK_Propia_histograms_KMEANS(clusters, 10)"
   ]
  },
  {
   "cell_type": "code",
   "execution_count": null,
   "metadata": {},
   "outputs": [],
   "source": [
    "print(\"Distancia entre centroides - Propia VS SKLearn\")\n",
    "for a, b in zip(centroides_propia_10, centroides_SK_10):\n",
    "    print(f\"{distanciaEuclidea(a[0], b):0.2f} \", end=\"\")"
   ]
  },
  {
   "cell_type": "markdown",
   "metadata": {},
   "source": [
    "### KMeans - SKLearn - 20 Clusters"
   ]
  },
  {
   "cell_type": "code",
   "execution_count": null,
   "metadata": {
    "scrolled": false
   },
   "outputs": [],
   "source": [
    "matrices_SK_20, centroides_SK_20 = utils.test_KMeans_SK(20, nums)"
   ]
  },
  {
   "cell_type": "code",
   "execution_count": null,
   "metadata": {},
   "outputs": [],
   "source": [
    "utils.tablas_matriz_confusion(matrices_SK_20)"
   ]
  },
  {
   "cell_type": "markdown",
   "metadata": {},
   "source": [
    "### SKLearn VS Implementación Propia - KMeans - 20 Clusters"
   ]
  },
  {
   "cell_type": "code",
   "execution_count": null,
   "metadata": {
    "scrolled": false
   },
   "outputs": [],
   "source": [
    "clusters = utils.create_clusters_for_comparing(matrices_propia_20, matrices_SK_20, 10)\n",
    "utils.plot_SK_Propia_histograms_KMEANS(clusters, 10)"
   ]
  },
  {
   "cell_type": "code",
   "execution_count": null,
   "metadata": {},
   "outputs": [],
   "source": [
    "print(\"Distancia entre centroides - Propia VS SKLearn\")\n",
    "for a, b in zip(centroides_propia_20, centroides_SK_20):\n",
    "    print(f\"{distanciaEuclidea(a[0], b):0.2f} \", end=\"\")"
   ]
  },
  {
   "cell_type": "code",
   "execution_count": null,
   "metadata": {},
   "outputs": [],
   "source": []
  },
  {
   "cell_type": "code",
   "execution_count": null,
   "metadata": {},
   "outputs": [],
   "source": []
  },
  {
   "cell_type": "code",
   "execution_count": null,
   "metadata": {},
   "outputs": [],
   "source": []
  },
  {
   "cell_type": "code",
   "execution_count": null,
   "metadata": {},
   "outputs": [],
   "source": []
  },
  {
   "cell_type": "code",
   "execution_count": null,
   "metadata": {},
   "outputs": [],
   "source": []
  },
  {
   "cell_type": "code",
   "execution_count": null,
   "metadata": {},
   "outputs": [],
   "source": []
  }
 ],
 "metadata": {
  "kernelspec": {
   "display_name": "Python 3",
   "language": "python",
   "name": "python3"
  },
  "language_info": {
   "codemirror_mode": {
    "name": "ipython",
    "version": 3
   },
   "file_extension": ".py",
   "mimetype": "text/x-python",
   "name": "python",
   "nbconvert_exporter": "python",
   "pygments_lexer": "ipython3",
   "version": "3.8.8"
  }
 },
 "nbformat": 4,
 "nbformat_minor": 4
}
