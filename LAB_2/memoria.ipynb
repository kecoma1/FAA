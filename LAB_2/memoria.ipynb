{
 "cells": [
  {
   "cell_type": "code",
   "execution_count": 42,
   "id": "12d3aa91",
   "metadata": {},
   "outputs": [],
   "source": [
    "from Clasificador import ClasificadorNaiveBayes\n",
    "from Datos import Datos\n",
    "from EstrategiaParticionado import ValidacionCruzada, ValidacionSimple\n",
    "from sklearn.naive_bayes import GaussianNB, MultinomialNB, CategoricalNB\n",
    "from sklearn.model_selection import cross_val_score, cross_val_predict, train_test_split\n",
    "import pandas as pd\n",
    "import numpy as np\n",
    "import matplotlib.pyplot as plt\n",
    "\n",
    "german = Datos(\"ConjuntosDatos/german.data\")\n",
    "ttt = Datos(\"ConjuntosDatos/tic-tac-toe.data\")"
   ]
  },
  {
   "cell_type": "markdown",
   "id": "571d8c35",
   "metadata": {},
   "source": [
    "# 1. Naive Bayes\n",
    "\n",
    "## 1.1 Tablas para los distintos porcentajes de Test y K"
   ]
  },
  {
   "cell_type": "code",
   "execution_count": null,
   "id": "e09067e4",
   "metadata": {},
   "outputs": [],
   "source": [
    "for i in range(5, 55, 5):\n",
    "    testPrint(10, i, german, ttt)"
   ]
  },
  {
   "cell_type": "markdown",
   "id": "44a1d58c",
   "metadata": {},
   "source": [
    "## 1.2 Análisis"
   ]
  },
  {
   "cell_type": "markdown",
   "id": "cd7b36f6",
   "metadata": {},
   "source": [
    "# 2. Scikit-Learn\n",
    "## MultinomialNB\n"
   ]
  },
  {
   "cell_type": "code",
   "execution_count": 51,
   "id": "0ecacdc9",
   "metadata": {},
   "outputs": [
    {
     "ename": "AttributeError",
     "evalue": "module 'utils' has no attribute 'multinomial_test'",
     "output_type": "error",
     "traceback": [
      "\u001b[0;31m---------------------------------------------------------------------------\u001b[0m",
      "\u001b[0;31mAttributeError\u001b[0m                            Traceback (most recent call last)",
      "\u001b[0;32m<ipython-input-51-2ad7dcaa87d8>\u001b[0m in \u001b[0;36m<module>\u001b[0;34m\u001b[0m\n\u001b[1;32m      1\u001b[0m \u001b[0mMNBerrorMedioGermanVS\u001b[0m\u001b[0;34m,\u001b[0m \u001b[0mMNBerrorMedioGermanVSCLP\u001b[0m\u001b[0;34m,\u001b[0m \u001b[0mMNBerrorMedioGermanVC\u001b[0m\u001b[0;34m,\u001b[0m\u001b[0;31m\\\u001b[0m\u001b[0;34m\u001b[0m\u001b[0;34m\u001b[0m\u001b[0m\n\u001b[1;32m      2\u001b[0m \u001b[0mMNBerrorMedioGermanVCCLP\u001b[0m\u001b[0;34m,\u001b[0m \u001b[0mMNBerrorMediotttVS\u001b[0m\u001b[0;34m,\u001b[0m \u001b[0mMNBerrorMediotttVSCLP\u001b[0m\u001b[0;34m,\u001b[0m\u001b[0;31m\\\u001b[0m\u001b[0;34m\u001b[0m\u001b[0;34m\u001b[0m\u001b[0m\n\u001b[0;32m----> 3\u001b[0;31m \u001b[0mMNBerrorMediotttVC\u001b[0m\u001b[0;34m,\u001b[0m \u001b[0mMNBerrorMediotttVCCLP\u001b[0m \u001b[0;34m=\u001b[0m \u001b[0mu\u001b[0m\u001b[0;34m.\u001b[0m\u001b[0mmultinomial_test\u001b[0m\u001b[0;34m(\u001b[0m\u001b[0mgerman\u001b[0m\u001b[0;34m,\u001b[0m \u001b[0mttt\u001b[0m\u001b[0;34m)\u001b[0m\u001b[0;34m\u001b[0m\u001b[0;34m\u001b[0m\u001b[0m\n\u001b[0m",
      "\u001b[0;31mAttributeError\u001b[0m: module 'utils' has no attribute 'multinomial_test'"
     ]
    }
   ],
   "source": [
    "MNBerrorMedioGermanVS, MNBerrorMedioGermanVSCLP, MNBerrorMedioGermanVC,\\\n",
    "MNBerrorMedioGermanVCCLP, MNBerrorMediotttVS, MNBerrorMediotttVSCLP,\\\n",
    "MNBerrorMediotttVC, MNBerrorMediotttVCCLP = u.multinomial_test(german, ttt)"
   ]
  },
  {
   "cell_type": "markdown",
   "id": "4f7306b8",
   "metadata": {},
   "source": [
    "## GaussianNB\n",
    "No se puede usar la corrección de laplace porque en este modelo se asume seguir una distribución normal."
   ]
  },
  {
   "cell_type": "code",
   "execution_count": 17,
   "id": "016a92a5",
   "metadata": {},
   "outputs": [
    {
     "name": "stdout",
     "output_type": "stream",
     "text": [
      "Test 5% / K = 20\t\tGerman - Media\tGerman - std\tTic-Tac-Toe - Media\tTic-Tac-Toe - std\n",
      "Validacion cruzada\t\t0.267000\t0.054507\t0.302770\t\t0.074030\n",
      "Validacion simple\t\t0.738000\t0.057585\t0.312500\t\t0.066536\n",
      "\n",
      "Test 10% / K = 10\t\tGerman - Media\tGerman - std\tTic-Tac-Toe - Media\tTic-Tac-Toe - std\n",
      "Validacion cruzada\t\t0.266000\t0.043174\t0.314134\t\t0.033250\n",
      "Validacion simple\t\t0.742000\t0.026000\t0.292708\t\t0.022073\n",
      "\n",
      "Test 15% / K = 6\t\tGerman - Media\tGerman - std\tTic-Tac-Toe - Media\tTic-Tac-Toe - std\n",
      "Validacion cruzada\t\t0.265944\t0.023810\t0.364197\t\t0.069330\n",
      "Validacion simple\t\t0.719333\t0.023749\t0.298611\t\t0.043033\n",
      "\n",
      "Test 20% / K = 5\t\tGerman - Media\tGerman - std\tTic-Tac-Toe - Media\tTic-Tac-Toe - std\n",
      "Validacion cruzada\t\t0.268000\t0.032650\t0.379041\t\t0.109193\n",
      "Validacion simple\t\t0.721500\t0.039500\t0.309375\t\t0.021246\n",
      "\n",
      "Test 25% / K = 4\t\tGerman - Media\tGerman - std\tTic-Tac-Toe - Media\tTic-Tac-Toe - std\n",
      "Validacion cruzada\t\t0.266000\t0.024249\t0.420716\t\t0.103407\n",
      "Validacion simple\t\t0.727600\t0.019714\t0.295833\t\t0.017180\n",
      "\n",
      "Test 30% / K = 3\t\tGerman - Media\tGerman - std\tTic-Tac-Toe - Media\tTic-Tac-Toe - std\n",
      "Validacion cruzada\t\t0.260980\t0.016820\t0.418662\t\t0.116305\n",
      "Validacion simple\t\t0.743000\t0.023355\t0.288194\t\t0.027778\n",
      "\n",
      "Test 35% / K = 2\t\tGerman - Media\tGerman - std\tTic-Tac-Toe - Media\tTic-Tac-Toe - std\n",
      "Validacion cruzada\t\t0.270000\t0.008000\t0.638831\t\t0.031315\n",
      "Validacion simple\t\t0.719714\t0.016033\t0.294345\t\t0.012658\n",
      "\n",
      "Test 40%\t\t\tGerman - Media\tGerman - std\tTic-Tac-Toe - Media\tTic-Tac-Toe - std\n",
      "Validacion simple\t\t0.735750\t0.017322\t0.283073\t\t0.020672\n",
      "\n",
      "Test 45%\t\t\tGerman - Media\tGerman - std\tTic-Tac-Toe - Media\tTic-Tac-Toe - std\n",
      "Validacion simple\t\t0.738444\t0.020657\t0.292824\t\t0.020134\n",
      "\n",
      "Test 50%\t\t\tGerman - Media\tGerman - std\tTic-Tac-Toe - Media\tTic-Tac-Toe - std\n",
      "Validacion simple\t\t0.728600\t0.024067\t0.301461\t\t0.019963\n",
      "\n"
     ]
    }
   ],
   "source": [
    "GNBerrorMedioGermanVS = []\n",
    "GNBerrorMedioGermanVC = []\n",
    "GNBerrorMediotttVS = []\n",
    "GNBerrorMediotttVC = []\n",
    "\n",
    "for i in range(5, 55, 5):\n",
    "    gnb = GaussianNB()\n",
    "    \n",
    "    tttScoreVS = test_VS(tttX, ttty, 10, i/100, gnb)\n",
    "    germanScoreVS = test_VS(germanX, germany, 10, i/100, gnb)\n",
    "    \n",
    "    GNBerrorMedioGermanVS.append(germanScoreVS[0])\n",
    "    GNBerrorMediotttVS.append(tttScoreVS[0])\n",
    "    \n",
    "    if i < 40:\n",
    "        tttScore = cross_val_score(gnb, tttX, ttty, cv=int(100/i))\n",
    "        germanScore = cross_val_score(gnb, germanX, germany, cv=int(100/i))\n",
    "        \n",
    "        GNBerrorMedioGermanVC.append(1-germanScore.mean())\n",
    "        GNBerrorMediotttVC.append(1-tttScore.mean())\n",
    "        \n",
    "        print(f\"Test {i}% / K = {int(100/i)}\\t\\tGerman - Media\\tGerman - std\\tTic-Tac-Toe - Media\\tTic-Tac-Toe - std\")\n",
    "        print(f\"Validacion cruzada\\t\\t{1-germanScore.mean():2f}\\t{germanScore.std():2f}\\t{1-tttScore.mean():2f}\\t\\t{tttScore.std():2f}\")\n",
    "    else:\n",
    "        print(f\"Test {i}%\\t\\t\\tGerman - Media\\tGerman - std\\tTic-Tac-Toe - Media\\tTic-Tac-Toe - std\")\n",
    "    print(f\"Validacion simple\\t\\t{1-germanScoreVS[0]:2f}\\t{germanScoreVS[1]:2f}\\t{tttScoreVS[0]:2f}\\t\\t{tttScoreVS[1]:2f}\\n\")\n"
   ]
  },
  {
   "cell_type": "markdown",
   "id": "3a7e96eb",
   "metadata": {},
   "source": [
    "## CategoricalNB\n",
    "Cuando se hace _fit_ con un subconjunto de datos de los datos totales pueden quedar valores de atributos que no se han \"visto\" durante el training. Es por eso que al ejecutar _predict_, la función devuelve una excepción.\n",
    "Se recibe un warning cuando se ejecuta la validación cruzada usando el dataset _german_. Esto es debido a que dicho dataset contiene valores continuos con los que el modelo no puede tratar.\n",
    "\n",
    "Por las anteriores razones se ha decidido omitir los test del conjunto german para la validación cruzada.\n",
    "\n",
    "https://github.com/scikit-learn/scikit-learn/issues/16028"
   ]
  },
  {
   "cell_type": "code",
   "execution_count": 18,
   "id": "f78a15a7",
   "metadata": {},
   "outputs": [
    {
     "name": "stdout",
     "output_type": "stream",
     "text": [
      "Test 5%\t\t\tGerman - Media\tGerman - std\tTic-Tac-Toe - Media\tTic-Tac-Toe - std\n",
      "Validacion simple\t\t0.142000\t0.036277\t0.708333\t\t0.065881\n",
      "Validacion simple (Laplace)\t0.146000\t0.044766\t0.729167\t\t0.032275\n",
      "\n",
      "\n",
      "Test 10%\t\t\tGerman - Media\tGerman - std\tTic-Tac-Toe - Media\tTic-Tac-Toe - std\n",
      "Validacion simple\t\t0.144000\t0.044989\t0.680208\t\t0.036399\n",
      "Validacion simple (Laplace)\t0.139000\t0.032078\t0.683333\t\t0.040128\n",
      "\n",
      "\n",
      "Test 15%\t\t\tGerman - Media\tGerman - std\tTic-Tac-Toe - Media\tTic-Tac-Toe - std\n",
      "Validacion simple\t\t0.132667\t0.018487\t0.711111\t\t0.024096\n",
      "Validacion simple (Laplace)\t0.115333\t0.024775\t0.719444\t\t0.026206\n",
      "\n",
      "\n",
      "Test 20%\t\t\tGerman - Media\tGerman - std\tTic-Tac-Toe - Media\tTic-Tac-Toe - std\n",
      "Validacion simple\t\t0.144500\t0.027969\t0.703646\t\t0.032229\n",
      "Validacion simple (Laplace)\t0.127000\t0.017916\t0.705208\t\t0.026680\n",
      "\n",
      "\n",
      "Test 25%\t\t\tGerman - Media\tGerman - std\tTic-Tac-Toe - Media\tTic-Tac-Toe - std\n",
      "Validacion simple\t\t0.122000\t0.013297\t0.698750\t\t0.023128\n",
      "Validacion simple (Laplace)\t0.134800\t0.011179\t0.702917\t\t0.019459\n",
      "\n",
      "\n",
      "Test 30%\t\t\tGerman - Media\tGerman - std\tTic-Tac-Toe - Media\tTic-Tac-Toe - std\n",
      "Validacion simple\t\t0.134333\t0.020712\t0.700694\t\t0.020647\n",
      "Validacion simple (Laplace)\t0.135667\t0.017000\t0.702431\t\t0.017014\n",
      "\n",
      "\n",
      "Test 35%\t\t\tGerman - Media\tGerman - std\tTic-Tac-Toe - Media\tTic-Tac-Toe - std\n",
      "Validacion simple\t\t0.134857\t0.010206\t0.698214\t\t0.015011\n",
      "Validacion simple (Laplace)\t0.128571\t0.016010\t0.703571\t\t0.021387\n",
      "\n",
      "\n",
      "Test 40%\t\t\tGerman - Media\tGerman - std\tTic-Tac-Toe - Media\tTic-Tac-Toe - std\n",
      "Validacion simple\t\t0.134000\t0.010794\t0.698438\t\t0.016788\n",
      "Validacion simple (Laplace)\t0.133500\t0.009028\t0.694010\t\t0.016522\n",
      "\n",
      "\n",
      "Test 45%\t\t\tGerman - Media\tGerman - std\tTic-Tac-Toe - Media\tTic-Tac-Toe - std\n",
      "Validacion simple\t\t0.129778\t0.011934\t0.688194\t\t0.017262\n",
      "Validacion simple (Laplace)\t0.131333\t0.009861\t0.697917\t\t0.015979\n",
      "\n",
      "\n",
      "Test 50%\t\t\tGerman - Media\tGerman - std\tTic-Tac-Toe - Media\tTic-Tac-Toe - std\n",
      "Validacion simple\t\t0.133200\t0.008773\t0.694363\t\t0.012109\n",
      "Validacion simple (Laplace)\t0.136200\t0.010638\t0.700418\t\t0.010449\n",
      "\n",
      "\n"
     ]
    }
   ],
   "source": [
    "CNBerrorMedioGermanVS = []\n",
    "CNBerrorMedioGermanVSCLP = []\n",
    "CNBerrorMediotttVS = []\n",
    "CNBerrorMediotttVSCLP = []\n",
    "\n",
    "for i in range(5, 55, 5):\n",
    "    cnb = CategoricalNB(fit_prior=True)\n",
    "    cnbCLP = CategoricalNB(fit_prior=True, alpha=1)\n",
    "    \n",
    "    tttScoreVS = test_VS2(tttX, ttty, 10, i/100, cnb)\n",
    "    tttScoreVSCLP = test_VS2(tttX, ttty, 10, i/100, cnbCLP)\n",
    "    germanScoreVS = test_VS2(germanX, germany, 10, i/100, cnb)\n",
    "    germanScoreVSCLP = test_VS2(germanX, germany, 10, i/100, cnbCLP)\n",
    "    #germanScore = cross_val_score(cnb, germanX, germany, cv=int(100/i))\n",
    "    #germanScoreCLP = cross_val_score(cnbCLP, germanX, germany, cv=int(100/i))\n",
    "    \n",
    "    CNBerrorMedioGermanVS.append(germanScoreVS[0])\n",
    "    CNBerrorMedioGermanVSCLP.append(germanScoreVSCLP[0])\n",
    "    CNBerrorMediotttVS.append(tttScoreVS[0])\n",
    "    CNBerrorMediotttVSCLP.append(tttScoreVSCLP[0])\n",
    "\n",
    "    print(f\"Test {i}%\\t\\t\\tGerman - Media\\tGerman - std\\tTic-Tac-Toe - Media\\tTic-Tac-Toe - std\")\n",
    "    \n",
    "    tttScore = cross_val_score(cnb, tttX, ttty, cv=int(100/i))\n",
    "    tttScoreCLP = cross_val_score(cnbCLP, tttX, ttty, cv=int(100/i))\n",
    "    print(f\"Validacion simple\\t\\t{1-germanScoreVS[0]:2f}\\t{germanScoreVS[1]:2f}\\t{tttScoreVS[0]:2f}\\t\\t{tttScoreVS[1]:2f}\")\n",
    "    print(f\"Validacion simple (Laplace)\\t{1-germanScoreVSCLP[0]:2f}\\t{germanScoreVSCLP[1]:2f}\\t{tttScoreVSCLP[0]:2f}\\t\\t{tttScoreVSCLP[1]:2f}\\n\\n\")\n"
   ]
  },
  {
   "cell_type": "code",
   "execution_count": null,
   "id": "55b72d29",
   "metadata": {},
   "outputs": [],
   "source": []
  },
  {
   "cell_type": "code",
   "execution_count": null,
   "id": "31ba8420",
   "metadata": {},
   "outputs": [],
   "source": []
  },
  {
   "cell_type": "code",
   "execution_count": null,
   "id": "ee4d7538",
   "metadata": {},
   "outputs": [],
   "source": []
  },
  {
   "cell_type": "code",
   "execution_count": null,
   "id": "bd62aba2",
   "metadata": {},
   "outputs": [],
   "source": []
  },
  {
   "cell_type": "code",
   "execution_count": null,
   "id": "9e967283",
   "metadata": {},
   "outputs": [],
   "source": []
  },
  {
   "cell_type": "code",
   "execution_count": null,
   "id": "f55dbf3b",
   "metadata": {},
   "outputs": [],
   "source": []
  },
  {
   "cell_type": "code",
   "execution_count": null,
   "id": "d7021908",
   "metadata": {},
   "outputs": [],
   "source": []
  },
  {
   "cell_type": "code",
   "execution_count": null,
   "id": "3f7636e4",
   "metadata": {},
   "outputs": [],
   "source": []
  },
  {
   "cell_type": "code",
   "execution_count": null,
   "id": "a7a6866c",
   "metadata": {},
   "outputs": [],
   "source": []
  },
  {
   "cell_type": "code",
   "execution_count": null,
   "id": "b02b25a9",
   "metadata": {},
   "outputs": [],
   "source": []
  },
  {
   "cell_type": "code",
   "execution_count": null,
   "id": "2a29665e",
   "metadata": {},
   "outputs": [],
   "source": []
  },
  {
   "cell_type": "code",
   "execution_count": null,
   "id": "0380367f",
   "metadata": {},
   "outputs": [],
   "source": []
  },
  {
   "cell_type": "code",
   "execution_count": null,
   "id": "527722b7",
   "metadata": {},
   "outputs": [],
   "source": []
  }
 ],
 "metadata": {
  "interpreter": {
   "hash": "c2fcc392ae9644aef06945eadf218bf12da9b21967cdfd459a4f1142b346d505"
  },
  "kernelspec": {
   "display_name": "Python 3",
   "language": "python",
   "name": "python3"
  },
  "language_info": {
   "codemirror_mode": {
    "name": "ipython",
    "version": 3
   },
   "file_extension": ".py",
   "mimetype": "text/x-python",
   "name": "python",
   "nbconvert_exporter": "python",
   "pygments_lexer": "ipython3",
   "version": "3.8.8"
  }
 },
 "nbformat": 4,
 "nbformat_minor": 5
}
