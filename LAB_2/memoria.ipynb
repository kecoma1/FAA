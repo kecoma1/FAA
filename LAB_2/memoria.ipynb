{
 "cells": [
  {
   "cell_type": "code",
   "execution_count": 1,
   "id": "12d3aa91",
   "metadata": {},
   "outputs": [],
   "source": [
    "from Clasificador import ClasificadorNaiveBayes\n",
    "from Datos import Datos\n",
    "from EstrategiaParticionado import ValidacionCruzada, ValidacionSimple\n",
    "from sklearn.naive_bayes import GaussianNB, MultinomialNB, CategoricalNB\n",
    "from sklearn.model_selection import cross_val_score\n",
    "import pandas as pd\n",
    "import numpy as np\n",
    "import matplotlib.pyplot as plt\n",
    "\n",
    "german = Datos(\"ConjuntosDatos/german.data\")\n",
    "ttt = Datos(\"ConjuntosDatos/tic-tac-toe.data\")"
   ]
  },
  {
   "cell_type": "markdown",
   "id": "571d8c35",
   "metadata": {},
   "source": [
    "# 1. Naive Bayes\n",
    "\n",
    "## 1.1 Tablas para los distintos porcentajes de Test y K"
   ]
  },
  {
   "cell_type": "code",
   "execution_count": 2,
   "id": "e09067e4",
   "metadata": {},
   "outputs": [
    {
     "name": "stdout",
     "output_type": "stream",
     "text": [
      "Test 5% / K = 20\t\tGerman - Media\tGerman - std\tTic-Tac-Toe - Media\tTic-Tac-Toe - std\n",
      "Validacion cruzada\t\t0.130376\t0.001403\t0.130602\t\t0.001284\n",
      "Validacion cruzada (Laplace)\t0.130376\t0.001343\t0.130330\t\t0.001534\n",
      "Validacion simple\t\t0.129968\t0.005587\t0.127524\t\t0.005229\n",
      "Validacion simple (Laplace)\t0.130014\t0.005624\t0.127569\t\t0.005697\n",
      "\n",
      "\n",
      "Test 10% / K = 10\t\tGerman - Media\tGerman - std\tTic-Tac-Toe - Media\tTic-Tac-Toe - std\n",
      "Validacion cruzada\t\t0.031989\t0.000310\t0.031956\t\t0.000457\n",
      "Validacion cruzada (Laplace)\t0.031911\t0.000321\t0.031934\t\t0.000434\n",
      "Validacion simple\t\t0.032632\t0.001786\t0.032166\t\t0.001796\n",
      "Validacion simple (Laplace)\t0.032598\t0.001754\t0.032211\t\t0.001854\n",
      "\n",
      "\n",
      "Test 15% / K = 6\t\tGerman - Media\tGerman - std\tTic-Tac-Toe - Media\tTic-Tac-Toe - std\n",
      "Validacion cruzada\t\t0.011305\t0.000162\t0.011269\t\t0.000180\n",
      "Validacion cruzada (Laplace)\t0.011297\t0.000158\t0.011238\t\t0.000186\n",
      "Validacion simple\t\t0.012578\t0.000847\t0.012539\t\t0.000619\n",
      "Validacion simple (Laplace)\t0.012534\t0.000815\t0.012534\t\t0.000618\n",
      "\n",
      "\n",
      "Test 20% / K = 5\t\tGerman - Media\tGerman - std\tTic-Tac-Toe - Media\tTic-Tac-Toe - std\n",
      "Validacion cruzada\t\t0.007768\t0.000137\t0.007790\t\t0.000099\n",
      "Validacion cruzada (Laplace)\t0.007746\t0.000145\t0.007777\t\t0.000096\n",
      "Validacion simple\t\t0.007675\t0.000426\t0.007982\t\t0.000344\n",
      "Validacion simple (Laplace)\t0.007681\t0.000414\t0.007963\t\t0.000347\n",
      "\n",
      "\n",
      "Test 25% / K = 4\t\tGerman - Media\tGerman - std\tTic-Tac-Toe - Media\tTic-Tac-Toe - std\n",
      "Validacion cruzada\t\t0.004991\t0.000042\t0.004968\t\t0.000052\n",
      "Validacion cruzada (Laplace)\t0.004986\t0.000041\t0.004958\t\t0.000064\n",
      "Validacion simple\t\t0.005042\t0.000252\t0.005052\t\t0.000248\n",
      "Validacion simple (Laplace)\t0.005031\t0.000246\t0.005038\t\t0.000240\n",
      "\n",
      "\n",
      "Test 30% / K = 3\t\tGerman - Media\tGerman - std\tTic-Tac-Toe - Media\tTic-Tac-Toe - std\n",
      "Validacion cruzada\t\t0.002794\t0.000054\t0.002791\t\t0.000061\n",
      "Validacion cruzada (Laplace)\t0.002789\t0.000055\t0.002786\t\t0.000058\n",
      "Validacion simple\t\t0.003129\t0.000098\t0.003144\t\t0.000123\n",
      "Validacion simple (Laplace)\t0.003119\t0.000100\t0.003133\t\t0.000121\n",
      "\n",
      "\n",
      "Test 35% / K = 2\t\tGerman - Media\tGerman - std\tTic-Tac-Toe - Media\tTic-Tac-Toe - std\n",
      "Validacion cruzada\t\t0.001235\t0.000024\t0.001226\t\t0.000022\n",
      "Validacion cruzada (Laplace)\t0.001231\t0.000024\t0.001219\t\t0.000020\n",
      "Validacion simple\t\t0.001778\t0.000081\t0.001713\t\t0.000078\n",
      "Validacion simple (Laplace)\t0.001774\t0.000085\t0.001711\t\t0.000078\n",
      "\n",
      "\n",
      "Test 40% / K = 2\t\tGerman - Media\tGerman - std\tTic-Tac-Toe - Media\tTic-Tac-Toe - std\n",
      "Validacion cruzada\t\t0.001225\t0.000021\t0.001226\t\t0.000025\n",
      "Validacion cruzada (Laplace)\t0.001225\t0.000021\t0.001222\t\t0.000028\n",
      "Validacion simple\t\t0.001561\t0.000088\t0.001569\t\t0.000094\n",
      "Validacion simple (Laplace)\t0.001559\t0.000089\t0.001563\t\t0.000094\n",
      "\n",
      "\n",
      "Test 45% / K = 2\t\tGerman - Media\tGerman - std\tTic-Tac-Toe - Media\tTic-Tac-Toe - std\n",
      "Validacion cruzada\t\t0.001214\t0.000029\t0.001224\t\t0.000036\n",
      "Validacion cruzada (Laplace)\t0.001211\t0.000031\t0.001221\t\t0.000034\n",
      "Validacion simple\t\t0.001374\t0.000075\t0.001379\t\t0.000050\n",
      "Validacion simple (Laplace)\t0.001369\t0.000072\t0.001378\t\t0.000054\n",
      "\n",
      "\n",
      "Test 50% / K = 2\t\tGerman - Media\tGerman - std\tTic-Tac-Toe - Media\tTic-Tac-Toe - std\n",
      "Validacion cruzada\t\t0.001238\t0.000043\t0.001247\t\t0.000033\n",
      "Validacion cruzada (Laplace)\t0.001237\t0.000042\t0.001241\t\t0.000037\n",
      "Validacion simple\t\t0.001234\t0.000035\t0.001225\t\t0.000049\n",
      "Validacion simple (Laplace)\t0.001231\t0.000038\t0.001222\t\t0.000045\n",
      "\n",
      "\n"
     ]
    }
   ],
   "source": [
    "def test(times:int, testPercentage:int, cruzada:bool, data):\n",
    "    particionado = ValidacionCruzada(int(100/testPercentage)) if cruzada else ValidacionSimple(testPercentage, int(100/testPercentage))\n",
    "    cnv1 = ClasificadorNaiveBayes()\n",
    "    error = []\n",
    "    errorCLP = []\n",
    "\n",
    "    for _ in range(times):\n",
    "        e, eCLP = cnv1.validacion(particionado, data, cnv1)\n",
    "        error.append(e)\n",
    "        errorCLP.append(eCLP)\n",
    "\n",
    "    error = np.array(error)\n",
    "    errorCLP = np.array(errorCLP)\n",
    "    return np.mean(error), np.mean(errorCLP), np.std(error), np.std(errorCLP)\n",
    "\n",
    "def testPrint(times:int, testPercentage:int, german, ttt):\n",
    "    mediaTTTVC, mediaTTTCLPVC, stdTTTVC, stdTTTCLPVC = test(times, testPercentage, True, ttt)\n",
    "    mediaTTTVS, mediaTTTCLPVS, stdTTTVS, stdTTTCLPVS = test(times, testPercentage, False, ttt)\n",
    "    mediaGermanVC, mediaGermanCLPVC, stdGermanVC, stdGermanCLPVC = test(times, testPercentage, True, ttt)\n",
    "    mediaGermanVS, mediaGermanCLPVS, stdGermanVS, stdGermanCLPVS = test(times, testPercentage, False, ttt)\n",
    "    print(f\"Test {testPercentage}% / K = {int(100/testPercentage)}\\t\\tGerman - Media\\tGerman - std\\tTic-Tac-Toe - Media\\tTic-Tac-Toe - std\")\n",
    "    print(f\"Validacion cruzada\\t\\t{mediaGermanVC:2f}\\t{stdGermanVC:2f}\\t{mediaTTTVC:2f}\\t\\t{stdTTTVC:2f}\")\n",
    "    print(f\"Validacion cruzada (Laplace)\\t{mediaGermanCLPVC:2f}\\t{stdGermanCLPVC:2f}\\t{mediaTTTCLPVC:2f}\\t\\t{stdTTTCLPVC:2f}\")\n",
    "    print(f\"Validacion simple\\t\\t{mediaGermanVS:2f}\\t{stdGermanVS:2f}\\t{mediaTTTVS:2f}\\t\\t{stdTTTVS:2f}\")\n",
    "    print(f\"Validacion simple (Laplace)\\t{mediaGermanCLPVS:2f}\\t{stdGermanCLPVS:2f}\\t{mediaTTTCLPVS:2f}\\t\\t{stdTTTCLPVS:2f}\\n\\n\")\n",
    "\n",
    "for i in range(5, 55, 5):\n",
    "    testPrint(10, i, german, ttt)"
   ]
  },
  {
   "cell_type": "markdown",
   "id": "44a1d58c",
   "metadata": {},
   "source": [
    "## 1.2 Análisis"
   ]
  },
  {
   "cell_type": "markdown",
   "id": "cd7b36f6",
   "metadata": {},
   "source": [
    "# 2. Scikit-Learn\n",
    "## MultinomialNB\n"
   ]
  },
  {
   "cell_type": "code",
   "execution_count": 4,
   "id": "0ecacdc9",
   "metadata": {},
   "outputs": [
    {
     "name": "stdout",
     "output_type": "stream",
     "text": [
      "Validación cruzada\n",
      "Test K = 2\t\t\tGerman - Media\tGerman - std\tTic-Tac-Toe - Media\tTic-Tac-Toe - std\n",
      "Validacion cruzada\t\t0.360000\t0.020000\t0.366388\t\t0.032359\n",
      "Validacion cruzada (Laplace)\t0.360000\t0.020000\t0.366388\t\t0.032359\n",
      "\n",
      "Test K = 3\t\t\tGerman - Media\tGerman - std\tTic-Tac-Toe - Media\tTic-Tac-Toe - std\n",
      "Validacion cruzada\t\t0.363028\t0.022480\t0.351757\t\t0.012084\n",
      "Validacion cruzada (Laplace)\t0.363028\t0.022480\t0.351757\t\t0.012084\n",
      "\n",
      "Test K = 4\t\t\tGerman - Media\tGerman - std\tTic-Tac-Toe - Media\tTic-Tac-Toe - std\n",
      "Validacion cruzada\t\t0.360000\t0.030067\t0.350702\t\t0.014643\n",
      "Validacion cruzada (Laplace)\t0.360000\t0.030067\t0.350702\t\t0.014643\n",
      "\n",
      "Test K = 5\t\t\tGerman - Media\tGerman - std\tTic-Tac-Toe - Media\tTic-Tac-Toe - std\n",
      "Validacion cruzada\t\t0.360000\t0.033912\t0.345490\t\t0.011413\n",
      "Validacion cruzada (Laplace)\t0.360000\t0.033912\t0.345490\t\t0.011413\n",
      "\n",
      "Test K = 6\t\t\tGerman - Media\tGerman - std\tTic-Tac-Toe - Media\tTic-Tac-Toe - std\n",
      "Validacion cruzada\t\t0.361993\t0.027692\t0.346541\t\t0.010727\n",
      "Validacion cruzada (Laplace)\t0.361993\t0.027692\t0.346541\t\t0.010727\n",
      "\n",
      "Test K = 7\t\t\tGerman - Media\tGerman - std\tTic-Tac-Toe - Media\tTic-Tac-Toe - std\n",
      "Validacion cruzada\t\t0.362004\t0.039182\t0.348640\t\t0.011388\n",
      "Validacion cruzada (Laplace)\t0.362004\t0.039182\t0.348640\t\t0.011388\n",
      "\n",
      "Test K = 8\t\t\tGerman - Media\tGerman - std\tTic-Tac-Toe - Media\tTic-Tac-Toe - std\n",
      "Validacion cruzada\t\t0.362000\t0.039141\t0.348617\t\t0.018006\n",
      "Validacion cruzada (Laplace)\t0.362000\t0.039141\t0.348617\t\t0.018006\n",
      "\n",
      "Test K = 9\t\t\tGerman - Media\tGerman - std\tTic-Tac-Toe - Media\tTic-Tac-Toe - std\n",
      "Validacion cruzada\t\t0.363077\t0.055441\t0.342366\t\t0.006997\n",
      "Validacion cruzada (Laplace)\t0.363077\t0.055441\t0.342366\t\t0.006997\n",
      "\n",
      "Test K = 10\t\t\tGerman - Media\tGerman - std\tTic-Tac-Toe - Media\tTic-Tac-Toe - std\n",
      "Validacion cruzada\t\t0.361000\t0.059908\t0.343421\t\t0.005261\n",
      "Validacion cruzada (Laplace)\t0.361000\t0.059908\t0.343421\t\t0.005261\n",
      "\n"
     ]
    }
   ],
   "source": [
    "mnb = MultinomialNB(fit_prior=True)\n",
    "mnbCLP = MultinomialNB(fit_prior=True, alpha=1)\n",
    "\n",
    "tttX = ttt.datos[:,[i for i in range(ttt.datos.shape[1]-1)]]\n",
    "ttty = ttt.datos[:,-1]\n",
    "germanX = german.datos[:,[i for i in range(german.datos.shape[1]-1)]]\n",
    "germany = german.datos[:,-1]\n",
    "\n",
    "print(\"Validación cruzada\")\n",
    "for i in range(2, 11):\n",
    "    tttScore = cross_val_score(mnb, tttX, ttty, cv=i)\n",
    "    tttScoreCLP = cross_val_score(mnbCLP, tttX, ttty, cv=i)\n",
    "    germanScore = cross_val_score(mnb, germanX, germany, cv=i)\n",
    "    germanScoreCLP = cross_val_score(mnbCLP, germanX, germany, cv=i)\n",
    "    print(f\"Test K = {i}\\t\\t\\tGerman - Media\\tGerman - std\\tTic-Tac-Toe - Media\\tTic-Tac-Toe - std\")\n",
    "    print(f\"Validacion cruzada\\t\\t{1-germanScore.mean():2f}\\t{germanScore.std():2f}\\t{1-tttScore.mean():2f}\\t\\t{tttScore.std():2f}\")\n",
    "    print(f\"Validacion cruzada (Laplace)\\t{1-germanScoreCLP.mean():2f}\\t{germanScoreCLP.std():2f}\\t{1-tttScoreCLP.mean():2f}\\t\\t{tttScoreCLP.std():2f}\\n\")\n",
    "    #print(f\"Validacion simple\\t\\t{1-mediaGermanVS:2f}\\t{1-stdGermanVS:2f}\\t{1-mediaTTTVS:2f}\\t\\t{1-stdTTTVS:2f}\")\n",
    "    #print(f\"Validacion simple (Laplace)\\t{1-mediaGermanCLPVS:2f}\\t{1-stdGermanCLPVS:2f}\\t{1-mediaTTTCLPVS:2f}\\t\\t{1-stdTTTCLPVS:2f}\\n\\n\")\n"
   ]
  },
  {
   "cell_type": "code",
   "execution_count": null,
   "id": "6f75de27",
   "metadata": {},
   "outputs": [],
   "source": []
  },
  {
   "cell_type": "code",
   "execution_count": null,
   "id": "016a92a5",
   "metadata": {},
   "outputs": [],
   "source": []
  },
  {
   "cell_type": "code",
   "execution_count": null,
   "id": "d5a5fcf3",
   "metadata": {},
   "outputs": [],
   "source": []
  },
  {
   "cell_type": "code",
   "execution_count": null,
   "id": "f78a15a7",
   "metadata": {},
   "outputs": [],
   "source": []
  },
  {
   "cell_type": "code",
   "execution_count": null,
   "id": "ec4d2295",
   "metadata": {},
   "outputs": [],
   "source": []
  },
  {
   "cell_type": "code",
   "execution_count": null,
   "id": "55b72d29",
   "metadata": {},
   "outputs": [],
   "source": []
  },
  {
   "cell_type": "code",
   "execution_count": null,
   "id": "31ba8420",
   "metadata": {},
   "outputs": [],
   "source": []
  },
  {
   "cell_type": "code",
   "execution_count": null,
   "id": "ee4d7538",
   "metadata": {},
   "outputs": [],
   "source": []
  },
  {
   "cell_type": "code",
   "execution_count": null,
   "id": "bd62aba2",
   "metadata": {},
   "outputs": [],
   "source": []
  },
  {
   "cell_type": "code",
   "execution_count": null,
   "id": "9e967283",
   "metadata": {},
   "outputs": [],
   "source": []
  },
  {
   "cell_type": "code",
   "execution_count": null,
   "id": "f55dbf3b",
   "metadata": {},
   "outputs": [],
   "source": []
  },
  {
   "cell_type": "code",
   "execution_count": null,
   "id": "d7021908",
   "metadata": {},
   "outputs": [],
   "source": []
  },
  {
   "cell_type": "code",
   "execution_count": null,
   "id": "3f7636e4",
   "metadata": {},
   "outputs": [],
   "source": []
  },
  {
   "cell_type": "code",
   "execution_count": null,
   "id": "a7a6866c",
   "metadata": {},
   "outputs": [],
   "source": []
  },
  {
   "cell_type": "code",
   "execution_count": null,
   "id": "b02b25a9",
   "metadata": {},
   "outputs": [],
   "source": []
  },
  {
   "cell_type": "code",
   "execution_count": null,
   "id": "2a29665e",
   "metadata": {},
   "outputs": [],
   "source": []
  },
  {
   "cell_type": "code",
   "execution_count": null,
   "id": "0380367f",
   "metadata": {},
   "outputs": [],
   "source": []
  },
  {
   "cell_type": "code",
   "execution_count": null,
   "id": "527722b7",
   "metadata": {},
   "outputs": [],
   "source": []
  }
 ],
 "metadata": {
  "interpreter": {
   "hash": "c2fcc392ae9644aef06945eadf218bf12da9b21967cdfd459a4f1142b346d505"
  },
  "kernelspec": {
   "display_name": "Python 3",
   "language": "python",
   "name": "python3"
  },
  "language_info": {
   "codemirror_mode": {
    "name": "ipython",
    "version": 3
   },
   "file_extension": ".py",
   "mimetype": "text/x-python",
   "name": "python",
   "nbconvert_exporter": "python",
   "pygments_lexer": "ipython3",
   "version": "3.8.8"
  }
 },
 "nbformat": 4,
 "nbformat_minor": 5
}
