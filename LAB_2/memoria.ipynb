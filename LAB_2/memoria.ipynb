{
 "cells": [
  {
   "cell_type": "code",
   "execution_count": 1,
   "id": "52a742c7",
   "metadata": {},
   "outputs": [],
   "source": [
    "from Clasificador import ClasificadorNaiveBayes\n",
    "from Datos import Datos\n",
    "from EstrategiaParticionado import ValidacionCruzada, ValidacionSimple\n",
    "from sklearn.naive_bayes import GaussianNB, MultinomialNB, CategoricalNB\n",
    "from sklearn.model_selection import cross_val_score\n",
    "import pandas as pd\n",
    "import matplotlib.pyplot as plt"
   ]
  },
  {
   "cell_type": "code",
   "execution_count": 2,
   "id": "d3bd4a39",
   "metadata": {},
   "outputs": [
    {
     "name": "stdout",
     "output_type": "stream",
     "text": [
      "                               German\t\tTic-Tac-Toe\n",
      "Validacion cruzada            0.10680000000000002\t0.12692354825720836\n",
      "Validacion cruzada (Laplace)  0.10680000000000002\t0.12692354825720836\n",
      "Validacion simple             0.1032\t0.12385987640272403\n",
      "Validacion simple (Laplace)   0.1036\t0.12385987640272403\n"
     ]
    }
   ],
   "source": [
    "datos1 = Datos(\"ConjuntosDatos/german.data\")\n",
    "datos2 = Datos(\"ConjuntosDatos/tic-tac-toe.data\")\n",
    "\n",
    "# 25% Test\n",
    "cnv1 = ClasificadorNaiveBayes()\n",
    "cnv2 = ClasificadorNaiveBayes()\n",
    "particionado1 = ValidacionCruzada(4)\n",
    "particionado2 = ValidacionSimple(25, 4)\n",
    "\n",
    "germanErrorVC25, germanErrorCLPVC25 = cnv1.validacion(particionado1, datos1, cnv1)\n",
    "tttErrorVC25, tttErrorCLPVC25 = cnv2.validacion(particionado1, datos2, cnv2)\n",
    "\n",
    "germanErrorVS25, germanErrorCLPVS25 = cnv1.validacion(particionado2, datos1, cnv1)\n",
    "tttErrorVS25, tttErrorCLPVS25 = cnv2.validacion(particionado2, datos2, cnv2)\n",
    "\n",
    "# 20% Test\n",
    "cnv1 = ClasificadorNaiveBayes()\n",
    "cnv2 = ClasificadorNaiveBayes()\n",
    "particionado1 = ValidacionCruzada(5)\n",
    "particionado2 = ValidacionSimple(20, 5)\n",
    "\n",
    "germanErrorVC20, germanErrorCLPVC20 = cnv1.validacion(particionado1, datos1, cnv1)\n",
    "tttErrorVC20, tttErrorCLPVC20 = cnv2.validacion(particionado1, datos2, cnv2)\n",
    "\n",
    "germanErrorVS20, germanErrorCLPVS20 = cnv1.validacion(particionado2, datos1, cnv1)\n",
    "tttErrorVS20, tttErrorCLPVS20 = cnv2.validacion(particionado2, datos2, cnv2)\n",
    "\n",
    "# 12.5% Test\n",
    "cnv1 = ClasificadorNaiveBayes()\n",
    "cnv2 = ClasificadorNaiveBayes()\n",
    "particionado1 = ValidacionCruzada(8)\n",
    "particionado2 = ValidacionSimple(12.5, 8)\n",
    "\n",
    "germanErrorVC12_5, germanErrorCLPVC12_5 = cnv1.validacion(particionado1, datos1, cnv1)\n",
    "tttErrorVC12_5, tttErrorCLPVC12_5 = cnv2.validacion(particionado1, datos2, cnv2)\n",
    "\n",
    "germanErrorVS12_5, germanErrorCLPVS12_5 = cnv1.validacion(particionado2, datos1, cnv1)\n",
    "tttErrorVS12_5, tttErrorCLPVS12_5 = cnv2.validacion(particionado2, datos2, cnv2)\n",
    "\n",
    "# 10% Test\n",
    "cnv1 = ClasificadorNaiveBayes()\n",
    "cnv2 = ClasificadorNaiveBayes()\n",
    "particionado1 = ValidacionCruzada(10)\n",
    "particionado2 = ValidacionSimple(10, 10)\n",
    "\n",
    "germanErrorVC10, germanErrorCLPVC10 = cnv1.validacion(particionado1, datos1, cnv1)\n",
    "tttErrorVC10, tttErrorCLPVC10 = cnv2.validacion(particionado1, datos2, cnv2)\n",
    "\n",
    "germanErrorVS10, germanErrorCLPVS10 = cnv1.validacion(particionado2, datos1, cnv1)\n",
    "tttErrorVS10, tttErrorCLPVS10 = cnv2.validacion(particionado2, datos2, cnv2)\n",
    "\n",
    "def print_test():\n",
    "    print(\"Test 25%                      German\\tTic-Tac-Toe\")\n",
    "    print(f\"Validacion cruzada            {germanErrorVC25:2f}\\t{tttErrorVC25:2f}\")\n",
    "    print(f\"Validacion cruzada (Laplace)  {germanErrorCLPVC25:2f}\\t{tttErrorCLPVC25:2f}\")\n",
    "    print(f\"Validacion simple             {germanErrorVS25:2f}\\t{tttErrorVS25:2f}\")\n",
    "    print(f\"Validacion simple (Laplace)   {germanErrorCLPVS25:2f}\\t{tttErrorCLPVS25:2f}\\n\")\n",
    "    print(\"Test 20%                      German\\tTic-Tac-Toe\")\n",
    "    print(f\"Validacion cruzada            {germanErrorVC20:2f}\\t{tttErrorVC20:2f}\")\n",
    "    print(f\"Validacion cruzada (Laplace)  {germanErrorCLPVC20:2f}\\t{tttErrorCLPVC20:2f}\")\n",
    "    print(f\"Validacion simple             {germanErrorVS20:2f}\\t{tttErrorVS20:2f}\")\n",
    "    print(f\"Validacion simple (Laplace)   {germanErrorCLPVS20:2f}\\t{tttErrorCLPVS20:2f}\\n\")\n",
    "    print(\"Test 12.5%                      German\\tTic-Tac-Toe\")\n",
    "    print(f\"Validacion cruzada            {germanErrorVC12_5:2f}\\t{tttErrorVC12_5:2f}\")\n",
    "    print(f\"Validacion cruzada (Laplace)  {germanErrorCLPVC12_5:2f}\\t{tttErrorCLPVC12_5:2f}\")\n",
    "    print(f\"Validacion simple             {germanErrorVS12_5:2f}\\t{tttErrorVS12_5:2f}\")\n",
    "    print(f\"Validacion simple (Laplace)   {germanErrorCLPVS12_5:2f}\\t{tttErrorCLPVS12_5:2f}\\n\")\n",
    "    print(\"Test 10%                      German\\tTic-Tac-Toe\")\n",
    "    print(f\"Validacion cruzada            {germanErrorVC10:2f}\\t{tttErrorVC10:2f}\")\n",
    "    print(f\"Validacion cruzada (Laplace)  {germanErrorCLPVC10:2f}\\t{tttErrorCLPVC10:2f}\")\n",
    "    print(f\"Validacion simple             {germanErrorVS10:2f}\\t{tttErrorVS10:2f}\")\n",
    "    print(f\"Validacion simple (Laplace)   {germanErrorCLPVS10:2f}\\t{tttErrorCLPVS10:2f}\\n\")\n"
   ]
  },
  {
   "cell_type": "markdown",
   "id": "ef1867f2",
   "metadata": {},
   "source": [
    "# 1. Naive Bayes\n",
    "\n",
    "## 1.1 Tablas para los distintos porcentajes de Test\n",
    "El contenido de las tablas es el error calculado al clasificar. Los valores estan sobre 100% por lo que 0.1 significa que ha dado error en el 0.1% del test. "
   ]
  },
  {
   "cell_type": "code",
   "execution_count": 4,
   "id": "77c9cb38",
   "metadata": {},
   "outputs": [
    {
     "ename": "NameError",
     "evalue": "name 'print_test' is not defined",
     "output_type": "error",
     "traceback": [
      "\u001b[0;31m---------------------------------------------------------------------------\u001b[0m",
      "\u001b[0;31mNameError\u001b[0m                                 Traceback (most recent call last)",
      "\u001b[0;32m<ipython-input-4-017ec3262f1b>\u001b[0m in \u001b[0;36m<module>\u001b[0;34m\u001b[0m\n\u001b[0;32m----> 1\u001b[0;31m \u001b[0mprint_test\u001b[0m\u001b[0;34m(\u001b[0m\u001b[0;34m)\u001b[0m\u001b[0;34m\u001b[0m\u001b[0;34m\u001b[0m\u001b[0m\n\u001b[0m",
      "\u001b[0;31mNameError\u001b[0m: name 'print_test' is not defined"
     ]
    }
   ],
   "source": [
    "print_test()"
   ]
  }
 ],
 "metadata": {
  "interpreter": {
   "hash": "c2fcc392ae9644aef06945eadf218bf12da9b21967cdfd459a4f1142b346d505"
  },
  "kernelspec": {
   "display_name": "Python 3",
   "language": "python",
   "name": "python3"
  },
  "language_info": {
   "codemirror_mode": {
    "name": "ipython",
    "version": 3
   },
   "file_extension": ".py",
   "mimetype": "text/x-python",
   "name": "python",
   "nbconvert_exporter": "python",
   "pygments_lexer": "ipython3",
   "version": "3.8.8"
  }
 },
 "nbformat": 4,
 "nbformat_minor": 5
}
