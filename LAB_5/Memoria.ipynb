{
 "cells": [
  {
   "cell_type": "markdown",
   "id": "d5f5a95d",
   "metadata": {},
   "source": [
    "# FAA 1462 Pareja 10. Práctica 4 REGRESIÓN LOGÍSTICA Y ANÁLISIS ROC\n",
    "## Kevin de la Coba Malam\n",
    "\n",
    "En este documento se hara un análisis del clasificador de **Algoritmos Genéticos** usando diferenrtes *poblaciones*, *generaciones*, *cruces*, *mutaciones* y *elitismo*. También se comparará el algoritmo con el clasificador de  **Naive Bayes** mediante el *espacio ROC*. \n",
    "\n",
    "En está practica, se ha usado solo la validación simple. En concreto, con la validación simple se usán valores para el %: **20** (se ejecutará 3 veces). Al tener varios tipos de mutación y cruce el test se hace muy largo.\n",
    "\n",
    "Para simplificar el documento se ha creado el archivo *utils.py* en el cual se encuentran las funciones para clasificar, mostrar gráficas...\n",
    "\n",
    "### Modificaciones\n",
    "\n",
    "- La clase Datos se ha modificado, el constructor tiene un parametro opcional (allNominal) que por defecto está a False para tratar a todos los atributos como si fuesen nominales. "
   ]
  },
  {
   "cell_type": "code",
   "execution_count": 1,
   "id": "236b8982",
   "metadata": {},
   "outputs": [],
   "source": [
    "# Para esconder los warnings\n",
    "def warn(*args, **kwargs):\n",
    "    pass\n",
    "import warnings\n",
    "warnings.warn = warn\n",
    "\n",
    "from ClasificadorAlgoritmoGenetico import AlgoritmoGenetico as AG\n",
    "from Datos import Datos\n",
    "import utils\n",
    "import matplotlib.pyplot as plt\n",
    "\n",
    "# Cargamos datos\n",
    "l = Datos(\"lentillas.data\")\n",
    "titanic = Datos(\"titanic.csv\", allNominal=True)\n",
    "ttt = Datos(\"tic-tac-toe.data\")\n",
    "titanic = l\n",
    "ttt = l"
   ]
  },
  {
   "cell_type": "markdown",
   "id": "52726aa7",
   "metadata": {},
   "source": [
    "## 1. Detalles de la implementación\n",
    "\n",
    "Lo primero sería mencionar la estructura que tiene cada individuo. Para crear esta estructura se ha hecho una clase interna en la cual se define a un individuo con los siguientes datos.\n",
    "```py\n",
    "class Individuo:\n",
    "\tfitnessValue # Valor de fitness del individuo\n",
    "\tpriori # Clase mayoritaria de los datos\n",
    "\treglas = [\n",
    "\t\t{\"regla\": [int], \"conclusion\": int} # Cada regla es un diccionario\n",
    "\t\t...\n",
    "\t]\n",
    "```\n",
    "Para representar las reglas se usa un diccionario, en este diccionario tenemos la clave \"regla\" en la cual el valor es una lista de enteros. Cada entero de esta lista hace referencia a la cadena de bits para un atributo, por ejemplo: Si tenemos 3 atributos A, B y C, tendremos 3 enteros en la lista, si cada atributo tiene 3 valores, se usaran 3 bits de cada entero. Para operar con estos bits se usan bit operators (&, |).\n",
    "\n",
    "La conclusión es un entero que marca 0 o 1.\n",
    "\n",
    "### 1.1 Generación de la población inicial\n",
    "\n",
    "Las reglas se crean de forma aleatoria, asignando para cada atributo una cadena aleatoria (de la cual solo se van a usar los N primeros bits, siendo N el número de posibles valores en el atributo). Para este análisis se usaran individuos con un **máximo de 5 reglas**.\n",
    "\n",
    "### 1.2 Cruces implementados\n",
    "\n",
    "Se han implementado el cruce *inter reglas* y el cruce *intra reglas*. Son métodos estáticos de la clase *ClasificadorAlgoritmoGenetico* que deben pasarse al propio constructor de la clase (patrón template).\n",
    "\n",
    "### 1.3 Mutaciones implementadas\n",
    "\n",
    "Se ha implementado la *mutación estandar* y la *mutación de reglas*. De nuevo, son métodos estáticos que deben pasarse al constructor.\n",
    "\n",
    "### 1.4 Clasificación\n",
    "\n",
    "La clasificación es simple, se coge al mejor individuo del entrenamiento y se aplican las reglas, pero, ¿cómo se aplican estas reglas? Al utilizar cadenas de bits para cada atributo es simple comparar si un valor se cumple en una regla o no, por ejemplo:\n",
    "Si tenemos el atributo A con los posibles datos 'a', 'b', 'c', tendríamos una cadena de bits para este atributo con 3 bits. Si recibimos el valor 'a', recibimos la cadena 001 (un entero con valor 1), si recibimos 'b' 010 (entero con valor 2) y si recibimos 'c' 100 (entero con valor 4). Con puertas lógicas es muy simple comparar estos valores. Si tenemos la regla 101 (entero con valor 5) y recibimos el valor 001 (a) (aplicamos la puerta lógica and sobre los valores enteros 5 y 1, 101 & 001), pues esa parte de la regla se aprobaría para este atributo y haría falta hacerlo con todos los demás, si se cumplen todos devolvemos la conclusión.\n",
    "Si varias reglas se cumplen, escogemos la conclusión mayoritaria, y si no se cumple ninguna regla, devolvemos la clase mayoritaria (a priori).\n",
    "\n",
    "En el entrenamiento (también en la clasificación) puede pasar que varias relgas se cumplan o que no se cumpla ninguna, en el primer caso lo que se hace es devolver la conclusión mayoritaria, en el segundo caso se devulve la clase a priori (clase mayoritaria).\n",
    "\n",
    "## 2. Resultados clasificación.\n",
    "\n",
    "Las opciones que se han usado para la clasificación son las siguientes:\n",
    "- **Población**: Variable [50-150].\n",
    "- **Generacion**: Variable [100-200].\n",
    "- **Máximo número de reglas**: 5.\n",
    "- **Probabilidad mutación**: 5%.\n",
    "- **Proporción de elitismo**: 5%.\n",
    "- **Cruce**: Ambos (inter e intra).\n",
    "- **Mutación**: Ambas (estandar y de reglas).\n",
    "- **Método de validación**: Simple 20%.\n",
    "\n",
    "### Cruce *Inter Reglas* y mutación *estandar*"
   ]
  },
  {
   "cell_type": "code",
   "execution_count": 2,
   "id": "c5a20806",
   "metadata": {},
   "outputs": [
    {
     "name": "stdout",
     "output_type": "stream",
     "text": [
      "Test Poblacion=20 Generaciones=10\tTic-Tac-Toe - Error=0.250000\t\tTitanic - Error=0.500000\n",
      "\n",
      "[Tic-Tac-Toe] reglas del mejor individuo:\n",
      " [REGLA 1] - IF EDAD=(avanzada OR joven OR mediana) AND LESION=(hipermetropía) AND ASTIGMATISMO=(no) AND PROD_LAGRIM=(normal) AND DIAGNOSTICO=(blandas) THEN concl=duras\n",
      "[REGLA 2] - IF EDAD=(mediana) AND LESION=(hipermetropía) AND ASTIGMATISMO=(no) AND PROD_LAGRIM=(normal) AND DIAGNOSTICO=(no) THEN concl=duras\n",
      "\n",
      "[Titanic] reglas del mejor individuo:\n",
      " [REGLA 1] - IF EDAD=(joven OR mediana) AND LESION=(hipermetropía) AND ASTIGMATISMO=(no) AND PROD_LAGRIM=(normal) AND DIAGNOSTICO=(duras) THEN concl=blandas\n",
      "[REGLA 2] - IF EDAD=(avanzada OR mediana) AND LESION=(hipermetropía) AND ASTIGMATISMO=(no) AND PROD_LAGRIM=(normal) AND DIAGNOSTICO=(blandas OR no) THEN concl=blandas\n",
      "[REGLA 3] - IF EDAD=(avanzada OR mediana) AND LESION=(hipermetropía) AND ASTIGMATISMO=(no) AND PROD_LAGRIM=(normal) AND DIAGNOSTICO=(blandas OR no) THEN concl=blandas\n",
      "[REGLA 4] - IF EDAD=(avanzada OR joven) AND LESION=(hipermetropía) AND ASTIGMATISMO=(no) AND PROD_LAGRIM=(normal) AND DIAGNOSTICO=(duras) THEN concl=duras\n",
      "\n",
      "Test Poblacion=20 Generaciones=30\tTic-Tac-Toe - Error=0.250000\t\tTitanic - Error=0.250000\n",
      "\n",
      "[Tic-Tac-Toe] reglas del mejor individuo:\n",
      " [REGLA 1] - IF EDAD=(avanzada) AND LESION=(hipermetropía) AND ASTIGMATISMO=(no) AND PROD_LAGRIM=(normal) AND DIAGNOSTICO=(blandas OR no) THEN concl=blandas\n",
      "[REGLA 2] - IF EDAD=(joven) AND LESION=(hipermetropía) AND ASTIGMATISMO=(no) AND PROD_LAGRIM=(normal) AND DIAGNOSTICO=(blandas OR duras) THEN concl=blandas\n",
      "\n",
      "[Titanic] reglas del mejor individuo:\n",
      " [REGLA 1] - IF EDAD=(joven OR mediana) AND LESION=(hipermetropía) AND ASTIGMATISMO=(no) AND PROD_LAGRIM=(normal) AND DIAGNOSTICO=(blandas OR duras) THEN concl=blandas\n",
      "[REGLA 2] - IF EDAD=(avanzada OR joven) AND LESION=(hipermetropía) AND ASTIGMATISMO=(no) AND PROD_LAGRIM=(normal) AND DIAGNOSTICO=(blandas OR no) THEN concl=duras\n",
      "\n",
      "Test Poblacion=30 Generaciones=10\tTic-Tac-Toe - Error=0.000000\t\tTitanic - Error=0.250000\n",
      "\n",
      "[Tic-Tac-Toe] reglas del mejor individuo:\n",
      " [REGLA 1] - IF EDAD=(joven OR mediana) AND LESION=(hipermetropía) AND ASTIGMATISMO=(no) AND PROD_LAGRIM=(normal) AND DIAGNOSTICO=(blandas OR duras) THEN concl=blandas\n",
      "[REGLA 2] - IF EDAD=(avanzada OR joven) AND LESION=(hipermetropía) AND ASTIGMATISMO=(no) AND PROD_LAGRIM=(normal) AND DIAGNOSTICO=(blandas OR no) THEN concl=blandas\n",
      "\n",
      "[Titanic] reglas del mejor individuo:\n",
      " [REGLA 1] - IF LESION=(hipermetropía) AND ASTIGMATISMO=(no) AND PROD_LAGRIM=(normal) AND DIAGNOSTICO=(blandas OR duras) THEN concl=blandas\n",
      "[REGLA 2] - IF EDAD=(joven) AND LESION=(hipermetropía) AND ASTIGMATISMO=(no) AND PROD_LAGRIM=(normal) AND DIAGNOSTICO=(blandas OR duras) THEN concl=blandas\n",
      "[REGLA 3] - IF EDAD=(joven) AND LESION=(hipermetropía) AND ASTIGMATISMO=(no) AND PROD_LAGRIM=(normal) AND DIAGNOSTICO=(blandas OR duras) THEN concl=blandas\n",
      "[REGLA 4] - IF EDAD=(joven) AND LESION=(hipermetropía) AND ASTIGMATISMO=(no) AND PROD_LAGRIM=(normal) AND DIAGNOSTICO=(blandas OR duras) THEN concl=blandas\n",
      "[REGLA 5] - IF EDAD=(avanzada OR mediana) AND LESION=(hipermetropía) AND ASTIGMATISMO=(no) AND PROD_LAGRIM=(normal) AND DIAGNOSTICO=(duras) THEN concl=duras\n",
      "\n",
      "Test Poblacion=30 Generaciones=30\tTic-Tac-Toe - Error=0.250000\t\tTitanic - Error=0.000000\n",
      "\n",
      "[Tic-Tac-Toe] reglas del mejor individuo:\n",
      " [REGLA 1] - IF LESION=(hipermetropía) AND ASTIGMATISMO=(no) AND PROD_LAGRIM=(normal) AND DIAGNOSTICO=(blandas OR duras) THEN concl=blandas\n",
      "[REGLA 2] - IF EDAD=(avanzada OR mediana) AND LESION=(hipermetropía) AND ASTIGMATISMO=(no) AND PROD_LAGRIM=(normal) AND DIAGNOSTICO=(blandas) THEN concl=blandas\n",
      "\n",
      "[Titanic] reglas del mejor individuo:\n",
      " [REGLA 1] - IF EDAD=(avanzada OR mediana) AND LESION=(hipermetropía) AND ASTIGMATISMO=(no) AND PROD_LAGRIM=(normal) AND DIAGNOSTICO=(duras) THEN concl=blandas\n",
      "[REGLA 2] - IF EDAD=(joven) AND LESION=(hipermetropía) AND ASTIGMATISMO=(no) AND PROD_LAGRIM=(normal) AND DIAGNOSTICO=(blandas OR duras) THEN concl=blandas\n",
      "\n"
     ]
    }
   ],
   "source": [
    "errorMedioTTT_inter_estandar, errorMedioTITANIC_inter_estandar = utils.AG_test(ttt, titanic, AG.cruceInterReglas, AG.mutacionEstandar)"
   ]
  },
  {
   "cell_type": "markdown",
   "id": "d446cb74",
   "metadata": {},
   "source": [
    "### Cruce *Inter Reglas* y mutación *de reglas*"
   ]
  },
  {
   "cell_type": "code",
   "execution_count": 3,
   "id": "95d8fc84",
   "metadata": {},
   "outputs": [
    {
     "name": "stdout",
     "output_type": "stream",
     "text": [
      "Test Poblacion=20 Generaciones=10\tTic-Tac-Toe - Error=0.250000\t\tTitanic - Error=0.250000\n",
      "\n",
      "[Tic-Tac-Toe] reglas del mejor individuo:\n",
      " [REGLA 1] - IF EDAD=(avanzada OR joven) AND LESION=(hipermetropía) AND ) AND DIAGNOSTICO=(blandas OR no) THEN concl=blandas\n",
      "[REGLA 2] - IF EDAD=(joven OR mediana) AND ) AND ASTIGMATISMO=(no) AND PROD_LAGRIM=(reducida) THEN concl=duras\n",
      "\n",
      "[Titanic] reglas del mejor individuo:\n",
      " [REGLA 1] - IF ASTIGMATISMO=(no) AND PROD_LAGRIM=(normal) AND DIAGNOSTICO=(duras) THEN concl=duras\n",
      "[REGLA 2] - IF EDAD=(avanzada OR joven) AND LESION=(hipermetropía) AND ASTIGMATISMO=(no) AND ) AND DIAGNOSTICO=(blandas OR no) THEN concl=blandas\n",
      "\n",
      "Test Poblacion=20 Generaciones=30\tTic-Tac-Toe - Error=0.250000\t\tTitanic - Error=0.000000\n",
      "\n",
      "[Tic-Tac-Toe] reglas del mejor individuo:\n",
      " [REGLA 1] - IF EDAD=(mediana) AND ) AND ) AND PROD_LAGRIM=(reducida) AND DIAGNOSTICO=(no) THEN concl=duras\n",
      "[REGLA 2] - IF EDAD=(joven OR mediana) AND LESION=(hipermetropía OR miopía) AND ASTIGMATISMO=(sí) AND PROD_LAGRIM=(reducida) AND DIAGNOSTICO=(duras) THEN concl=blandas\n",
      "[REGLA 3] - IF LESION=(hipermetropía) AND ASTIGMATISMO=(no OR sí) AND PROD_LAGRIM=(normal) AND DIAGNOSTICO=(blandas OR duras OR no) THEN concl=blandas\n",
      "[REGLA 4] - IF EDAD=(avanzada OR joven OR mediana) AND LESION=(miopía) AND ASTIGMATISMO=(sí) AND ) AND ) THEN concl=duras\n",
      "\n",
      "[Titanic] reglas del mejor individuo:\n",
      " [REGLA 1] - IF EDAD=(avanzada OR joven OR mediana) AND LESION=(hipermetropía) AND ASTIGMATISMO=(sí) AND ) AND DIAGNOSTICO=(blandas) THEN concl=duras\n",
      "[REGLA 2] - IF EDAD=(avanzada) AND LESION=(hipermetropía) AND ASTIGMATISMO=(sí) AND PROD_LAGRIM=(normal) AND DIAGNOSTICO=(duras OR no) THEN concl=duras\n",
      "\n",
      "Test Poblacion=30 Generaciones=10\tTic-Tac-Toe - Error=0.500000\t\tTitanic - Error=0.000000\n",
      "\n",
      "[Tic-Tac-Toe] reglas del mejor individuo:\n",
      " [REGLA 1] - IF EDAD=(avanzada) AND PROD_LAGRIM=(normal) AND DIAGNOSTICO=(blandas OR duras) THEN concl=blandas\n",
      "[REGLA 2] - IF EDAD=(avanzada OR joven OR mediana) AND LESION=(hipermetropía) AND ) AND PROD_LAGRIM=(normal) AND DIAGNOSTICO=(blandas OR no) THEN concl=duras\n",
      "[REGLA 3] - IF EDAD=(avanzada OR joven OR mediana) AND LESION=(hipermetropía) AND ) AND PROD_LAGRIM=(normal) AND DIAGNOSTICO=(blandas OR no) THEN concl=blandas\n",
      "[REGLA 4] - IF EDAD=(avanzada) AND LESION=(miopía) AND ASTIGMATISMO=(no) AND PROD_LAGRIM=(normal OR reducida) AND DIAGNOSTICO=(blandas OR duras) THEN concl=duras\n",
      "\n",
      "[Titanic] reglas del mejor individuo:\n",
      " [REGLA 1] - IF EDAD=(joven OR mediana) AND LESION=(hipermetropía) AND ) AND PROD_LAGRIM=(reducida) AND DIAGNOSTICO=(blandas OR duras OR no) THEN concl=duras\n",
      "\n",
      "Test Poblacion=30 Generaciones=30\tTic-Tac-Toe - Error=0.500000\t\tTitanic - Error=0.250000\n",
      "\n",
      "[Tic-Tac-Toe] reglas del mejor individuo:\n",
      " [REGLA 1] - IF EDAD=(avanzada) AND LESION=(hipermetropía) AND ASTIGMATISMO=(no OR sí) AND PROD_LAGRIM=(reducida) AND DIAGNOSTICO=(blandas OR duras OR no) THEN concl=duras\n",
      "[REGLA 2] - IF EDAD=(avanzada OR joven) AND LESION=(hipermetropía OR miopía) AND ASTIGMATISMO=(sí) AND PROD_LAGRIM=(normal) AND DIAGNOSTICO=(blandas) THEN concl=blandas\n",
      "\n",
      "[Titanic] reglas del mejor individuo:\n",
      " [REGLA 1] - IF EDAD=(joven OR mediana) AND ) AND ASTIGMATISMO=(no OR sí) AND PROD_LAGRIM=(reducida) AND DIAGNOSTICO=(blandas) THEN concl=blandas\n",
      "[REGLA 2] - IF EDAD=(avanzada OR joven) AND LESION=(hipermetropía) AND ) AND PROD_LAGRIM=(normal OR reducida) AND DIAGNOSTICO=(blandas) THEN concl=blandas\n",
      "\n"
     ]
    }
   ],
   "source": [
    "errorMedioTTT_inter_reglas, errorMedioTITANIC_inter_reglas = utils.AG_test(ttt, titanic, AG.cruceInterReglas, AG.mutacionReglas)"
   ]
  },
  {
   "cell_type": "markdown",
   "id": "bf679f70",
   "metadata": {},
   "source": [
    "### Cruce *Intra Reglas* y mutación *estandar*"
   ]
  },
  {
   "cell_type": "code",
   "execution_count": 4,
   "id": "22edd6f1",
   "metadata": {},
   "outputs": [
    {
     "name": "stdout",
     "output_type": "stream",
     "text": [
      "Test Poblacion=20 Generaciones=10\tTic-Tac-Toe - Error=0.250000\t\tTitanic - Error=0.500000\n",
      "\n",
      "[Tic-Tac-Toe] reglas del mejor individuo:\n",
      " [REGLA 1] - IF EDAD=(mediana) AND LESION=(hipermetropía) AND ASTIGMATISMO=(no) AND PROD_LAGRIM=(normal) AND DIAGNOSTICO=(no) THEN concl=blandas\n",
      "\n",
      "[Titanic] reglas del mejor individuo:\n",
      " [REGLA 1] - IF EDAD=(mediana) AND LESION=(hipermetropía) AND ASTIGMATISMO=(no) AND PROD_LAGRIM=(normal) AND DIAGNOSTICO=(blandas OR no) THEN concl=blandas\n",
      "\n",
      "Test Poblacion=20 Generaciones=30\tTic-Tac-Toe - Error=0.250000\t\tTitanic - Error=0.000000\n",
      "\n",
      "[Tic-Tac-Toe] reglas del mejor individuo:\n",
      " [REGLA 1] - IF EDAD=(avanzada OR mediana) AND LESION=(hipermetropía) AND ASTIGMATISMO=(no) AND PROD_LAGRIM=(normal) AND DIAGNOSTICO=(duras) THEN concl=duras\n",
      "[REGLA 2] - IF LESION=(hipermetropía) AND ASTIGMATISMO=(no) AND PROD_LAGRIM=(normal) AND DIAGNOSTICO=(blandas OR duras) THEN concl=duras\n",
      "[REGLA 3] - IF EDAD=(avanzada OR joven) AND LESION=(hipermetropía) AND ASTIGMATISMO=(no) AND PROD_LAGRIM=(normal) AND DIAGNOSTICO=(blandas OR duras) THEN concl=duras\n",
      "[REGLA 4] - IF EDAD=(avanzada OR joven) AND LESION=(hipermetropía) AND ASTIGMATISMO=(no) AND PROD_LAGRIM=(normal) AND DIAGNOSTICO=(no) THEN concl=duras\n",
      "\n",
      "[Titanic] reglas del mejor individuo:\n",
      " [REGLA 1] - IF EDAD=(avanzada OR mediana) AND LESION=(hipermetropía) AND ASTIGMATISMO=(no) AND PROD_LAGRIM=(normal) AND DIAGNOSTICO=(duras) THEN concl=blandas\n",
      "[REGLA 2] - IF EDAD=(joven OR mediana) AND LESION=(hipermetropía) AND ASTIGMATISMO=(no) AND PROD_LAGRIM=(normal) THEN concl=blandas\n",
      "[REGLA 3] - IF LESION=(hipermetropía) AND ASTIGMATISMO=(no) AND PROD_LAGRIM=(normal) AND DIAGNOSTICO=(blandas OR duras) THEN concl=blandas\n",
      "\n",
      "Test Poblacion=30 Generaciones=10\tTic-Tac-Toe - Error=0.000000\t\tTitanic - Error=0.250000\n",
      "\n",
      "[Tic-Tac-Toe] reglas del mejor individuo:\n",
      " [REGLA 1] - IF LESION=(hipermetropía) AND ASTIGMATISMO=(no) AND PROD_LAGRIM=(normal) AND DIAGNOSTICO=(blandas OR no) THEN concl=blandas\n",
      "[REGLA 2] - IF EDAD=(avanzada) AND LESION=(hipermetropía) AND ASTIGMATISMO=(no) AND PROD_LAGRIM=(normal) AND DIAGNOSTICO=(blandas OR duras OR no) THEN concl=blandas\n",
      "[REGLA 3] - IF EDAD=(avanzada OR joven OR mediana) AND LESION=(hipermetropía) AND ASTIGMATISMO=(no) AND PROD_LAGRIM=(normal) AND DIAGNOSTICO=(blandas OR duras) THEN concl=blandas\n",
      "\n",
      "[Titanic] reglas del mejor individuo:\n",
      " [REGLA 1] - IF EDAD=(joven) AND LESION=(hipermetropía) AND ASTIGMATISMO=(no) AND PROD_LAGRIM=(normal) AND DIAGNOSTICO=(blandas OR no) THEN concl=duras\n",
      "[REGLA 2] - IF EDAD=(avanzada) AND LESION=(hipermetropía) AND ASTIGMATISMO=(no) AND PROD_LAGRIM=(normal) AND DIAGNOSTICO=(blandas OR duras OR no) THEN concl=duras\n",
      "[REGLA 3] - IF EDAD=(avanzada OR joven OR mediana) AND LESION=(hipermetropía) AND ASTIGMATISMO=(no) AND PROD_LAGRIM=(normal) AND DIAGNOSTICO=(no) THEN concl=duras\n",
      "\n",
      "Test Poblacion=30 Generaciones=30\tTic-Tac-Toe - Error=0.250000\t\tTitanic - Error=0.500000\n",
      "\n",
      "[Tic-Tac-Toe] reglas del mejor individuo:\n",
      " [REGLA 1] - IF EDAD=(mediana) AND LESION=(hipermetropía) AND ASTIGMATISMO=(no) AND PROD_LAGRIM=(normal) THEN concl=blandas\n",
      "[REGLA 2] - IF EDAD=(avanzada OR joven OR mediana) AND LESION=(hipermetropía) AND ASTIGMATISMO=(no) AND PROD_LAGRIM=(normal) AND DIAGNOSTICO=(blandas OR no) THEN concl=blandas\n",
      "\n",
      "[Titanic] reglas del mejor individuo:\n",
      " [REGLA 1] - IF EDAD=(avanzada OR mediana) AND LESION=(hipermetropía) AND ASTIGMATISMO=(no) AND PROD_LAGRIM=(normal) AND DIAGNOSTICO=(blandas OR no) THEN concl=duras\n",
      "[REGLA 2] - IF EDAD=(joven) AND LESION=(hipermetropía) AND ASTIGMATISMO=(no) AND PROD_LAGRIM=(normal) AND DIAGNOSTICO=(duras) THEN concl=duras\n",
      "[REGLA 3] - IF EDAD=(joven OR mediana) AND LESION=(hipermetropía) AND ASTIGMATISMO=(no) AND PROD_LAGRIM=(normal) THEN concl=duras\n",
      "\n"
     ]
    }
   ],
   "source": [
    "errorMedioTTT_intra_estandar, errorMedioTITANIC_intra_estandar = utils.AG_test(ttt, titanic, AG.cruceIntraReglas, AG.mutacionEstandar)"
   ]
  },
  {
   "cell_type": "markdown",
   "id": "fa4742ea",
   "metadata": {},
   "source": [
    "### Cruce *Intra Reglas* y mutación *de reglas*"
   ]
  },
  {
   "cell_type": "code",
   "execution_count": 5,
   "id": "500d20f3",
   "metadata": {},
   "outputs": [
    {
     "name": "stdout",
     "output_type": "stream",
     "text": [
      "Test Poblacion=20 Generaciones=10\tTic-Tac-Toe - Error=0.750000\t\tTitanic - Error=0.500000\n",
      "\n",
      "[Tic-Tac-Toe] reglas del mejor individuo:\n",
      " [REGLA 1] - IF ASTIGMATISMO=(no OR sí) AND PROD_LAGRIM=(normal) AND ) THEN concl=blandas\n",
      "\n",
      "[Titanic] reglas del mejor individuo:\n",
      " [REGLA 1] - IF EDAD=(joven) AND LESION=(hipermetropía OR miopía) AND ASTIGMATISMO=(no) AND PROD_LAGRIM=(reducida) AND DIAGNOSTICO=(blandas OR duras) THEN concl=blandas\n",
      "\n",
      "Test Poblacion=20 Generaciones=30\tTic-Tac-Toe - Error=0.500000\t\tTitanic - Error=0.000000\n",
      "\n",
      "[Tic-Tac-Toe] reglas del mejor individuo:\n",
      " [REGLA 1] - IF EDAD=(avanzada OR mediana) AND LESION=(hipermetropía OR miopía) AND ASTIGMATISMO=(no OR sí) AND PROD_LAGRIM=(reducida) AND DIAGNOSTICO=(blandas OR duras) THEN concl=duras\n",
      "[REGLA 2] - IF EDAD=(avanzada OR joven OR mediana) AND LESION=(miopía) AND ASTIGMATISMO=(sí) AND PROD_LAGRIM=(normal) AND DIAGNOSTICO=(blandas OR duras) THEN concl=blandas\n",
      "[REGLA 3] - IF EDAD=(avanzada) AND LESION=(hipermetropía) AND ASTIGMATISMO=(no) AND PROD_LAGRIM=(reducida) AND ) THEN concl=duras\n",
      "\n",
      "[Titanic] reglas del mejor individuo:\n",
      " [REGLA 1] - IF EDAD=(joven OR mediana) AND LESION=(hipermetropía OR miopía) AND ASTIGMATISMO=(no) AND ) AND DIAGNOSTICO=(no) THEN concl=blandas\n",
      "[REGLA 2] - IF EDAD=(mediana) AND LESION=(hipermetropía OR miopía) AND ASTIGMATISMO=(no OR sí) AND ) AND DIAGNOSTICO=(blandas OR duras) THEN concl=duras\n",
      "[REGLA 3] - IF EDAD=(joven OR mediana) AND LESION=(hipermetropía OR miopía) AND ASTIGMATISMO=(no OR sí) AND ) AND DIAGNOSTICO=(duras OR no) THEN concl=duras\n",
      "\n",
      "Test Poblacion=30 Generaciones=10\tTic-Tac-Toe - Error=0.000000\t\tTitanic - Error=0.250000\n",
      "\n",
      "[Tic-Tac-Toe] reglas del mejor individuo:\n",
      " [REGLA 1] - IF LESION=(hipermetropía OR miopía) AND ) AND PROD_LAGRIM=(normal) AND DIAGNOSTICO=(duras) THEN concl=duras\n",
      "[REGLA 2] - IF EDAD=(avanzada OR joven) AND LESION=(hipermetropía) AND ASTIGMATISMO=(no) AND PROD_LAGRIM=(reducida) AND DIAGNOSTICO=(blandas OR duras) THEN concl=blandas\n",
      "[REGLA 3] - IF EDAD=(mediana) AND ASTIGMATISMO=(sí) AND PROD_LAGRIM=(reducida) AND DIAGNOSTICO=(duras) THEN concl=duras\n",
      "\n",
      "[Titanic] reglas del mejor individuo:\n",
      " [REGLA 1] - IF EDAD=(avanzada OR joven OR mediana) AND DIAGNOSTICO=(duras OR no) THEN concl=duras\n",
      "\n",
      "Test Poblacion=30 Generaciones=30\tTic-Tac-Toe - Error=0.250000\t\tTitanic - Error=0.500000\n",
      "\n",
      "[Tic-Tac-Toe] reglas del mejor individuo:\n",
      " [REGLA 1] - IF EDAD=(mediana) AND LESION=(hipermetropía) AND ) THEN concl=duras\n",
      "\n",
      "[Titanic] reglas del mejor individuo:\n",
      " [REGLA 1] - IF EDAD=(mediana) AND LESION=(hipermetropía) AND ASTIGMATISMO=(no OR sí) AND DIAGNOSTICO=(duras OR no) THEN concl=duras\n",
      "\n"
     ]
    }
   ],
   "source": [
    "errorMedioTTT_intra_reglas, errorMedioTITANIC_intra_reglas = utils.AG_test(ttt, titanic, AG.cruceIntraReglas, AG.mutacionReglas)"
   ]
  },
  {
   "cell_type": "markdown",
   "id": "8f04dc01",
   "metadata": {},
   "source": [
    "### Población - Tic-Tac-Toe"
   ]
  },
  {
   "cell_type": "code",
   "execution_count": 6,
   "id": "88ba681e",
   "metadata": {},
   "outputs": [
    {
     "data": {
      "image/png": "[encoded data removed]",
      "text/plain": [
       "<Figure size 720x720 with 1 Axes>"
      ]
     },
     "metadata": {
      "needs_background": "light"
     },
     "output_type": "display_data"
    }
   ],
   "source": [
    "utils.plot_poblacion([errorMedioTTT_inter_estandar, errorMedioTTT_inter_reglas, errorMedioTTT_intra_estandar, errorMedioTTT_intra_reglas])"
   ]
  },
  {
   "cell_type": "markdown",
   "id": "cb193e8b",
   "metadata": {},
   "source": [
    "### Población - Titanic"
   ]
  },
  {
   "cell_type": "code",
   "execution_count": 7,
   "id": "28a40bfa",
   "metadata": {},
   "outputs": [
    {
     "data": {
      "image/png": "[encoded data removed]",
      "text/plain": [
       "<Figure size 720x720 with 1 Axes>"
      ]
     },
     "metadata": {
      "needs_background": "light"
     },
     "output_type": "display_data"
    }
   ],
   "source": [
    "utils.plot_poblacion([errorMedioTITANIC_inter_estandar, errorMedioTITANIC_inter_reglas, errorMedioTITANIC_intra_estandar, errorMedioTITANIC_intra_reglas])"
   ]
  },
  {
   "cell_type": "markdown",
   "id": "bc81f3a8",
   "metadata": {},
   "source": [
    "### Cruce - Tic-Tac-Toe"
   ]
  },
  {
   "cell_type": "code",
   "execution_count": 8,
   "id": "37435ca5",
   "metadata": {},
   "outputs": [
    {
     "data": {
      "image/png": "[encoded data removed]",
      "text/plain": [
       "<Figure size 720x720 with 1 Axes>"
      ]
     },
     "metadata": {
      "needs_background": "light"
     },
     "output_type": "display_data"
    }
   ],
   "source": [
    "utils.plot_comp([errorMedioTTT_inter_estandar, errorMedioTTT_inter_reglas], [errorMedioTTT_intra_estandar, errorMedioTTT_intra_reglas], [\"Inter\", \"Intra\"])"
   ]
  },
  {
   "cell_type": "markdown",
   "id": "e640ef5e",
   "metadata": {},
   "source": [
    "### Cruce - Titanic"
   ]
  },
  {
   "cell_type": "code",
   "execution_count": 9,
   "id": "be7acd23",
   "metadata": {},
   "outputs": [
    {
     "ename": "SyntaxError",
     "evalue": "invalid syntax (<ipython-input-9-2bc6765601bd>, line 1)",
     "output_type": "error",
     "traceback": [
      "\u001b[0;36m  File \u001b[0;32m\"<ipython-input-9-2bc6765601bd>\"\u001b[0;36m, line \u001b[0;32m1\u001b[0m\n\u001b[0;31m    utils.plot_comp([errorMedioTITANIC_inter_estandar, errorMedioTITANIC_inter_reglas], [errorMedioTITANIC_intra_estandar, errorMedioTITANIC_intra_reglas], , [\"Inter\", \"Intra\"])\u001b[0m\n\u001b[0m                                                                                                                                                            ^\u001b[0m\n\u001b[0;31mSyntaxError\u001b[0m\u001b[0;31m:\u001b[0m invalid syntax\n"
     ]
    }
   ],
   "source": [
    "utils.plot_comp([errorMedioTITANIC_inter_estandar, errorMedioTITANIC_inter_reglas], [errorMedioTITANIC_intra_estandar, errorMedioTITANIC_intra_reglas], , [\"Inter\", \"Intra\"])"
   ]
  },
  {
   "cell_type": "markdown",
   "id": "f162abc7",
   "metadata": {},
   "source": [
    "### Mutación - Tic-Tac-Toe"
   ]
  },
  {
   "cell_type": "code",
   "execution_count": null,
   "id": "83767472",
   "metadata": {},
   "outputs": [],
   "source": [
    "utils.plot_comp([errorMedioTTT_inter_estandar, errorMedioTTT_intra_estandar], [errorMedioTTT_inter_reglas, errorMedioTTT_intra_reglas], [\"Estandar\", \"De reglas\"])"
   ]
  },
  {
   "cell_type": "markdown",
   "id": "cab4bb70",
   "metadata": {},
   "source": [
    "### Mutación - Titanic"
   ]
  },
  {
   "cell_type": "code",
   "execution_count": null,
   "id": "bfe55848",
   "metadata": {},
   "outputs": [],
   "source": [
    "utils.plot_comp([errorMedioTITANIC_inter_estandar, errorMedioTITANIC_intra_estandar], [errorMedioTITANIC_inter_reglas, errorMedioTITANIC_intra_reglas], , [\"Estandar\", \"De reglas\"])"
   ]
  },
  {
   "cell_type": "markdown",
   "id": "868e4050",
   "metadata": {},
   "source": [
    "# PONER CONCLUSION APARTADO ANTERIOR. DECIR QUE poblacion y generaciones es mejor, y decir que cruce y que mutacion es mejor.\n",
    "\n",
    "Podemos ver que tras cada ejecución se muestran las reglas de los mejores individuos en cada una de estas. En estas reglas predomina la **conclusión=1** con muy escasas reglas que contengan una **conclusión=0**, las que tienen 0, se han generado mediante cruces intra reglas.  \n",
    "\n",
    "Con respecto a los métodos de cruce, no vemos una diferencia notoria en los resultados, lo mismo pasa con la mutación, las diferentes mutaciones no han provocado un cambio notorio en el error.\n",
    "Lo que si que provoca una diferencia es el número de generaciones, en general cuantas menos generaciones, más error. Pero esta regla no siempre se cumple debido a la aleatoriedad del algoritmo, puede pasar que en la generación 2, se cree un individuo el cuál tiene un fitness muy alto.\n",
    "\n",
    "Podemos concluir que tenemos un error medio en el dataset de **Tic-Tac-Toe del 30%** y en del **Titanic del 40%-45%**, el **número de generaciones más optimo es 200** y la población más optima es\n",
    "\n",
    "\n",
    "## 3. Análisis\n",
    "Lo primero que destaca a la vista es el pronunciado error. Una de las posibles razones es por **la validación en si**, al no entrenar con todos los datos puede que las reglas se *sobreajusten* a los datos (el fitness del mejor individuo suele rondar el 70%-90% de aciertos, puede que se sobreajuste a los datos de entrenamiento), puede que el mejor individuo tras el entrenamiento tenga reglas que no se adecúen correctamente a los datos de test, esto provoca que se recurra mucho al priori provocando quizás mas errores de los deseados. Otra razón puede ser el **número de reglas**, este puede ser un factor clave en relación al error obtenido. Por último, otra razón que se me ocurre es por el hecho de que el algoritmo en si **es muy aleatorio**, puede que esa aleatoriedad no permita una clasificación mejor. De hecho, se puede ver como en el dataset titanic tenemos un resultado de error del 24% usando un cruce intra reglas y una mutación de reglas, pero este resultado probablemente sea debido a la aleatoriedad.\n",
    "\n",
    "Algo que se puede ver, es que en algunos individuos se repiten reglas, asumo que esto significa que estas reglas son buenas, ya que al cruzar individuos se han mantenido durante generaciones. Pero esto también tiene otra explicación, y es el propio método de cruce, el *cruce inter reglas* cruza las reglas de dos individuos **sin modificarlas**, esto puede causar lo anteriormente mencionado. En el cruce intra reglas no vemos tanta repetición de reglas, ya que las reglas **son modificadas**.\n",
    "\n",
    "Otro factor relevante es la *probabilidad de mutación*. Una probabilidad mayor podría acelerar el proceso de encontrar un muy buen individuo, pero hay que tener cuidado, una probabilidad muy grande puede provocar más errores, es muy similar al descenso de gradiente en regresión logística, si la constante de aprendizaje era muy alta, puede que no encontrasemos nunca mínimos, lo mismo pasa aquí, una probabilidad muy alta de mutación puede que lastre al algoritmo. El método de mutación también es importante, ya que en la mutación estandar cambiamos un único bit de una única regla, mientras que la mutación de reglas pasa por todos los bits tratando de cambiarlos. Podemos decir que en uno se tira un dado, y en otro se tira el dado muchas veces.\n",
    "\n",
    "Otra cosa que se ve de los mejores individuos es el *número de reglas*, a pesar de que la razón puede decirnos que \"cuantas más mejor\", vemos que los mejores individuos no siempre tienen el núemro máximo de reglas. En muchos casos tienen 2 o 3, aunque de media diría que hay 3 reglas.\n",
    "\n",
    "En cuanto al tamaño de la población, este es importante. Un tamaño de mutación amplio permite variedad de individuos aunque, no es necesario poner de más. Hay que tener en cuenta el número de atributos y el número de posibles valores de cada uno, ya que si ponemos más individuos que combinaciones no tendría sentido, aunque también es cierto que el número de combinaciones asciende rápidamente si el dataset es grande, haciendo casi imposible crear muchos individuos.\n",
    "\n",
    "Por último, el *número de generaciones*. Cuantas más generaciones mejor, aunque hay que poner un límite, ya que en un punto será muy difícil para el algoritmo encontrar un individuo mejor que el que hay y lo único que haremos será gastar recursos (esto se ve mejor en el siguiente apartado)."
   ]
  },
  {
   "cell_type": "markdown",
   "id": "0efa1ac0",
   "metadata": {},
   "source": [
    "## 4. Evolución del fitness\n",
    "### 4.1 Titanic"
   ]
  },
  {
   "cell_type": "code",
   "execution_count": null,
   "id": "a8d44905",
   "metadata": {
    "scrolled": false
   },
   "outputs": [],
   "source": [
    "# Plot de 2 fitness maximo y medio, en cada plot varios runs\n",
    "utils.plot(titanic, \"Titanic\", AG.cruceInterReglas, AG.mutacionReglas)"
   ]
  },
  {
   "cell_type": "markdown",
   "id": "ca75cf47",
   "metadata": {},
   "source": [
    "Lo que podemos ver aquí es el crecimiento del fitness en varias ejecuciones (5) de entrenamiento el algoritmo entrena durante 100 generaciones. Vemos que en general, el mejor individuo se suele encontrar antes de llegar a 35 generaciones, después, el fitness se mantiene estable. Esto quiere decir que al algoritmo le cuesta encontrar mejores individuos.\n",
    "\n",
    "Debido a la aleatoriedad del algoritmo podemos ver que no siempre el crecimiento es el mismo, y que no se llegan a los mismos valores.\n",
    "\n",
    "En cuanto a la media, vemos que no es un valor estable, la media depende de todos los individuos de la poblacion, puede pasar que haya un individuo muy bueno pero que los demas sean muy malos, haciendo que la media varie mucho.\n",
    "\n",
    "### 4.2 Tic-Tac-Toe"
   ]
  },
  {
   "cell_type": "code",
   "execution_count": null,
   "id": "2b3f2a8d",
   "metadata": {},
   "outputs": [],
   "source": [
    "# Plot de 2 fitness maximo y medio, en cada plot varios runs\n",
    "utils.plot(ttt, \"Tic-Tac-Toe\", AG.cruceInterReglas, AG.mutacionReglas)"
   ]
  },
  {
   "cell_type": "markdown",
   "id": "988b6ccc",
   "metadata": {},
   "source": [
    "Con el dataset Tic-Tac-Toe\n",
    "\n",
    "## 5. Espacio ROC \n",
    "### 5.1 Titanic"
   ]
  },
  {
   "cell_type": "code",
   "execution_count": null,
   "id": "f5f2b2ae",
   "metadata": {},
   "outputs": [],
   "source": [
    "# Generar espacio ROC con naive bayes\n",
    "utils.plot_espacio_ROC(titanic, 5, 20, AG.cruceInterReglas, AG.mutacionReglas)"
   ]
  },
  {
   "cell_type": "markdown",
   "id": "d2ce7729",
   "metadata": {},
   "source": [
    "Conclusion"
   ]
  }
 ],
 "metadata": {
  "kernelspec": {
   "display_name": "Python 3",
   "language": "python",
   "name": "python3"
  },
  "language_info": {
   "codemirror_mode": {
    "name": "ipython",
    "version": 3
   },
   "file_extension": ".py",
   "mimetype": "text/x-python",
   "name": "python",
   "nbconvert_exporter": "python",
   "pygments_lexer": "ipython3",
   "version": "3.8.8"
  }
 },
 "nbformat": 4,
 "nbformat_minor": 5
}
