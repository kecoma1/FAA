{
 "cells": [
  {
   "cell_type": "markdown",
   "id": "d5f5a95d",
   "metadata": {},
   "source": [
    "# FAA 1462 Pareja 10. Práctica 4 REGRESIÓN LOGÍSTICA Y ANÁLISIS ROC\n",
    "## Kevin de la Coba Malam\n",
    "\n",
    "En este documento se hara un análisis del clasificador de **Algoritmos Genéticos** usando diferenrtes *poblaciones*, *generaciones*, *cruces*, *mutaciones* y *elitismo*. También se comparará el algoritmo con el clasificador de  **Naive Bayes** mediante el *espacio ROC*. \n",
    "\n",
    "En está practica, se ha usado solo la validación simple. En concreto, con la validación simple se usán valores para el %: **20** (se ejecutará 3 veces). Al tener varios tipos de mutación y cruce el test se hace muy largo.\n",
    "\n",
    "Para simplificar el documento se ha creado el archivo *utils.py* en el cual se encuentran las funciones para clasificar, mostrar gráficas...\n",
    "\n",
    "### Modificaciones\n",
    "\n",
    "- La clase Datos se ha modificado, el constructor tiene un parametro opcional (allNominal) que por defecto está a False para tratar a todos los atributos como si fuesen nominales. "
   ]
  },
  {
   "cell_type": "code",
   "execution_count": 4,
   "id": "236b8982",
   "metadata": {},
   "outputs": [],
   "source": [
    "# Para esconder los warnings\n",
    "def warn(*args, **kwargs):\n",
    "    pass\n",
    "import warnings\n",
    "warnings.warn = warn\n",
    "\n",
    "from ClasificadorAlgoritmoGenetico import AlgoritmoGenetico as AG\n",
    "from Datos import Datos\n",
    "import utils\n",
    "import matplotlib.pyplot as plt\n",
    "\n",
    "# Cargamos datos\n",
    "l = Datos(\"lentillas.data\")\n",
    "titanic = Datos(\"titanic.csv\", allNominal=True)\n",
    "ttt = Datos(\"tic-tac-toe.data\")"
   ]
  },
  {
   "cell_type": "markdown",
   "id": "52726aa7",
   "metadata": {},
   "source": [
    "## 1. Detalles de la implementación\n",
    "\n",
    "Lo primero sería mencionar la estructura que tiene cada individuo. Para crear esta estructura se ha hecho una clase interna en la cual se define a un individuo con los siguientes datos.\n",
    "```py\n",
    "class Individuo:\n",
    "\tfitnessValue # Valor de fitness del individuo\n",
    "\tpriori # Clase mayoritaria de los datos\n",
    "\treglas = [\n",
    "\t\t{\"regla\": [int], \"conclusion\": int} # Cada regla es un diccionario\n",
    "\t\t...\n",
    "\t]\n",
    "```\n",
    "Para representar las reglas se usa un diccionario, en este diccionario tenemos la clave \"regla\" en la cual el valor es una lista de enteros. Cada entero de esta lista hace referencia a la cadena de bits para un atributo, por ejemplo: Si tenemos 3 atributos A, B y C, tendremos 3 enteros en la lista, si cada atributo tiene 3 valores, se usaran 3 bits de cada entero. Para operar con estos bits se usan bit operators (&, |).\n",
    "\n",
    "La conclusión es un entero que marca 0 o 1.\n",
    "\n",
    "### 1.1 Generación de la población inicial\n",
    "\n",
    "Las reglas se crean de forma aleatoria, asignando para cada atributo una cadena aleatoria (de la cual solo se van a usar los N primeros bits, siendo N el número de posibles valores en el atributo). Para este análisis se usaran individuos con un **máximo de 5 reglas**.\n",
    "\n",
    "### 1.2 Cruces implementados\n",
    "\n",
    "Se han implementado el cruce *inter reglas* y el cruce *intra reglas*. Son métodos estáticos de la clase *ClasificadorAlgoritmoGenetico* que deben pasarse al propio constructor de la clase (patrón template).\n",
    "\n",
    "### 1.3 Mutaciones implementadas\n",
    "\n",
    "Se ha implementado la *mutación estandar* y la *mutación de reglas*. De nuevo, son métodos estáticos que deben pasarse al constructor.\n",
    "\n",
    "### 1.4 Clasificación\n",
    "\n",
    "La clasificación es simple, se coge al mejor individuo del entrenamiento y se aplican las reglas, pero, ¿cómo se aplican estas reglas? Al utilizar cadenas de bits para cada atributo es simple comparar si un valor se cumple en una regla o no, por ejemplo:\n",
    "Si tenemos el atributo A con los posibles datos 'a', 'b', 'c', tendríamos una cadena de bits para este atributo con 3 bits. Si recibimos el valor 'a', recibimos la cadena 001 (un entero con valor 1), si recibimos 'b' 010 (entero con valor 2) y si recibimos 'c' 100 (entero con valor 4). Con puertas lógicas es muy simple comparar estos valores. Si tenemos la regla 101 (entero con valor 5) y recibimos el valor 001 (a) (aplicamos la puerta lógica and sobre los valores enteros 5 y 1, 101 & 001), pues esa parte de la regla se aprobaría para este atributo y haría falta hacerlo con todos los demás, si se cumplen todos devolvemos la conclusión.\n",
    "\n",
    "En el entrenamiento (también en la clasificación) puede pasar que varias relgas se cumplan o que no se cumpla ninguna, en el primer caso lo que se hace es devolver la conclusión mayoritaria, en el segundo caso se devulve la clase a priori (clase mayoritaria).\n",
    "\n",
    "## 2. Resultados clasificación.\n",
    "\n",
    "Las opciones que se han usado para la clasificación son las siguientes:\n",
    "- **Población**: Variable [50-150].\n",
    "- **Generacion**: Variable [100-200].\n",
    "- **Máximo número de reglas**: 5.\n",
    "- **Probabilidad mutación**: 5%.\n",
    "- **Proporción de elitismo**: 5%.\n",
    "- **Cruce**: Ambos (inter e intra).\n",
    "- **Mutación**: Ambas (estandar y de reglas).\n",
    "\n",
    "### Cruce *Inter Reglas* y mutación *estandar*"
   ]
  },
  {
   "cell_type": "code",
   "execution_count": null,
   "id": "c5a20806",
   "metadata": {},
   "outputs": [],
   "source": [
    "errorMedioTTT_inter_estandar, errorMedioTITANIC_inter_estandar = utils.AG_test(ttt, titanic, AG.cruceInterReglas, AG.mutacionEstandar)"
   ]
  },
  {
   "cell_type": "markdown",
   "id": "d446cb74",
   "metadata": {},
   "source": [
    "### Cruce *Inter Reglas* y mutación *de reglas*"
   ]
  },
  {
   "cell_type": "code",
   "execution_count": null,
   "id": "95d8fc84",
   "metadata": {},
   "outputs": [],
   "source": [
    "errorMedioTTT_inter_reglas, errorMedioTITANIC_inter_reglas = utils.AG_test(ttt, titanic, AG.cruceInterReglas, AG.mutacionReglas)"
   ]
  },
  {
   "cell_type": "markdown",
   "id": "bf679f70",
   "metadata": {},
   "source": [
    "### Cruce *Intra Reglas* y mutación *estandar*"
   ]
  },
  {
   "cell_type": "code",
   "execution_count": null,
   "id": "22edd6f1",
   "metadata": {},
   "outputs": [],
   "source": [
    "errorMedioTTT_intra_estandar, errorMedioTITANIC_intra_estandar = utils.AG_test(ttt, titanic, AG.cruceIntraReglas, AG.mutacionEstandar)"
   ]
  },
  {
   "cell_type": "markdown",
   "id": "fa4742ea",
   "metadata": {},
   "source": [
    "### Cruce *Intra Reglas* y mutación *de reglas*"
   ]
  },
  {
   "cell_type": "code",
   "execution_count": null,
   "id": "500d20f3",
   "metadata": {},
   "outputs": [],
   "source": [
    "errorMedioTTT_intra_reglas, errorMedioTITANIC_intra_reglas = utils.AG_test(ttt, titanic, AG.cruceIntraReglas, AG.mutacionReglas)"
   ]
  },
  {
   "cell_type": "markdown",
   "id": "868e4050",
   "metadata": {},
   "source": [
    "# PONER CONCLUSION APARTADO ANTERIOR. DECIR QUE poblacion y generaciones es mejor, y decir que cruce y que mutacion es mejor.\n",
    "\n",
    "Tambien decir que en la validación se tiene en cuenta mucho el priori, ya que puede pasar que el mejor individuo no tenga tantas reglas y tenga que recurrir al priori. Que para mi sería mejor no solo guardar al mejor individuo, cuando el mejor individuo trate de devolver el priori, que en vez de eso vaya al segundo mejor. \n",
    "\n",
    "## 3. Análisis\n",
    "Hablar de overfitting si ponemos muchas reglas. "
   ]
  },
  {
   "cell_type": "code",
   "execution_count": null,
   "id": "778f3562",
   "metadata": {},
   "outputs": [],
   "source": [
    "# Ejemplo con 10 reglas y 20 individuos\n",
    "ag = AG(20, 100, 10, AG.cruceInterReglas, AG.mutacionReglas , 0.05, 0.05, show=True)\n",
    "ag.entrenamiento(titanic.datos, titanic.nominalAtributos, titanic.diccionario)"
   ]
  },
  {
   "cell_type": "markdown",
   "id": "c9aab72f",
   "metadata": {},
   "source": [
    "Hablar de la relación entre el poblacion y generaciones. Cuanta mas poblacion menos generaciones y cuantas mas generaciones menos poblacion.\n",
    "Decir que si la mutacion es muy alta, las cosas se pueden ir de madre.\n",
    "\n"
   ]
  },
  {
   "cell_type": "code",
   "execution_count": null,
   "id": "645400f0",
   "metadata": {},
   "outputs": [],
   "source": [
    "# Ejemplo con 10 reglas y 20 individuos, probabilidad mutación 70%. No elitismo\n",
    "ag = AG(10, 100, 5, AG.cruceInterReglas, AG.mutacionReglas , 0.7, 0.0, show=True)\n",
    "ag.entrenamiento(titanic.datos, titanic.nominalAtributos, titanic.diccionario)"
   ]
  },
  {
   "cell_type": "markdown",
   "id": "0c579871",
   "metadata": {},
   "source": [
    "Hablar sobre el ejemplo con mutación muy alta."
   ]
  },
  {
   "cell_type": "markdown",
   "id": "0efa1ac0",
   "metadata": {},
   "source": [
    "## 4. Evolución del fitness\n",
    "### 4.1 Titanic"
   ]
  },
  {
   "cell_type": "code",
   "execution_count": null,
   "id": "a8d44905",
   "metadata": {
    "scrolled": false
   },
   "outputs": [],
   "source": [
    "# Plot de 2 fitness maximo y medio, en cada plot varios runs\n",
    "utils.plot(titanic, \"Titanic\", AG.cruceInterReglas, AG.mutacionReglas)"
   ]
  },
  {
   "cell_type": "markdown",
   "id": "ca75cf47",
   "metadata": {},
   "source": [
    "hablar de el crecimiento.\n",
    "\n",
    "### 4.2 Tic-Tac-Toe"
   ]
  },
  {
   "cell_type": "code",
   "execution_count": null,
   "id": "2b3f2a8d",
   "metadata": {},
   "outputs": [],
   "source": [
    "# Plot de 2 fitness maximo y medio, en cada plot varios runs\n",
    "utils.plot(ttt, \"Tic-Tac-Toe\", AG.cruceInterReglas, AG.mutacionReglas)"
   ]
  },
  {
   "cell_type": "markdown",
   "id": "988b6ccc",
   "metadata": {},
   "source": [
    "Hablar del crecimiento.\n",
    "\n",
    "## 5. Espacio ROC \n",
    "### 5.1 Titanic"
   ]
  },
  {
   "cell_type": "code",
   "execution_count": 6,
   "id": "f5f2b2ae",
   "metadata": {},
   "outputs": [
    {
     "ename": "KeyboardInterrupt",
     "evalue": "",
     "output_type": "error",
     "traceback": [
      "\u001b[0;31m---------------------------------------------------------------------------\u001b[0m",
      "\u001b[0;31mKeyboardInterrupt\u001b[0m                         Traceback (most recent call last)",
      "\u001b[0;32m<ipython-input-6-1a2a4523e420>\u001b[0m in \u001b[0;36m<module>\u001b[0;34m\u001b[0m\n\u001b[1;32m      1\u001b[0m \u001b[0;31m# Generar espacio ROC con naive bayes\u001b[0m\u001b[0;34m\u001b[0m\u001b[0;34m\u001b[0m\u001b[0;34m\u001b[0m\u001b[0m\n\u001b[0;32m----> 2\u001b[0;31m \u001b[0mutils\u001b[0m\u001b[0;34m.\u001b[0m\u001b[0mplot_espacio_ROC\u001b[0m\u001b[0;34m(\u001b[0m\u001b[0mtitanic\u001b[0m\u001b[0;34m,\u001b[0m \u001b[0;36m5\u001b[0m\u001b[0;34m,\u001b[0m \u001b[0;36m20\u001b[0m\u001b[0;34m,\u001b[0m \u001b[0mAG\u001b[0m\u001b[0;34m.\u001b[0m\u001b[0mcruceInterReglas\u001b[0m\u001b[0;34m,\u001b[0m \u001b[0mAG\u001b[0m\u001b[0;34m.\u001b[0m\u001b[0mmutacionReglas\u001b[0m\u001b[0;34m)\u001b[0m\u001b[0;34m\u001b[0m\u001b[0;34m\u001b[0m\u001b[0m\n\u001b[0m",
      "\u001b[0;32m~/Documentos/FAA/LAB_5/utils.py\u001b[0m in \u001b[0;36mplot_espacio_ROC\u001b[0;34m(dataset, times, porcentaje, cruce, mutacion)\u001b[0m\n\u001b[1;32m     87\u001b[0m \u001b[0;32mdef\u001b[0m \u001b[0mplot_espacio_ROC\u001b[0m\u001b[0;34m(\u001b[0m\u001b[0mdataset\u001b[0m\u001b[0;34m,\u001b[0m \u001b[0mtimes\u001b[0m\u001b[0;34m,\u001b[0m \u001b[0mporcentaje\u001b[0m\u001b[0;34m,\u001b[0m \u001b[0mcruce\u001b[0m\u001b[0;34m,\u001b[0m \u001b[0mmutacion\u001b[0m\u001b[0;34m)\u001b[0m\u001b[0;34m:\u001b[0m\u001b[0;34m\u001b[0m\u001b[0;34m\u001b[0m\u001b[0m\n\u001b[1;32m     88\u001b[0m     \u001b[0mX_NB\u001b[0m\u001b[0;34m,\u001b[0m \u001b[0mY_NB\u001b[0m \u001b[0;34m=\u001b[0m \u001b[0mespacio_ROC_avg_NB\u001b[0m\u001b[0;34m(\u001b[0m\u001b[0mdataset\u001b[0m\u001b[0;34m,\u001b[0m \u001b[0mtimes\u001b[0m\u001b[0;34m,\u001b[0m \u001b[0mporcentaje\u001b[0m\u001b[0;34m)\u001b[0m\u001b[0;34m\u001b[0m\u001b[0;34m\u001b[0m\u001b[0m\n\u001b[0;32m---> 89\u001b[0;31m     \u001b[0mX_AG\u001b[0m\u001b[0;34m,\u001b[0m \u001b[0mY_AG\u001b[0m \u001b[0;34m=\u001b[0m \u001b[0mespacio_ROC_avg_AG\u001b[0m\u001b[0;34m(\u001b[0m\u001b[0mdataset\u001b[0m\u001b[0;34m,\u001b[0m \u001b[0mtimes\u001b[0m\u001b[0;34m,\u001b[0m \u001b[0mcruce\u001b[0m\u001b[0;34m,\u001b[0m \u001b[0mmutacion\u001b[0m\u001b[0;34m,\u001b[0m \u001b[0mporcentaje\u001b[0m\u001b[0;34m)\u001b[0m\u001b[0;34m\u001b[0m\u001b[0;34m\u001b[0m\u001b[0m\n\u001b[0m\u001b[1;32m     90\u001b[0m     \u001b[0mX\u001b[0m \u001b[0;34m=\u001b[0m \u001b[0;34m[\u001b[0m\u001b[0mX_NB\u001b[0m\u001b[0;34m,\u001b[0m \u001b[0mX_AG\u001b[0m\u001b[0;34m]\u001b[0m\u001b[0;34m\u001b[0m\u001b[0;34m\u001b[0m\u001b[0m\n\u001b[1;32m     91\u001b[0m     \u001b[0mY\u001b[0m \u001b[0;34m=\u001b[0m \u001b[0;34m[\u001b[0m\u001b[0mY_NB\u001b[0m\u001b[0;34m,\u001b[0m \u001b[0mY_AG\u001b[0m\u001b[0;34m]\u001b[0m\u001b[0;34m\u001b[0m\u001b[0;34m\u001b[0m\u001b[0m\n",
      "\u001b[0;32m~/Documentos/FAA/LAB_5/utils.py\u001b[0m in \u001b[0;36mespacio_ROC_avg_AG\u001b[0;34m(dataset, times, cruce, mutacion, porcentaje)\u001b[0m\n\u001b[1;32m     68\u001b[0m     \u001b[0;32mfor\u001b[0m \u001b[0m_\u001b[0m \u001b[0;32min\u001b[0m \u001b[0mrange\u001b[0m\u001b[0;34m(\u001b[0m\u001b[0mtimes\u001b[0m\u001b[0;34m)\u001b[0m\u001b[0;34m:\u001b[0m\u001b[0;34m\u001b[0m\u001b[0;34m\u001b[0m\u001b[0m\n\u001b[1;32m     69\u001b[0m         \u001b[0mag\u001b[0m \u001b[0;34m=\u001b[0m \u001b[0mAlgoritmoGenetico\u001b[0m\u001b[0;34m(\u001b[0m\u001b[0;36m150\u001b[0m\u001b[0;34m,\u001b[0m \u001b[0;36m200\u001b[0m\u001b[0;34m,\u001b[0m \u001b[0;36m5\u001b[0m\u001b[0;34m,\u001b[0m \u001b[0mcruce\u001b[0m\u001b[0;34m,\u001b[0m \u001b[0mmutacion\u001b[0m\u001b[0;34m,\u001b[0m \u001b[0;36m0.05\u001b[0m\u001b[0;34m,\u001b[0m \u001b[0;36m0.05\u001b[0m\u001b[0;34m)\u001b[0m\u001b[0;34m\u001b[0m\u001b[0;34m\u001b[0m\u001b[0m\n\u001b[0;32m---> 70\u001b[0;31m         \u001b[0mtpr\u001b[0m\u001b[0;34m,\u001b[0m \u001b[0mfpr\u001b[0m \u001b[0;34m=\u001b[0m \u001b[0mmc\u001b[0m\u001b[0;34m.\u001b[0m\u001b[0mespacioROC\u001b[0m\u001b[0;34m(\u001b[0m\u001b[0mdataset\u001b[0m\u001b[0;34m,\u001b[0m \u001b[0mag\u001b[0m\u001b[0;34m,\u001b[0m \u001b[0mporcentaje\u001b[0m\u001b[0;34m)\u001b[0m\u001b[0;34m\u001b[0m\u001b[0;34m\u001b[0m\u001b[0m\n\u001b[0m\u001b[1;32m     71\u001b[0m         \u001b[0mtpr_media\u001b[0m\u001b[0;34m.\u001b[0m\u001b[0mappend\u001b[0m\u001b[0;34m(\u001b[0m\u001b[0mtpr\u001b[0m\u001b[0;34m)\u001b[0m\u001b[0;34m\u001b[0m\u001b[0;34m\u001b[0m\u001b[0m\n\u001b[1;32m     72\u001b[0m         \u001b[0mfpr_media\u001b[0m\u001b[0;34m.\u001b[0m\u001b[0mappend\u001b[0m\u001b[0;34m(\u001b[0m\u001b[0mfpr\u001b[0m\u001b[0;34m)\u001b[0m\u001b[0;34m\u001b[0m\u001b[0;34m\u001b[0m\u001b[0m\n",
      "\u001b[0;32m~/Documentos/FAA/LAB_5/MatrizConfusion.py\u001b[0m in \u001b[0;36mespacioROC\u001b[0;34m(dataset, cl, porcentaje)\u001b[0m\n\u001b[1;32m     16\u001b[0m         \u001b[0mtuple\u001b[0m\u001b[0;34m:\u001b[0m \u001b[0mTupla\u001b[0m \u001b[0mcon\u001b[0m \u001b[0mTPR\u001b[0m \u001b[0my\u001b[0m \u001b[0mFPR\u001b[0m\u001b[0;34m.\u001b[0m\u001b[0;34m\u001b[0m\u001b[0;34m\u001b[0m\u001b[0m\n\u001b[1;32m     17\u001b[0m     \"\"\"\n\u001b[0;32m---> 18\u001b[0;31m     \u001b[0mvp\u001b[0m\u001b[0;34m,\u001b[0m \u001b[0mvn\u001b[0m\u001b[0;34m,\u001b[0m \u001b[0mfp\u001b[0m\u001b[0;34m,\u001b[0m \u001b[0mfn\u001b[0m \u001b[0;34m=\u001b[0m \u001b[0mmatrizConfusionClasificador\u001b[0m\u001b[0;34m(\u001b[0m\u001b[0mdataset\u001b[0m\u001b[0;34m,\u001b[0m \u001b[0mcl\u001b[0m\u001b[0;34m,\u001b[0m \u001b[0mporcentaje\u001b[0m\u001b[0;34m)\u001b[0m\u001b[0;34m\u001b[0m\u001b[0;34m\u001b[0m\u001b[0m\n\u001b[0m\u001b[1;32m     19\u001b[0m     \u001b[0;32mreturn\u001b[0m \u001b[0mTPR\u001b[0m\u001b[0;34m(\u001b[0m\u001b[0mvp\u001b[0m\u001b[0;34m,\u001b[0m \u001b[0mfn\u001b[0m\u001b[0;34m)\u001b[0m\u001b[0;34m,\u001b[0m \u001b[0mFPR\u001b[0m\u001b[0;34m(\u001b[0m\u001b[0mfp\u001b[0m\u001b[0;34m,\u001b[0m \u001b[0mvn\u001b[0m\u001b[0;34m)\u001b[0m\u001b[0;34m\u001b[0m\u001b[0;34m\u001b[0m\u001b[0m\n\u001b[1;32m     20\u001b[0m \u001b[0;34m\u001b[0m\u001b[0m\n",
      "\u001b[0;32m~/Documentos/FAA/LAB_5/MatrizConfusion.py\u001b[0m in \u001b[0;36mmatrizConfusionClasificador\u001b[0;34m(dataset, cl, porcentaje)\u001b[0m\n\u001b[1;32m     43\u001b[0m     \u001b[0myTrain\u001b[0m \u001b[0;34m=\u001b[0m \u001b[0mdataset\u001b[0m\u001b[0;34m.\u001b[0m\u001b[0mdatos\u001b[0m\u001b[0;34m[\u001b[0m\u001b[0;34m:\u001b[0m\u001b[0;34m,\u001b[0m \u001b[0;34m-\u001b[0m\u001b[0;36m1\u001b[0m\u001b[0;34m]\u001b[0m\u001b[0;34m[\u001b[0m\u001b[0mp\u001b[0m\u001b[0;34m.\u001b[0m\u001b[0mparticiones\u001b[0m\u001b[0;34m[\u001b[0m\u001b[0;36m0\u001b[0m\u001b[0;34m]\u001b[0m\u001b[0;34m.\u001b[0m\u001b[0mindicesTest\u001b[0m\u001b[0;34m]\u001b[0m\u001b[0;34m\u001b[0m\u001b[0;34m\u001b[0m\u001b[0m\n\u001b[1;32m     44\u001b[0m \u001b[0;34m\u001b[0m\u001b[0m\n\u001b[0;32m---> 45\u001b[0;31m     \u001b[0mcl\u001b[0m\u001b[0;34m.\u001b[0m\u001b[0mentrenamiento\u001b[0m\u001b[0;34m(\u001b[0m\u001b[0mxTrain\u001b[0m\u001b[0;34m,\u001b[0m \u001b[0mdataset\u001b[0m\u001b[0;34m.\u001b[0m\u001b[0mnominalAtributos\u001b[0m\u001b[0;34m,\u001b[0m \u001b[0mdataset\u001b[0m\u001b[0;34m.\u001b[0m\u001b[0mdiccionario\u001b[0m\u001b[0;34m)\u001b[0m\u001b[0;34m\u001b[0m\u001b[0;34m\u001b[0m\u001b[0m\n\u001b[0m\u001b[1;32m     46\u001b[0m     \u001b[0myPred\u001b[0m\u001b[0;34m,\u001b[0m \u001b[0m_\u001b[0m \u001b[0;34m=\u001b[0m \u001b[0mcl\u001b[0m\u001b[0;34m.\u001b[0m\u001b[0mclasifica\u001b[0m\u001b[0;34m(\u001b[0m\u001b[0mxTest\u001b[0m\u001b[0;34m,\u001b[0m \u001b[0mdataset\u001b[0m\u001b[0;34m.\u001b[0m\u001b[0mnominalAtributos\u001b[0m\u001b[0;34m,\u001b[0m \u001b[0mdataset\u001b[0m\u001b[0;34m.\u001b[0m\u001b[0mdiccionario\u001b[0m\u001b[0;34m)\u001b[0m\u001b[0;34m\u001b[0m\u001b[0;34m\u001b[0m\u001b[0m\n\u001b[1;32m     47\u001b[0m \u001b[0;34m\u001b[0m\u001b[0m\n",
      "\u001b[0;32m~/Documentos/FAA/LAB_5/ClasificadorAlgoritmoGenetico.py\u001b[0m in \u001b[0;36mentrenamiento\u001b[0;34m(self, datostrain, atributosDiscretos, diccionario, fitnessData)\u001b[0m\n\u001b[1;32m    386\u001b[0m         \u001b[0mself\u001b[0m\u001b[0;34m.\u001b[0m\u001b[0minicializarPoblacion\u001b[0m\u001b[0;34m(\u001b[0m\u001b[0mvalorMaximoCadena\u001b[0m\u001b[0;34m)\u001b[0m\u001b[0;34m\u001b[0m\u001b[0;34m\u001b[0m\u001b[0m\n\u001b[1;32m    387\u001b[0m \u001b[0;34m\u001b[0m\u001b[0m\n\u001b[0;32m--> 388\u001b[0;31m         \u001b[0mself\u001b[0m\u001b[0;34m.\u001b[0m\u001b[0mevolucionPoblacion\u001b[0m\u001b[0;34m(\u001b[0m\u001b[0mdatostrain\u001b[0m\u001b[0;34m,\u001b[0m \u001b[0mfitnessData\u001b[0m\u001b[0;34m=\u001b[0m\u001b[0mfitnessData\u001b[0m\u001b[0;34m)\u001b[0m\u001b[0;34m\u001b[0m\u001b[0;34m\u001b[0m\u001b[0m\n\u001b[0m\u001b[1;32m    389\u001b[0m \u001b[0;34m\u001b[0m\u001b[0m\n\u001b[1;32m    390\u001b[0m     \u001b[0;32mdef\u001b[0m \u001b[0mclasifica\u001b[0m\u001b[0;34m(\u001b[0m\u001b[0mself\u001b[0m\u001b[0;34m,\u001b[0m \u001b[0mdatosTest\u001b[0m\u001b[0;34m,\u001b[0m \u001b[0mnominalAtributos\u001b[0m\u001b[0;34m,\u001b[0m \u001b[0mdiccionario\u001b[0m\u001b[0;34m)\u001b[0m\u001b[0;34m:\u001b[0m\u001b[0;34m\u001b[0m\u001b[0;34m\u001b[0m\u001b[0m\n",
      "\u001b[0;32m~/Documentos/FAA/LAB_5/ClasificadorAlgoritmoGenetico.py\u001b[0m in \u001b[0;36mevolucionPoblacion\u001b[0;34m(self, datostrain, fitnessData)\u001b[0m\n\u001b[1;32m    416\u001b[0m \u001b[0;34m\u001b[0m\u001b[0m\n\u001b[1;32m    417\u001b[0m             \u001b[0;31m# Calculamos el fitness de cada individuo\u001b[0m\u001b[0;34m\u001b[0m\u001b[0;34m\u001b[0m\u001b[0;34m\u001b[0m\u001b[0m\n\u001b[0;32m--> 418\u001b[0;31m             fitnesses = [individuo.fitness(datostrain) \n\u001b[0m\u001b[1;32m    419\u001b[0m                          \u001b[0;32mif\u001b[0m \u001b[0mindividuo\u001b[0m\u001b[0;34m.\u001b[0m\u001b[0mfitnessValue\u001b[0m \u001b[0;34m==\u001b[0m \u001b[0;34m-\u001b[0m\u001b[0;36m1\u001b[0m\u001b[0;34m\u001b[0m\u001b[0;34m\u001b[0m\u001b[0m\n\u001b[1;32m    420\u001b[0m                          \u001b[0;32melse\u001b[0m \u001b[0mindividuo\u001b[0m\u001b[0;34m.\u001b[0m\u001b[0mfitnessValue\u001b[0m\u001b[0;34m\u001b[0m\u001b[0;34m\u001b[0m\u001b[0m\n",
      "\u001b[0;32m~/Documentos/FAA/LAB_5/ClasificadorAlgoritmoGenetico.py\u001b[0m in \u001b[0;36m<listcomp>\u001b[0;34m(.0)\u001b[0m\n\u001b[1;32m    416\u001b[0m \u001b[0;34m\u001b[0m\u001b[0m\n\u001b[1;32m    417\u001b[0m             \u001b[0;31m# Calculamos el fitness de cada individuo\u001b[0m\u001b[0;34m\u001b[0m\u001b[0;34m\u001b[0m\u001b[0;34m\u001b[0m\u001b[0m\n\u001b[0;32m--> 418\u001b[0;31m             fitnesses = [individuo.fitness(datostrain) \n\u001b[0m\u001b[1;32m    419\u001b[0m                          \u001b[0;32mif\u001b[0m \u001b[0mindividuo\u001b[0m\u001b[0;34m.\u001b[0m\u001b[0mfitnessValue\u001b[0m \u001b[0;34m==\u001b[0m \u001b[0;34m-\u001b[0m\u001b[0;36m1\u001b[0m\u001b[0;34m\u001b[0m\u001b[0;34m\u001b[0m\u001b[0m\n\u001b[1;32m    420\u001b[0m                          \u001b[0;32melse\u001b[0m \u001b[0mindividuo\u001b[0m\u001b[0;34m.\u001b[0m\u001b[0mfitnessValue\u001b[0m\u001b[0;34m\u001b[0m\u001b[0;34m\u001b[0m\u001b[0m\n",
      "\u001b[0;32m~/Documentos/FAA/LAB_5/ClasificadorAlgoritmoGenetico.py\u001b[0m in \u001b[0;36mfitness\u001b[0;34m(self, dataset)\u001b[0m\n\u001b[1;32m    251\u001b[0m                 \u001b[0mfloat\u001b[0m\u001b[0;34m:\u001b[0m \u001b[0mValor\u001b[0m \u001b[0;32mdel\u001b[0m \u001b[0mfitness\u001b[0m \u001b[0;34m(\u001b[0m\u001b[0mentre\u001b[0m \u001b[0;34m[\u001b[0m\u001b[0;36m0\u001b[0m\u001b[0;34m-\u001b[0m\u001b[0;36m1\u001b[0m\u001b[0;34m]\u001b[0m\u001b[0;34m)\u001b[0m\u001b[0;34m.\u001b[0m\u001b[0;34m\u001b[0m\u001b[0;34m\u001b[0m\u001b[0m\n\u001b[1;32m    252\u001b[0m             \"\"\"\n\u001b[0;32m--> 253\u001b[0;31m             \u001b[0maciertos\u001b[0m \u001b[0;34m=\u001b[0m \u001b[0msum\u001b[0m\u001b[0;34m(\u001b[0m\u001b[0;34m[\u001b[0m\u001b[0;36m1\u001b[0m \u001b[0;32mfor\u001b[0m \u001b[0mdato\u001b[0m \u001b[0;32min\u001b[0m \u001b[0mdataset\u001b[0m \u001b[0;32mif\u001b[0m \u001b[0mself\u001b[0m\u001b[0;34m.\u001b[0m\u001b[0mconclusion\u001b[0m\u001b[0;34m(\u001b[0m\u001b[0mdato\u001b[0m\u001b[0;34m)\u001b[0m\u001b[0;34m]\u001b[0m\u001b[0;34m)\u001b[0m\u001b[0;34m\u001b[0m\u001b[0;34m\u001b[0m\u001b[0m\n\u001b[0m\u001b[1;32m    254\u001b[0m             \u001b[0mself\u001b[0m\u001b[0;34m.\u001b[0m\u001b[0mfitnessValue\u001b[0m \u001b[0;34m=\u001b[0m \u001b[0maciertos\u001b[0m\u001b[0;34m/\u001b[0m\u001b[0mdataset\u001b[0m\u001b[0;34m.\u001b[0m\u001b[0mshape\u001b[0m\u001b[0;34m[\u001b[0m\u001b[0;36m0\u001b[0m\u001b[0;34m]\u001b[0m\u001b[0;34m\u001b[0m\u001b[0;34m\u001b[0m\u001b[0m\n\u001b[1;32m    255\u001b[0m             \u001b[0;32mreturn\u001b[0m \u001b[0mself\u001b[0m\u001b[0;34m.\u001b[0m\u001b[0mfitnessValue\u001b[0m\u001b[0;34m\u001b[0m\u001b[0;34m\u001b[0m\u001b[0m\n",
      "\u001b[0;32m~/Documentos/FAA/LAB_5/ClasificadorAlgoritmoGenetico.py\u001b[0m in \u001b[0;36m<listcomp>\u001b[0;34m(.0)\u001b[0m\n\u001b[1;32m    251\u001b[0m                 \u001b[0mfloat\u001b[0m\u001b[0;34m:\u001b[0m \u001b[0mValor\u001b[0m \u001b[0;32mdel\u001b[0m \u001b[0mfitness\u001b[0m \u001b[0;34m(\u001b[0m\u001b[0mentre\u001b[0m \u001b[0;34m[\u001b[0m\u001b[0;36m0\u001b[0m\u001b[0;34m-\u001b[0m\u001b[0;36m1\u001b[0m\u001b[0;34m]\u001b[0m\u001b[0;34m)\u001b[0m\u001b[0;34m.\u001b[0m\u001b[0;34m\u001b[0m\u001b[0;34m\u001b[0m\u001b[0m\n\u001b[1;32m    252\u001b[0m             \"\"\"\n\u001b[0;32m--> 253\u001b[0;31m             \u001b[0maciertos\u001b[0m \u001b[0;34m=\u001b[0m \u001b[0msum\u001b[0m\u001b[0;34m(\u001b[0m\u001b[0;34m[\u001b[0m\u001b[0;36m1\u001b[0m \u001b[0;32mfor\u001b[0m \u001b[0mdato\u001b[0m \u001b[0;32min\u001b[0m \u001b[0mdataset\u001b[0m \u001b[0;32mif\u001b[0m \u001b[0mself\u001b[0m\u001b[0;34m.\u001b[0m\u001b[0mconclusion\u001b[0m\u001b[0;34m(\u001b[0m\u001b[0mdato\u001b[0m\u001b[0;34m)\u001b[0m\u001b[0;34m]\u001b[0m\u001b[0;34m)\u001b[0m\u001b[0;34m\u001b[0m\u001b[0;34m\u001b[0m\u001b[0m\n\u001b[0m\u001b[1;32m    254\u001b[0m             \u001b[0mself\u001b[0m\u001b[0;34m.\u001b[0m\u001b[0mfitnessValue\u001b[0m \u001b[0;34m=\u001b[0m \u001b[0maciertos\u001b[0m\u001b[0;34m/\u001b[0m\u001b[0mdataset\u001b[0m\u001b[0;34m.\u001b[0m\u001b[0mshape\u001b[0m\u001b[0;34m[\u001b[0m\u001b[0;36m0\u001b[0m\u001b[0;34m]\u001b[0m\u001b[0;34m\u001b[0m\u001b[0;34m\u001b[0m\u001b[0m\n\u001b[1;32m    255\u001b[0m             \u001b[0;32mreturn\u001b[0m \u001b[0mself\u001b[0m\u001b[0;34m.\u001b[0m\u001b[0mfitnessValue\u001b[0m\u001b[0;34m\u001b[0m\u001b[0;34m\u001b[0m\u001b[0m\n",
      "\u001b[0;32m~/Documentos/FAA/LAB_5/ClasificadorAlgoritmoGenetico.py\u001b[0m in \u001b[0;36mconclusion\u001b[0;34m(self, dato)\u001b[0m\n\u001b[1;32m    265\u001b[0m                 \u001b[0mint\u001b[0m\u001b[0;34m:\u001b[0m \u001b[0mConclusión\u001b[0m \u001b[0mmayoritaria\u001b[0m\u001b[0;34m.\u001b[0m\u001b[0;34m\u001b[0m\u001b[0;34m\u001b[0m\u001b[0m\n\u001b[1;32m    266\u001b[0m             \"\"\"\n\u001b[0;32m--> 267\u001b[0;31m             conclusiones = [regla[\"conclusion\"] for regla in self.reglas \n\u001b[0m\u001b[1;32m    268\u001b[0m                             if self.aplicaRegla(dato, regla)]\n\u001b[1;32m    269\u001b[0m             \u001b[0;32mif\u001b[0m \u001b[0mlen\u001b[0m\u001b[0;34m(\u001b[0m\u001b[0mconclusiones\u001b[0m\u001b[0;34m)\u001b[0m \u001b[0;34m==\u001b[0m \u001b[0;36m0\u001b[0m\u001b[0;34m:\u001b[0m\u001b[0;34m\u001b[0m\u001b[0;34m\u001b[0m\u001b[0m\n",
      "\u001b[0;32m~/Documentos/FAA/LAB_5/ClasificadorAlgoritmoGenetico.py\u001b[0m in \u001b[0;36m<listcomp>\u001b[0;34m(.0)\u001b[0m\n\u001b[1;32m    266\u001b[0m             \"\"\"\n\u001b[1;32m    267\u001b[0m             conclusiones = [regla[\"conclusion\"] for regla in self.reglas \n\u001b[0;32m--> 268\u001b[0;31m                             if self.aplicaRegla(dato, regla)]\n\u001b[0m\u001b[1;32m    269\u001b[0m             \u001b[0;32mif\u001b[0m \u001b[0mlen\u001b[0m\u001b[0;34m(\u001b[0m\u001b[0mconclusiones\u001b[0m\u001b[0;34m)\u001b[0m \u001b[0;34m==\u001b[0m \u001b[0;36m0\u001b[0m\u001b[0;34m:\u001b[0m\u001b[0;34m\u001b[0m\u001b[0;34m\u001b[0m\u001b[0m\n\u001b[1;32m    270\u001b[0m                 \u001b[0;32mreturn\u001b[0m \u001b[0mself\u001b[0m\u001b[0;34m.\u001b[0m\u001b[0mpriori\u001b[0m\u001b[0;34m\u001b[0m\u001b[0;34m\u001b[0m\u001b[0m\n",
      "\u001b[0;31mKeyboardInterrupt\u001b[0m: "
     ]
    }
   ],
   "source": [
    "# Generar espacio ROC con naive bayes\n",
    "utils.plot_espacio_ROC(titanic, 5, 20, AG.cruceInterReglas, AG.mutacionReglas)"
   ]
  },
  {
   "cell_type": "markdown",
   "id": "d2ce7729",
   "metadata": {},
   "source": [
    "Conclusion"
   ]
  }
 ],
 "metadata": {
  "kernelspec": {
   "display_name": "Python 3",
   "language": "python",
   "name": "python3"
  },
  "language_info": {
   "codemirror_mode": {
    "name": "ipython",
    "version": 3
   },
   "file_extension": ".py",
   "mimetype": "text/x-python",
   "name": "python",
   "nbconvert_exporter": "python",
   "pygments_lexer": "ipython3",
   "version": "3.8.8"
  }
 },
 "nbformat": 4,
 "nbformat_minor": 5
}
