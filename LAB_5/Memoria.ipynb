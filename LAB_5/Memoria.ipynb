{
 "cells": [
  {
   "cell_type": "markdown",
   "id": "d5f5a95d",
   "metadata": {},
   "source": [
    "# FAA 1462 Pareja 10. Práctica 4 REGRESIÓN LOGÍSTICA Y ANÁLISIS ROC\n",
    "## Kevin de la Coba Malam\n",
    "\n",
    "En este documento se hara un análisis del clasificador de **Algoritmos Genéticos** usando diferenrtes *poblaciones*, *generaciones*, *cruces*, *mutaciones* y *elitismo*. También se comparará el algoritmo con el clasificador de  **Naive Bayes** mediante el *espacio ROC*. \n",
    "\n",
    "En está practica, se ha usado solo la validación simple. En concreto, con la validación simple se usán valores para el %: **20** (se ejecutará 3 veces). Al tener varios tipos de mutación y cruce el test se hace muy largo.\n",
    "\n",
    "Para simplificar el documento se ha creado el archivo *utils.py* en el cual se encuentran las funciones para clasificar, mostrar gráficas...\n",
    "\n",
    "### Modificaciones\n",
    "\n",
    "- La clase Datos se ha modificado, el constructor tiene un parametro opcional (allNominal) que por defecto está a False para tratar a todos los atributos como si fuesen nominales. "
   ]
  },
  {
   "cell_type": "code",
   "execution_count": 1,
   "id": "236b8982",
   "metadata": {},
   "outputs": [],
   "source": [
    "# Para esconder los warnings\n",
    "def warn(*args, **kwargs):\n",
    "    pass\n",
    "import warnings\n",
    "warnings.warn = warn\n",
    "\n",
    "from ClasificadorAlgoritmoGenetico import AlgoritmoGenetico as AG\n",
    "from Datos import Datos\n",
    "import utils\n",
    "import matplotlib.pyplot as plt\n",
    "\n",
    "# Cargamos datos\n",
    "l = Datos(\"lentillas.data\")\n",
    "titanic = Datos(\"titanic.csv\", allNominal=True)\n",
    "ttt = Datos(\"tic-tac-toe.data\")"
   ]
  },
  {
   "cell_type": "markdown",
   "id": "52726aa7",
   "metadata": {},
   "source": [
    "## 1. Detalles de la implementación\n",
    "\n",
    "Lo primero sería mencionar la estructura que tiene cada individuo. Para crear esta estructura se ha hecho una clase interna en la cual se define a un individuo con los siguientes datos.\n",
    "```py\n",
    "class Individuo:\n",
    "\tfitnessValue # Valor de fitness del individuo\n",
    "\tpriori # Clase mayoritaria de los datos\n",
    "\treglas = [\n",
    "\t\t{\"regla\": [int], \"conclusion\": int} # Cada regla es un diccionario\n",
    "\t\t...\n",
    "\t]\n",
    "```\n",
    "Para representar las reglas se usa un diccionario, en este diccionario tenemos la clave \"regla\" en la cual el valor es una lista de enteros. Cada entero de esta lista hace referencia a la cadena de bits para un atributo, por ejemplo: Si tenemos 3 atributos A, B y C, tendremos 3 enteros en la lista, si cada atributo tiene 3 valores, se usaran 3 bits de cada entero. Para operar con estos bits se usan bit operators (&, |).\n",
    "\n",
    "La conclusión es un entero que marca 0 o 1.\n",
    "\n",
    "### 1.1 Generación de la población inicial\n",
    "\n",
    "Las reglas se crean de forma aleatoria, asignando para cada atributo una cadena aleatoria (de la cual solo se van a usar los N primeros bits, siendo N el número de posibles valores en el atributo). Para este análisis se usaran individuos con un **máximo de 5 reglas**.\n",
    "\n",
    "### 1.2 Cruces implementados\n",
    "\n",
    "Se han implementado el cruce *inter reglas* y el cruce *intra reglas*. Son métodos estáticos de la clase *ClasificadorAlgoritmoGenetico* que deben pasarse al propio constructor de la clase (patrón template).\n",
    "\n",
    "### 1.3 Mutaciones implementadas\n",
    "\n",
    "Se ha implementado la *mutación estandar* y la *mutación de reglas*. De nuevo, son métodos estáticos que deben pasarse al constructor.\n",
    "\n",
    "### 1.4 Clasificación\n",
    "\n",
    "La clasificación es simple, se coge al mejor individuo del entrenamiento y se aplican las reglas, pero, ¿cómo se aplican estas reglas? Al utilizar cadenas de bits para cada atributo es simple comparar si un valor se cumple en una regla o no, por ejemplo:\n",
    "Si tenemos el atributo A con los posibles datos 'a', 'b', 'c', tendríamos una cadena de bits para este atributo con 3 bits. Si recibimos el valor 'a', recibimos la cadena 001 (un entero con valor 1), si recibimos 'b' 010 (entero con valor 2) y si recibimos 'c' 100 (entero con valor 4). Con puertas lógicas es muy simple comparar estos valores. Si tenemos la regla 101 (entero con valor 5) y recibimos el valor 001 (a) (aplicamos la puerta lógica and sobre los valores enteros 5 y 1, 101 & 001), pues esa parte de la regla se aprobaría para este atributo y haría falta hacerlo con todos los demás, si se cumplen todos devolvemos la conclusión.\n",
    "Si varias reglas se cumplen, escogemos la conclusión mayoritaria, y si no se cumple ninguna regla, devolvemos la clase mayoritaria (a priori).\n",
    "\n",
    "En el entrenamiento (también en la clasificación) puede pasar que varias relgas se cumplan o que no se cumpla ninguna, en el primer caso lo que se hace es devolver la conclusión mayoritaria, en el segundo caso se devulve la clase a priori (clase mayoritaria).\n",
    "\n",
    "## 2. Resultados clasificación.\n",
    "\n",
    "Las opciones que se han usado para la clasificación son las siguientes:\n",
    "- **Población**: Variable [50-150].\n",
    "- **Generacion**: Variable [100-200].\n",
    "- **Máximo número de reglas**: 5.\n",
    "- **Probabilidad mutación**: 5%.\n",
    "- **Proporción de elitismo**: 5%.\n",
    "- **Cruce**: Ambos (inter e intra).\n",
    "- **Mutación**: Ambas (estandar y de reglas).\n",
    "- **Método de validación**: Simple 20%.\n",
    "\n",
    "### Cruce *Inter Reglas* y mutación *estandar*"
   ]
  },
  {
   "cell_type": "code",
   "execution_count": 2,
   "id": "c5a20806",
   "metadata": {},
   "outputs": [
    {
     "name": "stdout",
     "output_type": "stream",
     "text": [
      "Test Poblacion=50 Generaciones=100\tTic-Tac-Toe - Error=0.376963\t\tTitanic - Error=0.507177\n",
      "\n",
      "[Tic-Tac-Toe] reglas del mejor individuo:\n",
      " [REGLA 1] - IF TLeftSq=(x) AND TMidSq=(o) AND TRightSq=(b OR o) AND MLeftSq=(b OR x) AND MMidSq=(b OR o) AND MRightSq=(b OR x) AND BLeftSq=(b OR x) AND BMidSq=(b OR x) AND BRightSq=(b) THEN concl=1\n",
      "[REGLA 2] - IF TLeftSq=(o) AND TMidSq=(b OR o) AND TRightSq=(b OR o) AND MLeftSq=(b OR o) AND MMidSq=(b OR o) AND MRightSq=(x) AND BLeftSq=(b) AND BMidSq=(x) AND BRightSq=(b) THEN concl=0\n",
      "\n",
      "[Titanic] reglas del mejor individuo:\n",
      " [REGLA 1] - IF Pclass=(3) AND Sex=(female) AND Age=(0 OR 1 OR 2 OR 5 OR 7 OR 8 OR 9 OR 10 OR 11) THEN concl=1\n",
      "[REGLA 2] - IF Pclass=(3) AND Sex=(female) AND Age=(1 OR 2 OR 3 OR 4 OR 5 OR 7 OR 8 OR 9 OR 15) THEN concl=1\n",
      "[REGLA 3] - IF Pclass=(3) AND Sex=(female) AND Age=(1 OR 2 OR 3 OR 4 OR 5 OR 7 OR 8 OR 9 OR 15) THEN concl=1\n",
      "[REGLA 4] - IF Pclass=(1 OR 3) AND Sex=(female) AND Age=(0 OR 1 OR 2 OR 3 OR 6 OR 7 OR 8 OR 9 OR 12 OR 13 OR 14 OR 15) THEN concl=1\n",
      "\n",
      "Test Poblacion=50 Generaciones=200\tTic-Tac-Toe - Error=0.340314\t\tTitanic - Error=0.468900\n",
      "\n",
      "[Tic-Tac-Toe] reglas del mejor individuo:\n",
      " [REGLA 1] - IF TLeftSq=(b OR o) AND TMidSq=(b) AND TRightSq=(x) AND MLeftSq=(o) AND MMidSq=(b OR x) AND MRightSq=(o) AND BLeftSq=(b OR o) AND BMidSq=(o) AND BRightSq=(b OR x) THEN concl=1\n",
      "[REGLA 2] - IF TLeftSq=(x) AND TMidSq=(x) AND TRightSq=(o) AND MLeftSq=(o) AND MMidSq=(x) AND MRightSq=(b OR x) AND BLeftSq=(o) AND BMidSq=(b OR x) AND BRightSq=(x) THEN concl=1\n",
      "\n",
      "[Titanic] reglas del mejor individuo:\n",
      " [REGLA 1] - IF Pclass=(1) AND Sex=(female) AND Age=(0 OR 2 OR 4 OR 5 OR 9 OR 10 OR 11 OR 12 OR 13 OR 14) THEN concl=1\n",
      "[REGLA 2] - IF Pclass=(1 OR 3) AND Sex=(female) AND Age=(1 OR 3 OR 4 OR 5 OR 7 OR 8 OR 9 OR 10 OR 11 OR 14 OR 15) THEN concl=1\n",
      "\n",
      "Test Poblacion=150 Generaciones=100\tTic-Tac-Toe - Error=0.319372\t\tTitanic - Error=0.507177\n",
      "\n",
      "[Tic-Tac-Toe] reglas del mejor individuo:\n",
      " [REGLA 1] - IF TLeftSq=(b) AND TMidSq=(b) AND TRightSq=(b OR x) AND MLeftSq=(o) AND MMidSq=(b) AND MRightSq=(o) AND BLeftSq=(b OR o) AND BMidSq=(b) AND BRightSq=(b OR x) THEN concl=0\n",
      "[REGLA 2] - IF TLeftSq=(b OR o) AND TMidSq=(b OR o) AND TRightSq=(b OR o) AND MLeftSq=(o) AND MMidSq=(b OR o) AND MRightSq=(x) AND BLeftSq=(b OR x) AND BMidSq=(b OR o) AND BRightSq=(x) THEN concl=0\n",
      "\n",
      "[Titanic] reglas del mejor individuo:\n",
      " [REGLA 1] - IF Pclass=(1 OR 2 OR 3) AND Sex=(female) AND Age=(1 OR 2 OR 3 OR 4 OR 5 OR 6 OR 8 OR 9 OR 10 OR 12 OR 13 OR 14 OR 15) THEN concl=1\n",
      "[REGLA 2] - IF Pclass=(1 OR 2) AND Sex=(female) AND Age=(5 OR 7 OR 9 OR 10 OR 11 OR 12 OR 14 OR 15) THEN concl=1\n",
      "[REGLA 3] - IF Pclass=(1 OR 2) AND Sex=(female) AND Age=(5 OR 7 OR 9 OR 10 OR 11 OR 12 OR 14 OR 15) THEN concl=1\n",
      "[REGLA 4] - IF Pclass=(1 OR 2) AND Sex=(female) AND Age=(5 OR 7 OR 9 OR 10 OR 11 OR 12 OR 14 OR 15) THEN concl=1\n",
      "[REGLA 5] - IF Pclass=(1 OR 3) AND Sex=(female) AND Age=(0 OR 2 OR 4 OR 5 OR 7 OR 9 OR 10 OR 11 OR 14 OR 15) THEN concl=1\n",
      "\n",
      "Test Poblacion=150 Generaciones=200\tTic-Tac-Toe - Error=0.382199\t\tTitanic - Error=0.492823\n",
      "\n",
      "[Tic-Tac-Toe] reglas del mejor individuo:\n",
      " [REGLA 1] - IF TLeftSq=(o OR x) AND TMidSq=(o) AND TRightSq=(b OR o) AND MLeftSq=(o) AND MMidSq=(b OR x) AND MRightSq=(x) AND BLeftSq=(o) AND BMidSq=(x) AND BRightSq=(b OR o) THEN concl=1\n",
      "[REGLA 2] - IF TLeftSq=(x) AND TMidSq=(b OR x) AND TRightSq=(o) AND MLeftSq=(b OR o) AND MMidSq=(b) AND MRightSq=(x) AND BLeftSq=(o) AND BMidSq=(b OR o) AND BRightSq=(o) THEN concl=0\n",
      "\n",
      "[Titanic] reglas del mejor individuo:\n",
      " [REGLA 1] - IF Pclass=(1 OR 2 OR 3) AND Sex=(female) AND Age=(0 OR 3 OR 4 OR 5 OR 7 OR 8 OR 11 OR 12) THEN concl=1\n",
      "[REGLA 2] - IF Pclass=(1 OR 2) AND Sex=(female) AND Age=(3 OR 4 OR 5 OR 6 OR 8 OR 11 OR 15) THEN concl=1\n",
      "[REGLA 3] - IF Pclass=(1 OR 3) AND Sex=(female) AND Age=(0 OR 1 OR 2 OR 3 OR 4 OR 5 OR 6 OR 7 OR 9 OR 11 OR 12 OR 13 OR 15) THEN concl=1\n",
      "\n"
     ]
    }
   ],
   "source": [
    "errorMedioTTT_inter_estandar, errorMedioTITANIC_inter_estandar = utils.AG_test(ttt, titanic, AG.cruceInterReglas, AG.mutacionEstandar)"
   ]
  },
  {
   "cell_type": "markdown",
   "id": "d446cb74",
   "metadata": {},
   "source": [
    "### Cruce *Inter Reglas* y mutación *de reglas*"
   ]
  },
  {
   "cell_type": "code",
   "execution_count": 3,
   "id": "95d8fc84",
   "metadata": {},
   "outputs": [
    {
     "name": "stdout",
     "output_type": "stream",
     "text": [
      "Test Poblacion=50 Generaciones=100\tTic-Tac-Toe - Error=0.361257\t\tTitanic - Error=0.368421\n",
      "\n",
      "[Tic-Tac-Toe] reglas del mejor individuo:\n",
      " [REGLA 1] - IF TLeftSq=(b OR o OR x) AND TMidSq=(x) AND ) AND MMidSq=(b OR o) AND MRightSq=(o) AND BLeftSq=(b OR o OR x) AND BMidSq=(x) AND BRightSq=(b OR x) THEN concl=0\n",
      "[REGLA 2] - IF TLeftSq=(b OR o OR x) AND TMidSq=(b OR x) AND TRightSq=(b OR x) AND MMidSq=(x) AND MRightSq=(o) AND BLeftSq=(b OR o OR x) AND BMidSq=(x) AND BRightSq=(b OR o OR x) THEN concl=0\n",
      "\n",
      "[Titanic] reglas del mejor individuo:\n",
      " [REGLA 1] - IF Sex=(female) AND Age=(0 OR 2 OR 3 OR 4 OR 9 OR 10 OR 12 OR 15) THEN concl=1\n",
      "[REGLA 2] - IF Pclass=(1 OR 3) AND Age=(0 OR 1 OR 2 OR 9 OR 14 OR 15) THEN concl=1\n",
      "[REGLA 3] - IF Pclass=(2 OR 3) AND Sex=(female) AND Age=(0 OR 1 OR 2 OR 4 OR 5 OR 6 OR 7 OR 12 OR 15) THEN concl=0\n",
      "\n",
      "Test Poblacion=50 Generaciones=200\tTic-Tac-Toe - Error=0.366492\t\tTitanic - Error=0.607656\n",
      "\n",
      "[Tic-Tac-Toe] reglas del mejor individuo:\n",
      " [REGLA 1] - IF TLeftSq=(b OR x) AND TMidSq=(b OR o) AND TRightSq=(b OR x) AND MLeftSq=(x) AND MMidSq=(b OR o OR x) AND MRightSq=(o OR x) AND BLeftSq=(o) AND BMidSq=(o OR x) AND BRightSq=(b OR o OR x) THEN concl=1\n",
      "[REGLA 2] - IF TLeftSq=(o OR x) AND TMidSq=(x) AND TRightSq=(b) AND MLeftSq=(x) AND MMidSq=(b OR x) AND MRightSq=(b OR o) AND BLeftSq=(x) AND BMidSq=(b OR o) AND BRightSq=(b) THEN concl=1\n",
      "\n",
      "[Titanic] reglas del mejor individuo:\n",
      " [REGLA 1] - IF Pclass=(3) AND Sex=(female OR male) AND Age=(3 OR 5 OR 7 OR 8 OR 9 OR 10 OR 13) THEN concl=1\n",
      "[REGLA 2] - IF Pclass=(1 OR 2) AND Sex=(male) AND Age=(0 OR 1 OR 2 OR 6 OR 7 OR 8 OR 11 OR 12 OR 14) THEN concl=1\n",
      "[REGLA 3] - IF Pclass=(1 OR 2) AND ) AND Age=(0 OR 3 OR 7 OR 9 OR 11 OR 12 OR 13 OR 14 OR 15) THEN concl=1\n",
      "[REGLA 4] - IF Pclass=(1) AND Sex=(male) AND Age=(0 OR 1 OR 4 OR 7 OR 8 OR 9 OR 11 OR 12 OR 13 OR 14 OR 15) THEN concl=1\n",
      "[REGLA 5] - IF Pclass=(1 OR 2) AND Sex=(male) AND Age=(0 OR 1 OR 2 OR 6 OR 7 OR 8 OR 11 OR 12 OR 14) THEN concl=1\n",
      "\n",
      "Test Poblacion=150 Generaciones=100\tTic-Tac-Toe - Error=0.366492\t\tTitanic - Error=0.526316\n",
      "\n",
      "[Tic-Tac-Toe] reglas del mejor individuo:\n",
      " [REGLA 1] - IF TLeftSq=(b OR o) AND TMidSq=(b OR o OR x) AND TRightSq=(o) AND MLeftSq=(b) AND MMidSq=(b OR x) AND ) AND BLeftSq=(o OR x) AND BMidSq=(b OR o) AND BRightSq=(x) THEN concl=0\n",
      "[REGLA 2] - IF TLeftSq=(o OR x) AND TMidSq=(b OR o OR x) AND TRightSq=(b OR o) AND MLeftSq=(o) AND MMidSq=(b OR o OR x) AND MRightSq=(o) AND BLeftSq=(b OR o OR x) AND BMidSq=(b OR o OR x) AND BRightSq=(o) THEN concl=0\n",
      "\n",
      "[Titanic] reglas del mejor individuo:\n",
      " [REGLA 1] - IF Pclass=(2 OR 3) AND Sex=(male) AND Age=(0 OR 2 OR 3 OR 5 OR 6 OR 8 OR 10 OR 13 OR 14 OR 15) THEN concl=1\n",
      "[REGLA 2] - IF Pclass=(1 OR 3) AND Sex=(female) AND Age=(0 OR 1 OR 5 OR 11 OR 15) THEN concl=1\n",
      "[REGLA 3] - IF Pclass=(2 OR 3) AND Sex=(male) AND Age=(1 OR 3 OR 4 OR 5 OR 8 OR 11 OR 12 OR 13 OR 15) THEN concl=1\n",
      "\n",
      "Test Poblacion=150 Generaciones=200\tTic-Tac-Toe - Error=0.324607\t\tTitanic - Error=0.483254\n",
      "\n",
      "[Tic-Tac-Toe] reglas del mejor individuo:\n",
      " [REGLA 1] - IF TLeftSq=(o OR x) AND TMidSq=(b OR o OR x) AND TRightSq=(b OR x) AND ) AND MRightSq=(o OR x) AND BLeftSq=(x) AND BMidSq=(o) AND BRightSq=(o) THEN concl=0\n",
      "[REGLA 2] - IF TLeftSq=(b OR o) AND TMidSq=(b OR o OR x) AND TRightSq=(o OR x) AND MLeftSq=(b) AND MMidSq=(b) AND MRightSq=(b) AND BLeftSq=(b OR o) THEN concl=0\n",
      "\n",
      "[Titanic] reglas del mejor individuo:\n",
      " [REGLA 1] - IF Pclass=(1) AND Sex=(female OR male) AND Age=(1 OR 2 OR 4 OR 5 OR 7 OR 8 OR 10 OR 11) THEN concl=1\n",
      "[REGLA 2] - IF Pclass=(1) AND Sex=(male) AND Age=(1 OR 2 OR 3 OR 6 OR 7 OR 8 OR 11 OR 12 OR 13 OR 14 OR 15) THEN concl=0\n",
      "[REGLA 3] - IF Pclass=(1 OR 2) AND Sex=(female) AND Age=(0 OR 3 OR 4 OR 5 OR 6 OR 7 OR 8 OR 9 OR 14) THEN concl=0\n",
      "\n"
     ]
    }
   ],
   "source": [
    "errorMedioTTT_inter_reglas, errorMedioTITANIC_inter_reglas = utils.AG_test(ttt, titanic, AG.cruceInterReglas, AG.mutacionReglas)"
   ]
  },
  {
   "cell_type": "markdown",
   "id": "bf679f70",
   "metadata": {},
   "source": [
    "### Cruce *Intra Reglas* y mutación *estandar*"
   ]
  },
  {
   "cell_type": "code",
   "execution_count": 4,
   "id": "22edd6f1",
   "metadata": {},
   "outputs": [
    {
     "name": "stdout",
     "output_type": "stream",
     "text": [
      "Test Poblacion=50 Generaciones=100\tTic-Tac-Toe - Error=0.329843\t\tTitanic - Error=0.454545\n",
      "\n",
      "[Tic-Tac-Toe] reglas del mejor individuo:\n",
      " [REGLA 1] - IF TLeftSq=(o OR x) AND MLeftSq=(b OR x) AND MMidSq=(b OR o OR x) AND MRightSq=(b OR x) AND BLeftSq=(b OR x) AND BMidSq=(o OR x) AND BRightSq=(x) THEN concl=1\n",
      "[REGLA 2] - IF TLeftSq=(b OR o OR x) AND TMidSq=(b OR x) AND TRightSq=(b OR o OR x) AND MLeftSq=(b OR x) AND MMidSq=(b OR x) AND BLeftSq=(b OR x) AND BMidSq=(b) AND BRightSq=(o OR x) THEN concl=1\n",
      "[REGLA 3] - IF TLeftSq=(x) AND TMidSq=(b) AND MLeftSq=(b OR x) AND MMidSq=(x) AND MRightSq=(b OR x) AND BLeftSq=(x) AND BMidSq=(b OR x) AND BRightSq=(b OR x) THEN concl=1\n",
      "\n",
      "[Titanic] reglas del mejor individuo:\n",
      " [REGLA 1] - IF Pclass=(2) AND Sex=(female) AND Age=(1 OR 3 OR 5 OR 6 OR 7 OR 8 OR 11 OR 12 OR 13 OR 14) THEN concl=1\n",
      "[REGLA 2] - IF Pclass=(2) AND Sex=(female) AND Age=(1 OR 3 OR 4 OR 5 OR 9 OR 10 OR 13 OR 15) THEN concl=1\n",
      "[REGLA 3] - IF Pclass=(3) AND Sex=(female) AND Age=(0 OR 4 OR 5 OR 9 OR 12 OR 13 OR 14 OR 15) THEN concl=1\n",
      "[REGLA 4] - IF Pclass=(1 OR 2 OR 3) AND Sex=(female) AND Age=(0 OR 1 OR 3 OR 7 OR 8 OR 11 OR 12 OR 13 OR 15) THEN concl=1\n",
      "\n",
      "Test Poblacion=50 Generaciones=200\tTic-Tac-Toe - Error=0.308901\t\tTitanic - Error=0.545455\n",
      "\n",
      "[Tic-Tac-Toe] reglas del mejor individuo:\n",
      " [REGLA 1] - IF TLeftSq=(o) AND TMidSq=(b) AND TRightSq=(x) AND MLeftSq=(x) AND MMidSq=(x) AND MRightSq=(b) AND BLeftSq=(b OR x) AND BMidSq=(b OR o) AND BRightSq=(b) THEN concl=0\n",
      "[REGLA 2] - IF TLeftSq=(o) AND TMidSq=(b OR o) AND TRightSq=(b) AND MMidSq=(b OR x) AND MRightSq=(b OR o) AND BLeftSq=(b OR o) AND BMidSq=(b OR o) AND BRightSq=(b OR o) THEN concl=0\n",
      "[REGLA 3] - IF TLeftSq=(b) AND TRightSq=(x) AND MLeftSq=(x) AND MRightSq=(b OR o OR x) AND BMidSq=(o OR x) AND BRightSq=(b) THEN concl=0\n",
      "\n",
      "[Titanic] reglas del mejor individuo:\n",
      " [REGLA 1] - IF Pclass=(1 OR 3) AND Sex=(female) AND Age=(0 OR 1 OR 2 OR 3 OR 7 OR 9 OR 10 OR 11 OR 12 OR 13) THEN concl=1\n",
      "[REGLA 2] - IF Pclass=(2 OR 3) AND Sex=(female) AND Age=(1 OR 2 OR 3 OR 5 OR 7 OR 8 OR 9 OR 10 OR 12) THEN concl=1\n",
      "[REGLA 3] - IF Pclass=(1 OR 2 OR 3) AND Sex=(female) AND Age=(0 OR 1 OR 2 OR 4 OR 6 OR 7 OR 8 OR 9 OR 15) THEN concl=1\n",
      "[REGLA 4] - IF Pclass=(1 OR 3) AND Sex=(female) AND Age=(0 OR 1 OR 3 OR 5 OR 6 OR 10 OR 13) THEN concl=1\n",
      "\n",
      "Test Poblacion=150 Generaciones=100\tTic-Tac-Toe - Error=0.345550\t\tTitanic - Error=0.483254\n",
      "\n",
      "[Tic-Tac-Toe] reglas del mejor individuo:\n",
      " [REGLA 1] - IF TRightSq=(o) AND MLeftSq=(b OR x) AND MMidSq=(b OR o OR x) AND MRightSq=(b) AND BLeftSq=(b OR o OR x) AND BMidSq=(b) AND BRightSq=(b OR o) THEN concl=1\n",
      "\n",
      "[Titanic] reglas del mejor individuo:\n",
      " [REGLA 1] - IF Sex=(female) AND Age=(0 OR 1 OR 3 OR 6 OR 7 OR 8 OR 11 OR 13 OR 14) THEN concl=1\n",
      "[REGLA 2] - IF Pclass=(3) AND Sex=(female) AND Age=(0 OR 1 OR 5 OR 6 OR 7 OR 12 OR 14) THEN concl=1\n",
      "[REGLA 3] - IF Pclass=(1 OR 2 OR 3) AND Sex=(female) AND Age=(0 OR 1 OR 2 OR 4 OR 5 OR 6 OR 9 OR 13) THEN concl=1\n",
      "[REGLA 4] - IF Pclass=(2 OR 3) AND Sex=(female) AND Age=(1 OR 2 OR 3 OR 4 OR 5 OR 6 OR 7 OR 9 OR 10 OR 11 OR 13 OR 14 OR 15) THEN concl=1\n",
      "\n",
      "Test Poblacion=150 Generaciones=200\tTic-Tac-Toe - Error=0.308901\t\tTitanic - Error=0.502392\n",
      "\n",
      "[Tic-Tac-Toe] reglas del mejor individuo:\n",
      " [REGLA 1] - IF TMidSq=(b) AND TRightSq=(x) AND MLeftSq=(b OR x) AND MMidSq=(b) AND MRightSq=(b OR o OR x) AND BLeftSq=(o OR x) AND BMidSq=(b OR x) AND BRightSq=(b OR x) THEN concl=1\n",
      "[REGLA 2] - IF TMidSq=(b OR o) AND MMidSq=(x) AND MRightSq=(o OR x) AND BLeftSq=(b OR o) AND BMidSq=(o OR x) AND BRightSq=(b) THEN concl=1\n",
      "[REGLA 3] - IF TLeftSq=(b OR o) AND TMidSq=(b OR o OR x) AND MLeftSq=(b) AND MMidSq=(o) AND MRightSq=(x) AND BLeftSq=(b OR x) AND BMidSq=(b OR o OR x) AND BRightSq=(o OR x) THEN concl=1\n",
      "[REGLA 4] - IF TLeftSq=(o OR x) AND TMidSq=(b) AND TRightSq=(b OR o OR x) AND MLeftSq=(o OR x) AND MMidSq=(x) AND MRightSq=(x) AND BLeftSq=(b OR x) AND BMidSq=(o) AND BRightSq=(o) THEN concl=1\n",
      "\n",
      "[Titanic] reglas del mejor individuo:\n",
      " [REGLA 1] - IF Pclass=(3) AND Sex=(female) AND Age=(1 OR 6 OR 7 OR 10 OR 12 OR 13 OR 14 OR 15) THEN concl=1\n",
      "[REGLA 2] - IF Pclass=(1 OR 3) AND Sex=(female) AND Age=(0 OR 3 OR 4 OR 5 OR 7 OR 12 OR 13 OR 15) THEN concl=1\n",
      "[REGLA 3] - IF Pclass=(3) AND Sex=(female) AND Age=(0 OR 2 OR 3 OR 4 OR 5 OR 6 OR 9 OR 11 OR 12) THEN concl=1\n",
      "[REGLA 4] - IF Pclass=(1 OR 3) AND Sex=(female) AND Age=(1 OR 3 OR 4 OR 5 OR 6 OR 8 OR 9 OR 10 OR 11 OR 12 OR 14 OR 15) THEN concl=1\n",
      "\n"
     ]
    }
   ],
   "source": [
    "errorMedioTTT_intra_estandar, errorMedioTITANIC_intra_estandar = utils.AG_test(ttt, titanic, AG.cruceIntraReglas, AG.mutacionEstandar)"
   ]
  },
  {
   "cell_type": "markdown",
   "id": "fa4742ea",
   "metadata": {},
   "source": [
    "### Cruce *Intra Reglas* y mutación *de reglas*"
   ]
  },
  {
   "cell_type": "code",
   "execution_count": null,
   "id": "500d20f3",
   "metadata": {},
   "outputs": [
    {
     "name": "stdout",
     "output_type": "stream",
     "text": [
      "Test Poblacion=50 Generaciones=100\tTic-Tac-Toe - Error=0.303665\t\tTitanic - Error=0.449761\n",
      "\n",
      "[Tic-Tac-Toe] reglas del mejor individuo:\n",
      " [REGLA 1] - IF TLeftSq=(b OR o OR x) AND TMidSq=(b) AND TRightSq=(o) AND MLeftSq=(o) AND MMidSq=(b OR x) AND BLeftSq=(o OR x) AND BMidSq=(b OR o OR x) AND ) THEN concl=1\n",
      "[REGLA 2] - IF TMidSq=(b OR x) AND TRightSq=(b OR x) AND MLeftSq=(b OR o) AND MMidSq=(o OR x) AND MRightSq=(b OR o OR x) AND BLeftSq=(b OR o OR x) AND BMidSq=(b) AND BRightSq=(b OR o) THEN concl=0\n",
      "[REGLA 3] - IF TLeftSq=(b OR o OR x) AND TMidSq=(b OR o OR x) AND TRightSq=(b OR o OR x) AND MLeftSq=(b OR o OR x) AND MMidSq=(o OR x) AND MRightSq=(b OR o) AND BLeftSq=(x) AND BMidSq=(x) THEN concl=0\n",
      "\n",
      "[Titanic] reglas del mejor individuo:\n",
      " [REGLA 1] - IF Pclass=(2 OR 3) AND Sex=(male) AND Age=(2 OR 3 OR 5 OR 6 OR 7 OR 9 OR 10 OR 13 OR 14 OR 15) THEN concl=0\n",
      "[REGLA 2] - IF Pclass=(3) AND Sex=(female) AND Age=(15) THEN concl=1\n",
      "[REGLA 3] - IF Pclass=(2) AND ) AND Age=(0 OR 2 OR 6 OR 7 OR 8 OR 10 OR 11 OR 13) THEN concl=0\n",
      "[REGLA 4] - IF Pclass=(2 OR 3) AND Sex=(female) AND Age=(0 OR 1 OR 5 OR 6 OR 7 OR 8 OR 9 OR 11 OR 13 OR 15) THEN concl=0\n",
      "\n",
      "Test Poblacion=50 Generaciones=200\tTic-Tac-Toe - Error=0.361257\t\tTitanic - Error=0.248804\n",
      "\n",
      "[Tic-Tac-Toe] reglas del mejor individuo:\n",
      " [REGLA 1] - IF TLeftSq=(b OR x) AND TMidSq=(b OR o OR x) AND TRightSq=(o) AND MLeftSq=(o OR x) AND MMidSq=(b) AND MRightSq=(b) AND BLeftSq=(b OR x) AND BMidSq=(b OR o OR x) THEN concl=1\n",
      "[REGLA 2] - IF TLeftSq=(o) AND TMidSq=(b) AND TRightSq=(b OR o OR x) AND MLeftSq=(b OR o) AND MRightSq=(o) AND BLeftSq=(o OR x) AND BMidSq=(b) AND BRightSq=(o) THEN concl=1\n",
      "[REGLA 3] - IF TLeftSq=(b OR x) AND TMidSq=(o OR x) AND TRightSq=(o) AND MLeftSq=(b OR o) AND MMidSq=(o OR x) AND MRightSq=(o OR x) AND BLeftSq=(x) AND BMidSq=(b OR o OR x) THEN concl=1\n",
      "[REGLA 4] - IF TLeftSq=(b OR o OR x) AND TMidSq=(b) AND TRightSq=(b) AND MLeftSq=(b OR o) AND MMidSq=(b OR o OR x) AND MRightSq=(b OR x) AND BLeftSq=(o) AND BMidSq=(x) AND BRightSq=(b OR x) THEN concl=0\n",
      "\n",
      "[Titanic] reglas del mejor individuo:\n",
      " [REGLA 1] - IF Pclass=(2) AND Sex=(female OR male) AND Age=(0 OR 1 OR 2 OR 5 OR 6 OR 10 OR 11 OR 12 OR 13 OR 15) THEN concl=1\n",
      "[REGLA 2] - IF Pclass=(1 OR 3) AND Age=(0 OR 2 OR 4 OR 8 OR 9 OR 10 OR 12 OR 13 OR 15) THEN concl=1\n",
      "[REGLA 3] - IF Pclass=(1 OR 3) AND Sex=(female) AND Age=(0 OR 1 OR 3 OR 5 OR 7 OR 13 OR 14 OR 15) THEN concl=0\n",
      "[REGLA 4] - IF Pclass=(2 OR 3) AND Age=(3 OR 7 OR 9 OR 10 OR 12 OR 14 OR 15) THEN concl=1\n",
      "\n",
      "Test Poblacion=150 Generaciones=100\tTic-Tac-Toe - Error=0.319372\t\tTitanic - Error=0.416268\n",
      "\n",
      "[Tic-Tac-Toe] reglas del mejor individuo:\n",
      " [REGLA 1] - IF TLeftSq=(b OR x) AND TMidSq=(b OR o) AND TRightSq=(x) AND MLeftSq=(b OR o OR x) AND MMidSq=(x) AND MRightSq=(b OR x) AND BLeftSq=(o) AND BMidSq=(b) AND BRightSq=(b OR x) THEN concl=1\n",
      "[REGLA 2] - IF TLeftSq=(b OR o) AND TMidSq=(b OR o OR x) AND TRightSq=(o OR x) AND MLeftSq=(o OR x) AND MMidSq=(b OR x) AND MRightSq=(o OR x) AND BLeftSq=(b OR o) AND BMidSq=(b OR o OR x) AND BRightSq=(b) THEN concl=0\n",
      "[REGLA 3] - IF TLeftSq=(o OR x) AND TMidSq=(b OR x) AND TRightSq=(b OR x) AND MLeftSq=(b OR x) AND MMidSq=(b OR o OR x) AND MRightSq=(b OR x) AND BLeftSq=(o) AND BMidSq=(o) AND BRightSq=(b) THEN concl=1\n",
      "\n",
      "[Titanic] reglas del mejor individuo:\n",
      " [REGLA 1] - IF Pclass=(1 OR 2) AND Sex=(female OR male) AND Age=(1 OR 8 OR 9 OR 11 OR 14) THEN concl=1\n",
      "[REGLA 2] - IF Sex=(female) AND Age=(1 OR 2 OR 3 OR 7 OR 8 OR 9 OR 11 OR 14 OR 15) THEN concl=1\n",
      "[REGLA 3] - IF Pclass=(1 OR 2 OR 3) AND Sex=(male) AND Age=(1 OR 4 OR 7 OR 9 OR 13) THEN concl=1\n",
      "\n"
     ]
    }
   ],
   "source": [
    "errorMedioTTT_intra_reglas, errorMedioTITANIC_intra_reglas = utils.AG_test(ttt, titanic, AG.cruceIntraReglas, AG.mutacionReglas)"
   ]
  },
  {
   "cell_type": "markdown",
   "id": "4ecf15a9",
   "metadata": {},
   "source": [
    "### Población"
   ]
  },
  {
   "cell_type": "code",
   "execution_count": null,
   "id": "588ffdf0",
   "metadata": {},
   "outputs": [],
   "source": []
  },
  {
   "cell_type": "markdown",
   "id": "037531a2",
   "metadata": {},
   "source": [
    "### Cruce"
   ]
  },
  {
   "cell_type": "code",
   "execution_count": null,
   "id": "92065d2b",
   "metadata": {},
   "outputs": [],
   "source": []
  },
  {
   "cell_type": "code",
   "execution_count": null,
   "id": "1058ee3d",
   "metadata": {},
   "outputs": [],
   "source": [
    "### Mutación"
   ]
  },
  {
   "cell_type": "code",
   "execution_count": null,
   "id": "8ed69a33",
   "metadata": {},
   "outputs": [],
   "source": []
  },
  {
   "cell_type": "markdown",
   "id": "868e4050",
   "metadata": {},
   "source": [
    "# PONER CONCLUSION APARTADO ANTERIOR. DECIR QUE poblacion y generaciones es mejor, y decir que cruce y que mutacion es mejor.\n",
    "\n",
    "Podemos ver que tras cada ejecución se muestran las reglas de los mejores individuos en cada una de estas. En estas reglas predomina la **conclusión=1** con muy escasas reglas que contengan una **conclusión=0**, las que tienen 0, se han generado mediante cruces intra reglas.  \n",
    "\n",
    "Con respecto a los métodos de cruce, no vemos una diferencia notoria en los resultados, lo mismo pasa con la mutación, las diferentes mutaciones no han provocado un cambio notorio en el error.\n",
    "Lo que si que provoca una diferencia es el número de generaciones, en general cuantas menos generaciones, más error. Pero esta regla no siempre se cumple debido a la aleatoriedad del algoritmo, puede pasar que en la generación 2, se cree un individuo el cuál tiene un fitness muy alto.\n",
    "\n",
    "Podemos concluir que tenemos un error medio en el dataset de **Tic-Tac-Toe del 30%** y en del **Titanic del 40%-45%**, el **número de generaciones más optimo es 200** y la población más optima es\n",
    "\n",
    "\n",
    "## 3. Análisis\n",
    "Lo primero que destaca a la vista es el pronunciado error. Una de las posibles razones es por **la validación en si**, al no entrenar con todos los datos puede que las reglas se *sobreajusten* a los datos (el fitness del mejor individuo suele rondar el 70%-90% de aciertos, puede que se sobreajuste a los datos de entrenamiento), puede que el mejor individuo tras el entrenamiento tenga reglas que no se adecúen correctamente a los datos de test, esto provoca que se recurra mucho al priori provocando quizás mas errores de los deseados. Otra razón puede ser el **número de reglas**, este puede ser un factor clave en relación al error obtenido. Por último, otra razón que se me ocurre es por el hecho de que el algoritmo en si **es muy aleatorio**, puede que esa aleatoriedad no permita una clasificación mejor. De hecho, se puede ver como en el dataset titanic tenemos un resultado de error del 24% usando un cruce intra reglas y una mutación de reglas, pero este resultado probablemente sea debido a la aleatoriedad.\n",
    "\n",
    "Algo que se puede ver, es que en algunos individuos se repiten reglas, asumo que esto significa que estas reglas son buenas, ya que al cruzar individuos se han mantenido durante generaciones. Pero esto también tiene otra explicación, y es el propio método de cruce, el *cruce inter reglas* cruza las reglas de dos individuos **sin modificarlas**, esto puede causar lo anteriormente mencionado. En el cruce intra reglas no vemos tanta repetición de reglas, ya que las reglas **son modificadas**.\n",
    "\n",
    "Otro factor relevante es la *probabilidad de mutación*. Una probabilidad mayor podría acelerar el proceso de encontrar un muy buen individuo, pero hay que tener cuidado, una probabilidad muy grande puede provocar más errores, es muy similar al descenso de gradiente en regresión logística, si la constante de aprendizaje era muy alta, puede que no encontrasemos nunca mínimos, lo mismo pasa aquí, una probabilidad muy alta de mutación puede que lastre al algoritmo. El método de mutación también es importante, ya que en la mutación estandar cambiamos un único bit de una única regla, mientras que la mutación de reglas pasa por todos los bits tratando de cambiarlos. Podemos decir que en uno se tira un dado, y en otro se tira el dado muchas veces.\n",
    "\n",
    "Otra cosa que se ve de los mejores individuos es el *número de reglas*, a pesar de que la razón puede decirnos que \"cuantas más mejor\", vemos que los mejores individuos no siempre tienen el núemro máximo de reglas. En muchos casos tienen 2 o 3, aunque de media diría que hay 3 reglas.\n",
    "\n",
    "En cuanto al tamaño de la población, este es importante. Un tamaño de mutación amplio permite variedad de individuos aunque, no es necesario poner de más. Hay que tener en cuenta el número de atributos y el número de posibles valores de cada uno, ya que si ponemos más individuos que combinaciones no tendría sentido, aunque también es cierto que el número de combinaciones asciende rápidamente si el dataset es grande, haciendo casi imposible crear muchos individuos.\n",
    "\n",
    "Por último, el *número de generaciones*. Cuantas más generaciones mejor, aunque hay que poner un límite, ya que en un punto será muy difícil para el algoritmo encontrar un individuo mejor que el que hay y lo único que haremos será gastar recursos (esto se ve mejor en el siguiente apartado)."
   ]
  },
  {
   "cell_type": "markdown",
   "id": "0efa1ac0",
   "metadata": {},
   "source": [
    "## 4. Evolución del fitness\n",
    "### 4.1 Titanic"
   ]
  },
  {
   "cell_type": "code",
   "execution_count": null,
   "id": "a8d44905",
   "metadata": {
    "scrolled": false
   },
   "outputs": [],
   "source": [
    "# Plot de 2 fitness maximo y medio, en cada plot varios runs\n",
    "utils.plot(titanic, \"Titanic\", AG.cruceInterReglas, AG.mutacionReglas)"
   ]
  },
  {
   "cell_type": "markdown",
   "id": "ca75cf47",
   "metadata": {},
   "source": [
    "### 4.2 Tic-Tac-Toe"
   ]
  },
  {
   "cell_type": "code",
   "execution_count": null,
   "id": "2b3f2a8d",
   "metadata": {},
   "outputs": [],
   "source": [
    "# Plot de 2 fitness maximo y medio, en cada plot varios runs\n",
    "utils.plot(ttt, \"Tic-Tac-Toe\", AG.cruceInterReglas, AG.mutacionReglas)"
   ]
  },
  {
   "cell_type": "markdown",
   "id": "988b6ccc",
   "metadata": {},
   "source": [
    "Lo que podemos ver aquí es el crecimiento del fitness en varias ejecuciones (5) de entrenamiento el algoritmo entrena durante 100 generaciones. Vemos que en general, el mejor individuo se suele encontrar antes de llegar a 35 generaciones, después, el fitness se mantiene estable. Esto quiere decir que al algoritmo le cuesta encontrar mejores individuos.\n",
    "\n",
    "Debido a la aleatoriedad del algoritmo podemos ver que no siempre el crecimiento es el mismo, y que no se llegan a los mismos valores.\n",
    "\n",
    "## 5. Espacio ROC \n",
    "### 5.1 Titanic"
   ]
  },
  {
   "cell_type": "code",
   "execution_count": null,
   "id": "f5f2b2ae",
   "metadata": {},
   "outputs": [],
   "source": [
    "# Generar espacio ROC con naive bayes\n",
    "utils.plot_espacio_ROC(titanic, 5, 20, AG.cruceInterReglas, AG.mutacionReglas)"
   ]
  },
  {
   "cell_type": "markdown",
   "id": "d2ce7729",
   "metadata": {},
   "source": [
    "Conclusion"
   ]
  }
 ],
 "metadata": {
  "kernelspec": {
   "display_name": "Python 3",
   "language": "python",
   "name": "python3"
  },
  "language_info": {
   "codemirror_mode": {
    "name": "ipython",
    "version": 3
   },
   "file_extension": ".py",
   "mimetype": "text/x-python",
   "name": "python",
   "nbconvert_exporter": "python",
   "pygments_lexer": "ipython3",
   "version": "3.8.8"
  }
 },
 "nbformat": 4,
 "nbformat_minor": 5
}
