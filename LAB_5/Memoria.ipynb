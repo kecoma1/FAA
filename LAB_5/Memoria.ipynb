{
 "cells": [
  {
   "cell_type": "markdown",
   "id": "d5f5a95d",
   "metadata": {},
   "source": [
    "# FAA 1462 Pareja 10. Práctica 4 REGRESIÓN LOGÍSTICA Y ANÁLISIS ROC\n",
    "## Kevin de la Coba Malam\n",
    "\n",
    "En este documento se hara un análisis del clasificador de **Algoritmos Genéticos** usando diferenrtes *poblaciones*, *generaciones*, *cruces*, *mutaciones* y *elitismo*. También se comparará el algoritmo con el clasificador de  **Naive Bayes** mediante el *espacio ROC*. \n",
    "\n",
    "En está practica, se ha usado solo la validación simple. En concreto, con la validación simple se usán valores para el %: **20** (se ejecutará 3 veces). Al tener varios tipos de mutación y cruce el test se hace muy largo.\n",
    "\n",
    "Para simplificar el documento se ha creado el archivo *utils.py* en el cual se encuentran las funciones para clasificar, mostrar gráficas...\n",
    "\n",
    "### Modificaciones\n",
    "\n",
    "- La clase Datos se ha modificado, el constructor tiene un parametro opcional (allNominal) que por defecto está a False para tratar a todos los atributos como si fuesen nominales. "
   ]
  },
  {
   "cell_type": "code",
   "execution_count": 1,
   "id": "236b8982",
   "metadata": {},
   "outputs": [],
   "source": [
    "# Para esconder los warnings\n",
    "def warn(*args, **kwargs):\n",
    "    pass\n",
    "import warnings\n",
    "warnings.warn = warn\n",
    "\n",
    "from ClasificadorAlgoritmoGenetico import AlgoritmoGenetico as AG\n",
    "from Datos import Datos\n",
    "import utils\n",
    "import matplotlib.pyplot as plt\n",
    "\n",
    "# Cargamos datos\n",
    "titanic = Datos(\"titanic.csv\")\n",
    "ttt = Datos(\"tic-tac-toe.data\")"
   ]
  },
  {
   "cell_type": "markdown",
   "id": "52726aa7",
   "metadata": {},
   "source": [
    "## 1. Detalles de la implementación\n",
    "\n",
    "Lo primero sería mencionar la estructura que tiene cada individuo. Para crear esta estructura se ha hecho una clase interna en la cual se define a un individuo con los siguientes datos.\n",
    "```py\n",
    "class Individuo:\n",
    "\tfitnessValue # Valor de fitness del individuo\n",
    "\tpriori # Clase mayoritaria de los datos\n",
    "\treglas = [\n",
    "\t\t{\"regla\": [int], \"conclusion\": int} # Cada regla es un diccionario\n",
    "\t\t...\n",
    "\t]\n",
    "```\n",
    "Para representar las reglas se usa un diccionario, en este diccionario tenemos la clave \"regla\" en la cual el valor es una lista de enteros. Cada entero de esta lista hace referencia a la cadena de bits para un atributo, por ejemplo: Si tenemos 3 atributos A, B y C, tendremos 3 enteros en la lista, si cada atributo tiene 3 valores, se usaran 3 bits de cada entero. Para operar con estos bits se usan bit operators (&, |).\n",
    "\n",
    "La conclusión es un entero que marca 0 o 1.\n",
    "\n",
    "### 1.1 Generación de la población inicial\n",
    "\n",
    "Las reglas se crean de forma aleatoria, asignando para cada atributo una cadena aleatoria (de la cual solo se van a usar los N primeros bits, siendo N el número de posibles valores en el atributo). Para este análisis se usaran individuos con un **máximo de 5 reglas**.\n",
    "\n",
    "### 1.2 Cruces implementados\n",
    "\n",
    "Se han implementado el cruce *inter reglas* y el cruce *intra reglas*. Son métodos estáticos de la clase *ClasificadorAlgoritmoGenetico* que deben pasarse al propio constructor de la clase (patrón template).\n",
    "\n",
    "### 1.3 Mutaciones implementadas\n",
    "\n",
    "Se ha implementado la *mutación estandar* y la *mutación de reglas*. De nuevo, son métodos estáticos que deben pasarse al constructor.\n",
    "\n",
    "### 1.4 Clasificación\n",
    "\n",
    "La clasificación es simple, se coge al mejor individuo del entrenamiento y se aplican las reglas, pero, ¿cómo se aplican estas reglas? Al utilizar cadenas de bits para cada atributo es simple comparar si un valor se cumple en una regla o no, por ejemplo:\n",
    "Si tenemos el atributo A con los posibles datos 'a', 'b', 'c', tendríamos una cadena de bits para este atributo con 3 bits. Si recibimos el valor 'a', recibimos la cadena 001 (un entero con valor 1), si recibimos 'b' 010 (entero con valor 2) y si recibimos 'c' 100 (entero con valor 4). Con puertas lógicas es muy simple comparar estos valores. Si tenemos la regla 101 (entero con valor 5) y recibimos el valor 001 (a) (aplicamos la puerta lógica and sobre los valores enteros 5 y 1, 101 & 001), pues esa parte de la regla se aprobaría para este atributo y haría falta hacerlo con todos los demás, si se cumplen todos devolvemos la conclusión.\n",
    "\n",
    "En el entrenamiento (también en la clasificación) puede pasar que varias relgas se cumplan o que no se cumpla ninguna, en el primer caso lo que se hace es devolver la conclusión mayoritaria, en el segundo caso se devulve la clase a priori (clase mayoritaria).\n",
    "\n",
    "## 2. Resultados clasificación.\n",
    "\n",
    "Las opciones que se han usado para la clasificación son las siguientes:\n",
    "- **Población**: Variable [50-150].\n",
    "- **Generacion**: Variable [100-200].\n",
    "- **Máximo número de reglas**: 5.\n",
    "- **Probabilidad mutación**: 5%.\n",
    "- **Proporción de elitismo**: 5%.\n",
    "- **Cruce**: Ambos (inter e intra).\n",
    "- **Mutación**: Ambas (estandar y de reglas).\n",
    "\n",
    "### Cruce *Inter Reglas* y mutación *estandar*"
   ]
  },
  {
   "cell_type": "code",
   "execution_count": 2,
   "id": "c5a20806",
   "metadata": {},
   "outputs": [
    {
     "name": "stdout",
     "output_type": "stream",
     "text": [
      "Test Poblacion=50 Generaciones=100\tTic-Tac-Toe - Error=0.350785\t\tTitanic - Error=0.473684\n",
      "Test Poblacion=50 Generaciones=200\tTic-Tac-Toe - Error=0.350785\t\tTitanic - Error=0.416268\n",
      "Test Poblacion=150 Generaciones=100\tTic-Tac-Toe - Error=0.361257\t\tTitanic - Error=0.411483\n",
      "Test Poblacion=150 Generaciones=200\tTic-Tac-Toe - Error=0.350785\t\tTitanic - Error=0.430622\n"
     ]
    }
   ],
   "source": [
    "errorMedioTTT_inter_estandar, errorMedioTITANIC_inter_estandar = utils.AG_test(ttt, titanic, AG.cruceInterReglas, AG.mutacionEstandar)"
   ]
  },
  {
   "cell_type": "markdown",
   "id": "8f653d40",
   "metadata": {},
   "source": [
    "### Cruce *Inter Reglas* y mutación *de reglas*"
   ]
  },
  {
   "cell_type": "code",
   "execution_count": 3,
   "id": "781b2891",
   "metadata": {},
   "outputs": [
    {
     "name": "stdout",
     "output_type": "stream",
     "text": [
      "Test Poblacion=50 Generaciones=100\tTic-Tac-Toe - Error=0.371728\t\tTitanic - Error=0.478469\n",
      "Test Poblacion=50 Generaciones=200\tTic-Tac-Toe - Error=0.340314\t\tTitanic - Error=0.425837\n",
      "Test Poblacion=150 Generaciones=100\tTic-Tac-Toe - Error=0.345550\t\tTitanic - Error=0.406699\n",
      "Test Poblacion=150 Generaciones=200\tTic-Tac-Toe - Error=0.371728\t\tTitanic - Error=0.416268\n"
     ]
    }
   ],
   "source": [
    "errorMedioTTT_inter_reglas, errorMedioTITANIC_inter_reglas = utils.AG_test(ttt, titanic, AG.cruceInterReglas, AG.mutacionReglas)"
   ]
  },
  {
   "cell_type": "markdown",
   "id": "b5322363",
   "metadata": {},
   "source": [
    "### Cruce *Intra Reglas* y mutación *estandar*"
   ]
  },
  {
   "cell_type": "code",
   "execution_count": null,
   "id": "a4a3c955",
   "metadata": {},
   "outputs": [
    {
     "name": "stdout",
     "output_type": "stream",
     "text": [
      "Test Poblacion=50 Generaciones=100\tTic-Tac-Toe - Error=0.335079\t\tTitanic - Error=0.421053\n",
      "Test Poblacion=50 Generaciones=200\tTic-Tac-Toe - Error=0.345550\t\tTitanic - Error=0.425837\n"
     ]
    }
   ],
   "source": [
    "errorMedioTTT_intra_estandar, errorMedioTITANIC_intra_estandar = utils.AG_test(ttt, titanic, AG.cruceIntraReglas, AG.mutacionEstandar)"
   ]
  },
  {
   "cell_type": "markdown",
   "id": "9ce99b32",
   "metadata": {},
   "source": [
    "### Cruce *Intra Reglas* y mutación *de reglas*"
   ]
  },
  {
   "cell_type": "code",
   "execution_count": null,
   "id": "fdf62264",
   "metadata": {},
   "outputs": [],
   "source": [
    "errorMedioTTT_intra_reglas, errorMedioTITANIC_intra_reglas = utils.AG_test(ttt, titanic, AG.cruceIntraReglas, AG.mutacionReglas)"
   ]
  },
  {
   "cell_type": "markdown",
   "id": "868e4050",
   "metadata": {},
   "source": [
    "# PONER CONCLUSION APARTADO ANTERIOR. DECIR QUE poblacion y generaciones es mejor, y decir que cruce y que mutacion es mejor.\n",
    "\n",
    "Tambien decir que en la validación se tiene en cuenta mucho el priori, ya que puede pasar que el mejor individuo no tenga tantas reglas y tenga que recurrir al priori. Que para mi sería mejor no solo guardar al mejor individuo, cuando el mejor individuo trate de devolver el priori, que en vez de eso vaya al segundo mejor. \n",
    "\n",
    "## 3. Análisis\n",
    "Hablar de overfitting si ponemos muchas reglas. "
   ]
  },
  {
   "cell_type": "code",
   "execution_count": null,
   "id": "778f3562",
   "metadata": {},
   "outputs": [],
   "source": [
    "# Ejemplo con 10 reglas y 20 individuos"
   ]
  },
  {
   "cell_type": "markdown",
   "id": "c9aab72f",
   "metadata": {},
   "source": [
    "Hablar de la relación entre el poblacion y generaciones. Cuanta mas poblacion menos generaciones y cuantas mas generaciones menos poblacion.\n",
    "Decir que si la mutacion es muy alta, las cosas se pueden ir de madre.\n",
    "\n"
   ]
  },
  {
   "cell_type": "code",
   "execution_count": null,
   "id": "f253aac1",
   "metadata": {},
   "outputs": [],
   "source": [
    "# Ejemplo mutacion muy alta"
   ]
  },
  {
   "cell_type": "markdown",
   "id": "0c579871",
   "metadata": {},
   "source": [
    "Hablar sobre el ejemplo con mutación muy alta."
   ]
  },
  {
   "cell_type": "code",
   "execution_count": null,
   "id": "5029df81",
   "metadata": {},
   "outputs": [],
   "source": [
    "utils.plot_epoch(errorMedioPimaVC, 1.5, False)\n",
    "utils.plot_epoch(errorMedioPimaVS, 1.5, True)"
   ]
  },
  {
   "cell_type": "markdown",
   "id": "0efa1ac0",
   "metadata": {},
   "source": [
    "## 4. Evolución del fitness\n",
    "### 4.1 Titanic"
   ]
  },
  {
   "cell_type": "code",
   "execution_count": null,
   "id": "a8d44905",
   "metadata": {},
   "outputs": [],
   "source": [
    "# Plot de 2 fitness maximo y medio, en cada plot varios runs\n",
    "utils.plot(titanic)"
   ]
  },
  {
   "cell_type": "markdown",
   "id": "ca75cf47",
   "metadata": {},
   "source": [
    "hablar de el crecimiento.\n",
    "\n",
    "### 4.2 Tic-Tac-Toe"
   ]
  },
  {
   "cell_type": "code",
   "execution_count": null,
   "id": "2b3f2a8d",
   "metadata": {},
   "outputs": [],
   "source": [
    "# Plot de 2 fitness maximo y medio, en cada plot varios runs\n",
    "utils.plot(ttt)"
   ]
  },
  {
   "cell_type": "markdown",
   "id": "988b6ccc",
   "metadata": {},
   "source": [
    "Hablar del crecimiento.\n",
    "\n",
    "## 5. Espacio ROC con Naive Bayes"
   ]
  },
  {
   "cell_type": "code",
   "execution_count": null,
   "id": "2bd86b45",
   "metadata": {},
   "outputs": [],
   "source": [
    "# Generar espacio ROC con naive bayes"
   ]
  },
  {
   "cell_type": "markdown",
   "id": "df9d3d70",
   "metadata": {},
   "source": []
  }
 ],
 "metadata": {
  "kernelspec": {
   "display_name": "Python 3",
   "language": "python",
   "name": "python3"
  },
  "language_info": {
   "codemirror_mode": {
    "name": "ipython",
    "version": 3
   },
   "file_extension": ".py",
   "mimetype": "text/x-python",
   "name": "python",
   "nbconvert_exporter": "python",
   "pygments_lexer": "ipython3",
   "version": "3.8.8"
  }
 },
 "nbformat": 4,
 "nbformat_minor": 5
}
