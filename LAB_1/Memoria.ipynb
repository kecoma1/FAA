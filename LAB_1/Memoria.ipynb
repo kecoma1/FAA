{
 "cells": [
  {
   "cell_type": "markdown",
   "metadata": {},
   "source": [
    "# __Fundamentos de Aprendizaje Automático 2021/2022__\n",
    "## Práctica de Introducción: _TRATAMIENTO DE DATOS, PARTICIONAMIENTO Y DISEÑO PRELIMINAR DE LA APLICACIÓN_\n",
    "### Grupo 1462 - Pareja 10 - Kevin de la Coba Malam"
   ]
  },
  {
   "cell_type": "code",
   "execution_count": 1,
   "metadata": {},
   "outputs": [],
   "source": [
    "import pandas as pd\n",
    "import numpy as np\n",
    "from Datos import Datos\n",
    "import EstrategiaParticionado"
   ]
  },
  {
   "cell_type": "markdown",
   "metadata": {},
   "source": [
    "## __1. Introducción__\n",
    "En este jupyter notebook se explicarán las soluciones a los diferentes apartados de la práctica de introducción. Para construir la aplicación se ha usado la librería pandas y numpy."
   ]
  },
  {
   "cell_type": "markdown",
   "metadata": {},
   "source": [
    "## __2. Clase Datos - Tratamiento de datos__\n",
    "En el enunciado de la práctica se nos pide crear una clase \"Datos\" la cuál contenga los siguientes atributos:\n",
    "* **nominalAtributos**: Lista de valores booleanos indicando si una columna es nominal o no.\n",
    "* **diccionario**: Diccionario que nos permite _traducir_ los datos originales a datos númericos.\n",
    "* **datos**: Matriz en la cual se guardan los datos _traducidos_.\n",
    "\n",
    "Para resolver este apartado se ha creado el archivo __Datos.py__ en base a la plantilla proporcionada donde se encuentra la clase __Datos__. \n",
    "Dicha clase contiene un constructor que se encarga de construir los atributos antes mencionados, para eso lo primero que se hace es cargar el archivo _\"tic-tac-toe.data\"_ o _\"german.data\"_ usando la librería _pandas_, en concreto, usando la función _read_csv_:"
   ]
  },
  {
   "cell_type": "code",
   "execution_count": 2,
   "metadata": {},
   "outputs": [],
   "source": [
    "df1 = pd.read_csv(\"ConjuntosDatos/tic-tac-toe.data\")\n",
    "df2 = pd.read_csv(\"ConjuntosDatos/german.data\")"
   ]
  },
  {
   "cell_type": "markdown",
   "metadata": {},
   "source": [
    "Como podemos ver, el archivo no es un _.csv_ pero el contenido que hay dentro _contiene el formato_ del _.csv_. Por esta razón la función no da ningún problema y se cargan los datos en el dataframe __df__. "
   ]
  },
  {
   "cell_type": "code",
   "execution_count": 3,
   "metadata": {},
   "outputs": [
    {
     "data": {
      "text/html": [
       "<div>\n",
       "<style scoped>\n",
       "    .dataframe tbody tr th:only-of-type {\n",
       "        vertical-align: middle;\n",
       "    }\n",
       "\n",
       "    .dataframe tbody tr th {\n",
       "        vertical-align: top;\n",
       "    }\n",
       "\n",
       "    .dataframe thead th {\n",
       "        text-align: right;\n",
       "    }\n",
       "</style>\n",
       "<table border=\"1\" class=\"dataframe\">\n",
       "  <thead>\n",
       "    <tr style=\"text-align: right;\">\n",
       "      <th></th>\n",
       "      <th>TLeftSq</th>\n",
       "      <th>TMidSq</th>\n",
       "      <th>TRightSq</th>\n",
       "      <th>MLeftSq</th>\n",
       "      <th>MMidSq</th>\n",
       "      <th>MRightSq</th>\n",
       "      <th>BLeftSq</th>\n",
       "      <th>BMidSq</th>\n",
       "      <th>BRightSq</th>\n",
       "      <th>Class</th>\n",
       "    </tr>\n",
       "  </thead>\n",
       "  <tbody>\n",
       "    <tr>\n",
       "      <th>0</th>\n",
       "      <td>x</td>\n",
       "      <td>x</td>\n",
       "      <td>x</td>\n",
       "      <td>x</td>\n",
       "      <td>o</td>\n",
       "      <td>o</td>\n",
       "      <td>x</td>\n",
       "      <td>o</td>\n",
       "      <td>o</td>\n",
       "      <td>positive</td>\n",
       "    </tr>\n",
       "    <tr>\n",
       "      <th>1</th>\n",
       "      <td>x</td>\n",
       "      <td>x</td>\n",
       "      <td>x</td>\n",
       "      <td>x</td>\n",
       "      <td>o</td>\n",
       "      <td>o</td>\n",
       "      <td>o</td>\n",
       "      <td>x</td>\n",
       "      <td>o</td>\n",
       "      <td>positive</td>\n",
       "    </tr>\n",
       "    <tr>\n",
       "      <th>2</th>\n",
       "      <td>x</td>\n",
       "      <td>x</td>\n",
       "      <td>x</td>\n",
       "      <td>x</td>\n",
       "      <td>o</td>\n",
       "      <td>o</td>\n",
       "      <td>o</td>\n",
       "      <td>o</td>\n",
       "      <td>x</td>\n",
       "      <td>positive</td>\n",
       "    </tr>\n",
       "    <tr>\n",
       "      <th>3</th>\n",
       "      <td>x</td>\n",
       "      <td>x</td>\n",
       "      <td>x</td>\n",
       "      <td>x</td>\n",
       "      <td>o</td>\n",
       "      <td>o</td>\n",
       "      <td>o</td>\n",
       "      <td>b</td>\n",
       "      <td>b</td>\n",
       "      <td>positive</td>\n",
       "    </tr>\n",
       "    <tr>\n",
       "      <th>4</th>\n",
       "      <td>x</td>\n",
       "      <td>x</td>\n",
       "      <td>x</td>\n",
       "      <td>x</td>\n",
       "      <td>o</td>\n",
       "      <td>o</td>\n",
       "      <td>b</td>\n",
       "      <td>o</td>\n",
       "      <td>b</td>\n",
       "      <td>positive</td>\n",
       "    </tr>\n",
       "  </tbody>\n",
       "</table>\n",
       "</div>"
      ],
      "text/plain": [
       "  TLeftSq TMidSq TRightSq MLeftSq MMidSq MRightSq BLeftSq BMidSq BRightSq  \\\n",
       "0       x      x        x       x      o        o       x      o        o   \n",
       "1       x      x        x       x      o        o       o      x        o   \n",
       "2       x      x        x       x      o        o       o      o        x   \n",
       "3       x      x        x       x      o        o       o      b        b   \n",
       "4       x      x        x       x      o        o       b      o        b   \n",
       "\n",
       "      Class  \n",
       "0  positive  \n",
       "1  positive  \n",
       "2  positive  \n",
       "3  positive  \n",
       "4  positive  "
      ]
     },
     "execution_count": 3,
     "metadata": {},
     "output_type": "execute_result"
    }
   ],
   "source": [
    "df1.head(5)"
   ]
  },
  {
   "cell_type": "code",
   "execution_count": 4,
   "metadata": {},
   "outputs": [
    {
     "data": {
      "text/html": [
       "<div>\n",
       "<style scoped>\n",
       "    .dataframe tbody tr th:only-of-type {\n",
       "        vertical-align: middle;\n",
       "    }\n",
       "\n",
       "    .dataframe tbody tr th {\n",
       "        vertical-align: top;\n",
       "    }\n",
       "\n",
       "    .dataframe thead th {\n",
       "        text-align: right;\n",
       "    }\n",
       "</style>\n",
       "<table border=\"1\" class=\"dataframe\">\n",
       "  <thead>\n",
       "    <tr style=\"text-align: right;\">\n",
       "      <th></th>\n",
       "      <th>A1</th>\n",
       "      <th>A2</th>\n",
       "      <th>A3</th>\n",
       "      <th>A4</th>\n",
       "      <th>A5</th>\n",
       "      <th>A6</th>\n",
       "      <th>A7</th>\n",
       "      <th>A8</th>\n",
       "      <th>A9</th>\n",
       "      <th>A10</th>\n",
       "      <th>...</th>\n",
       "      <th>A12</th>\n",
       "      <th>A13</th>\n",
       "      <th>A14</th>\n",
       "      <th>A15</th>\n",
       "      <th>A16</th>\n",
       "      <th>A17</th>\n",
       "      <th>A18</th>\n",
       "      <th>A19</th>\n",
       "      <th>A20</th>\n",
       "      <th>Class</th>\n",
       "    </tr>\n",
       "  </thead>\n",
       "  <tbody>\n",
       "    <tr>\n",
       "      <th>0</th>\n",
       "      <td>A11</td>\n",
       "      <td>6</td>\n",
       "      <td>A34</td>\n",
       "      <td>A43</td>\n",
       "      <td>1169</td>\n",
       "      <td>A65</td>\n",
       "      <td>A75</td>\n",
       "      <td>4</td>\n",
       "      <td>A93</td>\n",
       "      <td>A101</td>\n",
       "      <td>...</td>\n",
       "      <td>A121</td>\n",
       "      <td>67</td>\n",
       "      <td>A143</td>\n",
       "      <td>A152</td>\n",
       "      <td>2</td>\n",
       "      <td>A173</td>\n",
       "      <td>1</td>\n",
       "      <td>A192</td>\n",
       "      <td>A201</td>\n",
       "      <td>1</td>\n",
       "    </tr>\n",
       "    <tr>\n",
       "      <th>1</th>\n",
       "      <td>A12</td>\n",
       "      <td>48</td>\n",
       "      <td>A32</td>\n",
       "      <td>A43</td>\n",
       "      <td>5951</td>\n",
       "      <td>A61</td>\n",
       "      <td>A73</td>\n",
       "      <td>2</td>\n",
       "      <td>A92</td>\n",
       "      <td>A101</td>\n",
       "      <td>...</td>\n",
       "      <td>A121</td>\n",
       "      <td>22</td>\n",
       "      <td>A143</td>\n",
       "      <td>A152</td>\n",
       "      <td>1</td>\n",
       "      <td>A173</td>\n",
       "      <td>1</td>\n",
       "      <td>A191</td>\n",
       "      <td>A201</td>\n",
       "      <td>2</td>\n",
       "    </tr>\n",
       "    <tr>\n",
       "      <th>2</th>\n",
       "      <td>A14</td>\n",
       "      <td>12</td>\n",
       "      <td>A34</td>\n",
       "      <td>A46</td>\n",
       "      <td>2096</td>\n",
       "      <td>A61</td>\n",
       "      <td>A74</td>\n",
       "      <td>2</td>\n",
       "      <td>A93</td>\n",
       "      <td>A101</td>\n",
       "      <td>...</td>\n",
       "      <td>A121</td>\n",
       "      <td>49</td>\n",
       "      <td>A143</td>\n",
       "      <td>A152</td>\n",
       "      <td>1</td>\n",
       "      <td>A172</td>\n",
       "      <td>2</td>\n",
       "      <td>A191</td>\n",
       "      <td>A201</td>\n",
       "      <td>1</td>\n",
       "    </tr>\n",
       "    <tr>\n",
       "      <th>3</th>\n",
       "      <td>A11</td>\n",
       "      <td>42</td>\n",
       "      <td>A32</td>\n",
       "      <td>A42</td>\n",
       "      <td>7882</td>\n",
       "      <td>A61</td>\n",
       "      <td>A74</td>\n",
       "      <td>2</td>\n",
       "      <td>A93</td>\n",
       "      <td>A103</td>\n",
       "      <td>...</td>\n",
       "      <td>A122</td>\n",
       "      <td>45</td>\n",
       "      <td>A143</td>\n",
       "      <td>A153</td>\n",
       "      <td>1</td>\n",
       "      <td>A173</td>\n",
       "      <td>2</td>\n",
       "      <td>A191</td>\n",
       "      <td>A201</td>\n",
       "      <td>1</td>\n",
       "    </tr>\n",
       "    <tr>\n",
       "      <th>4</th>\n",
       "      <td>A11</td>\n",
       "      <td>24</td>\n",
       "      <td>A33</td>\n",
       "      <td>A40</td>\n",
       "      <td>4870</td>\n",
       "      <td>A61</td>\n",
       "      <td>A73</td>\n",
       "      <td>3</td>\n",
       "      <td>A93</td>\n",
       "      <td>A101</td>\n",
       "      <td>...</td>\n",
       "      <td>A124</td>\n",
       "      <td>53</td>\n",
       "      <td>A143</td>\n",
       "      <td>A153</td>\n",
       "      <td>2</td>\n",
       "      <td>A173</td>\n",
       "      <td>2</td>\n",
       "      <td>A191</td>\n",
       "      <td>A201</td>\n",
       "      <td>2</td>\n",
       "    </tr>\n",
       "  </tbody>\n",
       "</table>\n",
       "<p>5 rows × 21 columns</p>\n",
       "</div>"
      ],
      "text/plain": [
       "    A1  A2   A3   A4    A5   A6   A7  A8   A9   A10  ...   A12 A13   A14  \\\n",
       "0  A11   6  A34  A43  1169  A65  A75   4  A93  A101  ...  A121  67  A143   \n",
       "1  A12  48  A32  A43  5951  A61  A73   2  A92  A101  ...  A121  22  A143   \n",
       "2  A14  12  A34  A46  2096  A61  A74   2  A93  A101  ...  A121  49  A143   \n",
       "3  A11  42  A32  A42  7882  A61  A74   2  A93  A103  ...  A122  45  A143   \n",
       "4  A11  24  A33  A40  4870  A61  A73   3  A93  A101  ...  A124  53  A143   \n",
       "\n",
       "    A15 A16   A17 A18   A19   A20 Class  \n",
       "0  A152   2  A173   1  A192  A201     1  \n",
       "1  A152   1  A173   1  A191  A201     2  \n",
       "2  A152   1  A172   2  A191  A201     1  \n",
       "3  A153   1  A173   2  A191  A201     1  \n",
       "4  A153   2  A173   2  A191  A201     2  \n",
       "\n",
       "[5 rows x 21 columns]"
      ]
     },
     "execution_count": 4,
     "metadata": {},
     "output_type": "execute_result"
    }
   ],
   "source": [
    "df2.head(5)"
   ]
  },
  {
   "cell_type": "markdown",
   "metadata": {},
   "source": [
    "Podemos ver que el dataframe ha cargado los archivos de forma exitosa. Podemos empezar a crear los atributos."
   ]
  },
  {
   "cell_type": "code",
   "execution_count": 5,
   "metadata": {},
   "outputs": [],
   "source": [
    "# Cargamos los dataset con los atributos\n",
    "dataset1 = Datos(\"ConjuntosDatos/tic-tac-toe.data\")\n",
    "dataset2 = Datos(\"ConjuntosDatos/german.data\")"
   ]
  },
  {
   "cell_type": "markdown",
   "metadata": {},
   "source": [
    "## 2.1 nominalAtributos\n",
    "Para cargar esta lista, se creo un método llamado __asignaNominalAtributos__. Dicho método recibe como argumento los tipos de las columnas (obtenidos usando __df.dtypes__). \n",
    "```py\n",
    "def asignaNominalAtributos(self, tipos):\n",
    "        \"\"\"Itera sobre los tipos de atributos y asigna:\n",
    "            True: Si la columna es nominal (object).\n",
    "            False: Si la columna no es nominal.\n",
    "\n",
    "        Args:\n",
    "            line: Tipos obtenidos del dataframe de pandas.\n",
    "        \"\"\"\n",
    "        for tipo in tipos:\n",
    "            self.nominalAtributos.append(True if tipo == object else False)\n",
    "```\n",
    "Lo que se hace es que se itera sobre dichos elementos con el fin de ver si la columna contiene atributos nominales.\n"
   ]
  },
  {
   "cell_type": "code",
   "execution_count": 6,
   "metadata": {},
   "outputs": [
    {
     "name": "stdout",
     "output_type": "stream",
     "text": [
      "Dataset tic-tac-toe\n"
     ]
    },
    {
     "data": {
      "text/plain": [
       "[True, True, True, True, True, True, True, True, True, True]"
      ]
     },
     "execution_count": 6,
     "metadata": {},
     "output_type": "execute_result"
    }
   ],
   "source": [
    "print(\"Dataset tic-tac-toe\")\n",
    "dataset1.nominalAtributos"
   ]
  },
  {
   "cell_type": "code",
   "execution_count": 7,
   "metadata": {},
   "outputs": [
    {
     "name": "stdout",
     "output_type": "stream",
     "text": [
      "Dataset german\n"
     ]
    },
    {
     "data": {
      "text/plain": [
       "[True,\n",
       " False,\n",
       " True,\n",
       " True,\n",
       " False,\n",
       " True,\n",
       " True,\n",
       " False,\n",
       " True,\n",
       " True,\n",
       " False,\n",
       " True,\n",
       " False,\n",
       " True,\n",
       " True,\n",
       " False,\n",
       " True,\n",
       " False,\n",
       " True,\n",
       " True,\n",
       " False]"
      ]
     },
     "execution_count": 7,
     "metadata": {},
     "output_type": "execute_result"
    }
   ],
   "source": [
    "print(\"Dataset german\")\n",
    "dataset2.nominalAtributos"
   ]
  },
  {
   "cell_type": "markdown",
   "metadata": {},
   "source": [
    "Podemos ver que el formato de las listas es el correcto. Podemos ver también que en el primer caso (tic-tac-toe) todos los atributos son nominales, pero en el segundo (german) __no__. La segunda columna, la quinta, etc. tienen valores numéricos y se muestran correctamente en la lista."
   ]
  },
  {
   "cell_type": "markdown",
   "metadata": {},
   "source": [
    "## 2.2 diccionario\n",
    "Para cargar este diccionario se creo un método llamado __construyeDiccionario__. Dicho método recibe como argumento el dataframe original. \n",
    "```py\n",
    "    def construyeDiccionario(self, df):\n",
    "        \"\"\"Método que itera sobre los datos y construye\n",
    "        un diccionario de diccionarios en el que se muestra\n",
    "        el valor que puede tener cada atributo. Ejemplo:\n",
    "        {\n",
    "            \"Attr1\": {\"x\": 1, \"y\": 2} -- Orden alfabético\n",
    "            \"Attr2\": {\"x\": 1, \"y\": 2}\n",
    "            ...\n",
    "        }\n",
    "        \n",
    "        Args:\n",
    "            df (Pandas Dataframe): Dataframe pandas con todos los datos.\n",
    "        \"\"\"\n",
    "        for item in df.iteritems():\n",
    "            columnName = item[0]\n",
    "            possibleValues = list(df[columnName].unique()).copy()\n",
    "            possibleValues.sort()\n",
    "            for i, value in enumerate(possibleValues):\n",
    "                if columnName not in self.diccionario:\n",
    "                    self.diccionario[columnName] = {}\n",
    "                self.diccionario[columnName][value] = i\n",
    "```\n",
    "El algoritmo implementado en el método itera sobre cada columna (con los datos de esta incluidos) mediante el métdo __df.iteritems()__. Una vez tenemos la columna lo que se hace es que se crea una lista con los todos los valores únicos de dicha columna mediante el método __df[column_name].unique()__. Esta lista se ordena y por último se añade un diccionario al diccionario \"padre\", donde la _key_ es el nombre de la columna y los _values_ son los distintos posibles valores ordenados alfabéticamente y enumerados. "
   ]
  },
  {
   "cell_type": "code",
   "execution_count": 8,
   "metadata": {},
   "outputs": [
    {
     "name": "stdout",
     "output_type": "stream",
     "text": [
      "Dataset tic-tac-toe\n"
     ]
    },
    {
     "data": {
      "text/plain": [
       "{'b': 0, 'o': 1, 'x': 2}"
      ]
     },
     "execution_count": 8,
     "metadata": {},
     "output_type": "execute_result"
    }
   ],
   "source": [
    "print(\"Dataset tic-tac-toe\")\n",
    "dataset1.diccionario['TLeftSq']"
   ]
  },
  {
   "cell_type": "code",
   "execution_count": 9,
   "metadata": {},
   "outputs": [
    {
     "name": "stdout",
     "output_type": "stream",
     "text": [
      "Dataset german\n"
     ]
    },
    {
     "data": {
      "text/plain": [
       "{'A11': 0, 'A12': 1, 'A13': 2, 'A14': 3}"
      ]
     },
     "execution_count": 9,
     "metadata": {},
     "output_type": "execute_result"
    }
   ],
   "source": [
    "print(\"Dataset german\")\n",
    "dataset2.diccionario['A1']"
   ]
  },
  {
   "cell_type": "markdown",
   "metadata": {},
   "source": [
    "Como se muestra estos son los posibles valores de la primera columna de cada uno de los dataset."
   ]
  },
  {
   "cell_type": "markdown",
   "metadata": {},
   "source": [
    "## 2.3 datos\n",
    "Para cargar esta matriz se creo un método llamado __construyeDatos__. Dicho método recibe como argumento el dataframe original.\n",
    "```py\n",
    "    def construyeDatos(self, df):\n",
    "        \"\"\"Método que itera sobre todas las filas del dataset\n",
    "        con el fin de traducir los datos a números.\n",
    "\n",
    "        Args:\n",
    "            df (Pandas Dataframe): Dataset con los datos originales.\n",
    "        \"\"\"\n",
    "        self.datos = np.zeros(shape=df.shape)\n",
    "        for i, item in enumerate(df.iterrows()):\n",
    "            for j, col in enumerate(item[1].items()):\n",
    "                self.datos[i][j] = self.diccionario[col[0]][col[1]]\n",
    "```\n",
    "El algoritmo implementado primero crea una matriz con la misma forma que tiene el dataframe recibido mediante la librería __numpy__, para inicializar dicha matriz se usa __np.zeros(shape=...)__ (crea una matriz con ceros) y se le envía como argumento la forma de la matriz con __df.shape__ (nos devuelve la forma del dataframe).\n",
    "\n",
    "Una vez tenemos la matriz, iteramos sobre todas las filas mediante __df.iterrows()__, leemos cada columna en la fila y cambiamos el valor en la matriz numpy."
   ]
  },
  {
   "cell_type": "code",
   "execution_count": 10,
   "metadata": {},
   "outputs": [
    {
     "name": "stdout",
     "output_type": "stream",
     "text": [
      "Dataset tic-tac-toe\n"
     ]
    },
    {
     "data": {
      "text/plain": [
       "array([[2., 2., 2., ..., 1., 1., 1.],\n",
       "       [2., 2., 2., ..., 2., 1., 1.],\n",
       "       [2., 2., 2., ..., 1., 2., 1.],\n",
       "       ...,\n",
       "       [1., 2., 1., ..., 1., 2., 0.],\n",
       "       [1., 2., 1., ..., 1., 2., 0.],\n",
       "       [1., 1., 2., ..., 2., 2., 0.]])"
      ]
     },
     "execution_count": 10,
     "metadata": {},
     "output_type": "execute_result"
    }
   ],
   "source": [
    "print(\"Dataset tic-tac-toe\")\n",
    "dataset1.datos"
   ]
  },
  {
   "cell_type": "code",
   "execution_count": 11,
   "metadata": {},
   "outputs": [
    {
     "name": "stdout",
     "output_type": "stream",
     "text": [
      "Dataset german\n"
     ]
    },
    {
     "data": {
      "text/plain": [
       "array([[ 0.,  2.,  4., ...,  1.,  0.,  0.],\n",
       "       [ 1., 29.,  2., ...,  0.,  0.,  1.],\n",
       "       [ 3.,  8.,  4., ...,  0.,  0.,  0.],\n",
       "       ...,\n",
       "       [ 3.,  8.,  2., ...,  0.,  0.,  0.],\n",
       "       [ 0., 27.,  2., ...,  1.,  0.,  1.],\n",
       "       [ 1., 27.,  4., ...,  0.,  0.,  0.]])"
      ]
     },
     "execution_count": 11,
     "metadata": {},
     "output_type": "execute_result"
    }
   ],
   "source": [
    "print(\"Dataset german\")\n",
    "dataset2.datos"
   ]
  },
  {
   "cell_type": "markdown",
   "metadata": {},
   "source": [
    "Podemos ver que los datos se han traducido y unicamente tenemos valores numéricos."
   ]
  },
  {
   "cell_type": "markdown",
   "metadata": {},
   "source": [
    "## 2.4 Método extrae datos\n",
    "Para construir el método extrae datos lo único que hacemos es crear una matriz numpy la cual contiene los índices que se nos especifican.\n",
    "```py\n",
    "def extraeDatos(self,idx):\n",
    "    \"\"\"Devuelve el subconjunto de los datos cuyos �ndices se pasan como argumento\n",
    "\n",
    "    Args:\n",
    "        idx (list): Lista que contiene los indices a recibir de los datos.\n",
    "\n",
    "    Returns:\n",
    "        Matriz numpy: Matriz numpy con los índices que se especifican.\n",
    "    \"\"\"\n",
    "    datos = np.zeros(shape=(len(idx), self.datos.shape[1]))\n",
    "\n",
    "    for i, index in enumerate(idx):\n",
    "        datos[i] = self.datos[index]\n",
    "\n",
    "    return datos\n",
    "```"
   ]
  },
  {
   "cell_type": "markdown",
   "metadata": {},
   "source": [
    "## __3. Particionamiento - Tratamiento de datos__\n",
    "Se nos pide completar la plantilla donde tenemos una clase abstracta que define una _estrategia de particionado (EstrategiaParticionado)_. A parte se nos pide crear 2 clases más las cuales implementan estrategias de partcionado específicas, _Cross Validation (Validación cruzada)_ y _Simple Validation (Validación Simple)_.\n",
    "\n",
    "La clase abstracta _EstrategiaParticionado_ fue completada unicamente declarando los atributos en el constructor\n",
    "\n",
    "```py\n",
    "class EstrategiaParticionado:\n",
    "    \"\"\"Clase abstracta donde se define la estrategia de particionado.\n",
    "    \"\"\"\n",
    "  \n",
    "    # Clase abstracta\n",
    "    __metaclass__ = ABCMeta\n",
    "  \n",
    "    def __init__(self):\n",
    "        \"\"\"Constructor, solo se declaran los atributos.\n",
    "        \"\"\"\n",
    "        self.particiones = []\n",
    "    \n",
    "    @abstractmethod\n",
    "    def creaParticiones(self,datos,seed=None):\n",
    "        \"\"\"Método abstracto para crear particiones.\n",
    "\n",
    "        Args:\n",
    "            datos: Dataset.\n",
    "            seed: Seed para generar aleatoriedad. Por defecto None.\n",
    "        \"\"\"\n",
    "        pass\n",
    "```\n",
    "Como se puede ver la clase consta del atributo __particiones__, siguiendo el esquema proporcionado en el enunciado. Ese atributo contendrá objetos de la clase Particiones indicando los índices usados para el _Train_ y el _Test_. \n",
    "\n",
    "## 3.1 Validación simple\n",
    "La validación simple parte los datos en 2, una parte para el test y otra para el training. La clase _ValidacionSimple_ recibe como argumentos en el constructor el __porcentaje usado para el test__ (el porcentaje es un número _float_ que esta entre (0-100)) y el número de ejecuciones que se harán (esto marca el número de permutaciones a crear para las particiones).\n",
    "\n",
    "```py\n",
    "class ValidacionSimple(EstrategiaParticionado):\n",
    "    \"\"\"Clase que define una estrategia de particionado,\n",
    "    en concreto, validación simple.\n",
    "    \"\"\"\n",
    "  \n",
    "    def __init__(self, proporcionTest, numeroEjecuciones):\n",
    "        \"\"\"Constructor.\n",
    "\n",
    "        Args:\n",
    "            proporcionTest: Porcentaje para la proporción de test de los datos.\n",
    "            numeroEjecuciones: Número de ejecuciones.\n",
    "        \"\"\"\n",
    "        super().__init__()\n",
    "        self.proporcionTest = proporcionTest\n",
    "        self.numeroEjecuciones = numeroEjecuciones\n",
    "```\n",
    "Posteriormente el método _creaParticiones_ es implementado.\n",
    "```py\n",
    "def creaParticiones(self,datos,seed=None):\n",
    "        def creaParticiones(self,datos,seed=None):\n",
    "        random.seed(seed)\n",
    "        self.particiones = []\n",
    "        longitudDatos = np.shape(datos)[0]\n",
    "        longitudTest = int((self.proporcionTest/100)*longitudDatos)\n",
    "                \n",
    "        lista_valores = [i for i in range(longitudDatos)]\n",
    "\n",
    "        for i in range(self.numeroEjecuciones):\n",
    "            self.particiones.append(Particion())\n",
    "            \n",
    "            # Calculamos los indices\n",
    "            random.shuffle(lista_valores)\n",
    "            \n",
    "            # Asignamos los indices\n",
    "            self.particiones[-1].indicesTest = lista_valores[:longitudTest]\n",
    "            self.particiones[-1].indicesTrain = lista_valores[longitudTest:]\n",
    "```\n",
    "El algoritmo primero calcula la longitud de los datos (número de filas) y la longitud del test (número de filas asignadas al test). Debe tenerse en cuenta que para la longitud del test se hace una división entera. Posteriormente, creamos una lista de valores que contiene todos los índices de los datos, después, en un bucle, permutamos dicha lista y asignamos la parte correspondiente al test y la otra parte al training. Como la lista es permutada en cada iteración podemos coger siempre la primera parte como test y la segunda como training\n",
    "\n",
    "Para probar el correcto funcionamiento crearemos un array numpy pequeño y cargaremos dichos índices."
   ]
  },
  {
   "cell_type": "code",
   "execution_count": 12,
   "metadata": {},
   "outputs": [
    {
     "name": "stdout",
     "output_type": "stream",
     "text": [
      "\n",
      "\n",
      "\n",
      "***Test***: [7, 1, 8] \n",
      "\n",
      "***Train***: [6, 9, 2, 4, 0, 5, 3] \n",
      "\n",
      "\n",
      "\n",
      "\n",
      "***Test***: [9, 3, 0] \n",
      "\n",
      "***Train***: [6, 5, 1, 7, 4, 8, 2] \n",
      "\n",
      "\n",
      "\n",
      "\n",
      "***Test***: [3, 9, 0] \n",
      "\n",
      "***Train***: [1, 8, 5, 6, 2, 4, 7] \n",
      "\n"
     ]
    }
   ],
   "source": [
    "datos = np.random.random((10, 2))\n",
    "\n",
    "# Asignamos el 30% al test\n",
    "vc = EstrategiaParticionado.ValidacionSimple(30, 3)\n",
    "vc.creaParticiones(datos)\n",
    "\n",
    "for i in range(3):\n",
    "    print(\"\\n\\n\")\n",
    "    print(\"***Test***:\", vc.particiones[i].indicesTest, \"\\n\")\n",
    "    print(\"***Train***:\", vc.particiones[i].indicesTrain, \"\\n\")"
   ]
  },
  {
   "cell_type": "markdown",
   "metadata": {},
   "source": [
    "Se puede ver que los índices se crean correctamente.\n",
    "\n",
    "Ahora se ejecutará lo mismo con el dataset de _tic-tac-toe_."
   ]
  },
  {
   "cell_type": "code",
   "execution_count": 13,
   "metadata": {},
   "outputs": [
    {
     "name": "stdout",
     "output_type": "stream",
     "text": [
      "\n",
      "\n",
      "\n",
      "***Test***: [70, 177, 757, 916, 742, 531, 300, 131, 9, 929, 241, 893, 188, 325, 213, 110, 23, 911, 601, 866, 648, 795, 765, 328, 201, 699, 918, 45, 779, 859, 3, 950, 226, 385, 391, 581, 783, 214, 937, 483, 93, 725, 518, 544, 634, 810, 721, 287, 933, 157, 291, 738, 487, 149, 564, 682, 750, 836, 815, 283, 219, 599, 941, 794, 595, 620, 14, 135, 125, 49, 907, 42, 529, 318, 317, 791, 953, 44, 441, 429, 290, 234, 294, 470, 899, 723, 114, 902, 243, 324, 88, 160, 128, 833, 127] \n",
      "\n",
      "***Train***: [285, 310, 39, 357, 223, 736, 215, 327, 878, 688, 252, 676, 804, 262, 793, 574, 37, 53, 728, 707, 638, 321, 435, 108, 205, 774, 636, 524, 807, 147, 624, 77, 533, 264, 704, 404, 378, 497, 936, 134, 104, 122, 89, 773, 167, 776, 373, 319, 763, 923, 302, 640, 876, 286, 603, 296, 775, 471, 940, 212, 900, 954, 72, 26, 505, 882, 714, 445, 778, 928, 895, 389, 715, 922, 513, 879, 874, 32, 764, 274, 951, 754, 591, 689, 304, 71, 817, 611, 97, 787, 163, 500, 808, 545, 844, 896, 622, 416, 195, 767, 683, 25, 466, 210, 450, 853, 20, 623, 313, 265, 405, 952, 191, 473, 335, 837, 770, 169, 456, 323, 74, 81, 132, 67, 261, 549, 493, 461, 208, 79, 744, 822, 772, 948, 474, 519, 590, 604, 443, 58, 806, 344, 800, 458, 785, 230, 193, 138, 403, 369, 381, 616, 820, 80, 548, 63, 551, 395, 617, 672, 666, 511, 257, 398, 237, 168, 383, 782, 860, 935, 684, 65, 468, 281, 60, 380, 597, 222, 626, 267, 646, 675, 711, 336, 792, 884, 124, 809, 780, 542, 839, 635, 111, 476, 875, 216, 751, 633, 225, 885, 740, 944, 36, 343, 118, 677, 821, 662, 741, 903, 92, 148, 271, 412, 55, 538, 266, 175, 753, 73, 943, 19, 176, 396, 342, 946, 305, 850, 908, 650, 417, 618, 231, 376, 915, 745, 410, 572, 561, 397, 289, 95, 308, 22, 117, 424, 406, 587, 103, 66, 478, 678, 341, 197, 495, 29, 5, 85, 277, 198, 696, 485, 586, 345, 550, 372, 75, 665, 826, 797, 503, 2, 255, 425, 660, 502, 932, 181, 204, 250, 460, 925, 24, 528, 356, 1, 217, 749, 733, 756, 312, 453, 769, 94, 101, 667, 207, 315, 340, 464, 888, 330, 803, 224, 739, 182, 390, 28, 615, 414, 307, 504, 719, 349, 399, 789, 392, 654, 843, 824, 641, 600, 401, 211, 202, 172, 247, 150, 309, 316, 716, 628, 350, 256, 515, 917, 140, 690, 532, 227, 418, 57, 293, 712, 119, 755, 913, 352, 155, 407, 35, 865, 847, 924, 593, 469, 329, 727, 609, 555, 871, 818, 512, 845, 359, 862, 695, 31, 748, 652, 724, 631, 761, 337, 705, 454, 846, 877, 829, 526, 841, 21, 368, 653, 855, 371, 452, 27, 625, 642, 263, 790, 370, 579, 848, 873, 244, 606, 659, 619, 347, 562, 377, 272, 687, 180, 621, 673, 102, 440, 179, 768, 457, 894, 760, 605, 709, 199, 426, 481, 144, 861, 546, 159, 91, 46, 402, 697, 339, 394, 61, 259, 541, 96, 630, 143, 743, 362, 655, 651, 295, 54, 814, 69, 521, 805, 901, 364, 99, 353, 162, 509, 656, 218, 827, 949, 552, 510, 679, 799, 142, 582, 154, 781, 718, 107, 737, 627, 86, 921, 360, 232, 553, 491, 152, 467, 78, 238, 527, 762, 463, 48, 872, 614, 253, 608, 867, 11, 722, 543, 431, 905, 269, 184, 386, 432, 700, 430, 303, 52, 863, 306, 856, 910, 34, 129, 931, 825, 351, 209, 314, 812, 658, 428, 220, 880, 674, 588, 934, 43, 575, 693, 455, 663, 569, 539, 828, 151, 643, 228, 890, 560, 957, 914, 514, 926, 434, 13, 200, 735, 40, 276, 488, 346, 17, 116, 109, 734, 567, 33, 644, 332, 164, 702, 388, 444, 156, 637, 939, 366, 30, 100, 645, 886, 691, 857, 840, 730, 490, 260, 746, 137, 771, 801, 629, 153, 536, 811, 498, 596, 657, 311, 568, 192, 248, 0, 647, 194, 883, 784, 813, 927, 612, 183, 62, 472, 419, 649, 832, 242, 661, 421, 570, 278, 10, 123, 448, 367, 909, 559, 136, 681, 56, 732, 484, 534, 479, 492, 363, 557, 59, 126, 275, 607, 685, 942, 947, 507, 571, 823, 486, 489, 920, 577, 758, 706, 459, 413, 788, 387, 777, 98, 113, 254, 830, 752, 186, 415, 365, 540, 451, 713, 747, 858, 171, 720, 554, 161, 602, 51, 189, 240, 50, 766, 115, 516, 249, 480, 196, 239, 299, 139, 411, 76, 530, 4, 517, 84, 246, 333, 280, 133, 598, 881, 580, 731, 146, 819, 694, 18, 170, 465, 887, 375, 669, 904, 400, 565, 190, 525, 898, 185, 796, 292, 6, 355, 556, 173, 834, 955, 90, 83, 892, 717, 374, 284, 16, 632, 475, 221, 664, 348, 499, 82, 889, 576, 145, 393, 816, 726, 439, 12, 864, 906, 442, 566, 639, 206, 288, 786, 708, 506, 187, 897, 703, 436, 583, 701, 64, 670, 298, 279, 501, 613, 535, 130, 420, 15, 408, 8, 938, 251, 592, 158, 523, 433, 852, 358, 273, 423, 120, 203, 178, 842, 379, 331, 585, 578, 322, 236, 38, 496, 563, 438, 945, 558, 759, 409, 482, 382, 919, 520, 477, 729, 710, 354, 584, 686, 868, 692, 831, 112, 282, 462, 105, 668, 912, 573, 802, 446, 41, 798, 508, 270, 106, 338, 384, 334, 835, 891, 851, 235, 494, 165, 229, 87, 870, 680, 547, 233, 698, 930, 320, 121, 361, 245, 594, 449, 869, 422, 141, 258, 849, 671, 7, 522, 956, 326, 427, 68, 447, 610, 838, 166, 174, 268, 437, 297, 301, 854, 537, 47, 589] \n",
      "\n",
      "\n",
      "\n",
      "\n",
      "***Test***: [304, 470, 518, 637, 274, 932, 744, 91, 157, 94, 209, 8, 679, 694, 190, 399, 662, 267, 406, 367, 599, 275, 625, 361, 32, 831, 597, 265, 535, 658, 752, 327, 612, 298, 778, 204, 676, 101, 231, 721, 394, 868, 602, 473, 838, 756, 103, 583, 491, 841, 718, 168, 742, 692, 561, 505, 181, 486, 781, 647, 815, 775, 589, 458, 319, 121, 900, 432, 734, 566, 269, 294, 842, 133, 237, 400, 696, 735, 823, 130, 846, 279, 236, 862, 621, 320, 644, 751, 47, 472, 123, 919, 956, 214, 874] \n",
      "\n",
      "***Train***: [731, 929, 635, 264, 576, 288, 488, 807, 171, 540, 108, 169, 639, 207, 439, 39, 15, 358, 947, 720, 97, 403, 223, 421, 273, 951, 701, 437, 927, 385, 371, 21, 548, 677, 151, 550, 200, 174, 850, 402, 53, 187, 685, 622, 409, 766, 860, 85, 845, 525, 396, 25, 950, 230, 22, 909, 310, 448, 682, 339, 549, 508, 560, 728, 726, 615, 581, 245, 71, 786, 715, 391, 591, 465, 227, 119, 902, 134, 799, 714, 954, 854, 175, 872, 179, 158, 757, 770, 748, 29, 333, 530, 650, 478, 544, 408, 37, 9, 72, 895, 558, 497, 952, 911, 774, 338, 305, 946, 590, 604, 393, 765, 242, 729, 240, 620, 600, 18, 907, 739, 921, 741, 61, 537, 888, 444, 876, 779, 785, 760, 722, 557, 84, 724, 777, 323, 805, 937, 598, 153, 433, 908, 0, 801, 773, 346, 499, 524, 655, 14, 59, 738, 693, 906, 435, 553, 314, 142, 155, 529, 110, 278, 630, 913, 149, 349, 261, 114, 464, 250, 12, 939, 636, 885, 95, 526, 678, 893, 238, 759, 417, 803, 880, 450, 266, 474, 60, 117, 109, 213, 299, 882, 205, 673, 386, 934, 416, 790, 431, 914, 120, 283, 446, 251, 608, 170, 528, 502, 546, 697, 208, 674, 873, 317, 643, 585, 656, 107, 286, 56, 825, 325, 489, 483, 451, 840, 195, 344, 26, 562, 769, 277, 653, 638, 879, 228, 368, 689, 340, 469, 330, 512, 593, 819, 875, 763, 321, 573, 44, 104, 554, 651, 46, 633, 365, 337, 211, 509, 156, 360, 725, 772, 834, 146, 706, 762, 36, 308, 268, 683, 443, 64, 447, 723, 106, 306, 28, 54, 254, 263, 348, 556, 507, 363, 944, 504, 144, 839, 413, 531, 88, 256, 217, 441, 730, 601, 86, 440, 822, 172, 894, 776, 296, 649, 189, 859, 33, 659, 354, 522, 16, 532, 942, 287, 542, 501, 343, 747, 295, 847, 425, 920, 359, 42, 709, 925, 407, 623, 426, 787, 332, 79, 312, 180, 863, 193, 494, 811, 364, 829, 220, 953, 353, 768, 282, 664, 35, 316, 955, 717, 594, 100, 926, 624, 500, 381, 69, 73, 941, 571, 767, 215, 871, 520, 897, 495, 41, 347, 565, 65, 910, 202, 632, 140, 510, 78, 574, 821, 329, 19, 816, 318, 239, 547, 160, 326, 912, 177, 430, 303, 414, 515, 607, 668, 745, 878, 125, 244, 605, 229, 533, 67, 428, 324, 716, 397, 616, 691, 896, 832, 62, 449, 462, 754, 652, 201, 166, 453, 460, 905, 225, 675, 255, 736, 81, 641, 660, 788, 564, 192, 595, 196, 686, 369, 392, 167, 468, 378, 511, 828, 844, 563, 116, 670, 884, 587, 113, 789, 481, 654, 849, 17, 232, 241, 63, 247, 820, 48, 52, 688, 373, 456, 163, 627, 341, 631, 258, 260, 212, 24, 798, 802, 276, 824, 112, 852, 704, 82, 80, 665, 516, 383, 2, 485, 551, 216, 867, 853, 579, 606, 924, 809, 609, 657, 804, 98, 23, 309, 695, 184, 642, 150, 784, 198, 613, 262, 76, 135, 131, 136, 626, 222, 70, 719, 173, 818, 817, 813, 890, 797, 292, 484, 57, 582, 199, 864, 843, 793, 619, 115, 753, 475, 851, 372, 388, 666, 438, 771, 519, 699, 527, 555, 737, 50, 826, 592, 342, 513, 1, 176, 892, 827, 899, 272, 467, 732, 352, 139, 183, 191, 901, 141, 930, 492, 539, 27, 345, 434, 40, 903, 733, 128, 713, 335, 186, 315, 610, 848, 351, 49, 161, 43, 197, 567, 791, 459, 289, 889, 374, 783, 708, 210, 252, 712, 833, 366, 224, 452, 74, 30, 380, 477, 830, 152, 3, 38, 810, 523, 55, 933, 870, 422, 280, 898, 246, 943, 740, 705, 648, 423, 855, 455, 480, 618, 66, 159, 711, 928, 856, 703, 5, 219, 707, 584, 355, 404, 782, 357, 145, 949, 96, 541, 755, 92, 226, 300, 857, 891, 90, 645, 429, 669, 710, 454, 938, 331, 162, 923, 293, 188, 552, 301, 328, 570, 370, 418, 749, 182, 918, 858, 6, 390, 185, 835, 102, 935, 203, 614, 957, 436, 51, 243, 20, 398, 663, 271, 221, 334, 384, 387, 629, 313, 257, 10, 457, 111, 611, 395, 702, 132, 419, 322, 68, 487, 4, 534, 746, 883, 536, 178, 750, 545, 680, 514, 881, 667, 412, 336, 118, 122, 165, 578, 350, 445, 11, 517, 127, 58, 259, 690, 379, 253, 795, 31, 808, 411, 764, 302, 727, 356, 575, 7, 297, 761, 498, 796, 640, 83, 281, 206, 424, 758, 405, 13, 482, 538, 389, 427, 865, 904, 806, 137, 922, 490, 129, 77, 687, 887, 800, 948, 476, 420, 307, 866, 415, 463, 291, 681, 124, 634, 249, 916, 940, 596, 869, 461, 382, 836, 886, 646, 466, 700, 234, 931, 89, 568, 580, 698, 877, 743, 792, 506, 147, 577, 285, 45, 284, 503, 479, 617, 99, 270, 218, 521, 661, 75, 861, 148, 945, 837, 442, 936, 794, 559, 814, 471, 248, 164, 628, 105, 143, 235, 496, 917, 87, 586, 34, 376, 572, 138, 194, 311, 377, 154, 233, 290, 915, 569, 684, 126, 401, 672, 375, 588, 410, 93, 543, 812, 362, 780, 671, 493, 603] \n",
      "\n",
      "\n",
      "\n",
      "\n",
      "***Test***: [260, 718, 522, 487, 292, 286, 688, 840, 122, 593, 322, 157, 389, 97, 82, 289, 943, 402, 86, 604, 635, 162, 205, 809, 585, 532, 455, 597, 590, 636, 185, 821, 649, 551, 617, 654, 660, 59, 81, 365, 343, 229, 815, 495, 360, 144, 219, 273, 281, 610, 259, 213, 300, 620, 99, 145, 949, 915, 207, 686, 142, 942, 948, 20, 690, 133, 814, 717, 725, 523, 876, 568, 947, 860, 944, 830, 202, 485, 672, 553, 173, 346, 401, 841, 625, 689, 222, 707, 475, 728, 670, 804, 102, 436, 412] \n",
      "\n",
      "***Train***: [68, 138, 45, 662, 643, 424, 364, 206, 589, 54, 197, 805, 118, 661, 423, 735, 773, 769, 842, 792, 747, 306, 924, 956, 85, 914, 404, 514, 737, 539, 709, 94, 325, 41, 10, 397, 609, 770, 780, 909, 738, 160, 164, 787, 131, 837, 893, 824, 141, 875, 459, 693, 579, 351, 252, 476, 39, 148, 72, 596, 822, 295, 31, 796, 46, 232, 872, 188, 465, 588, 230, 297, 779, 744, 788, 225, 877, 4, 526, 499, 862, 771, 461, 350, 933, 548, 790, 398, 96, 52, 71, 861, 250, 29, 283, 626, 2, 743, 388, 288, 430, 36, 231, 184, 441, 940, 19, 201, 490, 883, 302, 152, 391, 844, 394, 175, 511, 505, 665, 120, 894, 641, 870, 754, 87, 699, 146, 439, 255, 554, 174, 509, 307, 752, 477, 240, 374, 731, 783, 67, 195, 90, 16, 301, 666, 228, 580, 878, 504, 274, 417, 332, 571, 498, 562, 43, 6, 697, 83, 457, 549, 767, 682, 254, 721, 187, 224, 734, 922, 594, 657, 645, 112, 930, 32, 619, 849, 846, 917, 793, 561, 367, 327, 612, 434, 246, 308, 432, 154, 552, 857, 923, 500, 557, 57, 284, 117, 363, 608, 333, 447, 291, 349, 482, 79, 134, 293, 248, 264, 437, 722, 267, 433, 5, 656, 372, 890, 378, 241, 880, 456, 314, 679, 60, 555, 953, 520, 683, 566, 556, 119, 326, 598, 296, 216, 807, 488, 276, 516, 110, 507, 438, 713, 678, 653, 630, 169, 298, 179, 345, 937, 18, 467, 535, 524, 517, 352, 277, 834, 261, 513, 591, 408, 380, 926, 263, 242, 450, 40, 137, 531, 355, 466, 515, 62, 304, 655, 581, 836, 892, 891, 199, 24, 658, 356, 8, 791, 887, 176, 746, 23, 799, 419, 726, 797, 751, 584, 530, 931, 371, 782, 595, 638, 128, 704, 560, 614, 472, 428, 305, 497, 603, 150, 95, 558, 724, 745, 695, 904, 493, 98, 650, 673, 12, 460, 285, 329, 732, 390, 816, 1, 159, 282, 884, 347, 258, 53, 932, 448, 521, 208, 65, 800, 506, 492, 864, 811, 121, 858, 385, 934, 882, 193, 484, 123, 270, 784, 537, 827, 544, 358, 936, 386, 708, 180, 646, 190, 170, 317, 789, 762, 366, 905, 452, 50, 723, 826, 310, 578, 421, 393, 125, 510, 415, 245, 611, 929, 730, 501, 312, 838, 839, 848, 644, 272, 93, 627, 384, 132, 668, 153, 895, 319, 399, 755, 952, 527, 204, 669, 908, 130, 733, 863, 859, 716, 546, 104, 711, 445, 369, 818, 491, 911, 203, 808, 897, 806, 533, 280, 105, 600, 140, 885, 813, 696, 867, 27, 172, 927, 91, 677, 376, 616, 855, 623, 647, 451, 602, 921, 251, 776, 106, 111, 687, 847, 158, 189, 542, 392, 237, 873, 910, 373, 642, 113, 640, 802, 147, 78, 177, 951, 651, 775, 383, 311, 550, 316, 534, 324, 772, 340, 925, 572, 486, 426, 479, 483, 458, 563, 671, 303, 470, 181, 573, 198, 271, 344, 200, 155, 166, 547, 559, 354, 529, 294, 268, 825, 469, 238, 359, 667, 89, 920, 694, 703, 801, 628, 829, 896, 429, 11, 444, 538, 898, 44, 256, 362, 941, 453, 161, 681, 854, 518, 51, 116, 633, 33, 443, 309, 405, 323, 357, 114, 569, 473, 382, 664, 685, 136, 853, 69, 810, 464, 865, 916, 888, 211, 749, 410, 348, 328, 481, 368, 622, 889, 9, 287, 194, 950, 48, 21, 852, 632, 47, 275, 502, 753, 321, 912, 129, 819, 758, 712, 577, 440, 331, 30, 407, 37, 928, 868, 851, 375, 564, 186, 615, 3, 427, 191, 61, 80, 729, 361, 613, 906, 70, 468, 795, 945, 163, 249, 278, 820, 342, 899, 832, 454, 601, 209, 691, 856, 247, 413, 736, 320, 955, 592, 7, 756, 234, 92, 705, 938, 508, 243, 567, 183, 759, 710, 313, 318, 692, 182, 178, 418, 750, 425, 957, 785, 108, 266, 828, 536, 663, 107, 215, 56, 151, 220, 768, 823, 156, 217, 939, 637, 739, 14, 907, 35, 845, 903, 760, 143, 63, 221, 58, 28, 0, 525, 171, 512, 503, 257, 541, 774, 66, 416, 700, 715, 235, 675, 192, 109, 233, 218, 88, 639, 543, 381, 565, 881, 315, 833, 954, 570, 377, 73, 42, 334, 74, 803, 17, 462, 463, 935, 576, 624, 702, 84, 812, 765, 76, 338, 629, 387, 411, 341, 659, 26, 269, 871, 196, 379, 400, 757, 299, 480, 353, 763, 869, 676, 127, 817, 103, 786, 406, 279, 843, 680, 781, 262, 414, 741, 719, 701, 168, 165, 474, 587, 634, 265, 794, 446, 706, 766, 395, 879, 496, 403, 574, 545, 648, 740, 290, 902, 742, 748, 777, 652, 25, 674, 422, 698, 874, 831, 336, 431, 435, 913, 540, 210, 886, 599, 337, 866, 253, 335, 115, 528, 586, 49, 901, 227, 478, 135, 583, 442, 919, 244, 22, 167, 149, 720, 236, 15, 77, 55, 714, 100, 489, 631, 34, 778, 761, 582, 139, 764, 212, 575, 226, 798, 126, 684, 223, 214, 38, 396, 409, 850, 494, 101, 330, 618, 420, 13, 449, 900, 946, 607, 727, 471, 606, 64, 339, 605, 835, 239, 918, 370, 519, 621, 124, 75] \n",
      "\n",
      "\n",
      "\n",
      "\n",
      "***Test***: [902, 466, 549, 315, 757, 520, 722, 81, 136, 678, 232, 155, 551, 686, 716, 443, 584, 495, 593, 39, 150, 372, 87, 479, 251, 100, 647, 562, 330, 574, 309, 216, 434, 287, 324, 653, 90, 919, 706, 747, 917, 85, 34, 504, 321, 564, 433, 370, 104, 839, 641, 474, 432, 400, 500, 597, 633, 515, 602, 65, 109, 933, 176, 614, 300, 488, 591, 138, 248, 211, 322, 64, 502, 899, 340, 239, 356, 67, 642, 1, 0, 635, 147, 275, 354, 646, 554, 886, 208, 74, 11, 507, 818, 668, 253] \n",
      "\n",
      "***Train***: [704, 114, 159, 455, 314, 571, 905, 665, 916, 869, 437, 517, 531, 721, 895, 823, 908, 245, 509, 732, 491, 250, 311, 276, 485, 573, 638, 695, 855, 438, 778, 836, 431, 425, 96, 172, 66, 674, 464, 816, 473, 18, 526, 885, 135, 244, 932, 565, 157, 494, 879, 514, 13, 544, 728, 727, 319, 741, 780, 242, 675, 416, 108, 145, 101, 892, 103, 389, 795, 748, 341, 346, 740, 347, 271, 770, 746, 265, 457, 299, 610, 931, 946, 246, 790, 338, 75, 256, 209, 742, 112, 907, 447, 374, 399, 398, 941, 913, 951, 726, 804, 539, 36, 320, 376, 822, 631, 459, 406, 37, 221, 102, 381, 669, 139, 512, 289, 942, 820, 782, 105, 444, 656, 637, 375, 268, 785, 5, 35, 837, 452, 927, 371, 249, 550, 553, 214, 465, 44, 383, 725, 582, 901, 878, 131, 623, 671, 199, 713, 197, 772, 581, 548, 489, 734, 630, 396, 207, 419, 606, 853, 279, 301, 229, 463, 900, 791, 528, 808, 709, 749, 393, 472, 834, 41, 815, 205, 226, 292, 154, 424, 775, 944, 786, 511, 307, 237, 608, 715, 243, 290, 718, 461, 365, 93, 830, 682, 165, 460, 861, 421, 158, 618, 236, 257, 14, 680, 518, 577, 267, 84, 217, 796, 174, 626, 302, 605, 440, 835, 881, 857, 743, 765, 910, 345, 4, 10, 486, 130, 696, 17, 336, 530, 166, 162, 872, 943, 703, 547, 868, 784, 588, 144, 456, 793, 380, 558, 129, 231, 508, 924, 86, 119, 161, 882, 585, 825, 513, 450, 898, 285, 392, 833, 724, 27, 234, 760, 525, 884, 801, 890, 224, 415, 305, 128, 950, 367, 619, 560, 945, 478, 852, 578, 284, 580, 55, 387, 824, 417, 261, 329, 132, 196, 650, 192, 369, 195, 676, 458, 59, 20, 335, 363, 364, 609, 168, 213, 334, 254, 304, 503, 60, 829, 651, 826, 662, 230, 98, 15, 362, 947, 293, 190, 386, 151, 56, 906, 323, 684, 693, 844, 843, 654, 688, 926, 420, 225, 730, 126, 283, 538, 865, 657, 326, 519, 505, 317, 937, 316, 333, 82, 97, 914, 282, 395, 391, 788, 622, 871, 798, 152, 177, 921, 418, 21, 840, 866, 297, 153, 563, 939, 555, 679, 783, 859, 337, 805, 773, 832, 639, 404, 89, 23, 303, 436, 659, 776, 876, 572, 781, 410, 241, 110, 569, 187, 188, 880, 462, 351, 758, 220, 403, 180, 875, 546, 685, 233, 46, 469, 649, 252, 828, 52, 477, 43, 357, 663, 666, 328, 77, 185, 918, 920, 476, 179, 160, 468, 596, 763, 206, 594, 658, 810, 212, 470, 764, 414, 911, 223, 687, 71, 648, 125, 655, 510, 570, 681, 575, 255, 117, 40, 667, 603, 228, 496, 537, 923, 378, 426, 636, 30, 402, 771, 759, 181, 789, 487, 366, 124, 24, 710, 238, 821, 848, 697, 288, 120, 854, 561, 134, 343, 690, 957, 26, 29, 497, 523, 32, 955, 116, 149, 171, 877, 63, 306, 441, 202, 484, 33, 368, 954, 689, 379, 467, 295, 6, 280, 273, 949, 767, 133, 540, 858, 611, 576, 352, 652, 533, 891, 938, 532, 7, 480, 204, 95, 291, 106, 700, 184, 925, 522, 850, 566, 604, 864, 189, 45, 794, 111, 394, 516, 201, 632, 408, 141, 272, 48, 122, 559, 827, 490, 750, 218, 863, 812, 194, 737, 47, 310, 78, 847, 556, 643, 736, 482, 22, 735, 568, 499, 388, 169, 888, 541, 501, 627, 809, 308, 385, 31, 49, 430, 121, 259, 359, 599, 382, 629, 80, 729, 481, 567, 76, 51, 842, 449, 54, 607, 312, 600, 344, 708, 384, 191, 454, 215, 860, 325, 692, 164, 683, 170, 483, 766, 115, 733, 952, 53, 240, 423, 590, 521, 893, 262, 69, 163, 755, 543, 751, 123, 719, 624, 856, 787, 799, 774, 58, 769, 222, 909, 883, 777, 42, 146, 595, 445, 673, 439, 99, 862, 934, 929, 409, 744, 845, 475, 137, 422, 360, 552, 640, 377, 353, 62, 498, 524, 534, 745, 731, 429, 298, 587, 493, 628, 428, 806, 542, 263, 401, 3, 634, 156, 79, 802, 278, 803, 148, 411, 904, 738, 699, 50, 670, 896, 442, 838, 167, 260, 281, 819, 894, 186, 529, 953, 471, 814, 70, 113, 660, 38, 912, 107, 193, 407, 936, 527, 702, 342, 841, 68, 294, 800, 792, 427, 948, 247, 72, 2, 601, 867, 227, 612, 897, 813, 492, 889, 182, 183, 451, 645, 615, 358, 203, 616, 405, 922, 935, 19, 779, 143, 12, 752, 536, 698, 545, 701, 88, 712, 579, 807, 9, 677, 754, 557, 672, 235, 327, 739, 613, 817, 874, 91, 269, 723, 644, 277, 956, 274, 73, 707, 661, 210, 198, 435, 264, 296, 348, 200, 535, 720, 266, 583, 331, 694, 664, 831, 140, 355, 127, 887, 318, 83, 756, 753, 28, 175, 691, 16, 851, 448, 915, 219, 714, 397, 625, 930, 178, 761, 142, 61, 598, 586, 349, 332, 361, 506, 412, 762, 270, 870, 390, 313, 286, 413, 811, 57, 711, 849, 846, 621, 797, 617, 940, 705, 446, 589, 903, 25, 94, 350, 873, 717, 92, 8, 173, 258, 453, 373, 928, 118, 592, 620, 339, 768] \n",
      "\n",
      "\n",
      "\n",
      "\n",
      "***Test***: [703, 297, 864, 564, 566, 435, 258, 169, 872, 474, 391, 181, 121, 509, 480, 647, 246, 915, 645, 196, 102, 667, 454, 671, 675, 303, 62, 237, 232, 799, 926, 911, 359, 162, 428, 130, 639, 750, 48, 450, 108, 836, 940, 888, 851, 167, 930, 594, 920, 604, 906, 423, 274, 90, 783, 299, 124, 633, 295, 475, 449, 139, 398, 217, 339, 567, 228, 656, 114, 511, 393, 337, 251, 485, 405, 425, 937, 378, 581, 840, 459, 460, 902, 43, 939, 845, 456, 267, 910, 681, 403, 328, 276, 412, 345] \n",
      "\n",
      "***Train***: [180, 253, 226, 623, 413, 392, 828, 698, 13, 934, 735, 893, 763, 898, 171, 376, 832, 159, 709, 37, 558, 175, 28, 488, 879, 0, 304, 729, 41, 938, 883, 408, 629, 125, 192, 233, 713, 606, 947, 155, 853, 508, 956, 361, 104, 281, 637, 801, 411, 100, 747, 922, 314, 42, 774, 96, 32, 187, 786, 79, 199, 205, 221, 492, 782, 189, 591, 657, 570, 776, 484, 838, 542, 34, 174, 193, 479, 85, 837, 772, 740, 664, 238, 693, 846, 8, 725, 583, 33, 775, 219, 687, 587, 240, 646, 451, 168, 704, 817, 660, 380, 812, 708, 503, 903, 211, 6, 268, 229, 615, 597, 788, 418, 957, 543, 384, 129, 260, 270, 875, 771, 904, 491, 654, 469, 826, 745, 677, 241, 769, 721, 669, 122, 30, 613, 796, 397, 482, 387, 758, 58, 248, 852, 737, 138, 243, 421, 792, 734, 850, 791, 532, 419, 905, 231, 500, 519, 278, 250, 12, 410, 373, 857, 305, 648, 699, 208, 447, 262, 538, 271, 170, 858, 546, 697, 497, 44, 352, 350, 576, 123, 185, 797, 318, 624, 97, 239, 833, 309, 166, 394, 370, 712, 544, 814, 670, 765, 385, 26, 909, 580, 383, 815, 427, 227, 493, 357, 620, 757, 234, 80, 87, 158, 607, 153, 916, 436, 134, 528, 156, 147, 319, 813, 824, 676, 724, 616, 868, 431, 277, 946, 349, 105, 829, 466, 778, 880, 364, 336, 360, 682, 57, 358, 588, 15, 901, 141, 760, 617, 749, 795, 327, 145, 161, 215, 216, 1, 808, 326, 458, 440, 400, 117, 191, 476, 711, 653, 684, 173, 526, 142, 366, 486, 284, 889, 206, 841, 673, 608, 186, 717, 83, 201, 78, 324, 396, 732, 115, 467, 948, 59, 627, 573, 245, 866, 575, 642, 626, 95, 779, 351, 437, 692, 315, 371, 625, 257, 259, 759, 506, 439, 952, 29, 321, 107, 753, 514, 780, 66, 748, 443, 890, 878, 716, 116, 612, 452, 377, 331, 27, 714, 842, 923, 202, 242, 10, 862, 555, 235, 694, 599, 908, 674, 860, 415, 113, 46, 179, 282, 885, 81, 61, 4, 701, 743, 438, 17, 921, 490, 442, 557, 816, 137, 203, 334, 733, 340, 279, 35, 741, 64, 273, 332, 659, 294, 935, 89, 356, 20, 897, 928, 154, 754, 752, 112, 461, 18, 955, 807, 891, 634, 912, 432, 523, 365, 286, 367, 151, 177, 477, 919, 521, 67, 869, 705, 518, 77, 374, 249, 9, 424, 126, 876, 785, 742, 679, 822, 207, 863, 579, 593, 489, 602, 263, 372, 688, 120, 831, 843, 942, 635, 390, 212, 68, 540, 496, 552, 574, 854, 382, 621, 927, 680, 529, 719, 464, 446, 487, 502, 649, 718, 38, 325, 790, 230, 690, 820, 86, 386, 55, 498, 224, 794, 525, 481, 190, 204, 932, 338, 598, 288, 755, 650, 379, 417, 118, 354, 696, 368, 568, 804, 73, 84, 362, 388, 7, 164, 463, 254, 726, 835, 92, 183, 236, 420, 471, 644, 101, 457, 847, 507, 184, 949, 918, 344, 266, 63, 569, 551, 577, 702, 495, 25, 914, 311, 320, 706, 510, 256, 131, 404, 429, 426, 545, 269, 662, 343, 323, 578, 861, 409, 603, 355, 346, 280, 630, 298, 563, 945, 301, 306, 209, 592, 767, 636, 468, 111, 531, 550, 40, 478, 787, 917, 823, 652, 913, 707, 140, 825, 556, 802, 283, 766, 821, 867, 45, 865, 601, 441, 819, 727, 65, 950, 628, 768, 291, 195, 24, 882, 353, 369, 830, 809, 739, 292, 341, 728, 614, 317, 272, 329, 641, 313, 572, 264, 222, 106, 445, 549, 244, 494, 877, 738, 849, 21, 146, 661, 16, 462, 302, 700, 247, 465, 197, 736, 520, 287, 347, 683, 638, 881, 483, 746, 165, 806, 143, 770, 761, 941, 110, 944, 710, 5, 631, 534, 94, 402, 672, 585, 781, 689, 777, 589, 678, 929, 744, 22, 553, 214, 848, 220, 895, 69, 655, 50, 31, 285, 11, 800, 444, 23, 414, 128, 289, 562, 56, 559, 395, 363, 133, 547, 505, 472, 537, 60, 811, 539, 433, 312, 936, 663, 685, 290, 855, 188, 127, 261, 453, 527, 622, 149, 407, 448, 723, 293, 178, 39, 515, 71, 900, 666, 14, 764, 605, 839, 406, 265, 715, 516, 595, 75, 618, 53, 522, 310, 892, 686, 82, 322, 810, 213, 2, 859, 342, 144, 36, 103, 886, 76, 416, 316, 691, 72, 182, 548, 943, 762, 333, 953, 805, 255, 252, 844, 160, 720, 172, 951, 119, 731, 793, 517, 773, 135, 200, 88, 582, 49, 651, 870, 150, 176, 47, 296, 157, 152, 554, 536, 596, 584, 148, 887, 275, 530, 784, 751, 223, 600, 899, 873, 99, 307, 389, 430, 884, 571, 907, 665, 54, 401, 308, 348, 611, 19, 381, 330, 541, 640, 827, 609, 513, 668, 632, 590, 504, 93, 695, 132, 473, 52, 524, 954, 925, 198, 924, 194, 499, 210, 109, 512, 501, 98, 931, 894, 789, 730, 422, 225, 136, 434, 643, 658, 218, 561, 300, 874, 586, 535, 565, 375, 896, 470, 560, 455, 163, 803, 871, 756, 619, 70, 3, 933, 74, 856, 834, 722, 533, 51, 399, 335, 610, 91, 818, 798] \n",
      "\n"
     ]
    }
   ],
   "source": [
    "vc = EstrategiaParticionado.ValidacionSimple(10, 5) \n",
    "vc.creaParticiones(dataset1.datos)\n",
    "\n",
    "for i in range(5):\n",
    "    print(\"\\n\\n\")\n",
    "    print(\"***Test***:\", vc.particiones[i].indicesTest, \"\\n\")\n",
    "    print(\"***Train***:\", vc.particiones[i].indicesTrain, \"\\n\")"
   ]
  },
  {
   "cell_type": "markdown",
   "metadata": {},
   "source": [
    "## 3.1 Validación cruzada\n",
    "En esta estrategia dividimos los datos en un número N de partes, la intención usar cada una de las N partes como test y a la vez usar el resto como training.\n",
    "La clase _ValidacionCruzada_ recibe como argumento en el constructor, el número de porciones que van ha haber en los datos.\n",
    "\n",
    "```py\n",
    "class ValidacionCruzada(EstrategiaParticionado):\n",
    "    \"\"\"Clase que define una estrategia de particionado,\n",
    "    en concreto, validación simple.\n",
    "    \"\"\"\n",
    "\n",
    "    def __init__(self, numeroParticiones):\n",
    "        \"\"\"Construcor.\n",
    "\n",
    "        Args:\n",
    "            numeroParticiones (int): Número de particiones de la validación cruzada.\n",
    "        \"\"\"\n",
    "        super().__init__()\n",
    "        self.numeroParticiones = numeroParticiones\n",
    "```\n",
    "Como se puede ver, simplemente en el constructor asignamos el valor de dicho atributo.\n",
    "Posteriormente se implementó el método _creaParticiones_.\n",
    "\n",
    "```py\n",
    "def creaParticiones(self,datos,seed=None):\n",
    "    random.seed(seed)\n",
    "    self.particiones = []\n",
    "    longitudDatos = np.shape(datos)[0]\n",
    "    longitudPorcion = int(longitudDatos/self.numeroParticiones)\n",
    "\n",
    "    lista_valores = [i for i in range(longitudDatos)]\n",
    "    random.shuffle(lista_valores)\n",
    "\n",
    "    for i in range(self.numeroParticiones):\n",
    "        self.particiones.append(Particion())\n",
    "\n",
    "        # Calculamos los indices del test\n",
    "        fromTest = i*longitudPorcion\n",
    "        toTest = fromTest + longitudPorcion\n",
    "\n",
    "        # Asignamos los indices\n",
    "        self.particiones[-1].indicesTest = lista_valores[fromTest:toTest]\n",
    "        self.particiones[-1].indicesTrain = [i for i in lista_valores if i not in self.particiones[-1].indicesTest]\n",
    "```\n",
    "Al igual que en el método de validación simple, creamos una lista con los valores de los indices en los datos, posteriormente permutamos dicha lista pero en este caso solo es necesario hacerlo una vez. En un bucle asignamos las particiones usando la lista permutada. Hay que tener en cuenta que la asignación de las porciones se hace moviendonos sobre la lista permutada. Por ejemplo, si tuviesemos 4 porciones de los datos los cuales tienen 10 filas, se crearía una lista con los números enteros del 0-9, después permutaríamos la lista y por último en cada iteración del bucle iríamos asignando 2 porciones a cada test.\n",
    "Iteración 1: Test - 2 primeros elementos de la lista permutada - Train - Resto.\n",
    "Iteración 2: Test - 3er y 4º elementos de la lista permutada - Train - Resto.\n",
    "...\n",
    "Se ejecutará un ejemplo aquí debajo."
   ]
  },
  {
   "cell_type": "code",
   "execution_count": 14,
   "metadata": {},
   "outputs": [
    {
     "name": "stdout",
     "output_type": "stream",
     "text": [
      "\n",
      "\n",
      "\n",
      "***Test***: [7, 1] \n",
      "\n",
      "***Train***: [2, 6, 3, 5, 0, 4] \n",
      "\n",
      "\n",
      "\n",
      "\n",
      "***Test***: [2, 6] \n",
      "\n",
      "***Train***: [7, 1, 3, 5, 0, 4] \n",
      "\n",
      "\n",
      "\n",
      "\n",
      "***Test***: [3, 5] \n",
      "\n",
      "***Train***: [7, 1, 2, 6, 0, 4] \n",
      "\n",
      "\n",
      "\n",
      "\n",
      "***Test***: [0, 4] \n",
      "\n",
      "***Train***: [7, 1, 2, 6, 3, 5] \n",
      "\n"
     ]
    }
   ],
   "source": [
    "datos = np.random.random((8, 2)) \n",
    "\n",
    "vc = EstrategiaParticionado.ValidacionCruzada(4)\n",
    "vc.creaParticiones(datos)\n",
    "      \n",
    "for i in range(4):\n",
    "    print(\"\\n\\n\")\n",
    "    print(\"***Test***:\", vc.particiones[i].indicesTest, \"\\n\")\n",
    "    print(\"***Train***:\", vc.particiones[i].indicesTrain, \"\\n\")"
   ]
  },
  {
   "cell_type": "markdown",
   "metadata": {},
   "source": [
    "Se puede apreciar que el array es el mismo, solo vamos asignando la porcion del test que le toca.\n",
    "\n",
    "Ahora se ejecutará lo mismo con el dataset de _tic-tac-toe_."
   ]
  },
  {
   "cell_type": "code",
   "execution_count": 15,
   "metadata": {},
   "outputs": [
    {
     "name": "stdout",
     "output_type": "stream",
     "text": [
      "\n",
      "\n",
      "\n",
      "***Test***: [146, 56, 841, 347, 945, 30, 704, 451, 283, 362, 229, 352, 857, 609, 822, 256, 65, 846, 625, 83, 803, 515, 510, 771, 485, 168, 225, 764, 708, 748, 403, 564, 411, 563, 253, 419, 776, 126, 756, 3, 421, 78, 400, 349, 815, 802, 953, 562, 63, 855, 693, 263, 833, 659, 787, 834, 154, 799, 101, 850, 851, 655, 694, 44, 192, 240, 517, 230, 431, 785, 257, 664, 607, 849, 853, 384, 248, 571, 516, 725, 643, 265, 797, 437, 20, 946, 551, 464, 559, 215, 79, 422, 152, 651, 323] \n",
      "\n",
      "***Train***: [271, 813, 727, 310, 165, 353, 723, 134, 200, 738, 652, 581, 662, 902, 653, 110, 907, 468, 342, 889, 45, 620, 466, 539, 0, 684, 628, 25, 678, 289, 536, 236, 860, 86, 279, 742, 361, 506, 691, 512, 318, 112, 246, 922, 328, 307, 268, 38, 148, 540, 262, 420, 920, 586, 626, 58, 492, 267, 68, 646, 321, 656, 718, 486, 743, 375, 407, 770, 71, 648, 888, 824, 479, 392, 440, 46, 941, 461, 897, 527, 474, 529, 183, 338, 880, 514, 176, 242, 90, 174, 868, 631, 601, 644, 301, 425, 133, 98, 558, 211, 294, 17, 489, 439, 774, 299, 494, 611, 140, 859, 624, 912, 588, 661, 162, 57, 699, 783, 649, 925, 781, 796, 711, 751, 875, 746, 399, 36, 952, 172, 456, 40, 584, 477, 220, 372, 758, 670, 538, 818, 316, 767, 895, 88, 132, 297, 131, 469, 507, 712, 298, 119, 793, 866, 188, 900, 913, 259, 705, 614, 780, 838, 534, 340, 826, 676, 8, 218, 810, 641, 277, 115, 689, 122, 480, 523, 640, 638, 423, 940, 775, 608, 602, 223, 671, 116, 554, 800, 898, 893, 448, 949, 59, 9, 550, 472, 747, 650, 603, 812, 103, 379, 753, 714, 533, 703, 177, 393, 615, 488, 124, 741, 677, 801, 667, 668, 769, 435, 840, 471, 135, 196, 948, 463, 760, 686, 418, 745, 15, 498, 54, 317, 334, 613, 136, 762, 618, 1, 219, 404, 861, 658, 2, 565, 10, 238, 288, 921, 537, 623, 627, 444, 70, 21, 790, 121, 292, 109, 41, 341, 64, 13, 290, 950, 160, 207, 721, 929, 60, 330, 928, 697, 81, 39, 85, 100, 314, 665, 732, 766, 484, 178, 459, 51, 530, 16, 216, 186, 542, 442, 752, 354, 169, 302, 52, 231, 153, 123, 455, 612, 669, 385, 806, 882, 281, 49, 610, 66, 590, 171, 629, 311, 452, 545, 604, 357, 557, 467, 502, 654, 894, 374, 390, 453, 173, 208, 837, 731, 285, 754, 594, 899, 274, 260, 446, 249, 869, 647, 398, 728, 504, 947, 544, 377, 366, 159, 552, 27, 518, 69, 871, 936, 561, 511, 210, 499, 441, 663, 380, 942, 91, 572, 847, 844, 555, 617, 394, 226, 761, 305, 632, 675, 72, 331, 368, 845, 862, 493, 633, 175, 596, 199, 158, 639, 890, 167, 490, 553, 687, 182, 95, 896, 541, 185, 212, 630, 786, 137, 118, 150, 710, 589, 412, 779, 99, 839, 749, 139, 37, 151, 76, 520, 198, 409, 917, 701, 190, 778, 22, 245, 885, 428, 31, 568, 155, 454, 931, 903, 117, 634, 817, 580, 373, 482, 505, 816, 599, 906, 344, 876, 763, 233, 163, 415, 429, 445, 465, 193, 309, 577, 573, 957, 737, 84, 954, 406, 164, 363, 273, 877, 270, 951, 835, 788, 919, 410, 335, 194, 300, 543, 217, 396, 447, 508, 241, 125, 206, 359, 458, 436, 120, 526, 405, 930, 24, 794, 434, 777, 595, 426, 232, 367, 750, 141, 503, 332, 497, 874, 264, 82, 905, 266, 130, 397, 250, 828, 358, 739, 75, 94, 814, 108, 587, 356, 755, 636, 729, 901, 113, 524, 234, 854, 487, 306, 254, 570, 432, 933, 591, 525, 938, 424, 93, 184, 730, 616, 773, 918, 348, 483, 26, 872, 47, 386, 5, 521, 304, 567, 50, 209, 863, 18, 809, 201, 258, 202, 823, 365, 491, 296, 944, 832, 189, 674, 719, 696, 585, 181, 42, 811, 915, 873, 214, 145, 867, 312, 389, 473, 682, 251, 605, 546, 74, 55, 736, 827, 681, 143, 395, 319, 740, 157, 621, 535, 295, 592, 369, 724, 583, 28, 351, 227, 327, 34, 114, 495, 937, 147, 744, 657, 717, 326, 680, 821, 337, 805, 706, 235, 672, 105, 481, 213, 32, 825, 789, 427, 142, 843, 819, 709, 578, 156, 470, 413, 308, 370, 679, 261, 528, 180, 478, 829, 269, 239, 276, 291, 887, 460, 598, 11, 916, 67, 548, 606, 690, 364, 500, 939, 43, 97, 870, 179, 107, 29, 187, 772, 23, 879, 433, 324, 702, 325, 881, 449, 720, 878, 417, 804, 275, 7, 698, 244, 128, 496, 272, 77, 831, 842, 597, 408, 582, 757, 784, 129, 228, 955, 89, 383, 547, 191, 19, 836, 808, 127, 765, 450, 104, 48, 792, 522, 600, 560, 203, 61, 830, 462, 252, 579, 73, 387, 286, 864, 904, 376, 224, 700, 282, 943, 14, 735, 339, 87, 204, 566, 932, 660, 320, 287, 910, 336, 96, 593, 92, 715, 926, 673, 683, 575, 713, 768, 371, 62, 519, 166, 637, 414, 476, 35, 759, 798, 195, 4, 909, 716, 378, 416, 138, 12, 343, 509, 856, 884, 355, 144, 934, 161, 170, 914, 401, 501, 908, 388, 956, 278, 430, 293, 569, 923, 53, 532, 33, 852, 443, 531, 865, 149, 391, 80, 911, 402, 102, 475, 106, 315, 221, 549, 666, 927, 6, 688, 807, 795, 350, 733, 247, 255, 635, 574, 858, 820, 642, 791, 438, 734, 622, 556, 345, 111, 695, 243, 883, 280, 333, 303, 645, 360, 457, 576, 205, 381, 346, 237, 222, 886, 197, 685, 329, 848, 322, 692, 891, 284, 513, 782, 726, 935, 722, 924, 382, 892, 619, 313, 707] \n",
      "\n",
      "\n",
      "\n",
      "\n",
      "***Test***: [271, 813, 727, 310, 165, 353, 723, 134, 200, 738, 652, 581, 662, 902, 653, 110, 907, 468, 342, 889, 45, 620, 466, 539, 0, 684, 628, 25, 678, 289, 536, 236, 860, 86, 279, 742, 361, 506, 691, 512, 318, 112, 246, 922, 328, 307, 268, 38, 148, 540, 262, 420, 920, 586, 626, 58, 492, 267, 68, 646, 321, 656, 718, 486, 743, 375, 407, 770, 71, 648, 888, 824, 479, 392, 440, 46, 941, 461, 897, 527, 474, 529, 183, 338, 880, 514, 176, 242, 90, 174, 868, 631, 601, 644, 301] \n",
      "\n",
      "***Train***: [146, 56, 841, 347, 945, 30, 704, 451, 283, 362, 229, 352, 857, 609, 822, 256, 65, 846, 625, 83, 803, 515, 510, 771, 485, 168, 225, 764, 708, 748, 403, 564, 411, 563, 253, 419, 776, 126, 756, 3, 421, 78, 400, 349, 815, 802, 953, 562, 63, 855, 693, 263, 833, 659, 787, 834, 154, 799, 101, 850, 851, 655, 694, 44, 192, 240, 517, 230, 431, 785, 257, 664, 607, 849, 853, 384, 248, 571, 516, 725, 643, 265, 797, 437, 20, 946, 551, 464, 559, 215, 79, 422, 152, 651, 323, 425, 133, 98, 558, 211, 294, 17, 489, 439, 774, 299, 494, 611, 140, 859, 624, 912, 588, 661, 162, 57, 699, 783, 649, 925, 781, 796, 711, 751, 875, 746, 399, 36, 952, 172, 456, 40, 584, 477, 220, 372, 758, 670, 538, 818, 316, 767, 895, 88, 132, 297, 131, 469, 507, 712, 298, 119, 793, 866, 188, 900, 913, 259, 705, 614, 780, 838, 534, 340, 826, 676, 8, 218, 810, 641, 277, 115, 689, 122, 480, 523, 640, 638, 423, 940, 775, 608, 602, 223, 671, 116, 554, 800, 898, 893, 448, 949, 59, 9, 550, 472, 747, 650, 603, 812, 103, 379, 753, 714, 533, 703, 177, 393, 615, 488, 124, 741, 677, 801, 667, 668, 769, 435, 840, 471, 135, 196, 948, 463, 760, 686, 418, 745, 15, 498, 54, 317, 334, 613, 136, 762, 618, 1, 219, 404, 861, 658, 2, 565, 10, 238, 288, 921, 537, 623, 627, 444, 70, 21, 790, 121, 292, 109, 41, 341, 64, 13, 290, 950, 160, 207, 721, 929, 60, 330, 928, 697, 81, 39, 85, 100, 314, 665, 732, 766, 484, 178, 459, 51, 530, 16, 216, 186, 542, 442, 752, 354, 169, 302, 52, 231, 153, 123, 455, 612, 669, 385, 806, 882, 281, 49, 610, 66, 590, 171, 629, 311, 452, 545, 604, 357, 557, 467, 502, 654, 894, 374, 390, 453, 173, 208, 837, 731, 285, 754, 594, 899, 274, 260, 446, 249, 869, 647, 398, 728, 504, 947, 544, 377, 366, 159, 552, 27, 518, 69, 871, 936, 561, 511, 210, 499, 441, 663, 380, 942, 91, 572, 847, 844, 555, 617, 394, 226, 761, 305, 632, 675, 72, 331, 368, 845, 862, 493, 633, 175, 596, 199, 158, 639, 890, 167, 490, 553, 687, 182, 95, 896, 541, 185, 212, 630, 786, 137, 118, 150, 710, 589, 412, 779, 99, 839, 749, 139, 37, 151, 76, 520, 198, 409, 917, 701, 190, 778, 22, 245, 885, 428, 31, 568, 155, 454, 931, 903, 117, 634, 817, 580, 373, 482, 505, 816, 599, 906, 344, 876, 763, 233, 163, 415, 429, 445, 465, 193, 309, 577, 573, 957, 737, 84, 954, 406, 164, 363, 273, 877, 270, 951, 835, 788, 919, 410, 335, 194, 300, 543, 217, 396, 447, 508, 241, 125, 206, 359, 458, 436, 120, 526, 405, 930, 24, 794, 434, 777, 595, 426, 232, 367, 750, 141, 503, 332, 497, 874, 264, 82, 905, 266, 130, 397, 250, 828, 358, 739, 75, 94, 814, 108, 587, 356, 755, 636, 729, 901, 113, 524, 234, 854, 487, 306, 254, 570, 432, 933, 591, 525, 938, 424, 93, 184, 730, 616, 773, 918, 348, 483, 26, 872, 47, 386, 5, 521, 304, 567, 50, 209, 863, 18, 809, 201, 258, 202, 823, 365, 491, 296, 944, 832, 189, 674, 719, 696, 585, 181, 42, 811, 915, 873, 214, 145, 867, 312, 389, 473, 682, 251, 605, 546, 74, 55, 736, 827, 681, 143, 395, 319, 740, 157, 621, 535, 295, 592, 369, 724, 583, 28, 351, 227, 327, 34, 114, 495, 937, 147, 744, 657, 717, 326, 680, 821, 337, 805, 706, 235, 672, 105, 481, 213, 32, 825, 789, 427, 142, 843, 819, 709, 578, 156, 470, 413, 308, 370, 679, 261, 528, 180, 478, 829, 269, 239, 276, 291, 887, 460, 598, 11, 916, 67, 548, 606, 690, 364, 500, 939, 43, 97, 870, 179, 107, 29, 187, 772, 23, 879, 433, 324, 702, 325, 881, 449, 720, 878, 417, 804, 275, 7, 698, 244, 128, 496, 272, 77, 831, 842, 597, 408, 582, 757, 784, 129, 228, 955, 89, 383, 547, 191, 19, 836, 808, 127, 765, 450, 104, 48, 792, 522, 600, 560, 203, 61, 830, 462, 252, 579, 73, 387, 286, 864, 904, 376, 224, 700, 282, 943, 14, 735, 339, 87, 204, 566, 932, 660, 320, 287, 910, 336, 96, 593, 92, 715, 926, 673, 683, 575, 713, 768, 371, 62, 519, 166, 637, 414, 476, 35, 759, 798, 195, 4, 909, 716, 378, 416, 138, 12, 343, 509, 856, 884, 355, 144, 934, 161, 170, 914, 401, 501, 908, 388, 956, 278, 430, 293, 569, 923, 53, 532, 33, 852, 443, 531, 865, 149, 391, 80, 911, 402, 102, 475, 106, 315, 221, 549, 666, 927, 6, 688, 807, 795, 350, 733, 247, 255, 635, 574, 858, 820, 642, 791, 438, 734, 622, 556, 345, 111, 695, 243, 883, 280, 333, 303, 645, 360, 457, 576, 205, 381, 346, 237, 222, 886, 197, 685, 329, 848, 322, 692, 891, 284, 513, 782, 726, 935, 722, 924, 382, 892, 619, 313, 707] \n",
      "\n",
      "\n",
      "\n",
      "\n",
      "***Test***: [425, 133, 98, 558, 211, 294, 17, 489, 439, 774, 299, 494, 611, 140, 859, 624, 912, 588, 661, 162, 57, 699, 783, 649, 925, 781, 796, 711, 751, 875, 746, 399, 36, 952, 172, 456, 40, 584, 477, 220, 372, 758, 670, 538, 818, 316, 767, 895, 88, 132, 297, 131, 469, 507, 712, 298, 119, 793, 866, 188, 900, 913, 259, 705, 614, 780, 838, 534, 340, 826, 676, 8, 218, 810, 641, 277, 115, 689, 122, 480, 523, 640, 638, 423, 940, 775, 608, 602, 223, 671, 116, 554, 800, 898, 893] \n",
      "\n",
      "***Train***: [146, 56, 841, 347, 945, 30, 704, 451, 283, 362, 229, 352, 857, 609, 822, 256, 65, 846, 625, 83, 803, 515, 510, 771, 485, 168, 225, 764, 708, 748, 403, 564, 411, 563, 253, 419, 776, 126, 756, 3, 421, 78, 400, 349, 815, 802, 953, 562, 63, 855, 693, 263, 833, 659, 787, 834, 154, 799, 101, 850, 851, 655, 694, 44, 192, 240, 517, 230, 431, 785, 257, 664, 607, 849, 853, 384, 248, 571, 516, 725, 643, 265, 797, 437, 20, 946, 551, 464, 559, 215, 79, 422, 152, 651, 323, 271, 813, 727, 310, 165, 353, 723, 134, 200, 738, 652, 581, 662, 902, 653, 110, 907, 468, 342, 889, 45, 620, 466, 539, 0, 684, 628, 25, 678, 289, 536, 236, 860, 86, 279, 742, 361, 506, 691, 512, 318, 112, 246, 922, 328, 307, 268, 38, 148, 540, 262, 420, 920, 586, 626, 58, 492, 267, 68, 646, 321, 656, 718, 486, 743, 375, 407, 770, 71, 648, 888, 824, 479, 392, 440, 46, 941, 461, 897, 527, 474, 529, 183, 338, 880, 514, 176, 242, 90, 174, 868, 631, 601, 644, 301, 448, 949, 59, 9, 550, 472, 747, 650, 603, 812, 103, 379, 753, 714, 533, 703, 177, 393, 615, 488, 124, 741, 677, 801, 667, 668, 769, 435, 840, 471, 135, 196, 948, 463, 760, 686, 418, 745, 15, 498, 54, 317, 334, 613, 136, 762, 618, 1, 219, 404, 861, 658, 2, 565, 10, 238, 288, 921, 537, 623, 627, 444, 70, 21, 790, 121, 292, 109, 41, 341, 64, 13, 290, 950, 160, 207, 721, 929, 60, 330, 928, 697, 81, 39, 85, 100, 314, 665, 732, 766, 484, 178, 459, 51, 530, 16, 216, 186, 542, 442, 752, 354, 169, 302, 52, 231, 153, 123, 455, 612, 669, 385, 806, 882, 281, 49, 610, 66, 590, 171, 629, 311, 452, 545, 604, 357, 557, 467, 502, 654, 894, 374, 390, 453, 173, 208, 837, 731, 285, 754, 594, 899, 274, 260, 446, 249, 869, 647, 398, 728, 504, 947, 544, 377, 366, 159, 552, 27, 518, 69, 871, 936, 561, 511, 210, 499, 441, 663, 380, 942, 91, 572, 847, 844, 555, 617, 394, 226, 761, 305, 632, 675, 72, 331, 368, 845, 862, 493, 633, 175, 596, 199, 158, 639, 890, 167, 490, 553, 687, 182, 95, 896, 541, 185, 212, 630, 786, 137, 118, 150, 710, 589, 412, 779, 99, 839, 749, 139, 37, 151, 76, 520, 198, 409, 917, 701, 190, 778, 22, 245, 885, 428, 31, 568, 155, 454, 931, 903, 117, 634, 817, 580, 373, 482, 505, 816, 599, 906, 344, 876, 763, 233, 163, 415, 429, 445, 465, 193, 309, 577, 573, 957, 737, 84, 954, 406, 164, 363, 273, 877, 270, 951, 835, 788, 919, 410, 335, 194, 300, 543, 217, 396, 447, 508, 241, 125, 206, 359, 458, 436, 120, 526, 405, 930, 24, 794, 434, 777, 595, 426, 232, 367, 750, 141, 503, 332, 497, 874, 264, 82, 905, 266, 130, 397, 250, 828, 358, 739, 75, 94, 814, 108, 587, 356, 755, 636, 729, 901, 113, 524, 234, 854, 487, 306, 254, 570, 432, 933, 591, 525, 938, 424, 93, 184, 730, 616, 773, 918, 348, 483, 26, 872, 47, 386, 5, 521, 304, 567, 50, 209, 863, 18, 809, 201, 258, 202, 823, 365, 491, 296, 944, 832, 189, 674, 719, 696, 585, 181, 42, 811, 915, 873, 214, 145, 867, 312, 389, 473, 682, 251, 605, 546, 74, 55, 736, 827, 681, 143, 395, 319, 740, 157, 621, 535, 295, 592, 369, 724, 583, 28, 351, 227, 327, 34, 114, 495, 937, 147, 744, 657, 717, 326, 680, 821, 337, 805, 706, 235, 672, 105, 481, 213, 32, 825, 789, 427, 142, 843, 819, 709, 578, 156, 470, 413, 308, 370, 679, 261, 528, 180, 478, 829, 269, 239, 276, 291, 887, 460, 598, 11, 916, 67, 548, 606, 690, 364, 500, 939, 43, 97, 870, 179, 107, 29, 187, 772, 23, 879, 433, 324, 702, 325, 881, 449, 720, 878, 417, 804, 275, 7, 698, 244, 128, 496, 272, 77, 831, 842, 597, 408, 582, 757, 784, 129, 228, 955, 89, 383, 547, 191, 19, 836, 808, 127, 765, 450, 104, 48, 792, 522, 600, 560, 203, 61, 830, 462, 252, 579, 73, 387, 286, 864, 904, 376, 224, 700, 282, 943, 14, 735, 339, 87, 204, 566, 932, 660, 320, 287, 910, 336, 96, 593, 92, 715, 926, 673, 683, 575, 713, 768, 371, 62, 519, 166, 637, 414, 476, 35, 759, 798, 195, 4, 909, 716, 378, 416, 138, 12, 343, 509, 856, 884, 355, 144, 934, 161, 170, 914, 401, 501, 908, 388, 956, 278, 430, 293, 569, 923, 53, 532, 33, 852, 443, 531, 865, 149, 391, 80, 911, 402, 102, 475, 106, 315, 221, 549, 666, 927, 6, 688, 807, 795, 350, 733, 247, 255, 635, 574, 858, 820, 642, 791, 438, 734, 622, 556, 345, 111, 695, 243, 883, 280, 333, 303, 645, 360, 457, 576, 205, 381, 346, 237, 222, 886, 197, 685, 329, 848, 322, 692, 891, 284, 513, 782, 726, 935, 722, 924, 382, 892, 619, 313, 707] \n",
      "\n",
      "\n",
      "\n",
      "\n",
      "***Test***: [448, 949, 59, 9, 550, 472, 747, 650, 603, 812, 103, 379, 753, 714, 533, 703, 177, 393, 615, 488, 124, 741, 677, 801, 667, 668, 769, 435, 840, 471, 135, 196, 948, 463, 760, 686, 418, 745, 15, 498, 54, 317, 334, 613, 136, 762, 618, 1, 219, 404, 861, 658, 2, 565, 10, 238, 288, 921, 537, 623, 627, 444, 70, 21, 790, 121, 292, 109, 41, 341, 64, 13, 290, 950, 160, 207, 721, 929, 60, 330, 928, 697, 81, 39, 85, 100, 314, 665, 732, 766, 484, 178, 459, 51, 530] \n",
      "\n",
      "***Train***: [146, 56, 841, 347, 945, 30, 704, 451, 283, 362, 229, 352, 857, 609, 822, 256, 65, 846, 625, 83, 803, 515, 510, 771, 485, 168, 225, 764, 708, 748, 403, 564, 411, 563, 253, 419, 776, 126, 756, 3, 421, 78, 400, 349, 815, 802, 953, 562, 63, 855, 693, 263, 833, 659, 787, 834, 154, 799, 101, 850, 851, 655, 694, 44, 192, 240, 517, 230, 431, 785, 257, 664, 607, 849, 853, 384, 248, 571, 516, 725, 643, 265, 797, 437, 20, 946, 551, 464, 559, 215, 79, 422, 152, 651, 323, 271, 813, 727, 310, 165, 353, 723, 134, 200, 738, 652, 581, 662, 902, 653, 110, 907, 468, 342, 889, 45, 620, 466, 539, 0, 684, 628, 25, 678, 289, 536, 236, 860, 86, 279, 742, 361, 506, 691, 512, 318, 112, 246, 922, 328, 307, 268, 38, 148, 540, 262, 420, 920, 586, 626, 58, 492, 267, 68, 646, 321, 656, 718, 486, 743, 375, 407, 770, 71, 648, 888, 824, 479, 392, 440, 46, 941, 461, 897, 527, 474, 529, 183, 338, 880, 514, 176, 242, 90, 174, 868, 631, 601, 644, 301, 425, 133, 98, 558, 211, 294, 17, 489, 439, 774, 299, 494, 611, 140, 859, 624, 912, 588, 661, 162, 57, 699, 783, 649, 925, 781, 796, 711, 751, 875, 746, 399, 36, 952, 172, 456, 40, 584, 477, 220, 372, 758, 670, 538, 818, 316, 767, 895, 88, 132, 297, 131, 469, 507, 712, 298, 119, 793, 866, 188, 900, 913, 259, 705, 614, 780, 838, 534, 340, 826, 676, 8, 218, 810, 641, 277, 115, 689, 122, 480, 523, 640, 638, 423, 940, 775, 608, 602, 223, 671, 116, 554, 800, 898, 893, 16, 216, 186, 542, 442, 752, 354, 169, 302, 52, 231, 153, 123, 455, 612, 669, 385, 806, 882, 281, 49, 610, 66, 590, 171, 629, 311, 452, 545, 604, 357, 557, 467, 502, 654, 894, 374, 390, 453, 173, 208, 837, 731, 285, 754, 594, 899, 274, 260, 446, 249, 869, 647, 398, 728, 504, 947, 544, 377, 366, 159, 552, 27, 518, 69, 871, 936, 561, 511, 210, 499, 441, 663, 380, 942, 91, 572, 847, 844, 555, 617, 394, 226, 761, 305, 632, 675, 72, 331, 368, 845, 862, 493, 633, 175, 596, 199, 158, 639, 890, 167, 490, 553, 687, 182, 95, 896, 541, 185, 212, 630, 786, 137, 118, 150, 710, 589, 412, 779, 99, 839, 749, 139, 37, 151, 76, 520, 198, 409, 917, 701, 190, 778, 22, 245, 885, 428, 31, 568, 155, 454, 931, 903, 117, 634, 817, 580, 373, 482, 505, 816, 599, 906, 344, 876, 763, 233, 163, 415, 429, 445, 465, 193, 309, 577, 573, 957, 737, 84, 954, 406, 164, 363, 273, 877, 270, 951, 835, 788, 919, 410, 335, 194, 300, 543, 217, 396, 447, 508, 241, 125, 206, 359, 458, 436, 120, 526, 405, 930, 24, 794, 434, 777, 595, 426, 232, 367, 750, 141, 503, 332, 497, 874, 264, 82, 905, 266, 130, 397, 250, 828, 358, 739, 75, 94, 814, 108, 587, 356, 755, 636, 729, 901, 113, 524, 234, 854, 487, 306, 254, 570, 432, 933, 591, 525, 938, 424, 93, 184, 730, 616, 773, 918, 348, 483, 26, 872, 47, 386, 5, 521, 304, 567, 50, 209, 863, 18, 809, 201, 258, 202, 823, 365, 491, 296, 944, 832, 189, 674, 719, 696, 585, 181, 42, 811, 915, 873, 214, 145, 867, 312, 389, 473, 682, 251, 605, 546, 74, 55, 736, 827, 681, 143, 395, 319, 740, 157, 621, 535, 295, 592, 369, 724, 583, 28, 351, 227, 327, 34, 114, 495, 937, 147, 744, 657, 717, 326, 680, 821, 337, 805, 706, 235, 672, 105, 481, 213, 32, 825, 789, 427, 142, 843, 819, 709, 578, 156, 470, 413, 308, 370, 679, 261, 528, 180, 478, 829, 269, 239, 276, 291, 887, 460, 598, 11, 916, 67, 548, 606, 690, 364, 500, 939, 43, 97, 870, 179, 107, 29, 187, 772, 23, 879, 433, 324, 702, 325, 881, 449, 720, 878, 417, 804, 275, 7, 698, 244, 128, 496, 272, 77, 831, 842, 597, 408, 582, 757, 784, 129, 228, 955, 89, 383, 547, 191, 19, 836, 808, 127, 765, 450, 104, 48, 792, 522, 600, 560, 203, 61, 830, 462, 252, 579, 73, 387, 286, 864, 904, 376, 224, 700, 282, 943, 14, 735, 339, 87, 204, 566, 932, 660, 320, 287, 910, 336, 96, 593, 92, 715, 926, 673, 683, 575, 713, 768, 371, 62, 519, 166, 637, 414, 476, 35, 759, 798, 195, 4, 909, 716, 378, 416, 138, 12, 343, 509, 856, 884, 355, 144, 934, 161, 170, 914, 401, 501, 908, 388, 956, 278, 430, 293, 569, 923, 53, 532, 33, 852, 443, 531, 865, 149, 391, 80, 911, 402, 102, 475, 106, 315, 221, 549, 666, 927, 6, 688, 807, 795, 350, 733, 247, 255, 635, 574, 858, 820, 642, 791, 438, 734, 622, 556, 345, 111, 695, 243, 883, 280, 333, 303, 645, 360, 457, 576, 205, 381, 346, 237, 222, 886, 197, 685, 329, 848, 322, 692, 891, 284, 513, 782, 726, 935, 722, 924, 382, 892, 619, 313, 707] \n",
      "\n",
      "\n",
      "\n",
      "\n",
      "***Test***: [16, 216, 186, 542, 442, 752, 354, 169, 302, 52, 231, 153, 123, 455, 612, 669, 385, 806, 882, 281, 49, 610, 66, 590, 171, 629, 311, 452, 545, 604, 357, 557, 467, 502, 654, 894, 374, 390, 453, 173, 208, 837, 731, 285, 754, 594, 899, 274, 260, 446, 249, 869, 647, 398, 728, 504, 947, 544, 377, 366, 159, 552, 27, 518, 69, 871, 936, 561, 511, 210, 499, 441, 663, 380, 942, 91, 572, 847, 844, 555, 617, 394, 226, 761, 305, 632, 675, 72, 331, 368, 845, 862, 493, 633, 175] \n",
      "\n",
      "***Train***: [146, 56, 841, 347, 945, 30, 704, 451, 283, 362, 229, 352, 857, 609, 822, 256, 65, 846, 625, 83, 803, 515, 510, 771, 485, 168, 225, 764, 708, 748, 403, 564, 411, 563, 253, 419, 776, 126, 756, 3, 421, 78, 400, 349, 815, 802, 953, 562, 63, 855, 693, 263, 833, 659, 787, 834, 154, 799, 101, 850, 851, 655, 694, 44, 192, 240, 517, 230, 431, 785, 257, 664, 607, 849, 853, 384, 248, 571, 516, 725, 643, 265, 797, 437, 20, 946, 551, 464, 559, 215, 79, 422, 152, 651, 323, 271, 813, 727, 310, 165, 353, 723, 134, 200, 738, 652, 581, 662, 902, 653, 110, 907, 468, 342, 889, 45, 620, 466, 539, 0, 684, 628, 25, 678, 289, 536, 236, 860, 86, 279, 742, 361, 506, 691, 512, 318, 112, 246, 922, 328, 307, 268, 38, 148, 540, 262, 420, 920, 586, 626, 58, 492, 267, 68, 646, 321, 656, 718, 486, 743, 375, 407, 770, 71, 648, 888, 824, 479, 392, 440, 46, 941, 461, 897, 527, 474, 529, 183, 338, 880, 514, 176, 242, 90, 174, 868, 631, 601, 644, 301, 425, 133, 98, 558, 211, 294, 17, 489, 439, 774, 299, 494, 611, 140, 859, 624, 912, 588, 661, 162, 57, 699, 783, 649, 925, 781, 796, 711, 751, 875, 746, 399, 36, 952, 172, 456, 40, 584, 477, 220, 372, 758, 670, 538, 818, 316, 767, 895, 88, 132, 297, 131, 469, 507, 712, 298, 119, 793, 866, 188, 900, 913, 259, 705, 614, 780, 838, 534, 340, 826, 676, 8, 218, 810, 641, 277, 115, 689, 122, 480, 523, 640, 638, 423, 940, 775, 608, 602, 223, 671, 116, 554, 800, 898, 893, 448, 949, 59, 9, 550, 472, 747, 650, 603, 812, 103, 379, 753, 714, 533, 703, 177, 393, 615, 488, 124, 741, 677, 801, 667, 668, 769, 435, 840, 471, 135, 196, 948, 463, 760, 686, 418, 745, 15, 498, 54, 317, 334, 613, 136, 762, 618, 1, 219, 404, 861, 658, 2, 565, 10, 238, 288, 921, 537, 623, 627, 444, 70, 21, 790, 121, 292, 109, 41, 341, 64, 13, 290, 950, 160, 207, 721, 929, 60, 330, 928, 697, 81, 39, 85, 100, 314, 665, 732, 766, 484, 178, 459, 51, 530, 596, 199, 158, 639, 890, 167, 490, 553, 687, 182, 95, 896, 541, 185, 212, 630, 786, 137, 118, 150, 710, 589, 412, 779, 99, 839, 749, 139, 37, 151, 76, 520, 198, 409, 917, 701, 190, 778, 22, 245, 885, 428, 31, 568, 155, 454, 931, 903, 117, 634, 817, 580, 373, 482, 505, 816, 599, 906, 344, 876, 763, 233, 163, 415, 429, 445, 465, 193, 309, 577, 573, 957, 737, 84, 954, 406, 164, 363, 273, 877, 270, 951, 835, 788, 919, 410, 335, 194, 300, 543, 217, 396, 447, 508, 241, 125, 206, 359, 458, 436, 120, 526, 405, 930, 24, 794, 434, 777, 595, 426, 232, 367, 750, 141, 503, 332, 497, 874, 264, 82, 905, 266, 130, 397, 250, 828, 358, 739, 75, 94, 814, 108, 587, 356, 755, 636, 729, 901, 113, 524, 234, 854, 487, 306, 254, 570, 432, 933, 591, 525, 938, 424, 93, 184, 730, 616, 773, 918, 348, 483, 26, 872, 47, 386, 5, 521, 304, 567, 50, 209, 863, 18, 809, 201, 258, 202, 823, 365, 491, 296, 944, 832, 189, 674, 719, 696, 585, 181, 42, 811, 915, 873, 214, 145, 867, 312, 389, 473, 682, 251, 605, 546, 74, 55, 736, 827, 681, 143, 395, 319, 740, 157, 621, 535, 295, 592, 369, 724, 583, 28, 351, 227, 327, 34, 114, 495, 937, 147, 744, 657, 717, 326, 680, 821, 337, 805, 706, 235, 672, 105, 481, 213, 32, 825, 789, 427, 142, 843, 819, 709, 578, 156, 470, 413, 308, 370, 679, 261, 528, 180, 478, 829, 269, 239, 276, 291, 887, 460, 598, 11, 916, 67, 548, 606, 690, 364, 500, 939, 43, 97, 870, 179, 107, 29, 187, 772, 23, 879, 433, 324, 702, 325, 881, 449, 720, 878, 417, 804, 275, 7, 698, 244, 128, 496, 272, 77, 831, 842, 597, 408, 582, 757, 784, 129, 228, 955, 89, 383, 547, 191, 19, 836, 808, 127, 765, 450, 104, 48, 792, 522, 600, 560, 203, 61, 830, 462, 252, 579, 73, 387, 286, 864, 904, 376, 224, 700, 282, 943, 14, 735, 339, 87, 204, 566, 932, 660, 320, 287, 910, 336, 96, 593, 92, 715, 926, 673, 683, 575, 713, 768, 371, 62, 519, 166, 637, 414, 476, 35, 759, 798, 195, 4, 909, 716, 378, 416, 138, 12, 343, 509, 856, 884, 355, 144, 934, 161, 170, 914, 401, 501, 908, 388, 956, 278, 430, 293, 569, 923, 53, 532, 33, 852, 443, 531, 865, 149, 391, 80, 911, 402, 102, 475, 106, 315, 221, 549, 666, 927, 6, 688, 807, 795, 350, 733, 247, 255, 635, 574, 858, 820, 642, 791, 438, 734, 622, 556, 345, 111, 695, 243, 883, 280, 333, 303, 645, 360, 457, 576, 205, 381, 346, 237, 222, 886, 197, 685, 329, 848, 322, 692, 891, 284, 513, 782, 726, 935, 722, 924, 382, 892, 619, 313, 707] \n",
      "\n",
      "\n",
      "\n",
      "\n",
      "***Test***: [596, 199, 158, 639, 890, 167, 490, 553, 687, 182, 95, 896, 541, 185, 212, 630, 786, 137, 118, 150, 710, 589, 412, 779, 99, 839, 749, 139, 37, 151, 76, 520, 198, 409, 917, 701, 190, 778, 22, 245, 885, 428, 31, 568, 155, 454, 931, 903, 117, 634, 817, 580, 373, 482, 505, 816, 599, 906, 344, 876, 763, 233, 163, 415, 429, 445, 465, 193, 309, 577, 573, 957, 737, 84, 954, 406, 164, 363, 273, 877, 270, 951, 835, 788, 919, 410, 335, 194, 300, 543, 217, 396, 447, 508, 241] \n",
      "\n",
      "***Train***: [146, 56, 841, 347, 945, 30, 704, 451, 283, 362, 229, 352, 857, 609, 822, 256, 65, 846, 625, 83, 803, 515, 510, 771, 485, 168, 225, 764, 708, 748, 403, 564, 411, 563, 253, 419, 776, 126, 756, 3, 421, 78, 400, 349, 815, 802, 953, 562, 63, 855, 693, 263, 833, 659, 787, 834, 154, 799, 101, 850, 851, 655, 694, 44, 192, 240, 517, 230, 431, 785, 257, 664, 607, 849, 853, 384, 248, 571, 516, 725, 643, 265, 797, 437, 20, 946, 551, 464, 559, 215, 79, 422, 152, 651, 323, 271, 813, 727, 310, 165, 353, 723, 134, 200, 738, 652, 581, 662, 902, 653, 110, 907, 468, 342, 889, 45, 620, 466, 539, 0, 684, 628, 25, 678, 289, 536, 236, 860, 86, 279, 742, 361, 506, 691, 512, 318, 112, 246, 922, 328, 307, 268, 38, 148, 540, 262, 420, 920, 586, 626, 58, 492, 267, 68, 646, 321, 656, 718, 486, 743, 375, 407, 770, 71, 648, 888, 824, 479, 392, 440, 46, 941, 461, 897, 527, 474, 529, 183, 338, 880, 514, 176, 242, 90, 174, 868, 631, 601, 644, 301, 425, 133, 98, 558, 211, 294, 17, 489, 439, 774, 299, 494, 611, 140, 859, 624, 912, 588, 661, 162, 57, 699, 783, 649, 925, 781, 796, 711, 751, 875, 746, 399, 36, 952, 172, 456, 40, 584, 477, 220, 372, 758, 670, 538, 818, 316, 767, 895, 88, 132, 297, 131, 469, 507, 712, 298, 119, 793, 866, 188, 900, 913, 259, 705, 614, 780, 838, 534, 340, 826, 676, 8, 218, 810, 641, 277, 115, 689, 122, 480, 523, 640, 638, 423, 940, 775, 608, 602, 223, 671, 116, 554, 800, 898, 893, 448, 949, 59, 9, 550, 472, 747, 650, 603, 812, 103, 379, 753, 714, 533, 703, 177, 393, 615, 488, 124, 741, 677, 801, 667, 668, 769, 435, 840, 471, 135, 196, 948, 463, 760, 686, 418, 745, 15, 498, 54, 317, 334, 613, 136, 762, 618, 1, 219, 404, 861, 658, 2, 565, 10, 238, 288, 921, 537, 623, 627, 444, 70, 21, 790, 121, 292, 109, 41, 341, 64, 13, 290, 950, 160, 207, 721, 929, 60, 330, 928, 697, 81, 39, 85, 100, 314, 665, 732, 766, 484, 178, 459, 51, 530, 16, 216, 186, 542, 442, 752, 354, 169, 302, 52, 231, 153, 123, 455, 612, 669, 385, 806, 882, 281, 49, 610, 66, 590, 171, 629, 311, 452, 545, 604, 357, 557, 467, 502, 654, 894, 374, 390, 453, 173, 208, 837, 731, 285, 754, 594, 899, 274, 260, 446, 249, 869, 647, 398, 728, 504, 947, 544, 377, 366, 159, 552, 27, 518, 69, 871, 936, 561, 511, 210, 499, 441, 663, 380, 942, 91, 572, 847, 844, 555, 617, 394, 226, 761, 305, 632, 675, 72, 331, 368, 845, 862, 493, 633, 175, 125, 206, 359, 458, 436, 120, 526, 405, 930, 24, 794, 434, 777, 595, 426, 232, 367, 750, 141, 503, 332, 497, 874, 264, 82, 905, 266, 130, 397, 250, 828, 358, 739, 75, 94, 814, 108, 587, 356, 755, 636, 729, 901, 113, 524, 234, 854, 487, 306, 254, 570, 432, 933, 591, 525, 938, 424, 93, 184, 730, 616, 773, 918, 348, 483, 26, 872, 47, 386, 5, 521, 304, 567, 50, 209, 863, 18, 809, 201, 258, 202, 823, 365, 491, 296, 944, 832, 189, 674, 719, 696, 585, 181, 42, 811, 915, 873, 214, 145, 867, 312, 389, 473, 682, 251, 605, 546, 74, 55, 736, 827, 681, 143, 395, 319, 740, 157, 621, 535, 295, 592, 369, 724, 583, 28, 351, 227, 327, 34, 114, 495, 937, 147, 744, 657, 717, 326, 680, 821, 337, 805, 706, 235, 672, 105, 481, 213, 32, 825, 789, 427, 142, 843, 819, 709, 578, 156, 470, 413, 308, 370, 679, 261, 528, 180, 478, 829, 269, 239, 276, 291, 887, 460, 598, 11, 916, 67, 548, 606, 690, 364, 500, 939, 43, 97, 870, 179, 107, 29, 187, 772, 23, 879, 433, 324, 702, 325, 881, 449, 720, 878, 417, 804, 275, 7, 698, 244, 128, 496, 272, 77, 831, 842, 597, 408, 582, 757, 784, 129, 228, 955, 89, 383, 547, 191, 19, 836, 808, 127, 765, 450, 104, 48, 792, 522, 600, 560, 203, 61, 830, 462, 252, 579, 73, 387, 286, 864, 904, 376, 224, 700, 282, 943, 14, 735, 339, 87, 204, 566, 932, 660, 320, 287, 910, 336, 96, 593, 92, 715, 926, 673, 683, 575, 713, 768, 371, 62, 519, 166, 637, 414, 476, 35, 759, 798, 195, 4, 909, 716, 378, 416, 138, 12, 343, 509, 856, 884, 355, 144, 934, 161, 170, 914, 401, 501, 908, 388, 956, 278, 430, 293, 569, 923, 53, 532, 33, 852, 443, 531, 865, 149, 391, 80, 911, 402, 102, 475, 106, 315, 221, 549, 666, 927, 6, 688, 807, 795, 350, 733, 247, 255, 635, 574, 858, 820, 642, 791, 438, 734, 622, 556, 345, 111, 695, 243, 883, 280, 333, 303, 645, 360, 457, 576, 205, 381, 346, 237, 222, 886, 197, 685, 329, 848, 322, 692, 891, 284, 513, 782, 726, 935, 722, 924, 382, 892, 619, 313, 707] \n",
      "\n",
      "\n",
      "\n",
      "\n",
      "***Test***: [125, 206, 359, 458, 436, 120, 526, 405, 930, 24, 794, 434, 777, 595, 426, 232, 367, 750, 141, 503, 332, 497, 874, 264, 82, 905, 266, 130, 397, 250, 828, 358, 739, 75, 94, 814, 108, 587, 356, 755, 636, 729, 901, 113, 524, 234, 854, 487, 306, 254, 570, 432, 933, 591, 525, 938, 424, 93, 184, 730, 616, 773, 918, 348, 483, 26, 872, 47, 386, 5, 521, 304, 567, 50, 209, 863, 18, 809, 201, 258, 202, 823, 365, 491, 296, 944, 832, 189, 674, 719, 696, 585, 181, 42, 811] \n",
      "\n",
      "***Train***: [146, 56, 841, 347, 945, 30, 704, 451, 283, 362, 229, 352, 857, 609, 822, 256, 65, 846, 625, 83, 803, 515, 510, 771, 485, 168, 225, 764, 708, 748, 403, 564, 411, 563, 253, 419, 776, 126, 756, 3, 421, 78, 400, 349, 815, 802, 953, 562, 63, 855, 693, 263, 833, 659, 787, 834, 154, 799, 101, 850, 851, 655, 694, 44, 192, 240, 517, 230, 431, 785, 257, 664, 607, 849, 853, 384, 248, 571, 516, 725, 643, 265, 797, 437, 20, 946, 551, 464, 559, 215, 79, 422, 152, 651, 323, 271, 813, 727, 310, 165, 353, 723, 134, 200, 738, 652, 581, 662, 902, 653, 110, 907, 468, 342, 889, 45, 620, 466, 539, 0, 684, 628, 25, 678, 289, 536, 236, 860, 86, 279, 742, 361, 506, 691, 512, 318, 112, 246, 922, 328, 307, 268, 38, 148, 540, 262, 420, 920, 586, 626, 58, 492, 267, 68, 646, 321, 656, 718, 486, 743, 375, 407, 770, 71, 648, 888, 824, 479, 392, 440, 46, 941, 461, 897, 527, 474, 529, 183, 338, 880, 514, 176, 242, 90, 174, 868, 631, 601, 644, 301, 425, 133, 98, 558, 211, 294, 17, 489, 439, 774, 299, 494, 611, 140, 859, 624, 912, 588, 661, 162, 57, 699, 783, 649, 925, 781, 796, 711, 751, 875, 746, 399, 36, 952, 172, 456, 40, 584, 477, 220, 372, 758, 670, 538, 818, 316, 767, 895, 88, 132, 297, 131, 469, 507, 712, 298, 119, 793, 866, 188, 900, 913, 259, 705, 614, 780, 838, 534, 340, 826, 676, 8, 218, 810, 641, 277, 115, 689, 122, 480, 523, 640, 638, 423, 940, 775, 608, 602, 223, 671, 116, 554, 800, 898, 893, 448, 949, 59, 9, 550, 472, 747, 650, 603, 812, 103, 379, 753, 714, 533, 703, 177, 393, 615, 488, 124, 741, 677, 801, 667, 668, 769, 435, 840, 471, 135, 196, 948, 463, 760, 686, 418, 745, 15, 498, 54, 317, 334, 613, 136, 762, 618, 1, 219, 404, 861, 658, 2, 565, 10, 238, 288, 921, 537, 623, 627, 444, 70, 21, 790, 121, 292, 109, 41, 341, 64, 13, 290, 950, 160, 207, 721, 929, 60, 330, 928, 697, 81, 39, 85, 100, 314, 665, 732, 766, 484, 178, 459, 51, 530, 16, 216, 186, 542, 442, 752, 354, 169, 302, 52, 231, 153, 123, 455, 612, 669, 385, 806, 882, 281, 49, 610, 66, 590, 171, 629, 311, 452, 545, 604, 357, 557, 467, 502, 654, 894, 374, 390, 453, 173, 208, 837, 731, 285, 754, 594, 899, 274, 260, 446, 249, 869, 647, 398, 728, 504, 947, 544, 377, 366, 159, 552, 27, 518, 69, 871, 936, 561, 511, 210, 499, 441, 663, 380, 942, 91, 572, 847, 844, 555, 617, 394, 226, 761, 305, 632, 675, 72, 331, 368, 845, 862, 493, 633, 175, 596, 199, 158, 639, 890, 167, 490, 553, 687, 182, 95, 896, 541, 185, 212, 630, 786, 137, 118, 150, 710, 589, 412, 779, 99, 839, 749, 139, 37, 151, 76, 520, 198, 409, 917, 701, 190, 778, 22, 245, 885, 428, 31, 568, 155, 454, 931, 903, 117, 634, 817, 580, 373, 482, 505, 816, 599, 906, 344, 876, 763, 233, 163, 415, 429, 445, 465, 193, 309, 577, 573, 957, 737, 84, 954, 406, 164, 363, 273, 877, 270, 951, 835, 788, 919, 410, 335, 194, 300, 543, 217, 396, 447, 508, 241, 915, 873, 214, 145, 867, 312, 389, 473, 682, 251, 605, 546, 74, 55, 736, 827, 681, 143, 395, 319, 740, 157, 621, 535, 295, 592, 369, 724, 583, 28, 351, 227, 327, 34, 114, 495, 937, 147, 744, 657, 717, 326, 680, 821, 337, 805, 706, 235, 672, 105, 481, 213, 32, 825, 789, 427, 142, 843, 819, 709, 578, 156, 470, 413, 308, 370, 679, 261, 528, 180, 478, 829, 269, 239, 276, 291, 887, 460, 598, 11, 916, 67, 548, 606, 690, 364, 500, 939, 43, 97, 870, 179, 107, 29, 187, 772, 23, 879, 433, 324, 702, 325, 881, 449, 720, 878, 417, 804, 275, 7, 698, 244, 128, 496, 272, 77, 831, 842, 597, 408, 582, 757, 784, 129, 228, 955, 89, 383, 547, 191, 19, 836, 808, 127, 765, 450, 104, 48, 792, 522, 600, 560, 203, 61, 830, 462, 252, 579, 73, 387, 286, 864, 904, 376, 224, 700, 282, 943, 14, 735, 339, 87, 204, 566, 932, 660, 320, 287, 910, 336, 96, 593, 92, 715, 926, 673, 683, 575, 713, 768, 371, 62, 519, 166, 637, 414, 476, 35, 759, 798, 195, 4, 909, 716, 378, 416, 138, 12, 343, 509, 856, 884, 355, 144, 934, 161, 170, 914, 401, 501, 908, 388, 956, 278, 430, 293, 569, 923, 53, 532, 33, 852, 443, 531, 865, 149, 391, 80, 911, 402, 102, 475, 106, 315, 221, 549, 666, 927, 6, 688, 807, 795, 350, 733, 247, 255, 635, 574, 858, 820, 642, 791, 438, 734, 622, 556, 345, 111, 695, 243, 883, 280, 333, 303, 645, 360, 457, 576, 205, 381, 346, 237, 222, 886, 197, 685, 329, 848, 322, 692, 891, 284, 513, 782, 726, 935, 722, 924, 382, 892, 619, 313, 707] \n",
      "\n",
      "\n",
      "\n",
      "\n",
      "***Test***: [915, 873, 214, 145, 867, 312, 389, 473, 682, 251, 605, 546, 74, 55, 736, 827, 681, 143, 395, 319, 740, 157, 621, 535, 295, 592, 369, 724, 583, 28, 351, 227, 327, 34, 114, 495, 937, 147, 744, 657, 717, 326, 680, 821, 337, 805, 706, 235, 672, 105, 481, 213, 32, 825, 789, 427, 142, 843, 819, 709, 578, 156, 470, 413, 308, 370, 679, 261, 528, 180, 478, 829, 269, 239, 276, 291, 887, 460, 598, 11, 916, 67, 548, 606, 690, 364, 500, 939, 43, 97, 870, 179, 107, 29, 187] \n",
      "\n",
      "***Train***: [146, 56, 841, 347, 945, 30, 704, 451, 283, 362, 229, 352, 857, 609, 822, 256, 65, 846, 625, 83, 803, 515, 510, 771, 485, 168, 225, 764, 708, 748, 403, 564, 411, 563, 253, 419, 776, 126, 756, 3, 421, 78, 400, 349, 815, 802, 953, 562, 63, 855, 693, 263, 833, 659, 787, 834, 154, 799, 101, 850, 851, 655, 694, 44, 192, 240, 517, 230, 431, 785, 257, 664, 607, 849, 853, 384, 248, 571, 516, 725, 643, 265, 797, 437, 20, 946, 551, 464, 559, 215, 79, 422, 152, 651, 323, 271, 813, 727, 310, 165, 353, 723, 134, 200, 738, 652, 581, 662, 902, 653, 110, 907, 468, 342, 889, 45, 620, 466, 539, 0, 684, 628, 25, 678, 289, 536, 236, 860, 86, 279, 742, 361, 506, 691, 512, 318, 112, 246, 922, 328, 307, 268, 38, 148, 540, 262, 420, 920, 586, 626, 58, 492, 267, 68, 646, 321, 656, 718, 486, 743, 375, 407, 770, 71, 648, 888, 824, 479, 392, 440, 46, 941, 461, 897, 527, 474, 529, 183, 338, 880, 514, 176, 242, 90, 174, 868, 631, 601, 644, 301, 425, 133, 98, 558, 211, 294, 17, 489, 439, 774, 299, 494, 611, 140, 859, 624, 912, 588, 661, 162, 57, 699, 783, 649, 925, 781, 796, 711, 751, 875, 746, 399, 36, 952, 172, 456, 40, 584, 477, 220, 372, 758, 670, 538, 818, 316, 767, 895, 88, 132, 297, 131, 469, 507, 712, 298, 119, 793, 866, 188, 900, 913, 259, 705, 614, 780, 838, 534, 340, 826, 676, 8, 218, 810, 641, 277, 115, 689, 122, 480, 523, 640, 638, 423, 940, 775, 608, 602, 223, 671, 116, 554, 800, 898, 893, 448, 949, 59, 9, 550, 472, 747, 650, 603, 812, 103, 379, 753, 714, 533, 703, 177, 393, 615, 488, 124, 741, 677, 801, 667, 668, 769, 435, 840, 471, 135, 196, 948, 463, 760, 686, 418, 745, 15, 498, 54, 317, 334, 613, 136, 762, 618, 1, 219, 404, 861, 658, 2, 565, 10, 238, 288, 921, 537, 623, 627, 444, 70, 21, 790, 121, 292, 109, 41, 341, 64, 13, 290, 950, 160, 207, 721, 929, 60, 330, 928, 697, 81, 39, 85, 100, 314, 665, 732, 766, 484, 178, 459, 51, 530, 16, 216, 186, 542, 442, 752, 354, 169, 302, 52, 231, 153, 123, 455, 612, 669, 385, 806, 882, 281, 49, 610, 66, 590, 171, 629, 311, 452, 545, 604, 357, 557, 467, 502, 654, 894, 374, 390, 453, 173, 208, 837, 731, 285, 754, 594, 899, 274, 260, 446, 249, 869, 647, 398, 728, 504, 947, 544, 377, 366, 159, 552, 27, 518, 69, 871, 936, 561, 511, 210, 499, 441, 663, 380, 942, 91, 572, 847, 844, 555, 617, 394, 226, 761, 305, 632, 675, 72, 331, 368, 845, 862, 493, 633, 175, 596, 199, 158, 639, 890, 167, 490, 553, 687, 182, 95, 896, 541, 185, 212, 630, 786, 137, 118, 150, 710, 589, 412, 779, 99, 839, 749, 139, 37, 151, 76, 520, 198, 409, 917, 701, 190, 778, 22, 245, 885, 428, 31, 568, 155, 454, 931, 903, 117, 634, 817, 580, 373, 482, 505, 816, 599, 906, 344, 876, 763, 233, 163, 415, 429, 445, 465, 193, 309, 577, 573, 957, 737, 84, 954, 406, 164, 363, 273, 877, 270, 951, 835, 788, 919, 410, 335, 194, 300, 543, 217, 396, 447, 508, 241, 125, 206, 359, 458, 436, 120, 526, 405, 930, 24, 794, 434, 777, 595, 426, 232, 367, 750, 141, 503, 332, 497, 874, 264, 82, 905, 266, 130, 397, 250, 828, 358, 739, 75, 94, 814, 108, 587, 356, 755, 636, 729, 901, 113, 524, 234, 854, 487, 306, 254, 570, 432, 933, 591, 525, 938, 424, 93, 184, 730, 616, 773, 918, 348, 483, 26, 872, 47, 386, 5, 521, 304, 567, 50, 209, 863, 18, 809, 201, 258, 202, 823, 365, 491, 296, 944, 832, 189, 674, 719, 696, 585, 181, 42, 811, 772, 23, 879, 433, 324, 702, 325, 881, 449, 720, 878, 417, 804, 275, 7, 698, 244, 128, 496, 272, 77, 831, 842, 597, 408, 582, 757, 784, 129, 228, 955, 89, 383, 547, 191, 19, 836, 808, 127, 765, 450, 104, 48, 792, 522, 600, 560, 203, 61, 830, 462, 252, 579, 73, 387, 286, 864, 904, 376, 224, 700, 282, 943, 14, 735, 339, 87, 204, 566, 932, 660, 320, 287, 910, 336, 96, 593, 92, 715, 926, 673, 683, 575, 713, 768, 371, 62, 519, 166, 637, 414, 476, 35, 759, 798, 195, 4, 909, 716, 378, 416, 138, 12, 343, 509, 856, 884, 355, 144, 934, 161, 170, 914, 401, 501, 908, 388, 956, 278, 430, 293, 569, 923, 53, 532, 33, 852, 443, 531, 865, 149, 391, 80, 911, 402, 102, 475, 106, 315, 221, 549, 666, 927, 6, 688, 807, 795, 350, 733, 247, 255, 635, 574, 858, 820, 642, 791, 438, 734, 622, 556, 345, 111, 695, 243, 883, 280, 333, 303, 645, 360, 457, 576, 205, 381, 346, 237, 222, 886, 197, 685, 329, 848, 322, 692, 891, 284, 513, 782, 726, 935, 722, 924, 382, 892, 619, 313, 707] \n",
      "\n",
      "\n",
      "\n",
      "\n",
      "***Test***: [772, 23, 879, 433, 324, 702, 325, 881, 449, 720, 878, 417, 804, 275, 7, 698, 244, 128, 496, 272, 77, 831, 842, 597, 408, 582, 757, 784, 129, 228, 955, 89, 383, 547, 191, 19, 836, 808, 127, 765, 450, 104, 48, 792, 522, 600, 560, 203, 61, 830, 462, 252, 579, 73, 387, 286, 864, 904, 376, 224, 700, 282, 943, 14, 735, 339, 87, 204, 566, 932, 660, 320, 287, 910, 336, 96, 593, 92, 715, 926, 673, 683, 575, 713, 768, 371, 62, 519, 166, 637, 414, 476, 35, 759, 798] \n",
      "\n",
      "***Train***: [146, 56, 841, 347, 945, 30, 704, 451, 283, 362, 229, 352, 857, 609, 822, 256, 65, 846, 625, 83, 803, 515, 510, 771, 485, 168, 225, 764, 708, 748, 403, 564, 411, 563, 253, 419, 776, 126, 756, 3, 421, 78, 400, 349, 815, 802, 953, 562, 63, 855, 693, 263, 833, 659, 787, 834, 154, 799, 101, 850, 851, 655, 694, 44, 192, 240, 517, 230, 431, 785, 257, 664, 607, 849, 853, 384, 248, 571, 516, 725, 643, 265, 797, 437, 20, 946, 551, 464, 559, 215, 79, 422, 152, 651, 323, 271, 813, 727, 310, 165, 353, 723, 134, 200, 738, 652, 581, 662, 902, 653, 110, 907, 468, 342, 889, 45, 620, 466, 539, 0, 684, 628, 25, 678, 289, 536, 236, 860, 86, 279, 742, 361, 506, 691, 512, 318, 112, 246, 922, 328, 307, 268, 38, 148, 540, 262, 420, 920, 586, 626, 58, 492, 267, 68, 646, 321, 656, 718, 486, 743, 375, 407, 770, 71, 648, 888, 824, 479, 392, 440, 46, 941, 461, 897, 527, 474, 529, 183, 338, 880, 514, 176, 242, 90, 174, 868, 631, 601, 644, 301, 425, 133, 98, 558, 211, 294, 17, 489, 439, 774, 299, 494, 611, 140, 859, 624, 912, 588, 661, 162, 57, 699, 783, 649, 925, 781, 796, 711, 751, 875, 746, 399, 36, 952, 172, 456, 40, 584, 477, 220, 372, 758, 670, 538, 818, 316, 767, 895, 88, 132, 297, 131, 469, 507, 712, 298, 119, 793, 866, 188, 900, 913, 259, 705, 614, 780, 838, 534, 340, 826, 676, 8, 218, 810, 641, 277, 115, 689, 122, 480, 523, 640, 638, 423, 940, 775, 608, 602, 223, 671, 116, 554, 800, 898, 893, 448, 949, 59, 9, 550, 472, 747, 650, 603, 812, 103, 379, 753, 714, 533, 703, 177, 393, 615, 488, 124, 741, 677, 801, 667, 668, 769, 435, 840, 471, 135, 196, 948, 463, 760, 686, 418, 745, 15, 498, 54, 317, 334, 613, 136, 762, 618, 1, 219, 404, 861, 658, 2, 565, 10, 238, 288, 921, 537, 623, 627, 444, 70, 21, 790, 121, 292, 109, 41, 341, 64, 13, 290, 950, 160, 207, 721, 929, 60, 330, 928, 697, 81, 39, 85, 100, 314, 665, 732, 766, 484, 178, 459, 51, 530, 16, 216, 186, 542, 442, 752, 354, 169, 302, 52, 231, 153, 123, 455, 612, 669, 385, 806, 882, 281, 49, 610, 66, 590, 171, 629, 311, 452, 545, 604, 357, 557, 467, 502, 654, 894, 374, 390, 453, 173, 208, 837, 731, 285, 754, 594, 899, 274, 260, 446, 249, 869, 647, 398, 728, 504, 947, 544, 377, 366, 159, 552, 27, 518, 69, 871, 936, 561, 511, 210, 499, 441, 663, 380, 942, 91, 572, 847, 844, 555, 617, 394, 226, 761, 305, 632, 675, 72, 331, 368, 845, 862, 493, 633, 175, 596, 199, 158, 639, 890, 167, 490, 553, 687, 182, 95, 896, 541, 185, 212, 630, 786, 137, 118, 150, 710, 589, 412, 779, 99, 839, 749, 139, 37, 151, 76, 520, 198, 409, 917, 701, 190, 778, 22, 245, 885, 428, 31, 568, 155, 454, 931, 903, 117, 634, 817, 580, 373, 482, 505, 816, 599, 906, 344, 876, 763, 233, 163, 415, 429, 445, 465, 193, 309, 577, 573, 957, 737, 84, 954, 406, 164, 363, 273, 877, 270, 951, 835, 788, 919, 410, 335, 194, 300, 543, 217, 396, 447, 508, 241, 125, 206, 359, 458, 436, 120, 526, 405, 930, 24, 794, 434, 777, 595, 426, 232, 367, 750, 141, 503, 332, 497, 874, 264, 82, 905, 266, 130, 397, 250, 828, 358, 739, 75, 94, 814, 108, 587, 356, 755, 636, 729, 901, 113, 524, 234, 854, 487, 306, 254, 570, 432, 933, 591, 525, 938, 424, 93, 184, 730, 616, 773, 918, 348, 483, 26, 872, 47, 386, 5, 521, 304, 567, 50, 209, 863, 18, 809, 201, 258, 202, 823, 365, 491, 296, 944, 832, 189, 674, 719, 696, 585, 181, 42, 811, 915, 873, 214, 145, 867, 312, 389, 473, 682, 251, 605, 546, 74, 55, 736, 827, 681, 143, 395, 319, 740, 157, 621, 535, 295, 592, 369, 724, 583, 28, 351, 227, 327, 34, 114, 495, 937, 147, 744, 657, 717, 326, 680, 821, 337, 805, 706, 235, 672, 105, 481, 213, 32, 825, 789, 427, 142, 843, 819, 709, 578, 156, 470, 413, 308, 370, 679, 261, 528, 180, 478, 829, 269, 239, 276, 291, 887, 460, 598, 11, 916, 67, 548, 606, 690, 364, 500, 939, 43, 97, 870, 179, 107, 29, 187, 195, 4, 909, 716, 378, 416, 138, 12, 343, 509, 856, 884, 355, 144, 934, 161, 170, 914, 401, 501, 908, 388, 956, 278, 430, 293, 569, 923, 53, 532, 33, 852, 443, 531, 865, 149, 391, 80, 911, 402, 102, 475, 106, 315, 221, 549, 666, 927, 6, 688, 807, 795, 350, 733, 247, 255, 635, 574, 858, 820, 642, 791, 438, 734, 622, 556, 345, 111, 695, 243, 883, 280, 333, 303, 645, 360, 457, 576, 205, 381, 346, 237, 222, 886, 197, 685, 329, 848, 322, 692, 891, 284, 513, 782, 726, 935, 722, 924, 382, 892, 619, 313, 707] \n",
      "\n",
      "\n",
      "\n",
      "\n",
      "***Test***: [195, 4, 909, 716, 378, 416, 138, 12, 343, 509, 856, 884, 355, 144, 934, 161, 170, 914, 401, 501, 908, 388, 956, 278, 430, 293, 569, 923, 53, 532, 33, 852, 443, 531, 865, 149, 391, 80, 911, 402, 102, 475, 106, 315, 221, 549, 666, 927, 6, 688, 807, 795, 350, 733, 247, 255, 635, 574, 858, 820, 642, 791, 438, 734, 622, 556, 345, 111, 695, 243, 883, 280, 333, 303, 645, 360, 457, 576, 205, 381, 346, 237, 222, 886, 197, 685, 329, 848, 322, 692, 891, 284, 513, 782, 726] \n",
      "\n",
      "***Train***: [146, 56, 841, 347, 945, 30, 704, 451, 283, 362, 229, 352, 857, 609, 822, 256, 65, 846, 625, 83, 803, 515, 510, 771, 485, 168, 225, 764, 708, 748, 403, 564, 411, 563, 253, 419, 776, 126, 756, 3, 421, 78, 400, 349, 815, 802, 953, 562, 63, 855, 693, 263, 833, 659, 787, 834, 154, 799, 101, 850, 851, 655, 694, 44, 192, 240, 517, 230, 431, 785, 257, 664, 607, 849, 853, 384, 248, 571, 516, 725, 643, 265, 797, 437, 20, 946, 551, 464, 559, 215, 79, 422, 152, 651, 323, 271, 813, 727, 310, 165, 353, 723, 134, 200, 738, 652, 581, 662, 902, 653, 110, 907, 468, 342, 889, 45, 620, 466, 539, 0, 684, 628, 25, 678, 289, 536, 236, 860, 86, 279, 742, 361, 506, 691, 512, 318, 112, 246, 922, 328, 307, 268, 38, 148, 540, 262, 420, 920, 586, 626, 58, 492, 267, 68, 646, 321, 656, 718, 486, 743, 375, 407, 770, 71, 648, 888, 824, 479, 392, 440, 46, 941, 461, 897, 527, 474, 529, 183, 338, 880, 514, 176, 242, 90, 174, 868, 631, 601, 644, 301, 425, 133, 98, 558, 211, 294, 17, 489, 439, 774, 299, 494, 611, 140, 859, 624, 912, 588, 661, 162, 57, 699, 783, 649, 925, 781, 796, 711, 751, 875, 746, 399, 36, 952, 172, 456, 40, 584, 477, 220, 372, 758, 670, 538, 818, 316, 767, 895, 88, 132, 297, 131, 469, 507, 712, 298, 119, 793, 866, 188, 900, 913, 259, 705, 614, 780, 838, 534, 340, 826, 676, 8, 218, 810, 641, 277, 115, 689, 122, 480, 523, 640, 638, 423, 940, 775, 608, 602, 223, 671, 116, 554, 800, 898, 893, 448, 949, 59, 9, 550, 472, 747, 650, 603, 812, 103, 379, 753, 714, 533, 703, 177, 393, 615, 488, 124, 741, 677, 801, 667, 668, 769, 435, 840, 471, 135, 196, 948, 463, 760, 686, 418, 745, 15, 498, 54, 317, 334, 613, 136, 762, 618, 1, 219, 404, 861, 658, 2, 565, 10, 238, 288, 921, 537, 623, 627, 444, 70, 21, 790, 121, 292, 109, 41, 341, 64, 13, 290, 950, 160, 207, 721, 929, 60, 330, 928, 697, 81, 39, 85, 100, 314, 665, 732, 766, 484, 178, 459, 51, 530, 16, 216, 186, 542, 442, 752, 354, 169, 302, 52, 231, 153, 123, 455, 612, 669, 385, 806, 882, 281, 49, 610, 66, 590, 171, 629, 311, 452, 545, 604, 357, 557, 467, 502, 654, 894, 374, 390, 453, 173, 208, 837, 731, 285, 754, 594, 899, 274, 260, 446, 249, 869, 647, 398, 728, 504, 947, 544, 377, 366, 159, 552, 27, 518, 69, 871, 936, 561, 511, 210, 499, 441, 663, 380, 942, 91, 572, 847, 844, 555, 617, 394, 226, 761, 305, 632, 675, 72, 331, 368, 845, 862, 493, 633, 175, 596, 199, 158, 639, 890, 167, 490, 553, 687, 182, 95, 896, 541, 185, 212, 630, 786, 137, 118, 150, 710, 589, 412, 779, 99, 839, 749, 139, 37, 151, 76, 520, 198, 409, 917, 701, 190, 778, 22, 245, 885, 428, 31, 568, 155, 454, 931, 903, 117, 634, 817, 580, 373, 482, 505, 816, 599, 906, 344, 876, 763, 233, 163, 415, 429, 445, 465, 193, 309, 577, 573, 957, 737, 84, 954, 406, 164, 363, 273, 877, 270, 951, 835, 788, 919, 410, 335, 194, 300, 543, 217, 396, 447, 508, 241, 125, 206, 359, 458, 436, 120, 526, 405, 930, 24, 794, 434, 777, 595, 426, 232, 367, 750, 141, 503, 332, 497, 874, 264, 82, 905, 266, 130, 397, 250, 828, 358, 739, 75, 94, 814, 108, 587, 356, 755, 636, 729, 901, 113, 524, 234, 854, 487, 306, 254, 570, 432, 933, 591, 525, 938, 424, 93, 184, 730, 616, 773, 918, 348, 483, 26, 872, 47, 386, 5, 521, 304, 567, 50, 209, 863, 18, 809, 201, 258, 202, 823, 365, 491, 296, 944, 832, 189, 674, 719, 696, 585, 181, 42, 811, 915, 873, 214, 145, 867, 312, 389, 473, 682, 251, 605, 546, 74, 55, 736, 827, 681, 143, 395, 319, 740, 157, 621, 535, 295, 592, 369, 724, 583, 28, 351, 227, 327, 34, 114, 495, 937, 147, 744, 657, 717, 326, 680, 821, 337, 805, 706, 235, 672, 105, 481, 213, 32, 825, 789, 427, 142, 843, 819, 709, 578, 156, 470, 413, 308, 370, 679, 261, 528, 180, 478, 829, 269, 239, 276, 291, 887, 460, 598, 11, 916, 67, 548, 606, 690, 364, 500, 939, 43, 97, 870, 179, 107, 29, 187, 772, 23, 879, 433, 324, 702, 325, 881, 449, 720, 878, 417, 804, 275, 7, 698, 244, 128, 496, 272, 77, 831, 842, 597, 408, 582, 757, 784, 129, 228, 955, 89, 383, 547, 191, 19, 836, 808, 127, 765, 450, 104, 48, 792, 522, 600, 560, 203, 61, 830, 462, 252, 579, 73, 387, 286, 864, 904, 376, 224, 700, 282, 943, 14, 735, 339, 87, 204, 566, 932, 660, 320, 287, 910, 336, 96, 593, 92, 715, 926, 673, 683, 575, 713, 768, 371, 62, 519, 166, 637, 414, 476, 35, 759, 798, 935, 722, 924, 382, 892, 619, 313, 707] \n",
      "\n"
     ]
    }
   ],
   "source": [
    "vc = EstrategiaParticionado.ValidacionCruzada(10) \n",
    "vc.creaParticiones(dataset1.datos)\n",
    "\n",
    "for i in range(10):\n",
    "    print(\"\\n\\n\")\n",
    "    print(\"***Test***:\", vc.particiones[i].indicesTest, \"\\n\")\n",
    "    print(\"***Train***:\", vc.particiones[i].indicesTrain, \"\\n\")"
   ]
  },
  {
   "cell_type": "markdown",
   "metadata": {},
   "source": [
    "## 4. Diseño preliminar de la aplicación\n",
    "Se nos aconsejó implementar parte de la aplicación para entrenar modelos y comprobar el error producido en estos, como en esta práctica no se nos pide crear ningún modelo, unicamente se ha implementado el método __error__ del archivo clasificador, el método es muy simple, lo único que hace es comprobar si la predicción recibida es correcta comparando cada fila de la predicción con el elemento correspondiente en los datos (normalmente la clase). \n",
    "```py\n",
    "def error(self, datos, pred):\n",
    "    \"\"\"Obtiene el numero de aciertos y errores para calcular la tasa de fallo\n",
    "\n",
    "    Args:\n",
    "        datos: Matriz numpy con los datos de entrenamiento\n",
    "        pred: Predicción\n",
    "    \"\"\"\n",
    "    errores = 0\n",
    "\n",
    "    for i in range(datos.datos.shape[0]):\n",
    "        if datos[i][-1] != pred[i]:\n",
    "            errores += 1\n",
    "\n",
    "    return (errores/datos.datos.shape[0])*100\n",
    "```\n",
    "La razón por la que no se ha implementado el método __validacion__ es porque al no tener ningún clasificador implementado es complicado construir el método sin que en el futuro de errores (como los podría dar la implementación del método error). Es por eso que la implementación de ambos métodos se hará en la siguiente práctica."
   ]
  }
 ],
 "metadata": {
  "kernelspec": {
   "display_name": "Python 3",
   "language": "python",
   "name": "python3"
  },
  "language_info": {
   "codemirror_mode": {
    "name": "ipython",
    "version": 3
   },
   "file_extension": ".py",
   "mimetype": "text/x-python",
   "name": "python",
   "nbconvert_exporter": "python",
   "pygments_lexer": "ipython3",
   "version": "3.8.5"
  }
 },
 "nbformat": 4,
 "nbformat_minor": 5
}
