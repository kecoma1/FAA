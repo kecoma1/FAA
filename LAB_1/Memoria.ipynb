{
 "cells": [
  {
   "cell_type": "markdown",
   "metadata": {},
   "source": [
    "# __Fundamentos de Aprendizaje Automático 2021/2022__\n",
    "## Práctica de Introducción: _TRATAMIENTO DE DATOS, PARTICIONAMIENTO Y DISEÑO PRELIMINAR DE LA APLICACIÓN_\n",
    "### Grupo 1462 - Pareja 10 - Kevin de la Coba Malam"
   ]
  },
  {
   "cell_type": "code",
   "execution_count": 1,
   "metadata": {},
   "outputs": [],
   "source": [
    "import pandas as pd\n",
    "import numpy as np\n",
    "from Datos import Datos\n",
    "import EstrategiaParticionado"
   ]
  },
  {
   "cell_type": "markdown",
   "metadata": {},
   "source": [
    "## __1. Introducción__\n",
    "En este jupyter notebook se explicarán las soluciones a los diferentes apartados de la práctica de introducción. Para construir la aplicación se ha usado la librería pandas y numpy."
   ]
  },
  {
   "cell_type": "markdown",
   "metadata": {},
   "source": [
    "## __2. Clase Datos - Tratamiento de datos__\n",
    "En el enunciado de la práctica se nos pide crear una clase \"Datos\" la cuál contenga los siguientes atributos:\n",
    "* **nominalAtributos**: Lista de valores booleanos indicando si una columna es nominal o no.\n",
    "* **diccionario**: Diccionario que nos permite _traducir_ los datos originales a datos númericos.\n",
    "* **datos**: Matriz en la cual se guardan los datos _traducidos_.\n",
    "\n",
    "Para resolver este apartado se ha creado el archivo __Datos.py__ en base a la plantilla proporcionada donde se encuentra la clase __Datos__. \n",
    "Dicha clase contiene un constructor que se encarga de construir los atributos antes mencionados, para eso lo primero que se hace es cargar el archivo _\"tic-tac-toe.data\"_ o _\"german.data\"_ usando la librería _pandas_, en concreto, usando la función _read_csv_:"
   ]
  },
  {
   "cell_type": "code",
   "execution_count": 2,
   "metadata": {},
   "outputs": [],
   "source": [
    "df1 = pd.read_csv(\"ConjuntosDatos/tic-tac-toe.data\")\n",
    "df2 = pd.read_csv(\"ConjuntosDatos/german.data\")"
   ]
  },
  {
   "cell_type": "markdown",
   "metadata": {},
   "source": [
    "Como podemos ver, el archivo no es un _.csv_ pero el contenido que hay dentro _contiene el formato_ del _.csv_. Por esta razón la función no da ningún problema y se cargan los datos en el dataframe __df__. "
   ]
  },
  {
   "cell_type": "code",
   "execution_count": 3,
   "metadata": {},
   "outputs": [
    {
     "data": {
      "text/html": [
       "<div>\n",
       "<style scoped>\n",
       "    .dataframe tbody tr th:only-of-type {\n",
       "        vertical-align: middle;\n",
       "    }\n",
       "\n",
       "    .dataframe tbody tr th {\n",
       "        vertical-align: top;\n",
       "    }\n",
       "\n",
       "    .dataframe thead th {\n",
       "        text-align: right;\n",
       "    }\n",
       "</style>\n",
       "<table border=\"1\" class=\"dataframe\">\n",
       "  <thead>\n",
       "    <tr style=\"text-align: right;\">\n",
       "      <th></th>\n",
       "      <th>TLeftSq</th>\n",
       "      <th>TMidSq</th>\n",
       "      <th>TRightSq</th>\n",
       "      <th>MLeftSq</th>\n",
       "      <th>MMidSq</th>\n",
       "      <th>MRightSq</th>\n",
       "      <th>BLeftSq</th>\n",
       "      <th>BMidSq</th>\n",
       "      <th>BRightSq</th>\n",
       "      <th>Class</th>\n",
       "    </tr>\n",
       "  </thead>\n",
       "  <tbody>\n",
       "    <tr>\n",
       "      <th>0</th>\n",
       "      <td>x</td>\n",
       "      <td>x</td>\n",
       "      <td>x</td>\n",
       "      <td>x</td>\n",
       "      <td>o</td>\n",
       "      <td>o</td>\n",
       "      <td>x</td>\n",
       "      <td>o</td>\n",
       "      <td>o</td>\n",
       "      <td>positive</td>\n",
       "    </tr>\n",
       "    <tr>\n",
       "      <th>1</th>\n",
       "      <td>x</td>\n",
       "      <td>x</td>\n",
       "      <td>x</td>\n",
       "      <td>x</td>\n",
       "      <td>o</td>\n",
       "      <td>o</td>\n",
       "      <td>o</td>\n",
       "      <td>x</td>\n",
       "      <td>o</td>\n",
       "      <td>positive</td>\n",
       "    </tr>\n",
       "    <tr>\n",
       "      <th>2</th>\n",
       "      <td>x</td>\n",
       "      <td>x</td>\n",
       "      <td>x</td>\n",
       "      <td>x</td>\n",
       "      <td>o</td>\n",
       "      <td>o</td>\n",
       "      <td>o</td>\n",
       "      <td>o</td>\n",
       "      <td>x</td>\n",
       "      <td>positive</td>\n",
       "    </tr>\n",
       "    <tr>\n",
       "      <th>3</th>\n",
       "      <td>x</td>\n",
       "      <td>x</td>\n",
       "      <td>x</td>\n",
       "      <td>x</td>\n",
       "      <td>o</td>\n",
       "      <td>o</td>\n",
       "      <td>o</td>\n",
       "      <td>b</td>\n",
       "      <td>b</td>\n",
       "      <td>positive</td>\n",
       "    </tr>\n",
       "    <tr>\n",
       "      <th>4</th>\n",
       "      <td>x</td>\n",
       "      <td>x</td>\n",
       "      <td>x</td>\n",
       "      <td>x</td>\n",
       "      <td>o</td>\n",
       "      <td>o</td>\n",
       "      <td>b</td>\n",
       "      <td>o</td>\n",
       "      <td>b</td>\n",
       "      <td>positive</td>\n",
       "    </tr>\n",
       "  </tbody>\n",
       "</table>\n",
       "</div>"
      ],
      "text/plain": [
       "  TLeftSq TMidSq TRightSq MLeftSq MMidSq MRightSq BLeftSq BMidSq BRightSq  \\\n",
       "0       x      x        x       x      o        o       x      o        o   \n",
       "1       x      x        x       x      o        o       o      x        o   \n",
       "2       x      x        x       x      o        o       o      o        x   \n",
       "3       x      x        x       x      o        o       o      b        b   \n",
       "4       x      x        x       x      o        o       b      o        b   \n",
       "\n",
       "      Class  \n",
       "0  positive  \n",
       "1  positive  \n",
       "2  positive  \n",
       "3  positive  \n",
       "4  positive  "
      ]
     },
     "execution_count": 3,
     "metadata": {},
     "output_type": "execute_result"
    }
   ],
   "source": [
    "df1.head(5)"
   ]
  },
  {
   "cell_type": "code",
   "execution_count": 4,
   "metadata": {},
   "outputs": [
    {
     "data": {
      "text/html": [
       "<div>\n",
       "<style scoped>\n",
       "    .dataframe tbody tr th:only-of-type {\n",
       "        vertical-align: middle;\n",
       "    }\n",
       "\n",
       "    .dataframe tbody tr th {\n",
       "        vertical-align: top;\n",
       "    }\n",
       "\n",
       "    .dataframe thead th {\n",
       "        text-align: right;\n",
       "    }\n",
       "</style>\n",
       "<table border=\"1\" class=\"dataframe\">\n",
       "  <thead>\n",
       "    <tr style=\"text-align: right;\">\n",
       "      <th></th>\n",
       "      <th>A1</th>\n",
       "      <th>A2</th>\n",
       "      <th>A3</th>\n",
       "      <th>A4</th>\n",
       "      <th>A5</th>\n",
       "      <th>A6</th>\n",
       "      <th>A7</th>\n",
       "      <th>A8</th>\n",
       "      <th>A9</th>\n",
       "      <th>A10</th>\n",
       "      <th>...</th>\n",
       "      <th>A12</th>\n",
       "      <th>A13</th>\n",
       "      <th>A14</th>\n",
       "      <th>A15</th>\n",
       "      <th>A16</th>\n",
       "      <th>A17</th>\n",
       "      <th>A18</th>\n",
       "      <th>A19</th>\n",
       "      <th>A20</th>\n",
       "      <th>Class</th>\n",
       "    </tr>\n",
       "  </thead>\n",
       "  <tbody>\n",
       "    <tr>\n",
       "      <th>0</th>\n",
       "      <td>A11</td>\n",
       "      <td>6</td>\n",
       "      <td>A34</td>\n",
       "      <td>A43</td>\n",
       "      <td>1169</td>\n",
       "      <td>A65</td>\n",
       "      <td>A75</td>\n",
       "      <td>4</td>\n",
       "      <td>A93</td>\n",
       "      <td>A101</td>\n",
       "      <td>...</td>\n",
       "      <td>A121</td>\n",
       "      <td>67</td>\n",
       "      <td>A143</td>\n",
       "      <td>A152</td>\n",
       "      <td>2</td>\n",
       "      <td>A173</td>\n",
       "      <td>1</td>\n",
       "      <td>A192</td>\n",
       "      <td>A201</td>\n",
       "      <td>1</td>\n",
       "    </tr>\n",
       "    <tr>\n",
       "      <th>1</th>\n",
       "      <td>A12</td>\n",
       "      <td>48</td>\n",
       "      <td>A32</td>\n",
       "      <td>A43</td>\n",
       "      <td>5951</td>\n",
       "      <td>A61</td>\n",
       "      <td>A73</td>\n",
       "      <td>2</td>\n",
       "      <td>A92</td>\n",
       "      <td>A101</td>\n",
       "      <td>...</td>\n",
       "      <td>A121</td>\n",
       "      <td>22</td>\n",
       "      <td>A143</td>\n",
       "      <td>A152</td>\n",
       "      <td>1</td>\n",
       "      <td>A173</td>\n",
       "      <td>1</td>\n",
       "      <td>A191</td>\n",
       "      <td>A201</td>\n",
       "      <td>2</td>\n",
       "    </tr>\n",
       "    <tr>\n",
       "      <th>2</th>\n",
       "      <td>A14</td>\n",
       "      <td>12</td>\n",
       "      <td>A34</td>\n",
       "      <td>A46</td>\n",
       "      <td>2096</td>\n",
       "      <td>A61</td>\n",
       "      <td>A74</td>\n",
       "      <td>2</td>\n",
       "      <td>A93</td>\n",
       "      <td>A101</td>\n",
       "      <td>...</td>\n",
       "      <td>A121</td>\n",
       "      <td>49</td>\n",
       "      <td>A143</td>\n",
       "      <td>A152</td>\n",
       "      <td>1</td>\n",
       "      <td>A172</td>\n",
       "      <td>2</td>\n",
       "      <td>A191</td>\n",
       "      <td>A201</td>\n",
       "      <td>1</td>\n",
       "    </tr>\n",
       "    <tr>\n",
       "      <th>3</th>\n",
       "      <td>A11</td>\n",
       "      <td>42</td>\n",
       "      <td>A32</td>\n",
       "      <td>A42</td>\n",
       "      <td>7882</td>\n",
       "      <td>A61</td>\n",
       "      <td>A74</td>\n",
       "      <td>2</td>\n",
       "      <td>A93</td>\n",
       "      <td>A103</td>\n",
       "      <td>...</td>\n",
       "      <td>A122</td>\n",
       "      <td>45</td>\n",
       "      <td>A143</td>\n",
       "      <td>A153</td>\n",
       "      <td>1</td>\n",
       "      <td>A173</td>\n",
       "      <td>2</td>\n",
       "      <td>A191</td>\n",
       "      <td>A201</td>\n",
       "      <td>1</td>\n",
       "    </tr>\n",
       "    <tr>\n",
       "      <th>4</th>\n",
       "      <td>A11</td>\n",
       "      <td>24</td>\n",
       "      <td>A33</td>\n",
       "      <td>A40</td>\n",
       "      <td>4870</td>\n",
       "      <td>A61</td>\n",
       "      <td>A73</td>\n",
       "      <td>3</td>\n",
       "      <td>A93</td>\n",
       "      <td>A101</td>\n",
       "      <td>...</td>\n",
       "      <td>A124</td>\n",
       "      <td>53</td>\n",
       "      <td>A143</td>\n",
       "      <td>A153</td>\n",
       "      <td>2</td>\n",
       "      <td>A173</td>\n",
       "      <td>2</td>\n",
       "      <td>A191</td>\n",
       "      <td>A201</td>\n",
       "      <td>2</td>\n",
       "    </tr>\n",
       "  </tbody>\n",
       "</table>\n",
       "<p>5 rows × 21 columns</p>\n",
       "</div>"
      ],
      "text/plain": [
       "    A1  A2   A3   A4    A5   A6   A7  A8   A9   A10  ...   A12 A13   A14  \\\n",
       "0  A11   6  A34  A43  1169  A65  A75   4  A93  A101  ...  A121  67  A143   \n",
       "1  A12  48  A32  A43  5951  A61  A73   2  A92  A101  ...  A121  22  A143   \n",
       "2  A14  12  A34  A46  2096  A61  A74   2  A93  A101  ...  A121  49  A143   \n",
       "3  A11  42  A32  A42  7882  A61  A74   2  A93  A103  ...  A122  45  A143   \n",
       "4  A11  24  A33  A40  4870  A61  A73   3  A93  A101  ...  A124  53  A143   \n",
       "\n",
       "    A15 A16   A17 A18   A19   A20 Class  \n",
       "0  A152   2  A173   1  A192  A201     1  \n",
       "1  A152   1  A173   1  A191  A201     2  \n",
       "2  A152   1  A172   2  A191  A201     1  \n",
       "3  A153   1  A173   2  A191  A201     1  \n",
       "4  A153   2  A173   2  A191  A201     2  \n",
       "\n",
       "[5 rows x 21 columns]"
      ]
     },
     "execution_count": 4,
     "metadata": {},
     "output_type": "execute_result"
    }
   ],
   "source": [
    "df2.head(5)"
   ]
  },
  {
   "cell_type": "markdown",
   "metadata": {},
   "source": [
    "Podemos ver que el dataframe ha cargado los archivos de forma exitosa. Podemos empezar a crear los atributos."
   ]
  },
  {
   "cell_type": "code",
   "execution_count": 5,
   "metadata": {},
   "outputs": [],
   "source": [
    "# Cargamos los dataset con los atributos\n",
    "dataset1 = Datos(\"ConjuntosDatos/tic-tac-toe.data\")\n",
    "dataset2 = Datos(\"ConjuntosDatos/german.data\")"
   ]
  },
  {
   "cell_type": "markdown",
   "metadata": {},
   "source": [
    "## 2.1 nominalAtributos\n",
    "Para cargar esta lista, se creo un método llamado __asignaNominalAtributos__. Dicho método recibe como argumento los tipos de las columnas (obtenidos usando __df.dtypes__). \n",
    "```py\n",
    "def asignaNominalAtributos(self, tipos):\n",
    "        \"\"\"Itera sobre los tipos de atributos y asigna:\n",
    "            True: Si la columna es nominal (object).\n",
    "            False: Si la columna no es nominal.\n",
    "\n",
    "        Args:\n",
    "            line: Tipos obtenidos del dataframe de pandas.\n",
    "        \"\"\"\n",
    "        for tipo in tipos:\n",
    "            self.nominalAtributos.append(True if tipo == object else False)\n",
    "```\n",
    "Lo que se hace es que se itera sobre dichos elementos con el fin de ver si la columna contiene atributos nominales.\n"
   ]
  },
  {
   "cell_type": "code",
   "execution_count": 6,
   "metadata": {},
   "outputs": [
    {
     "name": "stdout",
     "output_type": "stream",
     "text": [
      "Dataset tic-tac-toe\n"
     ]
    },
    {
     "data": {
      "text/plain": [
       "[True, True, True, True, True, True, True, True, True, True]"
      ]
     },
     "execution_count": 6,
     "metadata": {},
     "output_type": "execute_result"
    }
   ],
   "source": [
    "print(\"Dataset tic-tac-toe\")\n",
    "dataset1.nominalAtributos"
   ]
  },
  {
   "cell_type": "code",
   "execution_count": 7,
   "metadata": {},
   "outputs": [
    {
     "name": "stdout",
     "output_type": "stream",
     "text": [
      "Dataset german\n"
     ]
    },
    {
     "data": {
      "text/plain": [
       "[True,\n",
       " False,\n",
       " True,\n",
       " True,\n",
       " False,\n",
       " True,\n",
       " True,\n",
       " False,\n",
       " True,\n",
       " True,\n",
       " False,\n",
       " True,\n",
       " False,\n",
       " True,\n",
       " True,\n",
       " False,\n",
       " True,\n",
       " False,\n",
       " True,\n",
       " True,\n",
       " False]"
      ]
     },
     "execution_count": 7,
     "metadata": {},
     "output_type": "execute_result"
    }
   ],
   "source": [
    "print(\"Dataset german\")\n",
    "dataset2.nominalAtributos"
   ]
  },
  {
   "cell_type": "markdown",
   "metadata": {},
   "source": [
    "Podemos ver que el formato de las listas es el correcto. Podemos ver también que en el primer caso (tic-tac-toe) todos los atributos son nominales, pero en el segundo (german) __no__. La segunda columna, la quinta, etc. tienen valores numéricos y se muestran correctamente en la lista."
   ]
  },
  {
   "cell_type": "markdown",
   "metadata": {},
   "source": [
    "## 2.2 diccionario\n",
    "Para cargar este diccionario se creo un método llamado __construyeDiccionario__. Dicho método recibe como argumento el dataframe original. \n",
    "```py\n",
    "    def construyeDiccionario(self, df):\n",
    "        \"\"\"Método que itera sobre los datos y construye\n",
    "        un diccionario de diccionarios en el que se muestra\n",
    "        el valor que puede tener cada atributo. Ejemplo:\n",
    "        {\n",
    "            \"Attr1\": {\"x\": 1, \"y\": 2} -- Orden alfabético\n",
    "            \"Attr2\": {\"x\": 1, \"y\": 2}\n",
    "            ...\n",
    "        }\n",
    "        \n",
    "        Args:\n",
    "            df (Pandas Dataframe): Dataframe pandas con todos los datos.\n",
    "        \"\"\"\n",
    "        for item in df.iteritems():\n",
    "            columnName = item[0]\n",
    "            possibleValues = list(df[columnName].unique()).copy()\n",
    "            possibleValues.sort()\n",
    "            for i, value in enumerate(possibleValues):\n",
    "                if columnName not in self.diccionario:\n",
    "                    self.diccionario[columnName] = {}\n",
    "                self.diccionario[columnName][value] = i\n",
    "```\n",
    "El algoritmo implementado en el método itera sobre cada columna (con los datos de esta incluidos) mediante el métdo __df.iteritems()__. Una vez tenemos la columna lo que se hace es que se crea una lista con los todos los valores únicos de dicha columna mediante el método __df[column_name].unique()__. Esta lista se ordena y por último se añade un diccionario al diccionario \"padre\", donde la _key_ es el nombre de la columna y los _values_ son los distintos posibles valores ordenados alfabéticamente y enumerados. "
   ]
  },
  {
   "cell_type": "code",
   "execution_count": 8,
   "metadata": {},
   "outputs": [
    {
     "name": "stdout",
     "output_type": "stream",
     "text": [
      "Dataset tic-tac-toe\n"
     ]
    },
    {
     "data": {
      "text/plain": [
       "{'b': 0, 'o': 1, 'x': 2}"
      ]
     },
     "execution_count": 8,
     "metadata": {},
     "output_type": "execute_result"
    }
   ],
   "source": [
    "print(\"Dataset tic-tac-toe\")\n",
    "dataset1.diccionario['TLeftSq']"
   ]
  },
  {
   "cell_type": "code",
   "execution_count": 9,
   "metadata": {},
   "outputs": [
    {
     "name": "stdout",
     "output_type": "stream",
     "text": [
      "Dataset german\n"
     ]
    },
    {
     "data": {
      "text/plain": [
       "{'A11': 0, 'A12': 1, 'A13': 2, 'A14': 3}"
      ]
     },
     "execution_count": 9,
     "metadata": {},
     "output_type": "execute_result"
    }
   ],
   "source": [
    "print(\"Dataset german\")\n",
    "dataset2.diccionario['A1']"
   ]
  },
  {
   "cell_type": "markdown",
   "metadata": {},
   "source": [
    "Como se muestra estos son los posibles valores de la primera columna de cada uno de los dataset."
   ]
  },
  {
   "cell_type": "markdown",
   "metadata": {},
   "source": [
    "## 2.3 datos\n",
    "Para cargar esta matriz se creo un método llamado __construyeDatos__. Dicho método recibe como argumento el dataframe original.\n",
    "```py\n",
    "    def construyeDatos(self, df):\n",
    "        \"\"\"Método que itera sobre todas las filas del dataset\n",
    "        con el fin de traducir los datos a números.\n",
    "\n",
    "        Args:\n",
    "            df (Pandas Dataframe): Dataset con los datos originales.\n",
    "        \"\"\"\n",
    "        self.datos = np.zeros(shape=df.shape)\n",
    "        for i, item in enumerate(df.iterrows()):\n",
    "            for j, col in enumerate(item[1].items()):\n",
    "                self.datos[i][j] = self.diccionario[col[0]][col[1]]\n",
    "```\n",
    "El algoritmo implementado primero crea una matriz con la misma forma que tiene el dataframe recibido mediante la librería __numpy__, para inicializar dicha matriz se usa __np.zeros(shape=...)__ (crea una matriz con ceros) y se le envía como argumento la forma de la matriz con __df.shape__ (nos devuelve la forma del dataframe).\n",
    "\n",
    "Una vez tenemos la matriz, iteramos sobre todas las filas mediante __df.iterrows()__, leemos cada columna en la fila y cambiamos el valor en la matriz numpy."
   ]
  },
  {
   "cell_type": "code",
   "execution_count": 10,
   "metadata": {},
   "outputs": [
    {
     "name": "stdout",
     "output_type": "stream",
     "text": [
      "Dataset tic-tac-toe\n"
     ]
    },
    {
     "data": {
      "text/plain": [
       "array([[2., 2., 2., ..., 1., 1., 1.],\n",
       "       [2., 2., 2., ..., 2., 1., 1.],\n",
       "       [2., 2., 2., ..., 1., 2., 1.],\n",
       "       ...,\n",
       "       [1., 2., 1., ..., 1., 2., 0.],\n",
       "       [1., 2., 1., ..., 1., 2., 0.],\n",
       "       [1., 1., 2., ..., 2., 2., 0.]])"
      ]
     },
     "execution_count": 10,
     "metadata": {},
     "output_type": "execute_result"
    }
   ],
   "source": [
    "print(\"Dataset tic-tac-toe\")\n",
    "dataset1.datos"
   ]
  },
  {
   "cell_type": "code",
   "execution_count": 11,
   "metadata": {},
   "outputs": [
    {
     "name": "stdout",
     "output_type": "stream",
     "text": [
      "Dataset german\n"
     ]
    },
    {
     "data": {
      "text/plain": [
       "array([[ 0.,  2.,  4., ...,  1.,  0.,  0.],\n",
       "       [ 1., 29.,  2., ...,  0.,  0.,  1.],\n",
       "       [ 3.,  8.,  4., ...,  0.,  0.,  0.],\n",
       "       ...,\n",
       "       [ 3.,  8.,  2., ...,  0.,  0.,  0.],\n",
       "       [ 0., 27.,  2., ...,  1.,  0.,  1.],\n",
       "       [ 1., 27.,  4., ...,  0.,  0.,  0.]])"
      ]
     },
     "execution_count": 11,
     "metadata": {},
     "output_type": "execute_result"
    }
   ],
   "source": [
    "print(\"Dataset german\")\n",
    "dataset2.datos"
   ]
  },
  {
   "cell_type": "markdown",
   "metadata": {},
   "source": [
    "Podemos ver que los datos se han traducido y unicamente tenemos valores numéricos."
   ]
  },
  {
   "cell_type": "markdown",
   "metadata": {},
   "source": [
    "## 2.4 Método extrae datos\n",
    "Para construir el método extrae datos lo único que hacemos es crear una matriz numpy la cual contiene los índices que se nos especifican.\n",
    "```py\n",
    "def extraeDatos(self,idx):\n",
    "    \"\"\"Devuelve el subconjunto de los datos cuyos �ndices se pasan como argumento\n",
    "\n",
    "    Args:\n",
    "        idx (list): Lista que contiene los indices a recibir de los datos.\n",
    "\n",
    "    Returns:\n",
    "        Matriz numpy: Matriz numpy con los índices que se especifican.\n",
    "    \"\"\"\n",
    "    datos = np.zeros(shape=(len(idx), self.datos.shape[1]))\n",
    "\n",
    "    for i, index in enumerate(idx):\n",
    "        datos[i] = self.datos[index]\n",
    "\n",
    "    return datos\n",
    "```"
   ]
  },
  {
   "cell_type": "markdown",
   "metadata": {},
   "source": [
    "## __3. Particionamiento - Tratamiento de datos__\n",
    "Se nos pide completar la plantilla donde tenemos una clase abstracta que define una _estrategia de particionado (EstrategiaParticionado)_. A parte se nos pide crear 2 clases más las cuales implementan estrategias de partcionado específicas, _Cross Validation (Validación cruzada)_ y _Simple Validation (Validación Simple)_.\n",
    "\n",
    "La clase abstracta _EstrategiaParticionado_ fue completada unicamente declarando los atributos en el constructor\n",
    "\n",
    "```py\n",
    "class EstrategiaParticionado:\n",
    "    \"\"\"Clase abstracta donde se define la estrategia de particionado.\n",
    "    \"\"\"\n",
    "  \n",
    "    # Clase abstracta\n",
    "    __metaclass__ = ABCMeta\n",
    "  \n",
    "    def __init__(self):\n",
    "        \"\"\"Constructor, solo se declaran los atributos.\n",
    "        \"\"\"\n",
    "        self.particiones = []\n",
    "    \n",
    "    @abstractmethod\n",
    "    def creaParticiones(self,datos,seed=None):\n",
    "        \"\"\"Método abstracto para crear particiones.\n",
    "\n",
    "        Args:\n",
    "            datos: Dataset.\n",
    "            seed: Seed para generar aleatoriedad. Por defecto None.\n",
    "        \"\"\"\n",
    "        pass\n",
    "```\n",
    "Como se puede ver la clase consta del atributo __particiones__, siguiendo el esquema proporcionado en el enunciado. Ese atributo contendrá objetos de la clase Particiones indicando los índices usados para el _Train_ y el _Test_. \n",
    "\n",
    "## 3.1 Validación simple\n",
    "La validación simple parte los datos en 2, una parte para el test y otra para el training. La clase _ValidacionSimple_ recibe como argumentos en el constructor el __porcentaje usado para el test__ (el porcentaje es un número _float_ que esta entre (0-100)) y el número de ejecuciones que se harán (esto marca el número de permutaciones a crear para las particiones).\n",
    "\n",
    "```py\n",
    "class ValidacionSimple(EstrategiaParticionado):\n",
    "    \"\"\"Clase que define una estrategia de particionado,\n",
    "    en concreto, validación simple.\n",
    "    \"\"\"\n",
    "  \n",
    "    def __init__(self, proporcionTest, numeroEjecuciones):\n",
    "        \"\"\"Constructor.\n",
    "\n",
    "        Args:\n",
    "            proporcionTest: Porcentaje para la proporción de test de los datos.\n",
    "            numeroEjecuciones: Número de ejecuciones.\n",
    "        \"\"\"\n",
    "        super().__init__()\n",
    "        self.proporcionTest = proporcionTest\n",
    "        self.numeroEjecuciones = numeroEjecuciones\n",
    "```\n",
    "Posteriormente el método _creaParticiones_ es implementado.\n",
    "```py\n",
    "def creaParticiones(self,datos,seed=None):\n",
    "        def creaParticiones(self,datos,seed=None):\n",
    "        random.seed(seed)\n",
    "        self.particiones = []\n",
    "        longitudDatos = np.shape(datos)[0]\n",
    "        longitudTest = int((self.proporcionTest/100)*longitudDatos)\n",
    "                \n",
    "        lista_valores = [i for i in range(longitudDatos)]\n",
    "\n",
    "        for i in range(self.numeroEjecuciones):\n",
    "            self.particiones.append(Particion())\n",
    "            \n",
    "            # Calculamos los indices\n",
    "            random.shuffle(lista_valores)\n",
    "            \n",
    "            # Asignamos los indices\n",
    "            self.particiones[-1].indicesTest = lista_valores[:longitudTest]\n",
    "            self.particiones[-1].indicesTrain = lista_valores[longitudTest:]\n",
    "```\n",
    "El algoritmo primero calcula la longitud de los datos (número de filas) y la longitud del test (número de filas asignadas al test). Debe tenerse en cuenta que para la longitud del test se hace una división entera. Posteriormente, creamos una lista de valores que contiene todos los índices de los datos, después, en un bucle, permutamos dicha lista y asignamos la parte correspondiente al test y la otra parte al training. Como la lista es permutada en cada iteración podemos coger siempre la primera parte como test y la segunda como training\n",
    "\n",
    "Para probar el correcto funcionamiento crearemos un array numpy pequeño y cargaremos dichos índices."
   ]
  },
  {
   "cell_type": "code",
   "execution_count": 12,
   "metadata": {},
   "outputs": [
    {
     "name": "stdout",
     "output_type": "stream",
     "text": [
      "\n",
      "Test: [4, 7, 8]\n",
      "Train: [5, 1, 6, 3, 2, 0, 9]\n",
      "\n",
      "Test: [7, 6, 5]\n",
      "Train: [0, 1, 8, 2, 4, 9, 3]\n",
      "\n",
      "Test: [8, 1, 5]\n",
      "Train: [4, 9, 2, 6, 3, 7, 0]\n"
     ]
    }
   ],
   "source": [
    "datos = np.random.random((10, 2))\n",
    "\n",
    "# Asignamos el 30% al test\n",
    "vc = EstrategiaParticionado.ValidacionSimple(30, 3)\n",
    "vc.creaParticiones(datos)\n",
    "\n",
    "for i in range(3):\n",
    "    print()\n",
    "    print(\"Test:\", vc.particiones[i].indicesTest)\n",
    "    print(\"Train:\", vc.particiones[i].indicesTrain)"
   ]
  },
  {
   "cell_type": "markdown",
   "metadata": {},
   "source": [
    "Se puede ver que los índices se crean correctamente.\n",
    "\n",
    "Ahora se ejecutará lo mismo con el dataset de _tic-tac-toe_."
   ]
  },
  {
   "cell_type": "code",
   "execution_count": 13,
   "metadata": {},
   "outputs": [
    {
     "name": "stdout",
     "output_type": "stream",
     "text": [
      "\n",
      "***Test***: [798, 261, 618, 906, 604, 590, 253, 823, 466, 61, 780, 764, 308, 809, 151, 829, 170, 41, 629, 949, 217, 82, 465, 329, 916, 64, 623, 953, 188, 269, 917, 887, 612, 750, 896, 382, 686, 531, 94, 560, 197, 857, 33, 902, 438, 735, 673, 358, 603, 60, 864, 890, 674, 420, 345, 569, 748, 449, 651, 145, 870, 938, 4, 956, 670, 99, 106, 282, 667, 330, 31, 244, 235, 299, 260, 936, 886, 44, 114, 817, 737, 835, 498, 30, 137, 316, 146, 214, 865, 928, 352, 586, 795, 337, 665]\n",
      "***Train***: [439, 399, 943, 596, 671, 361, 620, 386, 347, 130, 354, 456, 62, 325, 455, 807, 125, 141, 728, 845, 212, 139, 931, 383, 190, 206, 593, 349, 223, 430, 182, 946, 827, 782, 841, 133, 922, 668, 528, 541, 753, 787, 523, 505, 67, 610, 509, 283, 536, 500, 183, 313, 257, 763, 79, 246, 280, 205, 908, 198, 371, 859, 696, 702, 12, 249, 448, 172, 122, 368, 95, 598, 900, 955, 579, 892, 43, 422, 808, 434, 204, 929, 10, 933, 355, 768, 927, 641, 925, 519, 389, 944, 218, 48, 564, 757, 659, 21, 270, 950, 486, 100, 568, 272, 945, 712, 350, 254, 209, 914, 731, 324, 336, 11, 607, 527, 394, 677, 447, 346, 39, 810, 248, 717, 638, 496, 492, 331, 153, 646, 147, 415, 722, 365, 412, 196, 22, 843, 796, 481, 882, 613, 276, 672, 124, 443, 295, 178, 437, 469, 875, 77, 891, 867, 624, 588, 81, 912, 863, 258, 66, 369, 376, 483, 192, 676, 89, 418, 915, 825, 471, 123, 278, 393, 839, 416, 947, 173, 157, 591, 53, 648, 70, 775, 730, 397, 344, 97, 234, 302, 951, 310, 427, 50, 373, 259, 729, 745, 868, 756, 370, 113, 252, 521, 156, 684, 655, 790, 312, 935, 653, 910, 211, 905, 770, 594, 510, 398, 913, 26, 293, 219, 468, 134, 348, 96, 556, 632, 821, 879, 126, 803, 169, 63, 421, 228, 847, 46, 298, 747, 545, 783, 713, 340, 918, 885, 650, 285, 535, 457, 812, 920, 154, 309, 160, 897, 193, 220, 367, 161, 23, 14, 581, 289, 649, 501, 562, 820, 721, 476, 615, 311, 903, 435, 855, 635, 769, 734, 818, 132, 177, 195, 467, 360, 552, 546, 574, 155, 507, 323, 128, 294, 732, 201, 226, 356, 463, 186, 611, 723, 470, 381, 899, 512, 408, 919, 68, 92, 652, 491, 142, 162, 934, 834, 32, 101, 710, 621, 454, 854, 240, 319, 36, 585, 669, 425, 754, 104, 508, 241, 384, 119, 56, 837, 923, 136, 779, 776, 759, 682, 771, 98, 65, 75, 752, 622, 572, 553, 526, 343, 83, 479, 284, 227, 909, 436, 184, 849, 869, 87, 647, 25, 822, 785, 828, 555, 305, 718, 561, 59, 499, 120, 597, 567, 149, 952, 37, 538, 207, 773, 131, 55, 878, 400, 158, 171, 888, 290, 181, 338, 262, 715, 699, 957, 222, 275, 530, 378, 180, 592, 419, 117, 388, 617, 296, 794, 359, 816, 549, 587, 662, 475, 749, 103, 366, 108, 714, 706, 213, 940, 353, 551, 678, 547, 76, 480, 761, 708, 357, 127, 861, 164, 461, 237, 815, 664, 692, 537, 848, 889, 374, 571, 19, 73, 429, 239, 387, 409, 497, 558, 306, 273, 789, 426, 176, 445, 277, 746, 633, 578, 116, 880, 657, 866, 403, 619, 322, 720, 74, 110, 793, 801, 320, 942, 135, 287, 540, 18, 765, 741, 600, 407, 202, 724, 414, 881, 774, 666, 29, 265, 534, 948, 694, 334, 229, 583, 111, 118, 898, 893, 424, 332, 5, 224, 930, 513, 566, 860, 446, 166, 557, 628, 163, 40, 608, 0, 51, 778, 872, 550, 520, 736, 215, 584, 606, 846, 904, 525, 286, 495, 656, 751, 554, 811, 806, 661, 78, 740, 225, 772, 680, 533, 281, 165, 705, 58, 300, 24, 200, 379, 274, 2, 924, 187, 72, 297, 804, 601, 819, 626, 93, 755, 679, 852, 264, 451, 339, 238, 725, 767, 743, 441, 634, 8, 143, 514, 493, 90, 614, 685, 488, 199, 203, 932, 391, 813, 503, 401, 472, 921, 802, 637, 410, 937, 372, 221, 506, 405, 907, 727, 697, 577, 642, 351, 304, 179, 850, 631, 175, 236, 406, 589, 396, 636, 267, 485, 402, 630, 314, 45, 856, 150, 689, 941, 47, 487, 174, 34, 362, 417, 303, 266, 231, 54, 288, 185, 570, 954, 786, 814, 595, 683, 544, 707, 364, 831, 874, 432, 91, 478, 279, 703, 675, 862, 777, 385, 824, 35, 15, 719, 315, 489, 440, 826, 482, 542, 627, 871, 232, 341, 559, 830, 452, 7, 739, 599, 726, 884, 532, 873, 27, 517, 255, 138, 490, 695, 894, 115, 876, 250, 152, 102, 3, 411, 800, 16, 511, 458, 799, 781, 762, 738, 543, 840, 494, 86, 107, 700, 573, 129, 230, 105, 321, 17, 167, 377, 609, 744, 644, 701, 395, 71, 926, 791, 112, 194, 654, 431, 9, 742, 838, 335, 792, 318, 758, 404, 681, 327, 691, 144, 442, 693, 529, 57, 616, 462, 660, 247, 853, 268, 895, 473, 271, 709, 687, 484, 317, 263, 88, 784, 939, 307, 576, 42, 413, 140, 453, 690, 522, 363, 191, 477, 216, 565, 342, 423, 515, 80, 375, 516, 605, 233, 243, 760, 883, 168, 28, 333, 716, 251, 911, 539, 6, 109, 766, 242, 851, 639, 189, 704, 711, 688, 49, 245, 450, 663, 433, 210, 13, 121, 832, 658, 842, 148, 459, 788, 836, 625, 805, 797, 643, 464, 328, 524, 504, 858, 326, 602, 518, 390, 733, 474, 208, 380, 38, 444, 548, 575, 698, 645, 580, 85, 460, 563, 502, 69, 292, 159, 392, 901, 833, 844, 20, 52, 84, 301, 1, 256, 428, 291, 877, 640, 582]\n",
      "\n",
      "***Test***: [13, 282, 564, 587, 913, 693, 471, 651, 169, 506, 66, 118, 553, 576, 168, 348, 600, 606, 459, 768, 111, 502, 492, 125, 327, 193, 303, 660, 605, 533, 234, 162, 245, 705, 766, 270, 218, 926, 513, 898, 866, 590, 908, 266, 542, 321, 338, 944, 952, 905, 269, 232, 461, 596, 734, 879, 443, 509, 508, 178, 782, 63, 380, 433, 310, 221, 594, 836, 438, 579, 864, 223, 33, 92, 910, 430, 560, 894, 85, 496, 123, 933, 664, 931, 59, 916, 862, 932, 340, 479, 441, 900, 480, 773, 194]\n",
      "***Train***: [500, 769, 569, 345, 226, 573, 116, 860, 549, 484, 463, 243, 382, 210, 271, 791, 850, 907, 265, 563, 608, 593, 741, 781, 881, 906, 384, 367, 445, 498, 225, 512, 444, 416, 400, 299, 545, 399, 885, 493, 437, 70, 247, 915, 187, 79, 364, 188, 55, 49, 848, 504, 369, 897, 212, 305, 941, 324, 157, 333, 152, 477, 458, 427, 805, 366, 387, 702, 252, 248, 556, 840, 940, 230, 11, 823, 684, 634, 277, 661, 546, 558, 942, 204, 903, 179, 787, 415, 821, 865, 137, 829, 510, 877, 21, 140, 175, 753, 795, 229, 77, 456, 671, 354, 172, 728, 309, 636, 609, 98, 528, 113, 124, 653, 403, 263, 414, 880, 135, 841, 873, 475, 239, 487, 566, 727, 644, 429, 166, 335, 927, 494, 257, 87, 240, 74, 317, 319, 694, 160, 667, 763, 106, 891, 325, 918, 578, 107, 792, 783, 814, 825, 700, 360, 718, 505, 938, 623, 24, 453, 94, 52, 655, 627, 452, 794, 164, 359, 639, 192, 561, 57, 285, 635, 740, 361, 365, 665, 37, 863, 647, 874, 89, 19, 25, 86, 302, 410, 811, 668, 215, 288, 895, 315, 807, 544, 904, 765, 628, 259, 706, 196, 626, 249, 645, 478, 329, 298, 236, 537, 559, 233, 813, 401, 439, 296, 786, 60, 209, 36, 534, 909, 878, 318, 203, 640, 128, 161, 615, 284, 501, 289, 404, 939, 440, 449, 726, 448, 342, 201, 656, 888, 613, 846, 658, 923, 806, 887, 18, 145, 721, 473, 134, 181, 696, 921, 58, 598, 336, 758, 173, 434, 659, 833, 796, 273, 820, 35, 130, 581, 834, 182, 857, 953, 1, 586, 580, 102, 540, 731, 290, 686, 945, 611, 90, 835, 650, 370, 642, 322, 935, 497, 435, 624, 260, 385, 447, 930, 14, 574, 695, 948, 674, 202, 165, 306, 22, 228, 672, 552, 96, 832, 802, 801, 892, 231, 872, 83, 436, 150, 917, 954, 572, 88, 849, 555, 882, 69, 283, 535, 748, 899, 924, 641, 171, 39, 246, 80, 619, 147, 817, 405, 108, 742, 136, 237, 312, 353, 75, 185, 394, 406, 928, 761, 876, 893, 717, 481, 483, 159, 207, 530, 242, 712, 517, 519, 845, 451, 84, 472, 827, 697, 412, 516, 490, 868, 363, 376, 749, 43, 350, 719, 571, 103, 604, 547, 190, 53, 790, 402, 389, 104, 844, 20, 189, 423, 375, 48, 570, 633, 722, 105, 612, 883, 393, 120, 949, 349, 681, 869, 797, 61, 756, 222, 208, 244, 390, 465, 676, 91, 101, 72, 115, 307, 755, 274, 199, 818, 789, 744, 750, 15, 955, 286, 784, 278, 956, 332, 446, 708, 536, 937, 495, 837, 584, 691, 351, 12, 588, 6, 379, 595, 575, 0, 648, 699, 293, 275, 754, 597, 158, 300, 485, 618, 82, 551, 757, 258, 454, 760, 330, 455, 701, 592, 673, 616, 550, 417, 392, 328, 751, 901, 100, 567, 358, 250, 177, 687, 543, 713, 630, 778, 707, 183, 47, 798, 198, 714, 197, 142, 629, 568, 357, 50, 491, 109, 425, 73, 947, 951, 920, 911, 41, 119, 871, 889, 736, 206, 621, 99, 426, 515, 759, 176, 220, 167, 256, 524, 409, 432, 112, 272, 138, 127, 522, 313, 675, 355, 156, 943, 397, 847, 610, 562, 9, 377, 129, 735, 407, 468, 715, 816, 725, 337, 466, 235, 476, 677, 93, 703, 323, 507, 216, 261, 582, 657, 295, 875, 450, 213, 762, 316, 281, 936, 683, 711, 709, 919, 356, 704, 793, 191, 732, 625, 914, 65, 614, 30, 851, 395, 662, 16, 652, 669, 679, 617, 554, 779, 867, 780, 411, 739, 666, 174, 688, 499, 17, 279, 539, 133, 51, 685, 71, 620, 224, 826, 418, 280, 870, 929, 44, 3, 396, 428, 291, 557, 151, 733, 538, 838, 525, 830, 146, 227, 886, 514, 311, 331, 368, 843, 28, 689, 799, 809, 730, 489, 301, 29, 698, 745, 770, 195, 97, 292, 772, 682, 398, 184, 214, 527, 68, 532, 268, 386, 828, 420, 217, 56, 738, 469, 934, 32, 764, 467, 155, 371, 31, 457, 859, 747, 670, 339, 117, 314, 724, 852, 743, 822, 391, 854, 424, 803, 378, 602, 607, 643, 2, 139, 482, 649, 153, 824, 163, 776, 347, 460, 23, 603, 110, 511, 589, 255, 352, 925, 346, 775, 95, 205, 304, 251, 486, 752, 442, 238, 211, 622, 462, 839, 297, 946, 126, 654, 374, 5, 950, 767, 253, 583, 812, 413, 308, 78, 777, 67, 219, 264, 902, 503, 287, 800, 842, 431, 520, 149, 601, 362, 26, 334, 638, 419, 421, 637, 154, 408, 599, 521, 320, 529, 4, 121, 62, 631, 76, 663, 470, 262, 808, 144, 922, 855, 523, 131, 526, 678, 632, 737, 381, 819, 692, 548, 585, 45, 531, 122, 716, 8, 81, 294, 141, 38, 957, 372, 54, 148, 10, 690, 241, 785, 861, 565, 853, 170, 680, 388, 884, 746, 341, 373, 890, 488, 7, 804, 518, 771, 343, 422, 464, 591, 646, 815, 723, 46, 132, 34, 774, 186, 856, 40, 858, 710, 577, 267, 143, 383, 831, 200, 254, 114, 912, 180, 788, 344, 810, 42, 729, 474, 276, 64, 326, 720, 27, 896, 541]\n",
      "\n",
      "***Test***: [73, 873, 748, 121, 831, 381, 814, 445, 281, 177, 442, 307, 847, 645, 46, 315, 806, 592, 727, 351, 1, 304, 340, 243, 9, 193, 461, 318, 256, 410, 329, 529, 186, 463, 802, 754, 952, 93, 210, 907, 370, 578, 395, 798, 782, 933, 597, 162, 774, 436, 844, 550, 574, 83, 25, 756, 811, 839, 154, 697, 668, 161, 205, 655, 18, 105, 453, 42, 953, 149, 874, 662, 184, 474, 355, 687, 669, 747, 676, 225, 679, 613, 247, 612, 712, 526, 826, 280, 716, 620, 926, 187, 202, 208, 305]\n",
      "***Train***: [91, 99, 920, 772, 146, 665, 169, 364, 637, 366, 310, 511, 606, 426, 551, 183, 375, 387, 904, 531, 667, 358, 222, 852, 425, 106, 582, 421, 581, 82, 267, 647, 556, 480, 88, 135, 228, 794, 509, 939, 598, 185, 160, 479, 103, 860, 170, 951, 508, 415, 944, 94, 207, 870, 400, 350, 884, 53, 740, 49, 324, 464, 795, 773, 45, 602, 739, 182, 800, 78, 518, 704, 565, 614, 492, 538, 47, 367, 825, 236, 778, 181, 439, 709, 302, 296, 633, 109, 559, 742, 700, 946, 789, 90, 134, 609, 357, 175, 784, 940, 639, 908, 401, 231, 447, 120, 87, 242, 663, 168, 48, 537, 829, 567, 525, 897, 133, 119, 490, 901, 253, 922, 660, 603, 158, 441, 477, 124, 338, 72, 560, 692, 347, 510, 327, 416, 163, 483, 685, 702, 11, 584, 312, 623, 76, 203, 648, 30, 632, 807, 729, 137, 408, 735, 227, 104, 759, 801, 456, 298, 888, 732, 424, 448, 475, 636, 711, 736, 859, 842, 277, 868, 810, 201, 866, 264, 411, 89, 605, 33, 345, 916, 542, 931, 384, 830, 949, 741, 583, 594, 824, 618, 919, 956, 151, 521, 396, 733, 624, 412, 179, 575, 761, 499, 936, 335, 32, 352, 10, 313, 115, 368, 845, 432, 819, 58, 833, 730, 828, 799, 245, 67, 564, 917, 611, 342, 56, 540, 918, 816, 117, 678, 100, 269, 165, 239, 710, 126, 141, 420, 50, 71, 59, 577, 487, 392, 294, 285, 297, 472, 699, 520, 458, 720, 536, 80, 843, 532, 883, 60, 661, 275, 675, 414, 260, 570, 230, 615, 457, 250, 758, 452, 855, 890, 325, 856, 150, 879, 14, 430, 221, 451, 374, 545, 683, 110, 195, 465, 882, 650, 365, 322, 259, 131, 680, 516, 331, 851, 224, 684, 156, 35, 81, 934, 344, 630, 523, 174, 404, 212, 86, 118, 349, 627, 496, 887, 235, 288, 178, 132, 273, 486, 522, 75, 552, 576, 263, 332, 593, 198, 915, 454, 911, 200, 892, 923, 15, 166, 488, 587, 173, 745, 274, 534, 353, 938, 572, 402, 886, 750, 122, 865, 63, 74, 69, 677, 22, 693, 783, 303, 299, 301, 39, 97, 625, 423, 21, 737, 450, 715, 790, 805, 862, 270, 440, 334, 246, 330, 895, 113, 98, 403, 336, 652, 363, 399, 817, 707, 708, 891, 573, 116, 914, 610, 380, 590, 921, 723, 555, 467, 948, 217, 672, 769, 438, 840, 905, 229, 108, 688, 196, 371, 569, 694, 721, 937, 57, 37, 957, 5, 51, 378, 812, 725, 16, 749, 635, 504, 31, 41, 394, 656, 379, 65, 23, 328, 226, 780, 19, 558, 644, 726, 836, 28, 171, 152, 877, 673, 333, 360, 666, 854, 760, 601, 209, 506, 698, 265, 515, 143, 7, 691, 853, 148, 485, 881, 705, 634, 140, 728, 832, 875, 484, 896, 889, 295, 629, 306, 869, 775, 54, 266, 237, 220, 547, 255, 513, 535, 406, 369, 125, 70, 144, 112, 290, 418, 804, 12, 695, 311, 52, 586, 863, 902, 549, 867, 562, 797, 468, 123, 262, 79, 4, 579, 218, 409, 809, 850, 744, 561, 640, 427, 861, 343, 580, 541, 101, 900, 604, 786, 894, 292, 494, 835, 316, 3, 821, 422, 517, 180, 493, 95, 719, 713, 27, 460, 476, 192, 419, 792, 913, 383, 588, 788, 787, 753, 317, 244, 136, 279, 159, 128, 482, 945, 0, 188, 189, 929, 258, 954, 356, 478, 238, 553, 681, 557, 215, 533, 388, 206, 26, 943, 617, 326, 930, 670, 507, 505, 145, 849, 291, 293, 155, 386, 827, 955, 690, 876, 428, 167, 906, 214, 872, 722, 138, 362, 659, 36, 701, 909, 512, 172, 643, 589, 24, 491, 377, 433, 249, 251, 837, 130, 446, 743, 841, 13, 703, 157, 626, 197, 834, 372, 822, 199, 359, 642, 257, 595, 129, 437, 114, 8, 444, 696, 813, 803, 20, 216, 751, 785, 649, 638, 910, 777, 64, 429, 671, 405, 471, 323, 942, 271, 398, 600, 619, 548, 240, 61, 767, 571, 62, 495, 585, 2, 308, 176, 261, 878, 107, 763, 497, 443, 92, 282, 462, 68, 808, 391, 928, 686, 241, 385, 607, 924, 470, 276, 84, 791, 417, 17, 885, 935, 6, 234, 568, 34, 848, 871, 899, 278, 738, 55, 469, 498, 233, 563, 272, 657, 339, 591, 431, 631, 287, 818, 543, 539, 286, 319, 654, 321, 932, 337, 927, 752, 142, 689, 898, 524, 43, 893, 658, 764, 755, 376, 283, 320, 502, 527, 501, 912, 820, 102, 950, 646, 314, 706, 616, 530, 96, 211, 191, 213, 770, 147, 858, 300, 373, 389, 757, 455, 528, 139, 838, 204, 599, 435, 40, 766, 382, 413, 714, 596, 947, 674, 194, 434, 223, 393, 846, 880, 781, 731, 481, 544, 466, 503, 762, 397, 514, 925, 268, 489, 717, 66, 779, 746, 796, 232, 248, 219, 346, 38, 554, 622, 348, 653, 354, 724, 390, 823, 252, 546, 641, 621, 628, 44, 793, 500, 718, 776, 254, 341, 190, 127, 765, 449, 664, 734, 309, 459, 864, 153, 608, 682, 651, 566, 361, 771, 289, 941, 407, 473, 815, 164, 519, 85, 768, 29, 111, 903, 77, 284, 857]\n",
      "\n",
      "***Test***: [925, 902, 394, 949, 319, 686, 393, 629, 884, 780, 813, 733, 347, 744, 57, 328, 49, 157, 526, 96, 811, 146, 525, 954, 395, 0, 656, 274, 203, 317, 225, 266, 763, 490, 477, 138, 940, 42, 707, 797, 580, 508, 351, 873, 155, 172, 550, 87, 453, 841, 857, 205, 472, 624, 251, 377, 400, 868, 131, 693, 141, 876, 55, 91, 459, 451, 521, 241, 716, 742, 575, 26, 905, 915, 755, 934, 294, 365, 590, 602, 127, 262, 461, 581, 199, 348, 333, 386, 911, 316, 362, 213, 506, 13, 669]\n",
      "***Train***: [616, 691, 369, 587, 559, 163, 412, 301, 753, 93, 517, 697, 948, 372, 103, 908, 402, 771, 234, 475, 633, 827, 164, 554, 43, 275, 10, 678, 81, 586, 585, 782, 432, 552, 349, 846, 501, 240, 524, 832, 334, 749, 342, 527, 75, 512, 298, 463, 571, 438, 665, 924, 5, 421, 549, 370, 479, 593, 732, 407, 97, 66, 118, 353, 617, 291, 723, 489, 313, 73, 469, 711, 928, 99, 541, 109, 433, 27, 735, 202, 939, 583, 570, 659, 598, 221, 737, 61, 957, 781, 683, 717, 244, 105, 809, 85, 702, 882, 424, 790, 411, 674, 835, 919, 152, 887, 715, 815, 23, 794, 927, 292, 759, 492, 188, 212, 718, 573, 505, 238, 847, 255, 666, 161, 653, 660, 78, 285, 891, 685, 830, 167, 282, 910, 14, 743, 326, 892, 564, 803, 123, 323, 277, 302, 676, 179, 775, 428, 918, 670, 625, 134, 281, 907, 839, 158, 480, 576, 41, 311, 245, 825, 17, 139, 312, 510, 639, 129, 870, 673, 690, 516, 622, 713, 885, 547, 840, 542, 450, 382, 249, 897, 375, 726, 769, 166, 679, 615, 504, 259, 703, 293, 121, 578, 579, 8, 730, 731, 4, 124, 658, 776, 264, 620, 76, 352, 820, 701, 216, 900, 944, 632, 321, 845, 368, 189, 478, 710, 872, 297, 357, 721, 416, 856, 613, 935, 378, 449, 289, 606, 661, 466, 279, 200, 829, 1, 11, 227, 210, 299, 577, 464, 209, 899, 663, 754, 548, 153, 257, 32, 888, 425, 95, 176, 398, 233, 162, 308, 29, 849, 837, 630, 831, 734, 498, 494, 546, 802, 446, 946, 788, 350, 612, 196, 750, 110, 584, 270, 408, 437, 460, 700, 276, 636, 128, 373, 789, 222, 290, 37, 206, 880, 305, 440, 600, 325, 324, 307, 728, 272, 605, 645, 422, 597, 565, 265, 741, 828, 174, 338, 881, 160, 777, 511, 704, 452, 567, 28, 852, 114, 243, 322, 499, 361, 142, 481, 859, 252, 808, 906, 268, 955, 165, 19, 390, 772, 538, 540, 108, 594, 932, 768, 156, 195, 747, 667, 886, 48, 267, 836, 116, 560, 486, 533, 518, 695, 712, 950, 556, 344, 120, 725, 842, 740, 345, 621, 539, 455, 137, 529, 558, 410, 688, 627, 419, 648, 215, 271, 39, 178, 814, 273, 736, 426, 388, 380, 465, 942, 309, 893, 650, 190, 889, 88, 866, 330, 92, 235, 239, 315, 858, 861, 706, 810, 186, 219, 618, 69, 694, 834, 67, 933, 591, 895, 662, 6, 488, 18, 649, 619, 779, 58, 132, 72, 51, 468, 947, 784, 269, 168, 111, 850, 100, 727, 9, 608, 420, 253, 436, 79, 366, 724, 102, 62, 601, 185, 705, 496, 631, 551, 535, 626, 318, 180, 936, 792, 414, 471, 360, 762, 50, 31, 143, 509, 192, 418, 757, 327, 493, 483, 332, 543, 909, 760, 295, 385, 448, 791, 798, 197, 484, 2, 514, 672, 642, 574, 229, 77, 59, 65, 804, 63, 374, 232, 719, 54, 454, 397, 25, 191, 603, 86, 746, 403, 47, 339, 871, 430, 903, 801, 824, 800, 224, 851, 544, 46, 819, 883, 169, 916, 751, 336, 223, 329, 207, 623, 474, 638, 854, 495, 175, 931, 945, 82, 447, 83, 844, 589, 154, 53, 640, 503, 218, 381, 21, 340, 838, 739, 921, 720, 748, 635, 572, 684, 807, 399, 214, 431, 248, 187, 729, 470, 35, 415, 182, 417, 805, 413, 119, 183, 34, 104, 644, 774, 217, 878, 647, 263, 434, 230, 523, 785, 359, 823, 519, 64, 941, 913, 787, 149, 303, 654, 226, 391, 816, 396, 875, 335, 937, 671, 367, 287, 745, 401, 904, 531, 655, 384, 917, 148, 151, 40, 634, 922, 696, 256, 130, 184, 865, 930, 812, 38, 445, 491, 71, 458, 22, 698, 867, 863, 817, 90, 943, 331, 951, 530, 568, 45, 392, 429, 406, 952, 956, 204, 173, 761, 220, 89, 441, 569, 566, 106, 107, 80, 228, 561, 147, 24, 502, 409, 929, 555, 537, 354, 476, 258, 896, 862, 246, 765, 261, 485, 443, 677, 607, 756, 314, 356, 926, 60, 821, 237, 435, 833, 208, 389, 553, 545, 898, 343, 12, 112, 793, 664, 117, 532, 515, 115, 681, 522, 783, 52, 604, 170, 376, 643, 74, 920, 668, 56, 201, 869, 901, 687, 355, 799, 610, 427, 646, 113, 405, 70, 641, 439, 534, 68, 682, 877, 709, 383, 254, 596, 708, 714, 284, 822, 637, 818, 457, 379, 101, 16, 786, 611, 894, 341, 652, 692, 242, 874, 582, 588, 250, 140, 171, 507, 796, 467, 848, 296, 487, 260, 371, 198, 497, 562, 473, 346, 528, 614, 864, 404, 752, 758, 358, 520, 773, 7, 280, 826, 231, 766, 513, 363, 657, 193, 300, 15, 767, 98, 609, 310, 194, 536, 912, 879, 211, 337, 651, 938, 286, 306, 3, 145, 770, 20, 778, 278, 181, 236, 855, 423, 764, 599, 44, 364, 680, 595, 247, 126, 860, 320, 125, 853, 84, 122, 699, 923, 177, 283, 387, 722, 133, 159, 953, 628, 33, 500, 806, 442, 444, 738, 456, 36, 675, 557, 462, 144, 592, 94, 135, 150, 795, 843, 689, 136, 30, 890, 482, 563, 304, 914, 288]\n",
      "\n",
      "***Test***: [375, 497, 191, 642, 369, 511, 420, 297, 426, 492, 606, 723, 194, 475, 33, 749, 828, 343, 148, 429, 722, 247, 16, 616, 781, 479, 31, 408, 703, 855, 767, 726, 824, 458, 415, 877, 374, 737, 598, 286, 49, 802, 385, 186, 7, 447, 92, 841, 733, 353, 738, 801, 626, 845, 292, 549, 152, 809, 229, 629, 754, 780, 125, 612, 648, 261, 1, 17, 663, 947, 903, 849, 496, 47, 888, 500, 235, 104, 312, 592, 585, 392, 460, 634, 15, 53, 493, 172, 61, 339, 189, 256, 691, 459, 879]\n",
      "***Train***: [158, 302, 42, 107, 285, 432, 681, 277, 0, 176, 90, 937, 891, 184, 283, 434, 329, 482, 929, 470, 956, 251, 600, 917, 171, 817, 345, 464, 249, 121, 425, 123, 350, 921, 759, 87, 303, 628, 589, 40, 428, 782, 467, 551, 954, 654, 202, 837, 295, 872, 570, 278, 159, 840, 412, 213, 291, 127, 28, 859, 230, 538, 320, 473, 620, 693, 126, 656, 524, 83, 100, 398, 476, 24, 273, 898, 718, 437, 707, 399, 135, 825, 13, 943, 441, 363, 248, 243, 223, 333, 431, 271, 908, 789, 338, 147, 465, 3, 495, 713, 765, 675, 10, 763, 166, 918, 758, 390, 242, 566, 793, 219, 487, 787, 887, 573, 472, 258, 233, 18, 906, 957, 284, 370, 741, 41, 418, 604, 95, 842, 731, 884, 145, 169, 72, 730, 533, 735, 198, 829, 823, 452, 237, 101, 540, 611, 313, 595, 453, 631, 461, 734, 8, 811, 38, 318, 760, 870, 58, 897, 866, 925, 97, 627, 661, 625, 483, 89, 485, 630, 684, 376, 662, 736, 911, 19, 216, 214, 602, 35, 507, 808, 715, 106, 909, 241, 915, 721, 281, 246, 110, 331, 388, 932, 39, 115, 746, 296, 910, 778, 599, 427, 562, 365, 665, 523, 697, 791, 948, 354, 922, 622, 651, 536, 516, 806, 820, 863, 831, 177, 340, 545, 653, 306, 881, 838, 93, 334, 450, 382, 498, 608, 561, 878, 830, 559, 770, 30, 835, 218, 96, 67, 367, 543, 380, 65, 725, 542, 574, 84, 403, 732, 4, 667, 132, 153, 43, 639, 136, 372, 847, 98, 383, 928, 387, 45, 700, 32, 936, 603, 174, 178, 739, 694, 717, 764, 209, 196, 901, 813, 539, 690, 489, 939, 619, 57, 544, 395, 226, 740, 293, 621, 314, 944, 900, 499, 445, 623, 386, 252, 714, 488, 581, 183, 456, 167, 905, 685, 883, 814, 391, 442, 29, 892, 850, 105, 66, 615, 2, 579, 550, 882, 435, 502, 788, 873, 744, 394, 914, 81, 228, 446, 555, 274, 557, 358, 804, 515, 310, 799, 197, 349, 779, 80, 300, 474, 419, 902, 131, 601, 955, 289, 404, 238, 940, 91, 144, 366, 12, 299, 298, 305, 790, 669, 462, 181, 951, 771, 686, 705, 405, 773, 565, 400, 423, 933, 163, 44, 478, 708, 876, 617, 199, 279, 70, 783, 753, 704, 188, 311, 348, 111, 361, 907, 364, 245, 351, 448, 677, 950, 792, 414, 208, 355, 578, 701, 645, 371, 719, 165, 868, 641, 597, 52, 373, 179, 433, 64, 255, 508, 335, 234, 512, 266, 217, 337, 73, 336, 851, 775, 88, 505, 569, 457, 494, 60, 535, 204, 307, 564, 259, 411, 232, 402, 137, 357, 221, 86, 79, 240, 102, 170, 560, 518, 220, 807, 609, 777, 913, 124, 527, 22, 128, 182, 316, 150, 155, 212, 173, 503, 772, 506, 239, 666, 710, 797, 466, 504, 384, 129, 671, 94, 288, 326, 885, 222, 724, 657, 309, 486, 530, 378, 23, 206, 659, 236, 769, 113, 308, 755, 360, 449, 643, 192, 20, 819, 451, 133, 860, 537, 934, 674, 140, 201, 784, 846, 853, 683, 836, 864, 362, 396, 867, 103, 650, 796, 200, 695, 582, 501, 143, 786, 664, 856, 893, 162, 109, 430, 747, 409, 69, 672, 514, 670, 852, 522, 658, 577, 593, 210, 262, 480, 712, 416, 895, 346, 810, 869, 752, 401, 122, 14, 774, 526, 264, 728, 655, 534, 812, 594, 880, 164, 938, 301, 729, 78, 768, 942, 861, 575, 827, 521, 692, 854, 762, 531, 673, 397, 924, 748, 332, 794, 803, 952, 142, 750, 584, 190, 798, 761, 438, 953, 927, 344, 272, 644, 624, 231, 546, 481, 587, 649, 55, 596, 926, 253, 424, 250, 82, 265, 34, 287, 826, 756, 56, 62, 638, 886, 25, 563, 294, 74, 821, 54, 119, 254, 68, 71, 9, 393, 941, 180, 11, 290, 227, 477, 785, 422, 709, 454, 270, 321, 727, 633, 576, 276, 635, 323, 377, 720, 112, 679, 865, 225, 324, 706, 146, 517, 138, 833, 59, 342, 406, 816, 205, 207, 688, 571, 862, 637, 871, 118, 843, 647, 682, 356, 520, 930, 743, 267, 832, 319, 742, 552, 513, 605, 945, 687, 590, 389, 580, 916, 76, 548, 149, 547, 613, 610, 443, 154, 857, 541, 636, 455, 27, 525, 161, 676, 711, 680, 800, 607, 894, 632, 444, 330, 263, 257, 822, 660, 554, 37, 751, 417, 896, 946, 572, 134, 858, 116, 260, 244, 280, 848, 874, 99, 588, 421, 108, 935, 6, 327, 668, 275, 795, 528, 491, 698, 195, 85, 875, 591, 328, 618, 50, 157, 469, 141, 839, 889, 304, 904, 678, 490, 463, 359, 920, 63, 766, 185, 317, 776, 949, 379, 203, 818, 282, 75, 151, 558, 322, 519, 931, 640, 160, 468, 568, 139, 269, 410, 114, 556, 553, 341, 471, 646, 689, 699, 187, 5, 168, 268, 567, 757, 211, 48, 36, 805, 890, 844, 368, 21, 352, 440, 224, 77, 315, 583, 652, 26, 716, 120, 156, 215, 919, 130, 509, 347, 413, 175, 586, 614, 834, 923, 532, 815, 325, 436, 510, 117, 193, 51, 529, 702, 745, 407, 696, 439, 912, 484, 46, 899, 381]\n"
     ]
    }
   ],
   "source": [
    "vc = EstrategiaParticionado.ValidacionSimple(10, 5) \n",
    "vc.creaParticiones(dataset1.datos)\n",
    "\n",
    "for i in range(5):\n",
    "    print()\n",
    "    print(\"***Test***:\", vc.particiones[i].indicesTest)\n",
    "    print(\"***Train***:\", vc.particiones[i].indicesTrain)"
   ]
  },
  {
   "cell_type": "markdown",
   "metadata": {},
   "source": [
    "## 3.1 Validación cruzada\n",
    "En esta estrategia dividimos los datos en un número N de partes, la intención usar cada una de las N partes como test y a la vez usar el resto como training.\n",
    "La clase _ValidacionCruzada_ recibe como argumento en el constructor, el número de porciones que van ha haber en los datos.\n",
    "\n",
    "```py\n",
    "class ValidacionCruzada(EstrategiaParticionado):\n",
    "    \"\"\"Clase que define una estrategia de particionado,\n",
    "    en concreto, validación simple.\n",
    "    \"\"\"\n",
    "\n",
    "    def __init__(self, numeroParticiones):\n",
    "        \"\"\"Construcor.\n",
    "\n",
    "        Args:\n",
    "            numeroParticiones (int): Número de particiones de la validación cruzada.\n",
    "        \"\"\"\n",
    "        super().__init__()\n",
    "        self.numeroParticiones = numeroParticiones\n",
    "```\n",
    "Como se puede ver, simplemente en el constructor asignamos el valor de dicho atributo.\n",
    "Posteriormente se implementó el método _creaParticiones_.\n",
    "\n",
    "```py\n",
    "def creaParticiones(self,datos,seed=None):\n",
    "    random.seed(seed)\n",
    "    self.particiones = []\n",
    "    longitudDatos = np.shape(datos)[0]\n",
    "    longitudPorcion = int(longitudDatos/self.numeroParticiones)\n",
    "\n",
    "    lista_valores = [i for i in range(longitudDatos)]\n",
    "    random.shuffle(lista_valores)\n",
    "\n",
    "    for i in range(self.numeroParticiones):\n",
    "        self.particiones.append(Particion())\n",
    "\n",
    "        # Calculamos los indices del test\n",
    "        fromTest = i*longitudPorcion\n",
    "        toTest = fromTest + longitudPorcion\n",
    "\n",
    "        # Asignamos los indices\n",
    "        self.particiones[-1].indicesTest = lista_valores[fromTest:toTest]\n",
    "        self.particiones[-1].indicesTrain = [i for i in lista_valores if i not in self.particiones[-1].indicesTest]\n",
    "```\n",
    "Al igual que en el método de validación simple, creamos una lista con los valores de los indices en los datos, posteriormente permutamos dicha lista pero en este caso solo es necesario hacerlo una vez. En un bucle asignamos las particiones usando la lista permutada. Hay que tener en cuenta que la asignación de las porciones se hace moviendonos sobre la lista permutada. Por ejemplo, si tuviesemos 4 porciones de los datos los cuales tienen 10 filas, se crearía una lista con los números enteros del 0-9, después permutaríamos la lista y por último en cada iteración del bucle iríamos asignando 2 porciones a cada test.\n",
    "Iteración 1: Test - 2 primeros elementos de la lista permutada - Train - Resto.\n",
    "Iteración 2: Test - 3er y 4º elementos de la lista permutada - Train - Resto.\n",
    "...\n",
    "Se ejecutará un ejemplo aquí debajo."
   ]
  },
  {
   "cell_type": "code",
   "execution_count": 14,
   "metadata": {},
   "outputs": [
    {
     "name": "stdout",
     "output_type": "stream",
     "text": [
      "\n",
      "Test: [1, 2]\n",
      "Train: [5, 0, 7, 3, 6, 4]\n",
      "\n",
      "Test: [5, 0]\n",
      "Train: [1, 2, 7, 3, 6, 4]\n",
      "\n",
      "Test: [7, 3]\n",
      "Train: [1, 2, 5, 0, 6, 4]\n",
      "\n",
      "Test: [6, 4]\n",
      "Train: [1, 2, 5, 0, 7, 3]\n"
     ]
    }
   ],
   "source": [
    "datos = np.random.random((8, 2)) \n",
    "\n",
    "vc = EstrategiaParticionado.ValidacionCruzada(4)\n",
    "vc.creaParticiones(datos)\n",
    "      \n",
    "for i in range(4):\n",
    "    print()\n",
    "    print(\"Test:\", vc.particiones[i].indicesTest)\n",
    "    print(\"Train:\", vc.particiones[i].indicesTrain)"
   ]
  },
  {
   "cell_type": "markdown",
   "metadata": {},
   "source": [
    "Se puede apreciar que el array es el mismo, solo vamos asignando la porcion del test que le toca.\n",
    "\n",
    "Ahora se ejecutará lo mismo con el dataset de _tic-tac-toe_."
   ]
  },
  {
   "cell_type": "code",
   "execution_count": 15,
   "metadata": {},
   "outputs": [
    {
     "name": "stdout",
     "output_type": "stream",
     "text": [
      "\n",
      "***Test***: [576, 801, 932, 316, 523, 503, 54, 52, 894, 152, 565, 852, 649, 502, 751, 36, 318, 118, 389, 286, 590, 906, 46, 214, 48, 369, 17, 805, 81, 886, 256, 754, 255, 162, 440, 908, 491, 943, 726, 417, 514, 92, 104, 921, 934, 568, 832, 893, 744, 432, 619, 87, 861, 871, 232, 682, 313, 160, 77, 94, 375, 267, 441, 540, 930, 747, 282, 949, 425, 175, 479, 533, 299, 58, 825, 296, 114, 713, 88, 902, 287, 835, 431, 257, 602, 83, 720, 342, 384, 592, 211, 598, 404, 851, 71]\n",
      "***Train***: [189, 782, 772, 955, 944, 149, 458, 168, 504, 106, 61, 368, 795, 444, 888, 391, 790, 821, 191, 474, 824, 564, 612, 409, 155, 683, 919, 459, 829, 3, 714, 33, 899, 570, 210, 370, 454, 327, 319, 396, 142, 53, 551, 755, 797, 774, 778, 341, 625, 65, 680, 400, 822, 99, 511, 31, 823, 601, 216, 766, 246, 528, 96, 695, 317, 655, 748, 363, 631, 653, 79, 386, 496, 740, 237, 813, 415, 271, 911, 753, 656, 434, 374, 777, 261, 500, 784, 628, 882, 585, 849, 566, 684, 762, 70, 730, 807, 190, 567, 401, 885, 546, 306, 814, 230, 698, 942, 560, 674, 335, 679, 220, 737, 365, 343, 89, 607, 613, 634, 98, 868, 268, 723, 548, 262, 811, 709, 95, 264, 877, 863, 752, 791, 642, 451, 482, 836, 794, 552, 308, 449, 687, 289, 75, 844, 321, 147, 26, 163, 517, 538, 179, 633, 419, 91, 512, 703, 112, 298, 800, 847, 124, 789, 522, 333, 584, 593, 405, 218, 608, 702, 233, 111, 611, 579, 241, 509, 834, 757, 40, 516, 549, 787, 760, 86, 637, 229, 388, 662, 646, 947, 314, 623, 258, 421, 60, 890, 614, 635, 195, 403, 392, 397, 265, 526, 22, 587, 331, 788, 116, 340, 464, 80, 376, 826, 904, 199, 279, 250, 862, 139, 689, 672, 569, 773, 820, 525, 901, 889, 76, 284, 928, 29, 463, 855, 215, 741, 589, 18, 779, 561, 212, 734, 263, 235, 312, 661, 192, 478, 951, 537, 547, 733, 429, 380, 470, 497, 347, 686, 69, 708, 815, 135, 657, 694, 359, 334, 172, 278, 922, 442, 187, 912, 929, 792, 411, 563, 358, 706, 840, 615, 743, 848, 827, 605, 768, 244, 817, 272, 224, 247, 518, 903, 818, 480, 204, 948, 66, 28, 652, 697, 266, 742, 481, 869, 785, 129, 846, 345, 302, 305, 348, 238, 620, 416, 45, 845, 767, 499, 749, 221, 226, 539, 122, 97, 311, 843, 427, 27, 364, 905, 4, 164, 489, 181, 471, 290, 399, 351, 506, 439, 725, 408, 783, 876, 957, 329, 207, 131, 830, 373, 13, 640, 892, 939, 269, 337, 82, 206, 435, 336, 736, 469, 643, 756, 630, 543, 693, 144, 414, 671, 622, 660, 759, 746, 524, 895, 130, 141, 555, 510, 950, 664, 914, 362, 67, 582, 291, 952, 15, 275, 217, 599, 188, 488, 339, 728, 143, 357, 875, 193, 898, 700, 422, 420, 203, 276, 541, 610, 223, 200, 692, 917, 519, 57, 927, 696, 383, 249, 328, 507, 796, 14, 872, 354, 536, 617, 371, 5, 580, 891, 9, 161, 360, 156, 880, 806, 638, 120, 626, 20, 685, 157, 667, 84, 550, 473, 688, 654, 201, 776, 307, 236, 926, 809, 47, 182, 150, 920, 515, 117, 910, 325, 151, 295, 604, 562, 732, 650, 11, 176, 508, 222, 101, 719, 346, 856, 433, 239, 712, 138, 227, 240, 108, 390, 23, 544, 395, 356, 137, 202, 119, 475, 799, 769, 21, 554, 293, 44, 462, 647, 775, 494, 146, 798, 171, 184, 165, 252, 326, 490, 704, 136, 445, 557, 837, 209, 372, 248, 461, 627, 121, 30, 670, 666, 320, 663, 624, 765, 841, 283, 128, 583, 559, 594, 43, 294, 73, 85, 367, 280, 866, 658, 10, 618, 125, 641, 350, 956, 39, 304, 529, 677, 62, 786, 437, 177, 394, 132, 606, 105, 867, 446, 72, 413, 63, 887, 873, 648, 49, 379, 154, 8, 323, 636, 270, 495, 186, 448, 644, 387, 819, 59, 472, 527, 12, 745, 532, 553, 303, 423, 669, 828, 718, 717, 701, 808, 102, 37, 466, 513, 833, 213, 174, 771, 167, 572, 858, 361, 802, 804, 878, 352, 668, 93, 839, 477, 493, 234, 41, 245, 722, 883, 166, 208, 381, 946, 924, 810, 90, 707, 178, 242, 349, 25, 764, 378, 274, 19, 860, 705, 465, 936, 770, 542, 675, 292, 616, 310, 900, 443, 50, 56, 64, 884, 78, 531, 711, 467, 183, 309, 850, 484, 107, 113, 100, 453, 591, 588, 597, 816, 933, 243, 366, 301, 721, 281, 455, 937, 353, 74, 402, 285, 940, 412, 729, 24, 315, 609, 651, 225, 145, 665, 763, 738, 735, 938, 935, 127, 864, 170, 486, 450, 954, 681, 780, 793, 468, 55, 297, 842, 16, 148, 781, 571, 907, 159, 505, 259, 715, 639, 452, 573, 574, 534, 460, 126, 595, 196, 731, 520, 228, 42, 915, 621, 530, 109, 288, 879, 909, 535, 254, 803, 32, 945, 874, 457, 699, 198, 485, 941, 338, 603, 219, 406, 173, 859, 410, 498, 0, 710, 678, 426, 322, 577, 38, 273, 430, 140, 355, 231, 324, 838, 492, 918, 68, 558, 925, 428, 51, 393, 600, 758, 115, 487, 545, 881, 153, 676, 447, 750, 581, 854, 382, 931, 578, 7, 332, 761, 865, 197, 456, 575, 897, 185, 953, 521, 857, 251, 916, 923, 398, 377, 169, 913, 476, 110, 123, 35, 586, 556, 424, 632, 418, 831, 180, 436, 596, 260, 205, 501, 158, 739, 870, 483, 277, 344, 34, 2, 134, 896, 6, 727, 659, 724, 853, 629, 812, 300, 194, 690, 407, 716, 438, 673, 253, 691, 103, 133, 385, 1, 330, 645]\n",
      "\n",
      "***Test***: [189, 782, 772, 955, 944, 149, 458, 168, 504, 106, 61, 368, 795, 444, 888, 391, 790, 821, 191, 474, 824, 564, 612, 409, 155, 683, 919, 459, 829, 3, 714, 33, 899, 570, 210, 370, 454, 327, 319, 396, 142, 53, 551, 755, 797, 774, 778, 341, 625, 65, 680, 400, 822, 99, 511, 31, 823, 601, 216, 766, 246, 528, 96, 695, 317, 655, 748, 363, 631, 653, 79, 386, 496, 740, 237, 813, 415, 271, 911, 753, 656, 434, 374, 777, 261, 500, 784, 628, 882, 585, 849, 566, 684, 762, 70]\n",
      "***Train***: [576, 801, 932, 316, 523, 503, 54, 52, 894, 152, 565, 852, 649, 502, 751, 36, 318, 118, 389, 286, 590, 906, 46, 214, 48, 369, 17, 805, 81, 886, 256, 754, 255, 162, 440, 908, 491, 943, 726, 417, 514, 92, 104, 921, 934, 568, 832, 893, 744, 432, 619, 87, 861, 871, 232, 682, 313, 160, 77, 94, 375, 267, 441, 540, 930, 747, 282, 949, 425, 175, 479, 533, 299, 58, 825, 296, 114, 713, 88, 902, 287, 835, 431, 257, 602, 83, 720, 342, 384, 592, 211, 598, 404, 851, 71, 730, 807, 190, 567, 401, 885, 546, 306, 814, 230, 698, 942, 560, 674, 335, 679, 220, 737, 365, 343, 89, 607, 613, 634, 98, 868, 268, 723, 548, 262, 811, 709, 95, 264, 877, 863, 752, 791, 642, 451, 482, 836, 794, 552, 308, 449, 687, 289, 75, 844, 321, 147, 26, 163, 517, 538, 179, 633, 419, 91, 512, 703, 112, 298, 800, 847, 124, 789, 522, 333, 584, 593, 405, 218, 608, 702, 233, 111, 611, 579, 241, 509, 834, 757, 40, 516, 549, 787, 760, 86, 637, 229, 388, 662, 646, 947, 314, 623, 258, 421, 60, 890, 614, 635, 195, 403, 392, 397, 265, 526, 22, 587, 331, 788, 116, 340, 464, 80, 376, 826, 904, 199, 279, 250, 862, 139, 689, 672, 569, 773, 820, 525, 901, 889, 76, 284, 928, 29, 463, 855, 215, 741, 589, 18, 779, 561, 212, 734, 263, 235, 312, 661, 192, 478, 951, 537, 547, 733, 429, 380, 470, 497, 347, 686, 69, 708, 815, 135, 657, 694, 359, 334, 172, 278, 922, 442, 187, 912, 929, 792, 411, 563, 358, 706, 840, 615, 743, 848, 827, 605, 768, 244, 817, 272, 224, 247, 518, 903, 818, 480, 204, 948, 66, 28, 652, 697, 266, 742, 481, 869, 785, 129, 846, 345, 302, 305, 348, 238, 620, 416, 45, 845, 767, 499, 749, 221, 226, 539, 122, 97, 311, 843, 427, 27, 364, 905, 4, 164, 489, 181, 471, 290, 399, 351, 506, 439, 725, 408, 783, 876, 957, 329, 207, 131, 830, 373, 13, 640, 892, 939, 269, 337, 82, 206, 435, 336, 736, 469, 643, 756, 630, 543, 693, 144, 414, 671, 622, 660, 759, 746, 524, 895, 130, 141, 555, 510, 950, 664, 914, 362, 67, 582, 291, 952, 15, 275, 217, 599, 188, 488, 339, 728, 143, 357, 875, 193, 898, 700, 422, 420, 203, 276, 541, 610, 223, 200, 692, 917, 519, 57, 927, 696, 383, 249, 328, 507, 796, 14, 872, 354, 536, 617, 371, 5, 580, 891, 9, 161, 360, 156, 880, 806, 638, 120, 626, 20, 685, 157, 667, 84, 550, 473, 688, 654, 201, 776, 307, 236, 926, 809, 47, 182, 150, 920, 515, 117, 910, 325, 151, 295, 604, 562, 732, 650, 11, 176, 508, 222, 101, 719, 346, 856, 433, 239, 712, 138, 227, 240, 108, 390, 23, 544, 395, 356, 137, 202, 119, 475, 799, 769, 21, 554, 293, 44, 462, 647, 775, 494, 146, 798, 171, 184, 165, 252, 326, 490, 704, 136, 445, 557, 837, 209, 372, 248, 461, 627, 121, 30, 670, 666, 320, 663, 624, 765, 841, 283, 128, 583, 559, 594, 43, 294, 73, 85, 367, 280, 866, 658, 10, 618, 125, 641, 350, 956, 39, 304, 529, 677, 62, 786, 437, 177, 394, 132, 606, 105, 867, 446, 72, 413, 63, 887, 873, 648, 49, 379, 154, 8, 323, 636, 270, 495, 186, 448, 644, 387, 819, 59, 472, 527, 12, 745, 532, 553, 303, 423, 669, 828, 718, 717, 701, 808, 102, 37, 466, 513, 833, 213, 174, 771, 167, 572, 858, 361, 802, 804, 878, 352, 668, 93, 839, 477, 493, 234, 41, 245, 722, 883, 166, 208, 381, 946, 924, 810, 90, 707, 178, 242, 349, 25, 764, 378, 274, 19, 860, 705, 465, 936, 770, 542, 675, 292, 616, 310, 900, 443, 50, 56, 64, 884, 78, 531, 711, 467, 183, 309, 850, 484, 107, 113, 100, 453, 591, 588, 597, 816, 933, 243, 366, 301, 721, 281, 455, 937, 353, 74, 402, 285, 940, 412, 729, 24, 315, 609, 651, 225, 145, 665, 763, 738, 735, 938, 935, 127, 864, 170, 486, 450, 954, 681, 780, 793, 468, 55, 297, 842, 16, 148, 781, 571, 907, 159, 505, 259, 715, 639, 452, 573, 574, 534, 460, 126, 595, 196, 731, 520, 228, 42, 915, 621, 530, 109, 288, 879, 909, 535, 254, 803, 32, 945, 874, 457, 699, 198, 485, 941, 338, 603, 219, 406, 173, 859, 410, 498, 0, 710, 678, 426, 322, 577, 38, 273, 430, 140, 355, 231, 324, 838, 492, 918, 68, 558, 925, 428, 51, 393, 600, 758, 115, 487, 545, 881, 153, 676, 447, 750, 581, 854, 382, 931, 578, 7, 332, 761, 865, 197, 456, 575, 897, 185, 953, 521, 857, 251, 916, 923, 398, 377, 169, 913, 476, 110, 123, 35, 586, 556, 424, 632, 418, 831, 180, 436, 596, 260, 205, 501, 158, 739, 870, 483, 277, 344, 34, 2, 134, 896, 6, 727, 659, 724, 853, 629, 812, 300, 194, 690, 407, 716, 438, 673, 253, 691, 103, 133, 385, 1, 330, 645]\n",
      "\n",
      "***Test***: [730, 807, 190, 567, 401, 885, 546, 306, 814, 230, 698, 942, 560, 674, 335, 679, 220, 737, 365, 343, 89, 607, 613, 634, 98, 868, 268, 723, 548, 262, 811, 709, 95, 264, 877, 863, 752, 791, 642, 451, 482, 836, 794, 552, 308, 449, 687, 289, 75, 844, 321, 147, 26, 163, 517, 538, 179, 633, 419, 91, 512, 703, 112, 298, 800, 847, 124, 789, 522, 333, 584, 593, 405, 218, 608, 702, 233, 111, 611, 579, 241, 509, 834, 757, 40, 516, 549, 787, 760, 86, 637, 229, 388, 662, 646]\n",
      "***Train***: [576, 801, 932, 316, 523, 503, 54, 52, 894, 152, 565, 852, 649, 502, 751, 36, 318, 118, 389, 286, 590, 906, 46, 214, 48, 369, 17, 805, 81, 886, 256, 754, 255, 162, 440, 908, 491, 943, 726, 417, 514, 92, 104, 921, 934, 568, 832, 893, 744, 432, 619, 87, 861, 871, 232, 682, 313, 160, 77, 94, 375, 267, 441, 540, 930, 747, 282, 949, 425, 175, 479, 533, 299, 58, 825, 296, 114, 713, 88, 902, 287, 835, 431, 257, 602, 83, 720, 342, 384, 592, 211, 598, 404, 851, 71, 189, 782, 772, 955, 944, 149, 458, 168, 504, 106, 61, 368, 795, 444, 888, 391, 790, 821, 191, 474, 824, 564, 612, 409, 155, 683, 919, 459, 829, 3, 714, 33, 899, 570, 210, 370, 454, 327, 319, 396, 142, 53, 551, 755, 797, 774, 778, 341, 625, 65, 680, 400, 822, 99, 511, 31, 823, 601, 216, 766, 246, 528, 96, 695, 317, 655, 748, 363, 631, 653, 79, 386, 496, 740, 237, 813, 415, 271, 911, 753, 656, 434, 374, 777, 261, 500, 784, 628, 882, 585, 849, 566, 684, 762, 70, 947, 314, 623, 258, 421, 60, 890, 614, 635, 195, 403, 392, 397, 265, 526, 22, 587, 331, 788, 116, 340, 464, 80, 376, 826, 904, 199, 279, 250, 862, 139, 689, 672, 569, 773, 820, 525, 901, 889, 76, 284, 928, 29, 463, 855, 215, 741, 589, 18, 779, 561, 212, 734, 263, 235, 312, 661, 192, 478, 951, 537, 547, 733, 429, 380, 470, 497, 347, 686, 69, 708, 815, 135, 657, 694, 359, 334, 172, 278, 922, 442, 187, 912, 929, 792, 411, 563, 358, 706, 840, 615, 743, 848, 827, 605, 768, 244, 817, 272, 224, 247, 518, 903, 818, 480, 204, 948, 66, 28, 652, 697, 266, 742, 481, 869, 785, 129, 846, 345, 302, 305, 348, 238, 620, 416, 45, 845, 767, 499, 749, 221, 226, 539, 122, 97, 311, 843, 427, 27, 364, 905, 4, 164, 489, 181, 471, 290, 399, 351, 506, 439, 725, 408, 783, 876, 957, 329, 207, 131, 830, 373, 13, 640, 892, 939, 269, 337, 82, 206, 435, 336, 736, 469, 643, 756, 630, 543, 693, 144, 414, 671, 622, 660, 759, 746, 524, 895, 130, 141, 555, 510, 950, 664, 914, 362, 67, 582, 291, 952, 15, 275, 217, 599, 188, 488, 339, 728, 143, 357, 875, 193, 898, 700, 422, 420, 203, 276, 541, 610, 223, 200, 692, 917, 519, 57, 927, 696, 383, 249, 328, 507, 796, 14, 872, 354, 536, 617, 371, 5, 580, 891, 9, 161, 360, 156, 880, 806, 638, 120, 626, 20, 685, 157, 667, 84, 550, 473, 688, 654, 201, 776, 307, 236, 926, 809, 47, 182, 150, 920, 515, 117, 910, 325, 151, 295, 604, 562, 732, 650, 11, 176, 508, 222, 101, 719, 346, 856, 433, 239, 712, 138, 227, 240, 108, 390, 23, 544, 395, 356, 137, 202, 119, 475, 799, 769, 21, 554, 293, 44, 462, 647, 775, 494, 146, 798, 171, 184, 165, 252, 326, 490, 704, 136, 445, 557, 837, 209, 372, 248, 461, 627, 121, 30, 670, 666, 320, 663, 624, 765, 841, 283, 128, 583, 559, 594, 43, 294, 73, 85, 367, 280, 866, 658, 10, 618, 125, 641, 350, 956, 39, 304, 529, 677, 62, 786, 437, 177, 394, 132, 606, 105, 867, 446, 72, 413, 63, 887, 873, 648, 49, 379, 154, 8, 323, 636, 270, 495, 186, 448, 644, 387, 819, 59, 472, 527, 12, 745, 532, 553, 303, 423, 669, 828, 718, 717, 701, 808, 102, 37, 466, 513, 833, 213, 174, 771, 167, 572, 858, 361, 802, 804, 878, 352, 668, 93, 839, 477, 493, 234, 41, 245, 722, 883, 166, 208, 381, 946, 924, 810, 90, 707, 178, 242, 349, 25, 764, 378, 274, 19, 860, 705, 465, 936, 770, 542, 675, 292, 616, 310, 900, 443, 50, 56, 64, 884, 78, 531, 711, 467, 183, 309, 850, 484, 107, 113, 100, 453, 591, 588, 597, 816, 933, 243, 366, 301, 721, 281, 455, 937, 353, 74, 402, 285, 940, 412, 729, 24, 315, 609, 651, 225, 145, 665, 763, 738, 735, 938, 935, 127, 864, 170, 486, 450, 954, 681, 780, 793, 468, 55, 297, 842, 16, 148, 781, 571, 907, 159, 505, 259, 715, 639, 452, 573, 574, 534, 460, 126, 595, 196, 731, 520, 228, 42, 915, 621, 530, 109, 288, 879, 909, 535, 254, 803, 32, 945, 874, 457, 699, 198, 485, 941, 338, 603, 219, 406, 173, 859, 410, 498, 0, 710, 678, 426, 322, 577, 38, 273, 430, 140, 355, 231, 324, 838, 492, 918, 68, 558, 925, 428, 51, 393, 600, 758, 115, 487, 545, 881, 153, 676, 447, 750, 581, 854, 382, 931, 578, 7, 332, 761, 865, 197, 456, 575, 897, 185, 953, 521, 857, 251, 916, 923, 398, 377, 169, 913, 476, 110, 123, 35, 586, 556, 424, 632, 418, 831, 180, 436, 596, 260, 205, 501, 158, 739, 870, 483, 277, 344, 34, 2, 134, 896, 6, 727, 659, 724, 853, 629, 812, 300, 194, 690, 407, 716, 438, 673, 253, 691, 103, 133, 385, 1, 330, 645]\n",
      "\n",
      "***Test***: [947, 314, 623, 258, 421, 60, 890, 614, 635, 195, 403, 392, 397, 265, 526, 22, 587, 331, 788, 116, 340, 464, 80, 376, 826, 904, 199, 279, 250, 862, 139, 689, 672, 569, 773, 820, 525, 901, 889, 76, 284, 928, 29, 463, 855, 215, 741, 589, 18, 779, 561, 212, 734, 263, 235, 312, 661, 192, 478, 951, 537, 547, 733, 429, 380, 470, 497, 347, 686, 69, 708, 815, 135, 657, 694, 359, 334, 172, 278, 922, 442, 187, 912, 929, 792, 411, 563, 358, 706, 840, 615, 743, 848, 827, 605]\n",
      "***Train***: [576, 801, 932, 316, 523, 503, 54, 52, 894, 152, 565, 852, 649, 502, 751, 36, 318, 118, 389, 286, 590, 906, 46, 214, 48, 369, 17, 805, 81, 886, 256, 754, 255, 162, 440, 908, 491, 943, 726, 417, 514, 92, 104, 921, 934, 568, 832, 893, 744, 432, 619, 87, 861, 871, 232, 682, 313, 160, 77, 94, 375, 267, 441, 540, 930, 747, 282, 949, 425, 175, 479, 533, 299, 58, 825, 296, 114, 713, 88, 902, 287, 835, 431, 257, 602, 83, 720, 342, 384, 592, 211, 598, 404, 851, 71, 189, 782, 772, 955, 944, 149, 458, 168, 504, 106, 61, 368, 795, 444, 888, 391, 790, 821, 191, 474, 824, 564, 612, 409, 155, 683, 919, 459, 829, 3, 714, 33, 899, 570, 210, 370, 454, 327, 319, 396, 142, 53, 551, 755, 797, 774, 778, 341, 625, 65, 680, 400, 822, 99, 511, 31, 823, 601, 216, 766, 246, 528, 96, 695, 317, 655, 748, 363, 631, 653, 79, 386, 496, 740, 237, 813, 415, 271, 911, 753, 656, 434, 374, 777, 261, 500, 784, 628, 882, 585, 849, 566, 684, 762, 70, 730, 807, 190, 567, 401, 885, 546, 306, 814, 230, 698, 942, 560, 674, 335, 679, 220, 737, 365, 343, 89, 607, 613, 634, 98, 868, 268, 723, 548, 262, 811, 709, 95, 264, 877, 863, 752, 791, 642, 451, 482, 836, 794, 552, 308, 449, 687, 289, 75, 844, 321, 147, 26, 163, 517, 538, 179, 633, 419, 91, 512, 703, 112, 298, 800, 847, 124, 789, 522, 333, 584, 593, 405, 218, 608, 702, 233, 111, 611, 579, 241, 509, 834, 757, 40, 516, 549, 787, 760, 86, 637, 229, 388, 662, 646, 768, 244, 817, 272, 224, 247, 518, 903, 818, 480, 204, 948, 66, 28, 652, 697, 266, 742, 481, 869, 785, 129, 846, 345, 302, 305, 348, 238, 620, 416, 45, 845, 767, 499, 749, 221, 226, 539, 122, 97, 311, 843, 427, 27, 364, 905, 4, 164, 489, 181, 471, 290, 399, 351, 506, 439, 725, 408, 783, 876, 957, 329, 207, 131, 830, 373, 13, 640, 892, 939, 269, 337, 82, 206, 435, 336, 736, 469, 643, 756, 630, 543, 693, 144, 414, 671, 622, 660, 759, 746, 524, 895, 130, 141, 555, 510, 950, 664, 914, 362, 67, 582, 291, 952, 15, 275, 217, 599, 188, 488, 339, 728, 143, 357, 875, 193, 898, 700, 422, 420, 203, 276, 541, 610, 223, 200, 692, 917, 519, 57, 927, 696, 383, 249, 328, 507, 796, 14, 872, 354, 536, 617, 371, 5, 580, 891, 9, 161, 360, 156, 880, 806, 638, 120, 626, 20, 685, 157, 667, 84, 550, 473, 688, 654, 201, 776, 307, 236, 926, 809, 47, 182, 150, 920, 515, 117, 910, 325, 151, 295, 604, 562, 732, 650, 11, 176, 508, 222, 101, 719, 346, 856, 433, 239, 712, 138, 227, 240, 108, 390, 23, 544, 395, 356, 137, 202, 119, 475, 799, 769, 21, 554, 293, 44, 462, 647, 775, 494, 146, 798, 171, 184, 165, 252, 326, 490, 704, 136, 445, 557, 837, 209, 372, 248, 461, 627, 121, 30, 670, 666, 320, 663, 624, 765, 841, 283, 128, 583, 559, 594, 43, 294, 73, 85, 367, 280, 866, 658, 10, 618, 125, 641, 350, 956, 39, 304, 529, 677, 62, 786, 437, 177, 394, 132, 606, 105, 867, 446, 72, 413, 63, 887, 873, 648, 49, 379, 154, 8, 323, 636, 270, 495, 186, 448, 644, 387, 819, 59, 472, 527, 12, 745, 532, 553, 303, 423, 669, 828, 718, 717, 701, 808, 102, 37, 466, 513, 833, 213, 174, 771, 167, 572, 858, 361, 802, 804, 878, 352, 668, 93, 839, 477, 493, 234, 41, 245, 722, 883, 166, 208, 381, 946, 924, 810, 90, 707, 178, 242, 349, 25, 764, 378, 274, 19, 860, 705, 465, 936, 770, 542, 675, 292, 616, 310, 900, 443, 50, 56, 64, 884, 78, 531, 711, 467, 183, 309, 850, 484, 107, 113, 100, 453, 591, 588, 597, 816, 933, 243, 366, 301, 721, 281, 455, 937, 353, 74, 402, 285, 940, 412, 729, 24, 315, 609, 651, 225, 145, 665, 763, 738, 735, 938, 935, 127, 864, 170, 486, 450, 954, 681, 780, 793, 468, 55, 297, 842, 16, 148, 781, 571, 907, 159, 505, 259, 715, 639, 452, 573, 574, 534, 460, 126, 595, 196, 731, 520, 228, 42, 915, 621, 530, 109, 288, 879, 909, 535, 254, 803, 32, 945, 874, 457, 699, 198, 485, 941, 338, 603, 219, 406, 173, 859, 410, 498, 0, 710, 678, 426, 322, 577, 38, 273, 430, 140, 355, 231, 324, 838, 492, 918, 68, 558, 925, 428, 51, 393, 600, 758, 115, 487, 545, 881, 153, 676, 447, 750, 581, 854, 382, 931, 578, 7, 332, 761, 865, 197, 456, 575, 897, 185, 953, 521, 857, 251, 916, 923, 398, 377, 169, 913, 476, 110, 123, 35, 586, 556, 424, 632, 418, 831, 180, 436, 596, 260, 205, 501, 158, 739, 870, 483, 277, 344, 34, 2, 134, 896, 6, 727, 659, 724, 853, 629, 812, 300, 194, 690, 407, 716, 438, 673, 253, 691, 103, 133, 385, 1, 330, 645]\n",
      "\n",
      "***Test***: [768, 244, 817, 272, 224, 247, 518, 903, 818, 480, 204, 948, 66, 28, 652, 697, 266, 742, 481, 869, 785, 129, 846, 345, 302, 305, 348, 238, 620, 416, 45, 845, 767, 499, 749, 221, 226, 539, 122, 97, 311, 843, 427, 27, 364, 905, 4, 164, 489, 181, 471, 290, 399, 351, 506, 439, 725, 408, 783, 876, 957, 329, 207, 131, 830, 373, 13, 640, 892, 939, 269, 337, 82, 206, 435, 336, 736, 469, 643, 756, 630, 543, 693, 144, 414, 671, 622, 660, 759, 746, 524, 895, 130, 141, 555]\n",
      "***Train***: [576, 801, 932, 316, 523, 503, 54, 52, 894, 152, 565, 852, 649, 502, 751, 36, 318, 118, 389, 286, 590, 906, 46, 214, 48, 369, 17, 805, 81, 886, 256, 754, 255, 162, 440, 908, 491, 943, 726, 417, 514, 92, 104, 921, 934, 568, 832, 893, 744, 432, 619, 87, 861, 871, 232, 682, 313, 160, 77, 94, 375, 267, 441, 540, 930, 747, 282, 949, 425, 175, 479, 533, 299, 58, 825, 296, 114, 713, 88, 902, 287, 835, 431, 257, 602, 83, 720, 342, 384, 592, 211, 598, 404, 851, 71, 189, 782, 772, 955, 944, 149, 458, 168, 504, 106, 61, 368, 795, 444, 888, 391, 790, 821, 191, 474, 824, 564, 612, 409, 155, 683, 919, 459, 829, 3, 714, 33, 899, 570, 210, 370, 454, 327, 319, 396, 142, 53, 551, 755, 797, 774, 778, 341, 625, 65, 680, 400, 822, 99, 511, 31, 823, 601, 216, 766, 246, 528, 96, 695, 317, 655, 748, 363, 631, 653, 79, 386, 496, 740, 237, 813, 415, 271, 911, 753, 656, 434, 374, 777, 261, 500, 784, 628, 882, 585, 849, 566, 684, 762, 70, 730, 807, 190, 567, 401, 885, 546, 306, 814, 230, 698, 942, 560, 674, 335, 679, 220, 737, 365, 343, 89, 607, 613, 634, 98, 868, 268, 723, 548, 262, 811, 709, 95, 264, 877, 863, 752, 791, 642, 451, 482, 836, 794, 552, 308, 449, 687, 289, 75, 844, 321, 147, 26, 163, 517, 538, 179, 633, 419, 91, 512, 703, 112, 298, 800, 847, 124, 789, 522, 333, 584, 593, 405, 218, 608, 702, 233, 111, 611, 579, 241, 509, 834, 757, 40, 516, 549, 787, 760, 86, 637, 229, 388, 662, 646, 947, 314, 623, 258, 421, 60, 890, 614, 635, 195, 403, 392, 397, 265, 526, 22, 587, 331, 788, 116, 340, 464, 80, 376, 826, 904, 199, 279, 250, 862, 139, 689, 672, 569, 773, 820, 525, 901, 889, 76, 284, 928, 29, 463, 855, 215, 741, 589, 18, 779, 561, 212, 734, 263, 235, 312, 661, 192, 478, 951, 537, 547, 733, 429, 380, 470, 497, 347, 686, 69, 708, 815, 135, 657, 694, 359, 334, 172, 278, 922, 442, 187, 912, 929, 792, 411, 563, 358, 706, 840, 615, 743, 848, 827, 605, 510, 950, 664, 914, 362, 67, 582, 291, 952, 15, 275, 217, 599, 188, 488, 339, 728, 143, 357, 875, 193, 898, 700, 422, 420, 203, 276, 541, 610, 223, 200, 692, 917, 519, 57, 927, 696, 383, 249, 328, 507, 796, 14, 872, 354, 536, 617, 371, 5, 580, 891, 9, 161, 360, 156, 880, 806, 638, 120, 626, 20, 685, 157, 667, 84, 550, 473, 688, 654, 201, 776, 307, 236, 926, 809, 47, 182, 150, 920, 515, 117, 910, 325, 151, 295, 604, 562, 732, 650, 11, 176, 508, 222, 101, 719, 346, 856, 433, 239, 712, 138, 227, 240, 108, 390, 23, 544, 395, 356, 137, 202, 119, 475, 799, 769, 21, 554, 293, 44, 462, 647, 775, 494, 146, 798, 171, 184, 165, 252, 326, 490, 704, 136, 445, 557, 837, 209, 372, 248, 461, 627, 121, 30, 670, 666, 320, 663, 624, 765, 841, 283, 128, 583, 559, 594, 43, 294, 73, 85, 367, 280, 866, 658, 10, 618, 125, 641, 350, 956, 39, 304, 529, 677, 62, 786, 437, 177, 394, 132, 606, 105, 867, 446, 72, 413, 63, 887, 873, 648, 49, 379, 154, 8, 323, 636, 270, 495, 186, 448, 644, 387, 819, 59, 472, 527, 12, 745, 532, 553, 303, 423, 669, 828, 718, 717, 701, 808, 102, 37, 466, 513, 833, 213, 174, 771, 167, 572, 858, 361, 802, 804, 878, 352, 668, 93, 839, 477, 493, 234, 41, 245, 722, 883, 166, 208, 381, 946, 924, 810, 90, 707, 178, 242, 349, 25, 764, 378, 274, 19, 860, 705, 465, 936, 770, 542, 675, 292, 616, 310, 900, 443, 50, 56, 64, 884, 78, 531, 711, 467, 183, 309, 850, 484, 107, 113, 100, 453, 591, 588, 597, 816, 933, 243, 366, 301, 721, 281, 455, 937, 353, 74, 402, 285, 940, 412, 729, 24, 315, 609, 651, 225, 145, 665, 763, 738, 735, 938, 935, 127, 864, 170, 486, 450, 954, 681, 780, 793, 468, 55, 297, 842, 16, 148, 781, 571, 907, 159, 505, 259, 715, 639, 452, 573, 574, 534, 460, 126, 595, 196, 731, 520, 228, 42, 915, 621, 530, 109, 288, 879, 909, 535, 254, 803, 32, 945, 874, 457, 699, 198, 485, 941, 338, 603, 219, 406, 173, 859, 410, 498, 0, 710, 678, 426, 322, 577, 38, 273, 430, 140, 355, 231, 324, 838, 492, 918, 68, 558, 925, 428, 51, 393, 600, 758, 115, 487, 545, 881, 153, 676, 447, 750, 581, 854, 382, 931, 578, 7, 332, 761, 865, 197, 456, 575, 897, 185, 953, 521, 857, 251, 916, 923, 398, 377, 169, 913, 476, 110, 123, 35, 586, 556, 424, 632, 418, 831, 180, 436, 596, 260, 205, 501, 158, 739, 870, 483, 277, 344, 34, 2, 134, 896, 6, 727, 659, 724, 853, 629, 812, 300, 194, 690, 407, 716, 438, 673, 253, 691, 103, 133, 385, 1, 330, 645]\n",
      "\n",
      "***Test***: [510, 950, 664, 914, 362, 67, 582, 291, 952, 15, 275, 217, 599, 188, 488, 339, 728, 143, 357, 875, 193, 898, 700, 422, 420, 203, 276, 541, 610, 223, 200, 692, 917, 519, 57, 927, 696, 383, 249, 328, 507, 796, 14, 872, 354, 536, 617, 371, 5, 580, 891, 9, 161, 360, 156, 880, 806, 638, 120, 626, 20, 685, 157, 667, 84, 550, 473, 688, 654, 201, 776, 307, 236, 926, 809, 47, 182, 150, 920, 515, 117, 910, 325, 151, 295, 604, 562, 732, 650, 11, 176, 508, 222, 101, 719]\n",
      "***Train***: [576, 801, 932, 316, 523, 503, 54, 52, 894, 152, 565, 852, 649, 502, 751, 36, 318, 118, 389, 286, 590, 906, 46, 214, 48, 369, 17, 805, 81, 886, 256, 754, 255, 162, 440, 908, 491, 943, 726, 417, 514, 92, 104, 921, 934, 568, 832, 893, 744, 432, 619, 87, 861, 871, 232, 682, 313, 160, 77, 94, 375, 267, 441, 540, 930, 747, 282, 949, 425, 175, 479, 533, 299, 58, 825, 296, 114, 713, 88, 902, 287, 835, 431, 257, 602, 83, 720, 342, 384, 592, 211, 598, 404, 851, 71, 189, 782, 772, 955, 944, 149, 458, 168, 504, 106, 61, 368, 795, 444, 888, 391, 790, 821, 191, 474, 824, 564, 612, 409, 155, 683, 919, 459, 829, 3, 714, 33, 899, 570, 210, 370, 454, 327, 319, 396, 142, 53, 551, 755, 797, 774, 778, 341, 625, 65, 680, 400, 822, 99, 511, 31, 823, 601, 216, 766, 246, 528, 96, 695, 317, 655, 748, 363, 631, 653, 79, 386, 496, 740, 237, 813, 415, 271, 911, 753, 656, 434, 374, 777, 261, 500, 784, 628, 882, 585, 849, 566, 684, 762, 70, 730, 807, 190, 567, 401, 885, 546, 306, 814, 230, 698, 942, 560, 674, 335, 679, 220, 737, 365, 343, 89, 607, 613, 634, 98, 868, 268, 723, 548, 262, 811, 709, 95, 264, 877, 863, 752, 791, 642, 451, 482, 836, 794, 552, 308, 449, 687, 289, 75, 844, 321, 147, 26, 163, 517, 538, 179, 633, 419, 91, 512, 703, 112, 298, 800, 847, 124, 789, 522, 333, 584, 593, 405, 218, 608, 702, 233, 111, 611, 579, 241, 509, 834, 757, 40, 516, 549, 787, 760, 86, 637, 229, 388, 662, 646, 947, 314, 623, 258, 421, 60, 890, 614, 635, 195, 403, 392, 397, 265, 526, 22, 587, 331, 788, 116, 340, 464, 80, 376, 826, 904, 199, 279, 250, 862, 139, 689, 672, 569, 773, 820, 525, 901, 889, 76, 284, 928, 29, 463, 855, 215, 741, 589, 18, 779, 561, 212, 734, 263, 235, 312, 661, 192, 478, 951, 537, 547, 733, 429, 380, 470, 497, 347, 686, 69, 708, 815, 135, 657, 694, 359, 334, 172, 278, 922, 442, 187, 912, 929, 792, 411, 563, 358, 706, 840, 615, 743, 848, 827, 605, 768, 244, 817, 272, 224, 247, 518, 903, 818, 480, 204, 948, 66, 28, 652, 697, 266, 742, 481, 869, 785, 129, 846, 345, 302, 305, 348, 238, 620, 416, 45, 845, 767, 499, 749, 221, 226, 539, 122, 97, 311, 843, 427, 27, 364, 905, 4, 164, 489, 181, 471, 290, 399, 351, 506, 439, 725, 408, 783, 876, 957, 329, 207, 131, 830, 373, 13, 640, 892, 939, 269, 337, 82, 206, 435, 336, 736, 469, 643, 756, 630, 543, 693, 144, 414, 671, 622, 660, 759, 746, 524, 895, 130, 141, 555, 346, 856, 433, 239, 712, 138, 227, 240, 108, 390, 23, 544, 395, 356, 137, 202, 119, 475, 799, 769, 21, 554, 293, 44, 462, 647, 775, 494, 146, 798, 171, 184, 165, 252, 326, 490, 704, 136, 445, 557, 837, 209, 372, 248, 461, 627, 121, 30, 670, 666, 320, 663, 624, 765, 841, 283, 128, 583, 559, 594, 43, 294, 73, 85, 367, 280, 866, 658, 10, 618, 125, 641, 350, 956, 39, 304, 529, 677, 62, 786, 437, 177, 394, 132, 606, 105, 867, 446, 72, 413, 63, 887, 873, 648, 49, 379, 154, 8, 323, 636, 270, 495, 186, 448, 644, 387, 819, 59, 472, 527, 12, 745, 532, 553, 303, 423, 669, 828, 718, 717, 701, 808, 102, 37, 466, 513, 833, 213, 174, 771, 167, 572, 858, 361, 802, 804, 878, 352, 668, 93, 839, 477, 493, 234, 41, 245, 722, 883, 166, 208, 381, 946, 924, 810, 90, 707, 178, 242, 349, 25, 764, 378, 274, 19, 860, 705, 465, 936, 770, 542, 675, 292, 616, 310, 900, 443, 50, 56, 64, 884, 78, 531, 711, 467, 183, 309, 850, 484, 107, 113, 100, 453, 591, 588, 597, 816, 933, 243, 366, 301, 721, 281, 455, 937, 353, 74, 402, 285, 940, 412, 729, 24, 315, 609, 651, 225, 145, 665, 763, 738, 735, 938, 935, 127, 864, 170, 486, 450, 954, 681, 780, 793, 468, 55, 297, 842, 16, 148, 781, 571, 907, 159, 505, 259, 715, 639, 452, 573, 574, 534, 460, 126, 595, 196, 731, 520, 228, 42, 915, 621, 530, 109, 288, 879, 909, 535, 254, 803, 32, 945, 874, 457, 699, 198, 485, 941, 338, 603, 219, 406, 173, 859, 410, 498, 0, 710, 678, 426, 322, 577, 38, 273, 430, 140, 355, 231, 324, 838, 492, 918, 68, 558, 925, 428, 51, 393, 600, 758, 115, 487, 545, 881, 153, 676, 447, 750, 581, 854, 382, 931, 578, 7, 332, 761, 865, 197, 456, 575, 897, 185, 953, 521, 857, 251, 916, 923, 398, 377, 169, 913, 476, 110, 123, 35, 586, 556, 424, 632, 418, 831, 180, 436, 596, 260, 205, 501, 158, 739, 870, 483, 277, 344, 34, 2, 134, 896, 6, 727, 659, 724, 853, 629, 812, 300, 194, 690, 407, 716, 438, 673, 253, 691, 103, 133, 385, 1, 330, 645]\n",
      "\n",
      "***Test***: [346, 856, 433, 239, 712, 138, 227, 240, 108, 390, 23, 544, 395, 356, 137, 202, 119, 475, 799, 769, 21, 554, 293, 44, 462, 647, 775, 494, 146, 798, 171, 184, 165, 252, 326, 490, 704, 136, 445, 557, 837, 209, 372, 248, 461, 627, 121, 30, 670, 666, 320, 663, 624, 765, 841, 283, 128, 583, 559, 594, 43, 294, 73, 85, 367, 280, 866, 658, 10, 618, 125, 641, 350, 956, 39, 304, 529, 677, 62, 786, 437, 177, 394, 132, 606, 105, 867, 446, 72, 413, 63, 887, 873, 648, 49]\n",
      "***Train***: [576, 801, 932, 316, 523, 503, 54, 52, 894, 152, 565, 852, 649, 502, 751, 36, 318, 118, 389, 286, 590, 906, 46, 214, 48, 369, 17, 805, 81, 886, 256, 754, 255, 162, 440, 908, 491, 943, 726, 417, 514, 92, 104, 921, 934, 568, 832, 893, 744, 432, 619, 87, 861, 871, 232, 682, 313, 160, 77, 94, 375, 267, 441, 540, 930, 747, 282, 949, 425, 175, 479, 533, 299, 58, 825, 296, 114, 713, 88, 902, 287, 835, 431, 257, 602, 83, 720, 342, 384, 592, 211, 598, 404, 851, 71, 189, 782, 772, 955, 944, 149, 458, 168, 504, 106, 61, 368, 795, 444, 888, 391, 790, 821, 191, 474, 824, 564, 612, 409, 155, 683, 919, 459, 829, 3, 714, 33, 899, 570, 210, 370, 454, 327, 319, 396, 142, 53, 551, 755, 797, 774, 778, 341, 625, 65, 680, 400, 822, 99, 511, 31, 823, 601, 216, 766, 246, 528, 96, 695, 317, 655, 748, 363, 631, 653, 79, 386, 496, 740, 237, 813, 415, 271, 911, 753, 656, 434, 374, 777, 261, 500, 784, 628, 882, 585, 849, 566, 684, 762, 70, 730, 807, 190, 567, 401, 885, 546, 306, 814, 230, 698, 942, 560, 674, 335, 679, 220, 737, 365, 343, 89, 607, 613, 634, 98, 868, 268, 723, 548, 262, 811, 709, 95, 264, 877, 863, 752, 791, 642, 451, 482, 836, 794, 552, 308, 449, 687, 289, 75, 844, 321, 147, 26, 163, 517, 538, 179, 633, 419, 91, 512, 703, 112, 298, 800, 847, 124, 789, 522, 333, 584, 593, 405, 218, 608, 702, 233, 111, 611, 579, 241, 509, 834, 757, 40, 516, 549, 787, 760, 86, 637, 229, 388, 662, 646, 947, 314, 623, 258, 421, 60, 890, 614, 635, 195, 403, 392, 397, 265, 526, 22, 587, 331, 788, 116, 340, 464, 80, 376, 826, 904, 199, 279, 250, 862, 139, 689, 672, 569, 773, 820, 525, 901, 889, 76, 284, 928, 29, 463, 855, 215, 741, 589, 18, 779, 561, 212, 734, 263, 235, 312, 661, 192, 478, 951, 537, 547, 733, 429, 380, 470, 497, 347, 686, 69, 708, 815, 135, 657, 694, 359, 334, 172, 278, 922, 442, 187, 912, 929, 792, 411, 563, 358, 706, 840, 615, 743, 848, 827, 605, 768, 244, 817, 272, 224, 247, 518, 903, 818, 480, 204, 948, 66, 28, 652, 697, 266, 742, 481, 869, 785, 129, 846, 345, 302, 305, 348, 238, 620, 416, 45, 845, 767, 499, 749, 221, 226, 539, 122, 97, 311, 843, 427, 27, 364, 905, 4, 164, 489, 181, 471, 290, 399, 351, 506, 439, 725, 408, 783, 876, 957, 329, 207, 131, 830, 373, 13, 640, 892, 939, 269, 337, 82, 206, 435, 336, 736, 469, 643, 756, 630, 543, 693, 144, 414, 671, 622, 660, 759, 746, 524, 895, 130, 141, 555, 510, 950, 664, 914, 362, 67, 582, 291, 952, 15, 275, 217, 599, 188, 488, 339, 728, 143, 357, 875, 193, 898, 700, 422, 420, 203, 276, 541, 610, 223, 200, 692, 917, 519, 57, 927, 696, 383, 249, 328, 507, 796, 14, 872, 354, 536, 617, 371, 5, 580, 891, 9, 161, 360, 156, 880, 806, 638, 120, 626, 20, 685, 157, 667, 84, 550, 473, 688, 654, 201, 776, 307, 236, 926, 809, 47, 182, 150, 920, 515, 117, 910, 325, 151, 295, 604, 562, 732, 650, 11, 176, 508, 222, 101, 719, 379, 154, 8, 323, 636, 270, 495, 186, 448, 644, 387, 819, 59, 472, 527, 12, 745, 532, 553, 303, 423, 669, 828, 718, 717, 701, 808, 102, 37, 466, 513, 833, 213, 174, 771, 167, 572, 858, 361, 802, 804, 878, 352, 668, 93, 839, 477, 493, 234, 41, 245, 722, 883, 166, 208, 381, 946, 924, 810, 90, 707, 178, 242, 349, 25, 764, 378, 274, 19, 860, 705, 465, 936, 770, 542, 675, 292, 616, 310, 900, 443, 50, 56, 64, 884, 78, 531, 711, 467, 183, 309, 850, 484, 107, 113, 100, 453, 591, 588, 597, 816, 933, 243, 366, 301, 721, 281, 455, 937, 353, 74, 402, 285, 940, 412, 729, 24, 315, 609, 651, 225, 145, 665, 763, 738, 735, 938, 935, 127, 864, 170, 486, 450, 954, 681, 780, 793, 468, 55, 297, 842, 16, 148, 781, 571, 907, 159, 505, 259, 715, 639, 452, 573, 574, 534, 460, 126, 595, 196, 731, 520, 228, 42, 915, 621, 530, 109, 288, 879, 909, 535, 254, 803, 32, 945, 874, 457, 699, 198, 485, 941, 338, 603, 219, 406, 173, 859, 410, 498, 0, 710, 678, 426, 322, 577, 38, 273, 430, 140, 355, 231, 324, 838, 492, 918, 68, 558, 925, 428, 51, 393, 600, 758, 115, 487, 545, 881, 153, 676, 447, 750, 581, 854, 382, 931, 578, 7, 332, 761, 865, 197, 456, 575, 897, 185, 953, 521, 857, 251, 916, 923, 398, 377, 169, 913, 476, 110, 123, 35, 586, 556, 424, 632, 418, 831, 180, 436, 596, 260, 205, 501, 158, 739, 870, 483, 277, 344, 34, 2, 134, 896, 6, 727, 659, 724, 853, 629, 812, 300, 194, 690, 407, 716, 438, 673, 253, 691, 103, 133, 385, 1, 330, 645]\n",
      "\n",
      "***Test***: [379, 154, 8, 323, 636, 270, 495, 186, 448, 644, 387, 819, 59, 472, 527, 12, 745, 532, 553, 303, 423, 669, 828, 718, 717, 701, 808, 102, 37, 466, 513, 833, 213, 174, 771, 167, 572, 858, 361, 802, 804, 878, 352, 668, 93, 839, 477, 493, 234, 41, 245, 722, 883, 166, 208, 381, 946, 924, 810, 90, 707, 178, 242, 349, 25, 764, 378, 274, 19, 860, 705, 465, 936, 770, 542, 675, 292, 616, 310, 900, 443, 50, 56, 64, 884, 78, 531, 711, 467, 183, 309, 850, 484, 107, 113]\n",
      "***Train***: [576, 801, 932, 316, 523, 503, 54, 52, 894, 152, 565, 852, 649, 502, 751, 36, 318, 118, 389, 286, 590, 906, 46, 214, 48, 369, 17, 805, 81, 886, 256, 754, 255, 162, 440, 908, 491, 943, 726, 417, 514, 92, 104, 921, 934, 568, 832, 893, 744, 432, 619, 87, 861, 871, 232, 682, 313, 160, 77, 94, 375, 267, 441, 540, 930, 747, 282, 949, 425, 175, 479, 533, 299, 58, 825, 296, 114, 713, 88, 902, 287, 835, 431, 257, 602, 83, 720, 342, 384, 592, 211, 598, 404, 851, 71, 189, 782, 772, 955, 944, 149, 458, 168, 504, 106, 61, 368, 795, 444, 888, 391, 790, 821, 191, 474, 824, 564, 612, 409, 155, 683, 919, 459, 829, 3, 714, 33, 899, 570, 210, 370, 454, 327, 319, 396, 142, 53, 551, 755, 797, 774, 778, 341, 625, 65, 680, 400, 822, 99, 511, 31, 823, 601, 216, 766, 246, 528, 96, 695, 317, 655, 748, 363, 631, 653, 79, 386, 496, 740, 237, 813, 415, 271, 911, 753, 656, 434, 374, 777, 261, 500, 784, 628, 882, 585, 849, 566, 684, 762, 70, 730, 807, 190, 567, 401, 885, 546, 306, 814, 230, 698, 942, 560, 674, 335, 679, 220, 737, 365, 343, 89, 607, 613, 634, 98, 868, 268, 723, 548, 262, 811, 709, 95, 264, 877, 863, 752, 791, 642, 451, 482, 836, 794, 552, 308, 449, 687, 289, 75, 844, 321, 147, 26, 163, 517, 538, 179, 633, 419, 91, 512, 703, 112, 298, 800, 847, 124, 789, 522, 333, 584, 593, 405, 218, 608, 702, 233, 111, 611, 579, 241, 509, 834, 757, 40, 516, 549, 787, 760, 86, 637, 229, 388, 662, 646, 947, 314, 623, 258, 421, 60, 890, 614, 635, 195, 403, 392, 397, 265, 526, 22, 587, 331, 788, 116, 340, 464, 80, 376, 826, 904, 199, 279, 250, 862, 139, 689, 672, 569, 773, 820, 525, 901, 889, 76, 284, 928, 29, 463, 855, 215, 741, 589, 18, 779, 561, 212, 734, 263, 235, 312, 661, 192, 478, 951, 537, 547, 733, 429, 380, 470, 497, 347, 686, 69, 708, 815, 135, 657, 694, 359, 334, 172, 278, 922, 442, 187, 912, 929, 792, 411, 563, 358, 706, 840, 615, 743, 848, 827, 605, 768, 244, 817, 272, 224, 247, 518, 903, 818, 480, 204, 948, 66, 28, 652, 697, 266, 742, 481, 869, 785, 129, 846, 345, 302, 305, 348, 238, 620, 416, 45, 845, 767, 499, 749, 221, 226, 539, 122, 97, 311, 843, 427, 27, 364, 905, 4, 164, 489, 181, 471, 290, 399, 351, 506, 439, 725, 408, 783, 876, 957, 329, 207, 131, 830, 373, 13, 640, 892, 939, 269, 337, 82, 206, 435, 336, 736, 469, 643, 756, 630, 543, 693, 144, 414, 671, 622, 660, 759, 746, 524, 895, 130, 141, 555, 510, 950, 664, 914, 362, 67, 582, 291, 952, 15, 275, 217, 599, 188, 488, 339, 728, 143, 357, 875, 193, 898, 700, 422, 420, 203, 276, 541, 610, 223, 200, 692, 917, 519, 57, 927, 696, 383, 249, 328, 507, 796, 14, 872, 354, 536, 617, 371, 5, 580, 891, 9, 161, 360, 156, 880, 806, 638, 120, 626, 20, 685, 157, 667, 84, 550, 473, 688, 654, 201, 776, 307, 236, 926, 809, 47, 182, 150, 920, 515, 117, 910, 325, 151, 295, 604, 562, 732, 650, 11, 176, 508, 222, 101, 719, 346, 856, 433, 239, 712, 138, 227, 240, 108, 390, 23, 544, 395, 356, 137, 202, 119, 475, 799, 769, 21, 554, 293, 44, 462, 647, 775, 494, 146, 798, 171, 184, 165, 252, 326, 490, 704, 136, 445, 557, 837, 209, 372, 248, 461, 627, 121, 30, 670, 666, 320, 663, 624, 765, 841, 283, 128, 583, 559, 594, 43, 294, 73, 85, 367, 280, 866, 658, 10, 618, 125, 641, 350, 956, 39, 304, 529, 677, 62, 786, 437, 177, 394, 132, 606, 105, 867, 446, 72, 413, 63, 887, 873, 648, 49, 100, 453, 591, 588, 597, 816, 933, 243, 366, 301, 721, 281, 455, 937, 353, 74, 402, 285, 940, 412, 729, 24, 315, 609, 651, 225, 145, 665, 763, 738, 735, 938, 935, 127, 864, 170, 486, 450, 954, 681, 780, 793, 468, 55, 297, 842, 16, 148, 781, 571, 907, 159, 505, 259, 715, 639, 452, 573, 574, 534, 460, 126, 595, 196, 731, 520, 228, 42, 915, 621, 530, 109, 288, 879, 909, 535, 254, 803, 32, 945, 874, 457, 699, 198, 485, 941, 338, 603, 219, 406, 173, 859, 410, 498, 0, 710, 678, 426, 322, 577, 38, 273, 430, 140, 355, 231, 324, 838, 492, 918, 68, 558, 925, 428, 51, 393, 600, 758, 115, 487, 545, 881, 153, 676, 447, 750, 581, 854, 382, 931, 578, 7, 332, 761, 865, 197, 456, 575, 897, 185, 953, 521, 857, 251, 916, 923, 398, 377, 169, 913, 476, 110, 123, 35, 586, 556, 424, 632, 418, 831, 180, 436, 596, 260, 205, 501, 158, 739, 870, 483, 277, 344, 34, 2, 134, 896, 6, 727, 659, 724, 853, 629, 812, 300, 194, 690, 407, 716, 438, 673, 253, 691, 103, 133, 385, 1, 330, 645]\n",
      "\n",
      "***Test***: [100, 453, 591, 588, 597, 816, 933, 243, 366, 301, 721, 281, 455, 937, 353, 74, 402, 285, 940, 412, 729, 24, 315, 609, 651, 225, 145, 665, 763, 738, 735, 938, 935, 127, 864, 170, 486, 450, 954, 681, 780, 793, 468, 55, 297, 842, 16, 148, 781, 571, 907, 159, 505, 259, 715, 639, 452, 573, 574, 534, 460, 126, 595, 196, 731, 520, 228, 42, 915, 621, 530, 109, 288, 879, 909, 535, 254, 803, 32, 945, 874, 457, 699, 198, 485, 941, 338, 603, 219, 406, 173, 859, 410, 498, 0]\n",
      "***Train***: [576, 801, 932, 316, 523, 503, 54, 52, 894, 152, 565, 852, 649, 502, 751, 36, 318, 118, 389, 286, 590, 906, 46, 214, 48, 369, 17, 805, 81, 886, 256, 754, 255, 162, 440, 908, 491, 943, 726, 417, 514, 92, 104, 921, 934, 568, 832, 893, 744, 432, 619, 87, 861, 871, 232, 682, 313, 160, 77, 94, 375, 267, 441, 540, 930, 747, 282, 949, 425, 175, 479, 533, 299, 58, 825, 296, 114, 713, 88, 902, 287, 835, 431, 257, 602, 83, 720, 342, 384, 592, 211, 598, 404, 851, 71, 189, 782, 772, 955, 944, 149, 458, 168, 504, 106, 61, 368, 795, 444, 888, 391, 790, 821, 191, 474, 824, 564, 612, 409, 155, 683, 919, 459, 829, 3, 714, 33, 899, 570, 210, 370, 454, 327, 319, 396, 142, 53, 551, 755, 797, 774, 778, 341, 625, 65, 680, 400, 822, 99, 511, 31, 823, 601, 216, 766, 246, 528, 96, 695, 317, 655, 748, 363, 631, 653, 79, 386, 496, 740, 237, 813, 415, 271, 911, 753, 656, 434, 374, 777, 261, 500, 784, 628, 882, 585, 849, 566, 684, 762, 70, 730, 807, 190, 567, 401, 885, 546, 306, 814, 230, 698, 942, 560, 674, 335, 679, 220, 737, 365, 343, 89, 607, 613, 634, 98, 868, 268, 723, 548, 262, 811, 709, 95, 264, 877, 863, 752, 791, 642, 451, 482, 836, 794, 552, 308, 449, 687, 289, 75, 844, 321, 147, 26, 163, 517, 538, 179, 633, 419, 91, 512, 703, 112, 298, 800, 847, 124, 789, 522, 333, 584, 593, 405, 218, 608, 702, 233, 111, 611, 579, 241, 509, 834, 757, 40, 516, 549, 787, 760, 86, 637, 229, 388, 662, 646, 947, 314, 623, 258, 421, 60, 890, 614, 635, 195, 403, 392, 397, 265, 526, 22, 587, 331, 788, 116, 340, 464, 80, 376, 826, 904, 199, 279, 250, 862, 139, 689, 672, 569, 773, 820, 525, 901, 889, 76, 284, 928, 29, 463, 855, 215, 741, 589, 18, 779, 561, 212, 734, 263, 235, 312, 661, 192, 478, 951, 537, 547, 733, 429, 380, 470, 497, 347, 686, 69, 708, 815, 135, 657, 694, 359, 334, 172, 278, 922, 442, 187, 912, 929, 792, 411, 563, 358, 706, 840, 615, 743, 848, 827, 605, 768, 244, 817, 272, 224, 247, 518, 903, 818, 480, 204, 948, 66, 28, 652, 697, 266, 742, 481, 869, 785, 129, 846, 345, 302, 305, 348, 238, 620, 416, 45, 845, 767, 499, 749, 221, 226, 539, 122, 97, 311, 843, 427, 27, 364, 905, 4, 164, 489, 181, 471, 290, 399, 351, 506, 439, 725, 408, 783, 876, 957, 329, 207, 131, 830, 373, 13, 640, 892, 939, 269, 337, 82, 206, 435, 336, 736, 469, 643, 756, 630, 543, 693, 144, 414, 671, 622, 660, 759, 746, 524, 895, 130, 141, 555, 510, 950, 664, 914, 362, 67, 582, 291, 952, 15, 275, 217, 599, 188, 488, 339, 728, 143, 357, 875, 193, 898, 700, 422, 420, 203, 276, 541, 610, 223, 200, 692, 917, 519, 57, 927, 696, 383, 249, 328, 507, 796, 14, 872, 354, 536, 617, 371, 5, 580, 891, 9, 161, 360, 156, 880, 806, 638, 120, 626, 20, 685, 157, 667, 84, 550, 473, 688, 654, 201, 776, 307, 236, 926, 809, 47, 182, 150, 920, 515, 117, 910, 325, 151, 295, 604, 562, 732, 650, 11, 176, 508, 222, 101, 719, 346, 856, 433, 239, 712, 138, 227, 240, 108, 390, 23, 544, 395, 356, 137, 202, 119, 475, 799, 769, 21, 554, 293, 44, 462, 647, 775, 494, 146, 798, 171, 184, 165, 252, 326, 490, 704, 136, 445, 557, 837, 209, 372, 248, 461, 627, 121, 30, 670, 666, 320, 663, 624, 765, 841, 283, 128, 583, 559, 594, 43, 294, 73, 85, 367, 280, 866, 658, 10, 618, 125, 641, 350, 956, 39, 304, 529, 677, 62, 786, 437, 177, 394, 132, 606, 105, 867, 446, 72, 413, 63, 887, 873, 648, 49, 379, 154, 8, 323, 636, 270, 495, 186, 448, 644, 387, 819, 59, 472, 527, 12, 745, 532, 553, 303, 423, 669, 828, 718, 717, 701, 808, 102, 37, 466, 513, 833, 213, 174, 771, 167, 572, 858, 361, 802, 804, 878, 352, 668, 93, 839, 477, 493, 234, 41, 245, 722, 883, 166, 208, 381, 946, 924, 810, 90, 707, 178, 242, 349, 25, 764, 378, 274, 19, 860, 705, 465, 936, 770, 542, 675, 292, 616, 310, 900, 443, 50, 56, 64, 884, 78, 531, 711, 467, 183, 309, 850, 484, 107, 113, 710, 678, 426, 322, 577, 38, 273, 430, 140, 355, 231, 324, 838, 492, 918, 68, 558, 925, 428, 51, 393, 600, 758, 115, 487, 545, 881, 153, 676, 447, 750, 581, 854, 382, 931, 578, 7, 332, 761, 865, 197, 456, 575, 897, 185, 953, 521, 857, 251, 916, 923, 398, 377, 169, 913, 476, 110, 123, 35, 586, 556, 424, 632, 418, 831, 180, 436, 596, 260, 205, 501, 158, 739, 870, 483, 277, 344, 34, 2, 134, 896, 6, 727, 659, 724, 853, 629, 812, 300, 194, 690, 407, 716, 438, 673, 253, 691, 103, 133, 385, 1, 330, 645]\n",
      "\n",
      "***Test***: [710, 678, 426, 322, 577, 38, 273, 430, 140, 355, 231, 324, 838, 492, 918, 68, 558, 925, 428, 51, 393, 600, 758, 115, 487, 545, 881, 153, 676, 447, 750, 581, 854, 382, 931, 578, 7, 332, 761, 865, 197, 456, 575, 897, 185, 953, 521, 857, 251, 916, 923, 398, 377, 169, 913, 476, 110, 123, 35, 586, 556, 424, 632, 418, 831, 180, 436, 596, 260, 205, 501, 158, 739, 870, 483, 277, 344, 34, 2, 134, 896, 6, 727, 659, 724, 853, 629, 812, 300, 194, 690, 407, 716, 438, 673]\n",
      "***Train***: [576, 801, 932, 316, 523, 503, 54, 52, 894, 152, 565, 852, 649, 502, 751, 36, 318, 118, 389, 286, 590, 906, 46, 214, 48, 369, 17, 805, 81, 886, 256, 754, 255, 162, 440, 908, 491, 943, 726, 417, 514, 92, 104, 921, 934, 568, 832, 893, 744, 432, 619, 87, 861, 871, 232, 682, 313, 160, 77, 94, 375, 267, 441, 540, 930, 747, 282, 949, 425, 175, 479, 533, 299, 58, 825, 296, 114, 713, 88, 902, 287, 835, 431, 257, 602, 83, 720, 342, 384, 592, 211, 598, 404, 851, 71, 189, 782, 772, 955, 944, 149, 458, 168, 504, 106, 61, 368, 795, 444, 888, 391, 790, 821, 191, 474, 824, 564, 612, 409, 155, 683, 919, 459, 829, 3, 714, 33, 899, 570, 210, 370, 454, 327, 319, 396, 142, 53, 551, 755, 797, 774, 778, 341, 625, 65, 680, 400, 822, 99, 511, 31, 823, 601, 216, 766, 246, 528, 96, 695, 317, 655, 748, 363, 631, 653, 79, 386, 496, 740, 237, 813, 415, 271, 911, 753, 656, 434, 374, 777, 261, 500, 784, 628, 882, 585, 849, 566, 684, 762, 70, 730, 807, 190, 567, 401, 885, 546, 306, 814, 230, 698, 942, 560, 674, 335, 679, 220, 737, 365, 343, 89, 607, 613, 634, 98, 868, 268, 723, 548, 262, 811, 709, 95, 264, 877, 863, 752, 791, 642, 451, 482, 836, 794, 552, 308, 449, 687, 289, 75, 844, 321, 147, 26, 163, 517, 538, 179, 633, 419, 91, 512, 703, 112, 298, 800, 847, 124, 789, 522, 333, 584, 593, 405, 218, 608, 702, 233, 111, 611, 579, 241, 509, 834, 757, 40, 516, 549, 787, 760, 86, 637, 229, 388, 662, 646, 947, 314, 623, 258, 421, 60, 890, 614, 635, 195, 403, 392, 397, 265, 526, 22, 587, 331, 788, 116, 340, 464, 80, 376, 826, 904, 199, 279, 250, 862, 139, 689, 672, 569, 773, 820, 525, 901, 889, 76, 284, 928, 29, 463, 855, 215, 741, 589, 18, 779, 561, 212, 734, 263, 235, 312, 661, 192, 478, 951, 537, 547, 733, 429, 380, 470, 497, 347, 686, 69, 708, 815, 135, 657, 694, 359, 334, 172, 278, 922, 442, 187, 912, 929, 792, 411, 563, 358, 706, 840, 615, 743, 848, 827, 605, 768, 244, 817, 272, 224, 247, 518, 903, 818, 480, 204, 948, 66, 28, 652, 697, 266, 742, 481, 869, 785, 129, 846, 345, 302, 305, 348, 238, 620, 416, 45, 845, 767, 499, 749, 221, 226, 539, 122, 97, 311, 843, 427, 27, 364, 905, 4, 164, 489, 181, 471, 290, 399, 351, 506, 439, 725, 408, 783, 876, 957, 329, 207, 131, 830, 373, 13, 640, 892, 939, 269, 337, 82, 206, 435, 336, 736, 469, 643, 756, 630, 543, 693, 144, 414, 671, 622, 660, 759, 746, 524, 895, 130, 141, 555, 510, 950, 664, 914, 362, 67, 582, 291, 952, 15, 275, 217, 599, 188, 488, 339, 728, 143, 357, 875, 193, 898, 700, 422, 420, 203, 276, 541, 610, 223, 200, 692, 917, 519, 57, 927, 696, 383, 249, 328, 507, 796, 14, 872, 354, 536, 617, 371, 5, 580, 891, 9, 161, 360, 156, 880, 806, 638, 120, 626, 20, 685, 157, 667, 84, 550, 473, 688, 654, 201, 776, 307, 236, 926, 809, 47, 182, 150, 920, 515, 117, 910, 325, 151, 295, 604, 562, 732, 650, 11, 176, 508, 222, 101, 719, 346, 856, 433, 239, 712, 138, 227, 240, 108, 390, 23, 544, 395, 356, 137, 202, 119, 475, 799, 769, 21, 554, 293, 44, 462, 647, 775, 494, 146, 798, 171, 184, 165, 252, 326, 490, 704, 136, 445, 557, 837, 209, 372, 248, 461, 627, 121, 30, 670, 666, 320, 663, 624, 765, 841, 283, 128, 583, 559, 594, 43, 294, 73, 85, 367, 280, 866, 658, 10, 618, 125, 641, 350, 956, 39, 304, 529, 677, 62, 786, 437, 177, 394, 132, 606, 105, 867, 446, 72, 413, 63, 887, 873, 648, 49, 379, 154, 8, 323, 636, 270, 495, 186, 448, 644, 387, 819, 59, 472, 527, 12, 745, 532, 553, 303, 423, 669, 828, 718, 717, 701, 808, 102, 37, 466, 513, 833, 213, 174, 771, 167, 572, 858, 361, 802, 804, 878, 352, 668, 93, 839, 477, 493, 234, 41, 245, 722, 883, 166, 208, 381, 946, 924, 810, 90, 707, 178, 242, 349, 25, 764, 378, 274, 19, 860, 705, 465, 936, 770, 542, 675, 292, 616, 310, 900, 443, 50, 56, 64, 884, 78, 531, 711, 467, 183, 309, 850, 484, 107, 113, 100, 453, 591, 588, 597, 816, 933, 243, 366, 301, 721, 281, 455, 937, 353, 74, 402, 285, 940, 412, 729, 24, 315, 609, 651, 225, 145, 665, 763, 738, 735, 938, 935, 127, 864, 170, 486, 450, 954, 681, 780, 793, 468, 55, 297, 842, 16, 148, 781, 571, 907, 159, 505, 259, 715, 639, 452, 573, 574, 534, 460, 126, 595, 196, 731, 520, 228, 42, 915, 621, 530, 109, 288, 879, 909, 535, 254, 803, 32, 945, 874, 457, 699, 198, 485, 941, 338, 603, 219, 406, 173, 859, 410, 498, 0, 253, 691, 103, 133, 385, 1, 330, 645]\n"
     ]
    }
   ],
   "source": [
    "vc = EstrategiaParticionado.ValidacionCruzada(10) \n",
    "vc.creaParticiones(dataset1.datos)\n",
    "\n",
    "for i in range(10):\n",
    "    print()\n",
    "    print(\"***Test***:\", vc.particiones[i].indicesTest)\n",
    "    print(\"***Train***:\", vc.particiones[i].indicesTrain)"
   ]
  },
  {
   "cell_type": "markdown",
   "metadata": {},
   "source": [
    "## 4. Diseño preliminar de la aplicación\n",
    "Se nos aconsejó implementar parte de la aplicación para entrenar modelos y comprobar el error producido en estos, como en esta práctica no se nos pide crear ningún modelo, unicamente se ha implementado el método __error__ del archivo clasificador, el método es muy simple, lo único que hace es comprobar si la predicción recibida es correcta comparando cada fila de la predicción con el elemento correspondiente en los datos (normalmente la clase). \n",
    "```py\n",
    "def error(self, datos, pred):\n",
    "    \"\"\"Obtiene el numero de aciertos y errores para calcular la tasa de fallo\n",
    "\n",
    "    Args:\n",
    "        datos: Matriz numpy con los datos de entrenamiento\n",
    "        pred: Predicción\n",
    "    \"\"\"\n",
    "    errores = 0\n",
    "\n",
    "    for i in range(datos.datos.shape[0]):\n",
    "        if datos[i][-1] != pred[i]:\n",
    "            errores += 1\n",
    "\n",
    "    return (errores/datos.datos.shape[0])*100\n",
    "```\n",
    "La razón por la que no se ha implementado el método __validacion__ es porque al no tener ningún clasificador implementado es complicado construir el método sin que en el futuro de errores (como los podría dar la implementación del método error). Es por eso que la implementación de ambos métodos se hará en la siguiente práctica."
   ]
  }
 ],
 "metadata": {
  "kernelspec": {
   "display_name": "Python 3",
   "language": "python",
   "name": "python3"
  },
  "language_info": {
   "codemirror_mode": {
    "name": "ipython",
    "version": 3
   },
   "file_extension": ".py",
   "mimetype": "text/x-python",
   "name": "python",
   "nbconvert_exporter": "python",
   "pygments_lexer": "ipython3",
   "version": "3.8.5"
  }
 },
 "nbformat": 4,
 "nbformat_minor": 5
}
