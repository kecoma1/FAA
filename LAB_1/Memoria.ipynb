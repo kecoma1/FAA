{
 "cells": [
  {
   "cell_type": "markdown",
   "metadata": {},
   "source": [
    "# __Fundamentos de Aprendizaje Automático 2021/2022__\n",
    "## Práctica de Introducción: _TRATAMIENTO DE DATOS, PARTICIONAMIENTO Y DISEÑO PRELIMINAR DE LA APLICACIÓN_\n",
    "### Grupo 1462 - Pareja 10 - Kevin de la Coba Malam"
   ]
  },
  {
   "cell_type": "code",
   "execution_count": 1,
   "metadata": {},
   "outputs": [],
   "source": [
    "import pandas as pd\n",
    "import numpy as np\n",
    "from Datos import Datos\n",
    "import EstrategiaParticionado"
   ]
  },
  {
   "cell_type": "markdown",
   "metadata": {},
   "source": [
    "## __1. Introducción__\n",
    "En este jupyter notebook se explicarán las soluciones a los diferentes apartados de la práctica de introducción. Para construir la aplicación se ha usado la librería pandas y numpy."
   ]
  },
  {
   "cell_type": "markdown",
   "metadata": {},
   "source": [
    "## __2. Clase Datos - Tratamiento de datos__\n",
    "En el enunciado de la práctica se nos pide crear una clase \"Datos\" la cuál contenga los siguientes atributos:\n",
    "* **nominalAtributos**: Lista de valores booleanos indicando si una columna es nominal o no.\n",
    "* **diccionario**: Diccionario que nos permite _traducir_ los datos originales a datos númericos.\n",
    "* **datos**: Matriz en la cual se guardan los datos _traducidos_.\n",
    "\n",
    "Para resolver este apartado se ha creado el archivo __Datos.py__ en base a la plantilla proporcionada donde se encuentra la clase __Datos__. \n",
    "Dicha clase contiene un constructor que se encarga de construir los atributos antes mencionados, para eso lo primero que se hace es cargar el archivo _\"tic-tac-toe.data\"_ o _\"german.data\"_ usando la librería _pandas_, en concreto, usando la función _read_csv_:"
   ]
  },
  {
   "cell_type": "code",
   "execution_count": 2,
   "metadata": {},
   "outputs": [],
   "source": [
    "df1 = pd.read_csv(\"ConjuntosDatos/tic-tac-toe.data\")\n",
    "df2 = pd.read_csv(\"ConjuntosDatos/german.data\")"
   ]
  },
  {
   "cell_type": "markdown",
   "metadata": {},
   "source": [
    "Como podemos ver, el archivo no es un _.csv_ pero el contenido que hay dentro _contiene el formato_ del _.csv_. Por esta razón la función no da ningún problema y se cargan los datos en el dataframe __df__. "
   ]
  },
  {
   "cell_type": "code",
   "execution_count": 3,
   "metadata": {},
   "outputs": [
    {
     "data": {
      "text/html": [
       "<div>\n",
       "<style scoped>\n",
       "    .dataframe tbody tr th:only-of-type {\n",
       "        vertical-align: middle;\n",
       "    }\n",
       "\n",
       "    .dataframe tbody tr th {\n",
       "        vertical-align: top;\n",
       "    }\n",
       "\n",
       "    .dataframe thead th {\n",
       "        text-align: right;\n",
       "    }\n",
       "</style>\n",
       "<table border=\"1\" class=\"dataframe\">\n",
       "  <thead>\n",
       "    <tr style=\"text-align: right;\">\n",
       "      <th></th>\n",
       "      <th>TLeftSq</th>\n",
       "      <th>TMidSq</th>\n",
       "      <th>TRightSq</th>\n",
       "      <th>MLeftSq</th>\n",
       "      <th>MMidSq</th>\n",
       "      <th>MRightSq</th>\n",
       "      <th>BLeftSq</th>\n",
       "      <th>BMidSq</th>\n",
       "      <th>BRightSq</th>\n",
       "      <th>Class</th>\n",
       "    </tr>\n",
       "  </thead>\n",
       "  <tbody>\n",
       "    <tr>\n",
       "      <th>0</th>\n",
       "      <td>x</td>\n",
       "      <td>x</td>\n",
       "      <td>x</td>\n",
       "      <td>x</td>\n",
       "      <td>o</td>\n",
       "      <td>o</td>\n",
       "      <td>x</td>\n",
       "      <td>o</td>\n",
       "      <td>o</td>\n",
       "      <td>positive</td>\n",
       "    </tr>\n",
       "    <tr>\n",
       "      <th>1</th>\n",
       "      <td>x</td>\n",
       "      <td>x</td>\n",
       "      <td>x</td>\n",
       "      <td>x</td>\n",
       "      <td>o</td>\n",
       "      <td>o</td>\n",
       "      <td>o</td>\n",
       "      <td>x</td>\n",
       "      <td>o</td>\n",
       "      <td>positive</td>\n",
       "    </tr>\n",
       "    <tr>\n",
       "      <th>2</th>\n",
       "      <td>x</td>\n",
       "      <td>x</td>\n",
       "      <td>x</td>\n",
       "      <td>x</td>\n",
       "      <td>o</td>\n",
       "      <td>o</td>\n",
       "      <td>o</td>\n",
       "      <td>o</td>\n",
       "      <td>x</td>\n",
       "      <td>positive</td>\n",
       "    </tr>\n",
       "    <tr>\n",
       "      <th>3</th>\n",
       "      <td>x</td>\n",
       "      <td>x</td>\n",
       "      <td>x</td>\n",
       "      <td>x</td>\n",
       "      <td>o</td>\n",
       "      <td>o</td>\n",
       "      <td>o</td>\n",
       "      <td>b</td>\n",
       "      <td>b</td>\n",
       "      <td>positive</td>\n",
       "    </tr>\n",
       "    <tr>\n",
       "      <th>4</th>\n",
       "      <td>x</td>\n",
       "      <td>x</td>\n",
       "      <td>x</td>\n",
       "      <td>x</td>\n",
       "      <td>o</td>\n",
       "      <td>o</td>\n",
       "      <td>b</td>\n",
       "      <td>o</td>\n",
       "      <td>b</td>\n",
       "      <td>positive</td>\n",
       "    </tr>\n",
       "  </tbody>\n",
       "</table>\n",
       "</div>"
      ],
      "text/plain": [
       "  TLeftSq TMidSq TRightSq MLeftSq MMidSq MRightSq BLeftSq BMidSq BRightSq  \\\n",
       "0       x      x        x       x      o        o       x      o        o   \n",
       "1       x      x        x       x      o        o       o      x        o   \n",
       "2       x      x        x       x      o        o       o      o        x   \n",
       "3       x      x        x       x      o        o       o      b        b   \n",
       "4       x      x        x       x      o        o       b      o        b   \n",
       "\n",
       "      Class  \n",
       "0  positive  \n",
       "1  positive  \n",
       "2  positive  \n",
       "3  positive  \n",
       "4  positive  "
      ]
     },
     "execution_count": 3,
     "metadata": {},
     "output_type": "execute_result"
    }
   ],
   "source": [
    "df1.head(5)"
   ]
  },
  {
   "cell_type": "code",
   "execution_count": 4,
   "metadata": {},
   "outputs": [
    {
     "data": {
      "text/html": [
       "<div>\n",
       "<style scoped>\n",
       "    .dataframe tbody tr th:only-of-type {\n",
       "        vertical-align: middle;\n",
       "    }\n",
       "\n",
       "    .dataframe tbody tr th {\n",
       "        vertical-align: top;\n",
       "    }\n",
       "\n",
       "    .dataframe thead th {\n",
       "        text-align: right;\n",
       "    }\n",
       "</style>\n",
       "<table border=\"1\" class=\"dataframe\">\n",
       "  <thead>\n",
       "    <tr style=\"text-align: right;\">\n",
       "      <th></th>\n",
       "      <th>A1</th>\n",
       "      <th>A2</th>\n",
       "      <th>A3</th>\n",
       "      <th>A4</th>\n",
       "      <th>A5</th>\n",
       "      <th>A6</th>\n",
       "      <th>A7</th>\n",
       "      <th>A8</th>\n",
       "      <th>A9</th>\n",
       "      <th>A10</th>\n",
       "      <th>...</th>\n",
       "      <th>A12</th>\n",
       "      <th>A13</th>\n",
       "      <th>A14</th>\n",
       "      <th>A15</th>\n",
       "      <th>A16</th>\n",
       "      <th>A17</th>\n",
       "      <th>A18</th>\n",
       "      <th>A19</th>\n",
       "      <th>A20</th>\n",
       "      <th>Class</th>\n",
       "    </tr>\n",
       "  </thead>\n",
       "  <tbody>\n",
       "    <tr>\n",
       "      <th>0</th>\n",
       "      <td>A11</td>\n",
       "      <td>6</td>\n",
       "      <td>A34</td>\n",
       "      <td>A43</td>\n",
       "      <td>1169</td>\n",
       "      <td>A65</td>\n",
       "      <td>A75</td>\n",
       "      <td>4</td>\n",
       "      <td>A93</td>\n",
       "      <td>A101</td>\n",
       "      <td>...</td>\n",
       "      <td>A121</td>\n",
       "      <td>67</td>\n",
       "      <td>A143</td>\n",
       "      <td>A152</td>\n",
       "      <td>2</td>\n",
       "      <td>A173</td>\n",
       "      <td>1</td>\n",
       "      <td>A192</td>\n",
       "      <td>A201</td>\n",
       "      <td>1</td>\n",
       "    </tr>\n",
       "    <tr>\n",
       "      <th>1</th>\n",
       "      <td>A12</td>\n",
       "      <td>48</td>\n",
       "      <td>A32</td>\n",
       "      <td>A43</td>\n",
       "      <td>5951</td>\n",
       "      <td>A61</td>\n",
       "      <td>A73</td>\n",
       "      <td>2</td>\n",
       "      <td>A92</td>\n",
       "      <td>A101</td>\n",
       "      <td>...</td>\n",
       "      <td>A121</td>\n",
       "      <td>22</td>\n",
       "      <td>A143</td>\n",
       "      <td>A152</td>\n",
       "      <td>1</td>\n",
       "      <td>A173</td>\n",
       "      <td>1</td>\n",
       "      <td>A191</td>\n",
       "      <td>A201</td>\n",
       "      <td>2</td>\n",
       "    </tr>\n",
       "    <tr>\n",
       "      <th>2</th>\n",
       "      <td>A14</td>\n",
       "      <td>12</td>\n",
       "      <td>A34</td>\n",
       "      <td>A46</td>\n",
       "      <td>2096</td>\n",
       "      <td>A61</td>\n",
       "      <td>A74</td>\n",
       "      <td>2</td>\n",
       "      <td>A93</td>\n",
       "      <td>A101</td>\n",
       "      <td>...</td>\n",
       "      <td>A121</td>\n",
       "      <td>49</td>\n",
       "      <td>A143</td>\n",
       "      <td>A152</td>\n",
       "      <td>1</td>\n",
       "      <td>A172</td>\n",
       "      <td>2</td>\n",
       "      <td>A191</td>\n",
       "      <td>A201</td>\n",
       "      <td>1</td>\n",
       "    </tr>\n",
       "    <tr>\n",
       "      <th>3</th>\n",
       "      <td>A11</td>\n",
       "      <td>42</td>\n",
       "      <td>A32</td>\n",
       "      <td>A42</td>\n",
       "      <td>7882</td>\n",
       "      <td>A61</td>\n",
       "      <td>A74</td>\n",
       "      <td>2</td>\n",
       "      <td>A93</td>\n",
       "      <td>A103</td>\n",
       "      <td>...</td>\n",
       "      <td>A122</td>\n",
       "      <td>45</td>\n",
       "      <td>A143</td>\n",
       "      <td>A153</td>\n",
       "      <td>1</td>\n",
       "      <td>A173</td>\n",
       "      <td>2</td>\n",
       "      <td>A191</td>\n",
       "      <td>A201</td>\n",
       "      <td>1</td>\n",
       "    </tr>\n",
       "    <tr>\n",
       "      <th>4</th>\n",
       "      <td>A11</td>\n",
       "      <td>24</td>\n",
       "      <td>A33</td>\n",
       "      <td>A40</td>\n",
       "      <td>4870</td>\n",
       "      <td>A61</td>\n",
       "      <td>A73</td>\n",
       "      <td>3</td>\n",
       "      <td>A93</td>\n",
       "      <td>A101</td>\n",
       "      <td>...</td>\n",
       "      <td>A124</td>\n",
       "      <td>53</td>\n",
       "      <td>A143</td>\n",
       "      <td>A153</td>\n",
       "      <td>2</td>\n",
       "      <td>A173</td>\n",
       "      <td>2</td>\n",
       "      <td>A191</td>\n",
       "      <td>A201</td>\n",
       "      <td>2</td>\n",
       "    </tr>\n",
       "  </tbody>\n",
       "</table>\n",
       "<p>5 rows × 21 columns</p>\n",
       "</div>"
      ],
      "text/plain": [
       "    A1  A2   A3   A4    A5   A6   A7  A8   A9   A10  ...   A12 A13   A14  \\\n",
       "0  A11   6  A34  A43  1169  A65  A75   4  A93  A101  ...  A121  67  A143   \n",
       "1  A12  48  A32  A43  5951  A61  A73   2  A92  A101  ...  A121  22  A143   \n",
       "2  A14  12  A34  A46  2096  A61  A74   2  A93  A101  ...  A121  49  A143   \n",
       "3  A11  42  A32  A42  7882  A61  A74   2  A93  A103  ...  A122  45  A143   \n",
       "4  A11  24  A33  A40  4870  A61  A73   3  A93  A101  ...  A124  53  A143   \n",
       "\n",
       "    A15 A16   A17 A18   A19   A20 Class  \n",
       "0  A152   2  A173   1  A192  A201     1  \n",
       "1  A152   1  A173   1  A191  A201     2  \n",
       "2  A152   1  A172   2  A191  A201     1  \n",
       "3  A153   1  A173   2  A191  A201     1  \n",
       "4  A153   2  A173   2  A191  A201     2  \n",
       "\n",
       "[5 rows x 21 columns]"
      ]
     },
     "execution_count": 4,
     "metadata": {},
     "output_type": "execute_result"
    }
   ],
   "source": [
    "df2.head(5)"
   ]
  },
  {
   "cell_type": "markdown",
   "metadata": {},
   "source": [
    "Podemos ver que el dataframe ha cargado los archivos de forma exitosa. Podemos empezar a crear los atributos."
   ]
  },
  {
   "cell_type": "code",
   "execution_count": 5,
   "metadata": {},
   "outputs": [],
   "source": [
    "# Cargamos los dataset con los atributos\n",
    "dataset1 = Datos(\"ConjuntosDatos/tic-tac-toe.data\")\n",
    "dataset2 = Datos(\"ConjuntosDatos/german.data\")"
   ]
  },
  {
   "cell_type": "markdown",
   "metadata": {},
   "source": [
    "## 2.1 nominalAtributos\n",
    "Para cargar esta lista, se creo un método llamado __asignaNominalAtributos__. Dicho método recibe como argumento los tipos de las columnas (obtenidos usando __df.dtypes__). \n",
    "```py\n",
    "def asignaNominalAtributos(self, tipos):\n",
    "        \"\"\"Itera sobre los tipos de atributos y asigna:\n",
    "            True: Si la columna es nominal (object).\n",
    "            False: Si la columna no es nominal.\n",
    "\n",
    "        Args:\n",
    "            line: Tipos obtenidos del dataframe de pandas.\n",
    "        \"\"\"\n",
    "        for tipo in tipos:\n",
    "            self.nominalAtributos.append(True if tipo == object else False)\n",
    "```\n",
    "Lo que se hace es que se itera sobre dichos elementos con el fin de ver si la columna contiene atributos nominales.\n"
   ]
  },
  {
   "cell_type": "code",
   "execution_count": 6,
   "metadata": {},
   "outputs": [
    {
     "name": "stdout",
     "output_type": "stream",
     "text": [
      "Dataset tic-tac-toe\n"
     ]
    },
    {
     "data": {
      "text/plain": [
       "[True, True, True, True, True, True, True, True, True, True]"
      ]
     },
     "execution_count": 6,
     "metadata": {},
     "output_type": "execute_result"
    }
   ],
   "source": [
    "print(\"Dataset tic-tac-toe\")\n",
    "dataset1.nominalAtributos"
   ]
  },
  {
   "cell_type": "code",
   "execution_count": 7,
   "metadata": {},
   "outputs": [
    {
     "name": "stdout",
     "output_type": "stream",
     "text": [
      "Dataset german\n"
     ]
    },
    {
     "data": {
      "text/plain": [
       "[True,\n",
       " False,\n",
       " True,\n",
       " True,\n",
       " False,\n",
       " True,\n",
       " True,\n",
       " False,\n",
       " True,\n",
       " True,\n",
       " False,\n",
       " True,\n",
       " False,\n",
       " True,\n",
       " True,\n",
       " False,\n",
       " True,\n",
       " False,\n",
       " True,\n",
       " True,\n",
       " False]"
      ]
     },
     "execution_count": 7,
     "metadata": {},
     "output_type": "execute_result"
    }
   ],
   "source": [
    "print(\"Dataset german\")\n",
    "dataset2.nominalAtributos"
   ]
  },
  {
   "cell_type": "markdown",
   "metadata": {},
   "source": [
    "Podemos ver que el formato de las listas es el correcto. Podemos ver también que en el primer caso (tic-tac-toe) todos los atributos son nominales, pero en el segundo (german) __no__. La segunda columna, la quinta, etc. tienen valores numéricos y se muestran correctamente en la lista."
   ]
  },
  {
   "cell_type": "markdown",
   "metadata": {},
   "source": [
    "## 2.2 diccionario\n",
    "Para cargar este diccionario se creo un método llamado __construyeDiccionario__. Dicho método recibe como argumento el dataframe original. \n",
    "```py\n",
    "    def construyeDiccionario(self, df):\n",
    "        \"\"\"Método que itera sobre los datos y construye\n",
    "        un diccionario de diccionarios en el que se muestra\n",
    "        el valor que puede tener cada atributo. Ejemplo:\n",
    "        {\n",
    "            \"Attr1\": {\"x\": 1, \"y\": 2} -- Orden alfabético\n",
    "            \"Attr2\": {\"x\": 1, \"y\": 2}\n",
    "            ...\n",
    "        }\n",
    "        \n",
    "        Args:\n",
    "            df (Pandas Dataframe): Dataframe pandas con todos los datos.\n",
    "        \"\"\"\n",
    "        for item in df.iteritems():\n",
    "            columnName = item[0]\n",
    "            possibleValues = list(df[columnName].unique()).copy()\n",
    "            possibleValues.sort()\n",
    "            for i, value in enumerate(possibleValues):\n",
    "                if columnName not in self.diccionario:\n",
    "                    self.diccionario[columnName] = {}\n",
    "                self.diccionario[columnName][value] = i\n",
    "```\n",
    "El algoritmo implementado en el método itera sobre cada columna (con los datos de esta incluidos) mediante el métdo __df.iteritems()__. Una vez tenemos la columna lo que se hace es que se crea una lista con los todos los valores únicos de dicha columna mediante el método __df[column_name].unique()__. Esta lista se ordena y por último se añade un diccionario al diccionario \"padre\", donde la _key_ es el nombre de la columna y los _values_ son los distintos posibles valores ordenados alfabéticamente y enumerados. "
   ]
  },
  {
   "cell_type": "code",
   "execution_count": 8,
   "metadata": {},
   "outputs": [
    {
     "name": "stdout",
     "output_type": "stream",
     "text": [
      "Dataset tic-tac-toe\n"
     ]
    },
    {
     "data": {
      "text/plain": [
       "{'b': 0, 'o': 1, 'x': 2}"
      ]
     },
     "execution_count": 8,
     "metadata": {},
     "output_type": "execute_result"
    }
   ],
   "source": [
    "print(\"Dataset tic-tac-toe\")\n",
    "dataset1.diccionario['TLeftSq']"
   ]
  },
  {
   "cell_type": "code",
   "execution_count": 9,
   "metadata": {},
   "outputs": [
    {
     "name": "stdout",
     "output_type": "stream",
     "text": [
      "Dataset german\n"
     ]
    },
    {
     "data": {
      "text/plain": [
       "{'A11': 0, 'A12': 1, 'A13': 2, 'A14': 3}"
      ]
     },
     "execution_count": 9,
     "metadata": {},
     "output_type": "execute_result"
    }
   ],
   "source": [
    "print(\"Dataset german\")\n",
    "dataset2.diccionario['A1']"
   ]
  },
  {
   "cell_type": "markdown",
   "metadata": {},
   "source": [
    "Como se muestra estos son los posibles valores de la primera columna de cada uno de los dataset."
   ]
  },
  {
   "cell_type": "markdown",
   "metadata": {},
   "source": [
    "## 2.3 datos\n",
    "Para cargar esta matriz se creo un método llamado __construyeDatos__. Dicho método recibe como argumento el dataframe original.\n",
    "```py\n",
    "    def construyeDatos(self, df):\n",
    "        \"\"\"Método que itera sobre todas las filas del dataset\n",
    "        con el fin de traducir los datos a números.\n",
    "\n",
    "        Args:\n",
    "            df (Pandas Dataframe): Dataset con los datos originales.\n",
    "        \"\"\"\n",
    "        self.datos = np.zeros(shape=df.shape)\n",
    "        for i, item in enumerate(df.iterrows()):\n",
    "            for j, col in enumerate(item[1].items()):\n",
    "                self.datos[i][j] = self.diccionario[col[0]][col[1]]\n",
    "```\n",
    "El algoritmo implementado primero crea una matriz con la misma forma que tiene el dataframe recibido mediante la librería __numpy__, para inicializar dicha matriz se usa __np.zeros(shape=...)__ (crea una matriz con ceros) y se le envía como argumento la forma de la matriz con __df.shape__ (nos devuelve la forma del dataframe).\n",
    "\n",
    "Una vez tenemos la matriz, iteramos sobre todas las filas mediante __df.iterrows()__, leemos cada columna en la fila y cambiamos el valor en la matriz numpy."
   ]
  },
  {
   "cell_type": "code",
   "execution_count": 10,
   "metadata": {},
   "outputs": [
    {
     "name": "stdout",
     "output_type": "stream",
     "text": [
      "Dataset tic-tac-toe\n"
     ]
    },
    {
     "data": {
      "text/plain": [
       "array([[2., 2., 2., ..., 1., 1., 1.],\n",
       "       [2., 2., 2., ..., 2., 1., 1.],\n",
       "       [2., 2., 2., ..., 1., 2., 1.],\n",
       "       ...,\n",
       "       [1., 2., 1., ..., 1., 2., 0.],\n",
       "       [1., 2., 1., ..., 1., 2., 0.],\n",
       "       [1., 1., 2., ..., 2., 2., 0.]])"
      ]
     },
     "execution_count": 10,
     "metadata": {},
     "output_type": "execute_result"
    }
   ],
   "source": [
    "print(\"Dataset tic-tac-toe\")\n",
    "dataset1.datos"
   ]
  },
  {
   "cell_type": "code",
   "execution_count": 11,
   "metadata": {},
   "outputs": [
    {
     "name": "stdout",
     "output_type": "stream",
     "text": [
      "Dataset german\n"
     ]
    },
    {
     "data": {
      "text/plain": [
       "array([[ 0.,  2.,  4., ...,  1.,  0.,  0.],\n",
       "       [ 1., 29.,  2., ...,  0.,  0.,  1.],\n",
       "       [ 3.,  8.,  4., ...,  0.,  0.,  0.],\n",
       "       ...,\n",
       "       [ 3.,  8.,  2., ...,  0.,  0.,  0.],\n",
       "       [ 0., 27.,  2., ...,  1.,  0.,  1.],\n",
       "       [ 1., 27.,  4., ...,  0.,  0.,  0.]])"
      ]
     },
     "execution_count": 11,
     "metadata": {},
     "output_type": "execute_result"
    }
   ],
   "source": [
    "print(\"Dataset german\")\n",
    "dataset2.datos"
   ]
  },
  {
   "cell_type": "markdown",
   "metadata": {},
   "source": [
    "Podemos ver que los datos se han traducido y unicamente tenemos valores numéricos."
   ]
  },
  {
   "cell_type": "markdown",
   "metadata": {},
   "source": [
    "## 2.4 Método extrae datos\n",
    "Para construir el método extrae datos lo único que hacemos es crear una matriz numpy la cual contiene los índices que se nos especifican.\n",
    "```py\n",
    "def extraeDatos(self,idx):\n",
    "    \"\"\"Devuelve el subconjunto de los datos cuyos �ndices se pasan como argumento\n",
    "\n",
    "    Args:\n",
    "        idx (list): Lista que contiene los indices a recibir de los datos.\n",
    "\n",
    "    Returns:\n",
    "        Matriz numpy: Matriz numpy con los índices que se especifican.\n",
    "    \"\"\"\n",
    "    datos = np.zeros(shape=(len(idx), self.datos.shape[1]))\n",
    "\n",
    "    for i, index in enumerate(idx):\n",
    "        datos[i] = self.datos[index]\n",
    "\n",
    "    return datos\n",
    "```"
   ]
  },
  {
   "cell_type": "markdown",
   "metadata": {},
   "source": [
    "## __3. Particionamiento - Tratamiento de datos__\n",
    "Se nos pide completar la plantilla donde tenemos una clase abstracta que define una _estrategia de particionado (EstrategiaParticionado)_. A parte se nos pide crear 2 clases más las cuales implementan estrategias de partcionado específicas, _Cross Validation (Validación cruzada)_ y _Simple Validation (Validación Simple)_.\n",
    "\n",
    "La clase abstracta _EstrategiaParticionado_ fue completada unicamente declarando los atributos en el constructor\n",
    "\n",
    "```py\n",
    "class EstrategiaParticionado:\n",
    "    \"\"\"Clase abstracta donde se define la estrategia de particionado.\n",
    "    \"\"\"\n",
    "  \n",
    "    # Clase abstracta\n",
    "    __metaclass__ = ABCMeta\n",
    "  \n",
    "    def __init__(self):\n",
    "        \"\"\"Constructor, solo se declaran los atributos.\n",
    "        \"\"\"\n",
    "        self.particiones = []\n",
    "    \n",
    "    @abstractmethod\n",
    "    def creaParticiones(self,datos,seed=None):\n",
    "        \"\"\"Método abstracto para crear particiones.\n",
    "\n",
    "        Args:\n",
    "            datos: Dataset.\n",
    "            seed: Seed para generar aleatoriedad. Por defecto None.\n",
    "        \"\"\"\n",
    "        pass\n",
    "```\n",
    "Como se puede ver la clase consta del atributo __particiones__, siguiendo el esquema proporcionado en el enunciado. Ese atributo contendrá objetos de la clase Particiones indicando los índices usados para el _Train_ y el _Test_. \n",
    "\n",
    "## 3.1 Validación simple\n",
    "La validación simple parte los datos en 2, una parte para el test y otra para el training. La clase _ValidacionSimple_ recibe como argumentos en el constructor el __porcentaje usado para el test__ (el porcentaje es un número _float_ que esta entre (0-100)) y el número de ejecuciones que se harán (esto marca el número de permutaciones a crear para las particiones).\n",
    "\n",
    "```py\n",
    "class ValidacionSimple(EstrategiaParticionado):\n",
    "    \"\"\"Clase que define una estrategia de particionado,\n",
    "    en concreto, validación simple.\n",
    "    \"\"\"\n",
    "  \n",
    "    def __init__(self, proporcionTest, numeroEjecuciones):\n",
    "        \"\"\"Constructor.\n",
    "\n",
    "        Args:\n",
    "            proporcionTest: Porcentaje para la proporción de test de los datos.\n",
    "            numeroEjecuciones: Número de ejecuciones.\n",
    "        \"\"\"\n",
    "        super().__init__()\n",
    "        self.proporcionTest = proporcionTest\n",
    "        self.numeroEjecuciones = numeroEjecuciones\n",
    "```\n",
    "Posteriormente el método _creaParticiones_ es implementado.\n",
    "```py\n",
    "def creaParticiones(self,datos,seed=None):\n",
    "        def creaParticiones(self,datos,seed=None):\n",
    "        random.seed(seed)\n",
    "        self.particiones = []\n",
    "        longitudDatos = np.shape(datos)[0]\n",
    "        longitudTest = int((self.proporcionTest/100)*longitudDatos)\n",
    "                \n",
    "        lista_valores = [i for i in range(longitudDatos)]\n",
    "\n",
    "        for i in range(self.numeroEjecuciones):\n",
    "            self.particiones.append(Particion())\n",
    "            \n",
    "            # Calculamos los indices\n",
    "            random.shuffle(lista_valores)\n",
    "            \n",
    "            # Asignamos los indices\n",
    "            self.particiones[-1].indicesTest = lista_valores[:longitudTest]\n",
    "            self.particiones[-1].indicesTrain = lista_valores[longitudTest:]\n",
    "```\n",
    "El algoritmo primero calcula la longitud de los datos (número de filas) y la longitud del test (número de filas asignadas al test). Debe tenerse en cuenta que para la longitud del test se hace una división entera. Posteriormente, creamos una lista de valores que contiene todos los índices de los datos, después, en un bucle, permutamos dicha lista y asignamos la parte correspondiente al test y la otra parte al training. Como la lista es permutada en cada iteración podemos coger siempre la primera parte como test y la segunda como training\n",
    "\n",
    "Para probar el correcto funcionamiento crearemos un array numpy pequeño y cargaremos dichos índices."
   ]
  },
  {
   "cell_type": "code",
   "execution_count": 12,
   "metadata": {},
   "outputs": [
    {
     "name": "stdout",
     "output_type": "stream",
     "text": [
      "\n",
      "\n",
      "\n",
      "***Test***: [9, 8, 5] \n",
      "\n",
      "***Train***: [6, 2, 4, 0, 1, 7, 3] \n",
      "\n",
      "\n",
      "\n",
      "\n",
      "***Test***: [4, 3, 5] \n",
      "\n",
      "***Train***: [6, 0, 7, 2, 8, 9, 1] \n",
      "\n",
      "\n",
      "\n",
      "\n",
      "***Test***: [1, 5, 4] \n",
      "\n",
      "***Train***: [9, 6, 2, 7, 8, 3, 0] \n",
      "\n"
     ]
    }
   ],
   "source": [
    "datos = np.random.random((10, 2))\n",
    "\n",
    "# Asignamos el 30% al test\n",
    "vc = EstrategiaParticionado.ValidacionSimple(30, 3)\n",
    "vc.creaParticiones(datos)\n",
    "\n",
    "for i in range(3):\n",
    "    print(\"\\n\\n\")\n",
    "    print(\"***Test***:\", vc.particiones[i].indicesTest, \"\\n\")\n",
    "    print(\"***Train***:\", vc.particiones[i].indicesTrain, \"\\n\")"
   ]
  },
  {
   "cell_type": "markdown",
   "metadata": {},
   "source": [
    "Se puede ver que los índices se crean correctamente.\n",
    "\n",
    "Ahora se ejecutará lo mismo con el dataset de _tic-tac-toe_."
   ]
  },
  {
   "cell_type": "code",
   "execution_count": 13,
   "metadata": {},
   "outputs": [
    {
     "name": "stdout",
     "output_type": "stream",
     "text": [
      "\n",
      "\n",
      "\n",
      "***Test***: [85, 204, 441, 369, 724, 260, 487, 192, 513, 828, 857, 396, 61, 42, 757, 553, 271, 790, 518, 131, 933, 633, 552, 234, 219, 490, 632, 45, 180, 556, 675, 613, 23, 913, 170, 197, 551, 861, 448, 335, 68, 701, 289, 307, 265, 720, 872, 282, 255, 115, 923, 80, 94, 937, 291, 673, 238, 174, 126, 882, 110, 904, 427, 902, 376, 694, 235, 639, 224, 705, 782, 0, 169, 49, 509, 54, 493, 554, 136, 101, 14, 371, 810, 223, 787, 129, 364, 931, 435, 695, 524, 851, 577, 168, 525] \n",
      "\n",
      "***Train***: [46, 938, 863, 320, 758, 433, 663, 470, 372, 816, 845, 779, 785, 592, 885, 422, 749, 389, 243, 764, 451, 821, 645, 331, 537, 952, 820, 849, 173, 853, 346, 941, 261, 150, 315, 121, 50, 287, 383, 105, 65, 920, 26, 142, 432, 652, 207, 145, 791, 880, 928, 464, 731, 588, 847, 932, 839, 618, 583, 330, 79, 710, 566, 327, 325, 799, 399, 274, 326, 505, 542, 82, 102, 114, 914, 586, 687, 33, 124, 686, 555, 158, 473, 4, 430, 257, 305, 612, 515, 793, 57, 760, 77, 597, 495, 288, 693, 563, 624, 703, 729, 889, 116, 842, 328, 459, 210, 871, 127, 400, 342, 642, 130, 812, 792, 747, 242, 615, 584, 313, 907, 360, 37, 837, 561, 161, 359, 368, 322, 403, 545, 804, 109, 818, 395, 936, 942, 623, 52, 252, 819, 391, 956, 641, 108, 568, 644, 947, 6, 661, 380, 443, 436, 714, 425, 437, 696, 719, 87, 334, 855, 767, 381, 401, 503, 241, 302, 339, 636, 300, 950, 539, 424, 811, 357, 911, 587, 27, 415, 341, 748, 44, 58, 601, 890, 310, 420, 780, 653, 156, 868, 74, 896, 67, 507, 621, 352, 418, 38, 409, 605, 483, 36, 817, 481, 190, 410, 674, 301, 294, 237, 463, 3, 457, 137, 813, 536, 272, 408, 877, 267, 254, 656, 607, 593, 905, 454, 667, 709, 123, 807, 526, 895, 836, 215, 713, 239, 580, 918, 203, 353, 216, 543, 374, 856, 91, 671, 324, 402, 756, 462, 321, 492, 946, 466, 268, 236, 634, 875, 35, 332, 205, 614, 40, 578, 809, 517, 774, 886, 547, 140, 188, 263, 910, 351, 202, 759, 822, 690, 934, 511, 678, 187, 825, 541, 692, 835, 538, 677, 81, 362, 179, 715, 884, 711, 795, 2, 30, 627, 196, 458, 953, 250, 284, 134, 698, 258, 789, 668, 665, 281, 548, 708, 544, 512, 125, 165, 957, 365, 186, 83, 19, 354, 20, 248, 897, 894, 664, 808, 308, 827, 18, 559, 111, 908, 155, 732, 99, 844, 366, 504, 246, 717, 259, 361, 208, 776, 939, 815, 949, 869, 797, 788, 912, 640, 721, 32, 773, 569, 228, 96, 34, 750, 647, 500, 945, 620, 878, 15, 31, 570, 751, 304, 8, 306, 363, 11, 599, 841, 117, 575, 501, 212, 159, 689, 865, 469, 10, 801, 802, 43, 893, 900, 832, 471, 529, 152, 707, 141, 528, 917, 290, 447, 783, 419, 51, 494, 629, 438, 630, 465, 285, 378, 189, 546, 176, 672, 628, 143, 924, 270, 298, 476, 609, 387, 198, 444, 881, 227, 571, 834, 763, 506, 12, 876, 475, 200, 90, 118, 595, 329, 392, 336, 603, 833, 297, 244, 891, 303, 318, 600, 781, 340, 286, 549, 367, 560, 468, 429, 862, 445, 854, 496, 519, 823, 98, 608, 177, 843, 739, 160, 5, 879, 195, 333, 944, 349, 229, 439, 514, 233, 683, 602, 800, 226, 901, 405, 151, 184, 317, 684, 373, 230, 772, 803, 590, 533, 1, 940, 480, 345, 266, 659, 461, 183, 413, 456, 398, 218, 637, 850, 874, 247, 682, 485, 831, 870, 22, 598, 201, 63, 919, 523, 181, 280, 53, 486, 55, 929, 558, 452, 557, 139, 283, 658, 48, 69, 530, 25, 73, 954, 824, 888, 522, 384, 379, 765, 730, 112, 631, 585, 355, 225, 144, 752, 232, 191, 646, 726, 279, 213, 768, 323, 706, 474, 704, 397, 755, 88, 221, 119, 651, 319, 769, 725, 251, 358, 619, 21, 394, 171, 723, 193, 679, 670, 29, 264, 777, 100, 273, 572, 691, 28, 211, 685, 214, 728, 867, 650, 222, 745, 838, 616, 103, 638, 718, 311, 47, 209, 440, 746, 348, 735, 93, 733, 581, 622, 736, 906, 574, 625, 805, 669, 147, 899, 148, 829, 883, 921, 532, 377, 245, 206, 347, 428, 135, 17, 699, 423, 60, 508, 312, 314, 97, 846, 76, 702, 742, 442, 350, 565, 249, 9, 167, 154, 864, 484, 927, 472, 59, 860, 153, 611, 915, 107, 930, 292, 71, 648, 606, 278, 182, 935, 16, 434, 382, 453, 217, 338, 412, 534, 104, 649, 655, 498, 157, 666, 482, 943, 814, 761, 722, 604, 407, 253, 316, 185, 579, 172, 502, 390, 449, 948, 24, 520, 478, 426, 909, 175, 654, 688, 741, 113, 771, 7, 770, 567, 499, 562, 589, 393, 256, 343, 635, 951, 356, 70, 417, 72, 39, 149, 138, 591, 293, 866, 489, 240, 95, 370, 657, 262, 62, 778, 404, 421, 450, 385, 852, 550, 716, 898, 540, 922, 916, 830, 13, 573, 431, 516, 388, 89, 892, 737, 120, 84, 740, 798, 743, 344, 762, 86, 194, 178, 163, 132, 455, 564, 488, 497, 660, 676, 446, 386, 955, 582, 887, 414, 277, 858, 681, 903, 859, 680, 925, 166, 66, 734, 75, 299, 416, 926, 697, 727, 753, 786, 806, 626, 78, 712, 784, 840, 744, 296, 133, 826, 275, 617, 64, 146, 406, 41, 527, 491, 766, 596, 873, 700, 754, 269, 460, 276, 92, 794, 122, 199, 231, 738, 576, 510, 309, 128, 594, 796, 531, 56, 295, 220, 535, 848, 467, 479, 662, 164, 610, 337, 477, 106, 521, 643, 162, 375, 775, 411] \n",
      "\n",
      "\n",
      "\n",
      "\n",
      "***Test***: [247, 451, 70, 852, 615, 28, 918, 122, 77, 380, 543, 173, 357, 491, 672, 293, 194, 279, 410, 168, 948, 473, 21, 294, 533, 687, 164, 221, 923, 731, 556, 607, 850, 266, 338, 692, 954, 207, 522, 361, 150, 47, 757, 696, 952, 306, 283, 29, 435, 301, 488, 510, 137, 796, 805, 450, 685, 514, 101, 698, 927, 323, 13, 76, 718, 120, 434, 466, 85, 191, 9, 411, 778, 45, 520, 716, 413, 30, 845, 440, 103, 920, 837, 519, 628, 115, 936, 44, 641, 587, 625, 372, 5, 605, 925] \n",
      "\n",
      "***Train***: [786, 257, 51, 747, 12, 310, 666, 445, 136, 930, 603, 148, 407, 730, 879, 884, 405, 275, 110, 935, 186, 3, 371, 206, 439, 664, 229, 0, 956, 382, 458, 185, 640, 213, 745, 140, 236, 471, 256, 565, 131, 650, 840, 789, 866, 946, 318, 788, 82, 144, 486, 149, 507, 68, 448, 594, 527, 72, 637, 351, 92, 81, 887, 660, 170, 199, 250, 393, 302, 225, 867, 717, 544, 597, 851, 885, 697, 339, 534, 277, 674, 736, 738, 27, 855, 922, 602, 394, 818, 804, 60, 905, 192, 25, 93, 750, 761, 362, 578, 548, 562, 800, 118, 742, 406, 645, 957, 189, 453, 237, 530, 102, 868, 17, 547, 580, 290, 268, 506, 502, 217, 794, 942, 271, 690, 735, 155, 812, 316, 202, 158, 305, 518, 676, 182, 949, 335, 648, 40, 623, 478, 356, 232, 517, 387, 646, 366, 639, 223, 245, 665, 536, 437, 953, 880, 235, 265, 166, 233, 270, 769, 455, 390, 766, 328, 495, 41, 359, 296, 853, 90, 337, 644, 87, 313, 391, 415, 424, 134, 401, 535, 571, 849, 349, 704, 417, 669, 403, 126, 864, 860, 425, 608, 894, 317, 770, 595, 528, 350, 854, 756, 809, 573, 287, 882, 215, 785, 395, 188, 481, 402, 416, 955, 561, 814, 124, 574, 883, 681, 498, 210, 593, 591, 239, 4, 26, 753, 733, 151, 254, 49, 638, 116, 680, 392, 342, 309, 683, 379, 739, 908, 259, 423, 388, 557, 477, 397, 214, 470, 133, 183, 570, 712, 32, 381, 218, 244, 807, 321, 945, 109, 86, 599, 326, 654, 280, 227, 503, 799, 767, 725, 833, 940, 847, 89, 937, 559, 442, 376, 610, 364, 749, 325, 121, 911, 568, 177, 634, 581, 375, 782, 203, 117, 622, 14, 63, 631, 939, 355, 426, 23, 73, 795, 200, 243, 586, 842, 903, 156, 216, 772, 874, 443, 447, 858, 780, 708, 865, 529, 496, 748, 267, 172, 167, 474, 408, 320, 803, 383, 363, 508, 139, 754, 96, 686, 779, 184, 433, 870, 684, 711, 863, 575, 811, 261, 926, 679, 303, 614, 802, 324, 726, 95, 813, 682, 331, 636, 663, 613, 898, 783, 209, 497, 100, 928, 352, 196, 619, 282, 160, 843, 647, 396, 201, 515, 758, 943, 671, 409, 262, 775, 808, 572, 238, 33, 773, 715, 152, 846, 106, 657, 700, 655, 343, 538, 400, 668, 732, 412, 584, 909, 142, 253, 50, 457, 710, 859, 385, 944, 501, 278, 6, 567, 39, 157, 899, 314, 624, 824, 80, 53, 720, 830, 464, 566, 869, 344, 635, 900, 797, 915, 485, 857, 702, 377, 841, 128, 420, 505, 688, 37, 333, 461, 555, 193, 763, 24, 489, 475, 539, 934, 208, 444, 621, 459, 723, 327, 734, 504, 181, 620, 31, 649, 612, 334, 703, 430, 374, 912, 43, 762, 360, 815, 848, 821, 836, 162, 171, 98, 826, 924, 143, 112, 114, 525, 540, 274, 791, 582, 74, 123, 740, 771, 75, 295, 632, 178, 454, 839, 694, 78, 776, 264, 135, 180, 479, 558, 108, 744, 609, 768, 307, 521, 835, 728, 492, 52, 219, 308, 179, 220, 153, 494, 159, 889, 886, 427, 127, 653, 801, 509, 563, 701, 55, 598, 231, 19, 881, 873, 695, 436, 576, 689, 832, 798, 897, 190, 844, 921, 617, 484, 263, 893, 161, 367, 729, 384, 365, 441, 579, 204, 618, 242, 531, 564, 472, 147, 462, 222, 596, 389, 258, 336, 913, 601, 429, 904, 751, 467, 490, 545, 727, 61, 428, 627, 346, 8, 369, 719, 438, 94, 330, 347, 107, 46, 319, 332, 348, 358, 746, 642, 212, 902, 752, 765, 890, 57, 276, 234, 15, 132, 66, 919, 552, 113, 931, 777, 500, 269, 722, 633, 48, 932, 129, 532, 145, 398, 251, 675, 941, 304, 667, 414, 65, 353, 781, 759, 404, 938, 456, 248, 546, 378, 817, 792, 354, 288, 819, 678, 706, 125, 643, 91, 787, 138, 829, 292, 790, 104, 630, 211, 169, 823, 285, 662, 947, 141, 705, 541, 224, 315, 468, 659, 88, 38, 626, 906, 298, 399, 933, 312, 511, 187, 198, 816, 341, 322, 760, 651, 670, 892, 600, 230, 42, 249, 611, 661, 300, 721, 834, 820, 929, 69, 463, 713, 176, 590, 737, 877, 79, 709, 291, 34, 252, 699, 553, 1, 714, 551, 11, 917, 421, 284, 512, 449, 825, 241, 523, 861, 228, 741, 910, 2, 907, 606, 876, 446, 97, 616, 146, 431, 54, 22, 340, 480, 297, 493, 58, 119, 299, 526, 105, 891, 154, 281, 806, 36, 629, 246, 872, 432, 828, 693, 875, 482, 951, 465, 652, 550, 604, 195, 71, 901, 588, 755, 831, 165, 197, 560, 784, 950, 205, 7, 677, 487, 373, 16, 542, 549, 370, 62, 916, 368, 871, 673, 914, 20, 240, 18, 656, 583, 577, 569, 35, 838, 99, 774, 707, 513, 585, 469, 59, 130, 419, 329, 64, 67, 499, 554, 862, 174, 83, 743, 273, 764, 793, 589, 10, 878, 175, 895, 827, 516, 163, 56, 483, 691, 810, 386, 111, 286, 896, 537, 822, 272, 289, 255, 658, 418, 724, 460, 311, 422, 345, 856, 476, 226, 452, 592, 84, 524, 260, 888] \n",
      "\n",
      "\n",
      "\n",
      "\n",
      "***Test***: [710, 328, 631, 268, 770, 931, 5, 570, 910, 704, 169, 130, 796, 660, 461, 148, 887, 688, 398, 571, 875, 52, 220, 474, 768, 637, 442, 629, 193, 292, 557, 259, 932, 671, 526, 956, 320, 480, 533, 794, 792, 923, 806, 832, 376, 386, 131, 496, 91, 478, 869, 396, 216, 26, 555, 93, 377, 748, 545, 833, 387, 724, 463, 868, 151, 205, 524, 286, 466, 840, 535, 926, 483, 816, 53, 661, 378, 402, 107, 14, 718, 181, 635, 424, 12, 2, 922, 513, 949, 86, 815, 913, 300, 121, 341] \n",
      "\n",
      "***Train***: [11, 150, 935, 154, 562, 819, 764, 75, 907, 909, 849, 28, 734, 646, 590, 27, 678, 384, 850, 485, 177, 509, 826, 128, 667, 241, 238, 157, 23, 245, 755, 381, 624, 911, 184, 732, 619, 549, 490, 864, 197, 743, 606, 255, 347, 282, 217, 22, 936, 672, 920, 928, 547, 707, 213, 87, 695, 904, 733, 426, 351, 174, 884, 20, 129, 338, 146, 906, 395, 155, 417, 3, 124, 139, 408, 103, 774, 195, 927, 388, 799, 224, 823, 0, 344, 749, 588, 289, 476, 226, 500, 311, 739, 135, 134, 165, 822, 855, 265, 397, 31, 142, 429, 790, 859, 7, 222, 644, 686, 731, 556, 738, 773, 340, 612, 892, 264, 939, 664, 375, 427, 507, 399, 257, 409, 180, 540, 145, 917, 801, 290, 234, 97, 811, 465, 334, 356, 325, 218, 647, 237, 35, 346, 872, 343, 239, 756, 863, 122, 13, 527, 393, 858, 471, 438, 80, 77, 607, 890, 791, 831, 642, 918, 42, 473, 721, 703, 781, 73, 260, 650, 394, 594, 761, 484, 433, 582, 880, 285, 729, 517, 230, 313, 350, 626, 452, 244, 807, 276, 443, 654, 8, 481, 561, 579, 43, 455, 406, 569, 38, 361, 418, 837, 544, 870, 231, 630, 940, 41, 363, 754, 434, 227, 521, 945, 37, 477, 353, 470, 604, 175, 242, 712, 649, 592, 698, 109, 810, 784, 873, 825, 186, 839, 411, 730, 586, 200, 809, 229, 632, 613, 182, 168, 924, 836, 70, 327, 503, 532, 137, 814, 364, 674, 861, 511, 937, 113, 72, 458, 156, 368, 185, 32, 204, 675, 254, 824, 267, 108, 741, 19, 891, 856, 659, 597, 17, 808, 81, 49, 221, 681, 76, 207, 737, 469, 57, 277, 857, 315, 30, 929, 877, 437, 39, 878, 102, 682, 401, 419, 930, 299, 720, 560, 447, 713, 318, 440, 568, 223, 702, 355, 246, 212, 785, 422, 457, 575, 841, 366, 132, 593, 160, 270, 677, 326, 771, 516, 669, 114, 240, 322, 243, 845, 617, 310, 40, 104, 389, 581, 110, 189, 694, 367, 441, 599, 273, 303, 622, 479, 494, 610, 336, 583, 357, 111, 900, 564, 63, 127, 751, 141, 101, 742, 567, 818, 793, 250, 316, 194, 648, 497, 295, 542, 587, 251, 371, 889, 760, 656, 881, 536, 772, 860, 266, 372, 954, 548, 161, 504, 392, 715, 950, 262, 665, 666, 933, 515, 117, 123, 236, 284, 701, 947, 554, 467, 634, 925, 862, 352, 896, 99, 744, 261, 308, 294, 776, 679, 445, 573, 711, 663, 813, 412, 866, 298, 719, 415, 332, 847, 158, 600, 625, 577, 58, 153, 83, 92, 423, 638, 278, 767, 611, 596, 232, 753, 893, 491, 633, 167, 609, 192, 951, 272, 44, 29, 365, 170, 652, 805, 119, 499, 874, 173, 149, 812, 374, 312, 941, 275, 446, 541, 948, 777, 362, 692, 188, 522, 514, 639, 879, 585, 126, 21, 464, 1, 576, 508, 899, 901, 202, 66, 690, 844, 383, 797, 178, 795, 851, 354, 683, 598, 735, 778, 747, 783, 486, 789, 51, 390, 34, 829, 700, 314, 370, 342, 179, 171, 67, 696, 337, 946, 746, 133, 143, 955, 302, 657, 616, 253, 914, 475, 36, 293, 349, 506, 621, 766, 191, 538, 380, 921, 96, 903, 709, 894, 765, 345, 24, 714, 79, 551, 492, 459, 208, 782, 147, 449, 61, 85, 84, 296, 112, 502, 105, 214, 450, 691, 615, 162, 210, 18, 431, 519, 416, 228, 78, 10, 198, 118, 835, 333, 944, 89, 608, 403, 60, 820, 54, 895, 493, 769, 211, 159, 957, 297, 304, 787, 512, 757, 407, 462, 68, 800, 943, 905, 520, 867, 897, 233, 190, 379, 534, 281, 708, 420, 722, 201, 740, 705, 786, 4, 219, 47, 430, 530, 59, 883, 655, 934, 717, 919, 65, 614, 938, 871, 802, 580, 902, 16, 495, 498, 697, 827, 319, 291, 274, 88, 591, 166, 653, 689, 676, 584, 144, 854, 323, 90, 94, 842, 247, 658, 668, 115, 460, 453, 283, 301, 116, 876, 817, 55, 843, 838, 439, 798, 699, 559, 432, 640, 306, 912, 759, 472, 529, 15, 804, 69, 531, 628, 645, 309, 725, 95, 74, 428, 908, 163, 528, 830, 258, 716, 321, 436, 915, 525, 48, 62, 269, 636, 138, 651, 882, 758, 750, 435, 803, 172, 324, 728, 25, 834, 505, 723, 203, 71, 489, 916, 305, 726, 125, 563, 558, 348, 263, 6, 335, 385, 413, 120, 391, 279, 662, 763, 602, 359, 280, 225, 215, 414, 196, 187, 248, 360, 256, 539, 456, 848, 33, 358, 595, 100, 736, 641, 574, 620, 578, 543, 687, 330, 670, 400, 501, 271, 421, 152, 206, 886, 627, 288, 482, 846, 331, 487, 898, 468, 852, 183, 643, 572, 176, 552, 853, 45, 106, 706, 727, 329, 537, 888, 339, 673, 546, 64, 405, 404, 209, 82, 779, 164, 56, 488, 693, 287, 46, 775, 373, 623, 410, 942, 865, 136, 50, 885, 523, 307, 451, 752, 601, 382, 98, 821, 745, 553, 603, 140, 550, 952, 369, 510, 589, 685, 454, 249, 444, 605, 518, 566, 235, 565, 317, 684, 788, 448, 828, 762, 618, 425, 953, 680, 252, 780, 199, 9] \n",
      "\n",
      "\n",
      "\n",
      "\n",
      "***Test***: [454, 811, 113, 290, 311, 288, 495, 853, 575, 649, 746, 406, 162, 130, 304, 364, 765, 218, 761, 121, 419, 291, 611, 728, 842, 517, 100, 795, 793, 383, 18, 589, 686, 732, 631, 532, 618, 523, 821, 52, 178, 555, 179, 819, 764, 246, 284, 375, 689, 81, 920, 348, 19, 86, 79, 267, 530, 709, 38, 563, 286, 844, 549, 578, 820, 632, 467, 387, 566, 652, 936, 828, 659, 386, 434, 726, 91, 285, 797, 149, 824, 877, 625, 946, 650, 211, 949, 597, 182, 295, 26, 48, 161, 934, 337] \n",
      "\n",
      "***Train***: [482, 359, 132, 331, 698, 489, 283, 67, 917, 470, 210, 35, 667, 724, 893, 303, 556, 458, 808, 745, 421, 595, 571, 411, 111, 89, 950, 241, 17, 109, 681, 176, 424, 533, 268, 114, 40, 898, 663, 457, 448, 562, 345, 62, 2, 499, 468, 244, 45, 638, 843, 585, 930, 767, 840, 854, 879, 66, 792, 610, 392, 509, 703, 733, 692, 245, 766, 34, 494, 756, 343, 276, 527, 515, 72, 914, 380, 6, 592, 117, 713, 101, 207, 695, 831, 328, 524, 754, 711, 85, 565, 596, 240, 739, 326, 826, 933, 955, 46, 153, 199, 164, 232, 891, 903, 875, 852, 944, 608, 426, 613, 314, 439, 915, 402, 466, 536, 492, 233, 368, 418, 583, 471, 812, 601, 954, 261, 280, 751, 673, 215, 599, 294, 259, 779, 59, 674, 694, 41, 447, 177, 798, 564, 500, 195, 31, 803, 484, 707, 324, 382, 213, 822, 115, 869, 540, 847, 21, 125, 605, 560, 76, 78, 53, 333, 616, 805, 478, 212, 202, 102, 912, 612, 537, 306, 129, 677, 371, 301, 878, 50, 942, 923, 24, 321, 586, 330, 334, 14, 225, 897, 543, 626, 461, 759, 516, 29, 929, 4, 472, 825, 248, 409, 753, 332, 922, 12, 209, 65, 11, 254, 730, 654, 317, 60, 408, 188, 430, 622, 483, 685, 159, 487, 882, 243, 32, 700, 910, 384, 30, 166, 64, 813, 719, 609, 584, 75, 341, 587, 429, 239, 234, 451, 818, 90, 94, 729, 277, 939, 265, 750, 603, 755, 271, 837, 404, 9, 720, 84, 224, 646, 235, 0, 272, 635, 714, 377, 722, 252, 256, 617, 855, 422, 16, 99, 475, 633, 108, 310, 775, 716, 890, 829, 607, 506, 579, 518, 378, 3, 574, 131, 846, 624, 441, 119, 697, 455, 905, 863, 367, 614, 198, 743, 474, 485, 718, 848, 940, 444, 490, 431, 479, 251, 423, 710, 545, 189, 443, 567, 666, 287, 74, 785, 124, 889, 200, 258, 356, 850, 699, 706, 637, 37, 354, 900, 845, 727, 488, 885, 591, 293, 511, 10, 219, 56, 731, 861, 325, 275, 353, 389, 858, 269, 928, 647, 170, 43, 830, 336, 312, 491, 880, 154, 13, 644, 521, 569, 88, 886, 937, 777, 554, 771, 651, 925, 931, 217, 231, 144, 693, 705, 15, 80, 807, 263, 141, 640, 908, 172, 39, 266, 528, 809, 550, 926, 169, 185, 859, 69, 918, 433, 943, 715, 688, 895, 774, 319, 360, 737, 388, 628, 25, 876, 250, 757, 361, 180, 196, 932, 318, 512, 282, 600, 675, 220, 355, 909, 136, 763, 738, 427, 561, 645, 615, 581, 623, 504, 107, 366, 582, 913, 902, 27, 36, 437, 351, 103, 519, 416, 606, 127, 137, 158, 823, 347, 630, 152, 279, 833, 911, 856, 662, 92, 945, 477, 150, 668, 696, 952, 262, 904, 201, 134, 167, 894, 539, 670, 796, 236, 398, 138, 661, 827, 866, 122, 551, 58, 851, 501, 273, 708, 145, 881, 365, 95, 505, 302, 44, 463, 770, 96, 481, 514, 335, 205, 800, 140, 397, 459, 758, 197, 682, 620, 594, 924, 143, 804, 222, 892, 687, 175, 142, 460, 772, 174, 49, 316, 369, 588, 192, 502, 160, 748, 308, 110, 208, 735, 948, 548, 184, 313, 183, 452, 508, 723, 883, 801, 327, 104, 363, 740, 352, 899, 228, 901, 747, 401, 742, 690, 257, 33, 629, 323, 832, 237, 817, 374, 486, 206, 344, 531, 42, 320, 568, 639, 139, 874, 168, 786, 358, 112, 260, 691, 278, 784, 799, 23, 462, 229, 296, 927, 226, 147, 82, 572, 71, 385, 665, 249, 410, 957, 480, 906, 357, 702, 415, 834, 412, 849, 449, 526, 542, 656, 87, 126, 438, 55, 194, 546, 315, 553, 534, 679, 867, 559, 669, 292, 221, 672, 704, 570, 857, 503, 642, 734, 395, 445, 105, 806, 683, 496, 627, 264, 151, 255, 204, 372, 577, 760, 664, 223, 921, 816, 680, 420, 621, 8, 193, 810, 181, 873, 657, 513, 83, 340, 298, 297, 507, 425, 428, 61, 242, 186, 938, 93, 655, 839, 70, 951, 916, 1, 405, 558, 841, 163, 465, 156, 116, 476, 453, 641, 956, 580, 442, 684, 135, 464, 73, 165, 868, 173, 602, 947, 557, 749, 660, 238, 342, 299, 872, 214, 227, 862, 440, 51, 322, 469, 884, 190, 783, 778, 289, 54, 538, 752, 413, 187, 712, 643, 888, 634, 396, 456, 535, 399, 309, 701, 133, 373, 247, 768, 648, 744, 780, 941, 346, 391, 815, 547, 552, 349, 802, 432, 274, 619, 541, 525, 493, 97, 860, 376, 741, 157, 789, 146, 281, 838, 676, 791, 573, 63, 20, 305, 787, 47, 394, 773, 935, 919, 128, 725, 435, 473, 370, 794, 393, 5, 414, 400, 300, 98, 403, 446, 417, 68, 762, 896, 782, 678, 118, 498, 230, 362, 593, 604, 22, 870, 253, 721, 148, 529, 658, 776, 864, 653, 338, 7, 576, 123, 28, 120, 781, 598, 203, 769, 407, 788, 522, 953, 390, 191, 216, 814, 836, 907, 717, 871, 57, 636, 436, 329, 590, 106, 381, 450, 497, 307, 350, 544, 736, 671, 790, 510, 77, 887, 171, 379, 520, 339, 835, 865, 270, 155] \n",
      "\n",
      "\n",
      "\n",
      "\n",
      "***Test***: [586, 512, 351, 4, 246, 687, 516, 239, 912, 111, 148, 68, 579, 906, 627, 547, 306, 408, 929, 391, 296, 471, 949, 289, 580, 197, 442, 905, 139, 366, 594, 717, 724, 648, 414, 345, 237, 535, 12, 611, 876, 47, 308, 697, 457, 529, 646, 909, 348, 302, 842, 716, 425, 688, 855, 818, 789, 445, 115, 770, 25, 522, 803, 749, 44, 869, 464, 184, 149, 387, 484, 946, 185, 409, 96, 904, 15, 458, 10, 850, 303, 244, 794, 680, 329, 336, 448, 833, 200, 143, 755, 521, 42, 595, 160] \n",
      "\n",
      "***Train***: [705, 194, 361, 526, 527, 893, 651, 1, 930, 867, 282, 539, 463, 480, 870, 11, 572, 784, 685, 330, 868, 740, 606, 479, 406, 649, 473, 60, 891, 3, 760, 190, 875, 775, 581, 427, 828, 312, 809, 245, 30, 332, 897, 692, 461, 871, 225, 314, 117, 14, 300, 344, 567, 945, 600, 759, 856, 418, 831, 31, 130, 243, 7, 389, 233, 532, 948, 469, 938, 209, 40, 168, 257, 534, 865, 132, 691, 337, 813, 261, 16, 388, 119, 508, 354, 732, 331, 227, 612, 82, 496, 362, 429, 620, 746, 203, 267, 734, 796, 499, 188, 832, 193, 248, 827, 500, 540, 591, 610, 543, 138, 536, 630, 301, 151, 636, 709, 853, 699, 97, 94, 598, 102, 313, 93, 114, 633, 624, 925, 279, 207, 363, 322, 838, 895, 492, 936, 126, 150, 801, 38, 550, 254, 415, 894, 783, 371, 811, 841, 647, 39, 634, 422, 816, 802, 216, 73, 370, 372, 74, 166, 135, 773, 208, 635, 667, 487, 489, 896, 777, 137, 741, 156, 316, 800, 554, 888, 877, 466, 77, 338, 704, 91, 943, 750, 146, 753, 23, 501, 907, 710, 253, 902, 109, 549, 933, 785, 814, 573, 845, 510, 836, 676, 298, 196, 256, 826, 224, 619, 743, 663, 935, 576, 346, 683, 519, 752, 162, 640, 702, 952, 672, 601, 412, 449, 326, 503, 50, 757, 919, 504, 444, 585, 81, 172, 385, 57, 708, 325, 559, 808, 584, 328, 650, 560, 269, 240, 523, 86, 35, 846, 178, 80, 343, 786, 116, 212, 393, 295, 552, 121, 85, 878, 411, 638, 309, 27, 658, 155, 747, 450, 335, 872, 852, 83, 570, 482, 2, 483, 104, 435, 884, 715, 98, 455, 29, 565, 199, 737, 668, 744, 113, 954, 614, 28, 791, 666, 48, 506, 221, 350, 79, 652, 790, 22, 628, 210, 226, 643, 231, 195, 8, 618, 17, 736, 723, 681, 59, 192, 392, 67, 20, 124, 494, 436, 438, 136, 222, 220, 546, 695, 940, 134, 26, 517, 613, 437, 376, 72, 92, 287, 110, 399, 507, 228, 45, 835, 754, 61, 367, 806, 420, 159, 56, 305, 101, 403, 485, 215, 373, 768, 608, 272, 513, 810, 375, 497, 564, 728, 767, 657, 358, 447, 426, 43, 377, 380, 942, 5, 886, 561, 55, 318, 854, 851, 452, 957, 65, 596, 51, 918, 441, 682, 928, 696, 34, 176, 653, 70, 249, 446, 297, 713, 815, 772, 520, 498, 198, 656, 374, 292, 339, 632, 154, 690, 258, 950, 24, 419, 607, 33, 901, 95, 864, 424, 568, 899, 660, 288, 748, 642, 490, 914, 127, 502, 369, 920, 211, 293, 264, 544, 87, 204, 727, 327, 491, 731, 291, 689, 779, 230, 186, 319, 394, 255, 545, 277, 486, 805, 456, 108, 829, 251, 882, 294, 439, 525, 762, 107, 678, 467, 898, 276, 180, 157, 931, 926, 701, 46, 0, 365, 353, 721, 36, 451, 63, 769, 433, 588, 738, 177, 169, 423, 562, 416, 100, 265, 505, 153, 323, 923, 593, 472, 524, 475, 764, 349, 214, 6, 71, 410, 566, 299, 592, 311, 76, 390, 908, 191, 125, 556, 378, 421, 52, 839, 881, 357, 182, 729, 396, 280, 860, 817, 830, 334, 123, 120, 275, 404, 493, 128, 417, 352, 626, 167, 937, 722, 356, 241, 131, 654, 474, 398, 837, 324, 340, 69, 381, 625, 341, 910, 761, 66, 368, 84, 822, 266, 932, 382, 440, 170, 310, 558, 140, 405, 735, 739, 820, 655, 304, 531, 290, 88, 432, 834, 774, 218, 89, 858, 453, 90, 488, 129, 795, 880, 235, 229, 234, 118, 604, 49, 213, 847, 557, 278, 569, 797, 599, 574, 238, 766, 629, 843, 742, 583, 268, 142, 395, 788, 879, 861, 751, 270, 548, 780, 804, 171, 468, 400, 286, 670, 590, 173, 603, 430, 712, 674, 53, 798, 577, 763, 402, 745, 183, 913, 179, 252, 307, 141, 900, 675, 320, 915, 825, 181, 953, 934, 662, 247, 840, 916, 555, 707, 223, 921, 206, 714, 379, 401, 597, 639, 13, 874, 859, 355, 386, 175, 78, 54, 551, 112, 733, 771, 677, 21, 515, 778, 951, 679, 511, 262, 259, 617, 892, 602, 383, 844, 863, 718, 686, 673, 242, 890, 644, 161, 671, 582, 342, 103, 927, 711, 726, 538, 495, 819, 250, 152, 528, 397, 75, 274, 232, 824, 460, 317, 887, 64, 955, 730, 849, 285, 236, 537, 782, 866, 273, 684, 616, 578, 571, 542, 807, 147, 922, 885, 669, 165, 553, 518, 106, 431, 347, 364, 947, 476, 706, 462, 665, 889, 202, 621, 19, 37, 661, 812, 873, 32, 758, 622, 481, 360, 470, 609, 944, 645, 41, 623, 587, 133, 765, 541, 158, 477, 514, 700, 781, 799, 563, 219, 698, 428, 793, 883, 911, 857, 465, 260, 941, 631, 359, 509, 201, 862, 533, 187, 917, 776, 407, 443, 283, 263, 720, 821, 478, 589, 413, 575, 641, 903, 694, 163, 939, 454, 144, 756, 145, 637, 693, 956, 105, 530, 315, 615, 62, 18, 217, 271, 725, 848, 189, 205, 281, 823, 58, 321, 434, 659, 174, 9, 384, 605, 333, 719, 99, 924, 284, 792, 459, 122, 787, 664, 703, 164] \n",
      "\n"
     ]
    }
   ],
   "source": [
    "vc = EstrategiaParticionado.ValidacionSimple(10, 5) \n",
    "vc.creaParticiones(dataset1.datos)\n",
    "\n",
    "for i in range(5):\n",
    "    print(\"\\n\\n\")\n",
    "    print(\"***Test***:\", vc.particiones[i].indicesTest, \"\\n\")\n",
    "    print(\"***Train***:\", vc.particiones[i].indicesTrain, \"\\n\")"
   ]
  },
  {
   "cell_type": "markdown",
   "metadata": {},
   "source": [
    "## 3.1 Validación cruzada\n",
    "En esta estrategia dividimos los datos en un número N de partes, la intención usar cada una de las N partes como test y a la vez usar el resto como training.\n",
    "La clase _ValidacionCruzada_ recibe como argumento en el constructor, el número de porciones que van ha haber en los datos.\n",
    "\n",
    "```py\n",
    "class ValidacionCruzada(EstrategiaParticionado):\n",
    "    \"\"\"Clase que define una estrategia de particionado,\n",
    "    en concreto, validación simple.\n",
    "    \"\"\"\n",
    "\n",
    "    def __init__(self, numeroParticiones):\n",
    "        \"\"\"Construcor.\n",
    "\n",
    "        Args:\n",
    "            numeroParticiones (int): Número de particiones de la validación cruzada.\n",
    "        \"\"\"\n",
    "        super().__init__()\n",
    "        self.numeroParticiones = numeroParticiones\n",
    "```\n",
    "Como se puede ver, simplemente en el constructor asignamos el valor de dicho atributo.\n",
    "Posteriormente se implementó el método _creaParticiones_.\n",
    "\n",
    "```py\n",
    "def creaParticiones(self,datos,seed=None):\n",
    "    random.seed(seed)\n",
    "    self.particiones = []\n",
    "    longitudDatos = np.shape(datos)[0]\n",
    "    longitudPorcion = int(longitudDatos/self.numeroParticiones)\n",
    "\n",
    "    lista_valores = [i for i in range(longitudDatos)]\n",
    "    random.shuffle(lista_valores)\n",
    "\n",
    "    for i in range(self.numeroParticiones):\n",
    "        self.particiones.append(Particion())\n",
    "\n",
    "        # Calculamos los indices del test\n",
    "        fromTest = i*longitudPorcion\n",
    "        toTest = fromTest + longitudPorcion\n",
    "\n",
    "        # Asignamos los indices\n",
    "        self.particiones[-1].indicesTest = lista_valores[fromTest:toTest]\n",
    "        self.particiones[-1].indicesTrain = [i for i in lista_valores if i not in self.particiones[-1].indicesTest]\n",
    "```\n",
    "Al igual que en el método de validación simple, creamos una lista con los valores de los indices en los datos, posteriormente permutamos dicha lista pero en este caso solo es necesario hacerlo una vez. En un bucle asignamos las particiones usando la lista permutada. Hay que tener en cuenta que la asignación de las porciones se hace moviendonos sobre la lista permutada. Por ejemplo, si tuviesemos 4 porciones de los datos los cuales tienen 10 filas, se crearía una lista con los números enteros del 0-9, después permutaríamos la lista y por último en cada iteración del bucle iríamos asignando 2 porciones a cada test.\n",
    "Iteración 1: Test - 2 primeros elementos de la lista permutada - Train - Resto.\n",
    "Iteración 2: Test - 3er y 4º elementos de la lista permutada - Train - Resto.\n",
    "...\n",
    "Se ejecutará un ejemplo aquí debajo."
   ]
  },
  {
   "cell_type": "code",
   "execution_count": 14,
   "metadata": {},
   "outputs": [
    {
     "name": "stdout",
     "output_type": "stream",
     "text": [
      "\n",
      "\n",
      "\n",
      "***Test***: [3, 6] \n",
      "\n",
      "***Train***: [2, 0, 5, 4, 1, 7] \n",
      "\n",
      "\n",
      "\n",
      "\n",
      "***Test***: [2, 0] \n",
      "\n",
      "***Train***: [3, 6, 5, 4, 1, 7] \n",
      "\n",
      "\n",
      "\n",
      "\n",
      "***Test***: [5, 4] \n",
      "\n",
      "***Train***: [3, 6, 2, 0, 1, 7] \n",
      "\n",
      "\n",
      "\n",
      "\n",
      "***Test***: [1, 7] \n",
      "\n",
      "***Train***: [3, 6, 2, 0, 5, 4] \n",
      "\n"
     ]
    }
   ],
   "source": [
    "datos = np.random.random((8, 2)) \n",
    "\n",
    "vc = EstrategiaParticionado.ValidacionCruzada(4)\n",
    "vc.creaParticiones(datos)\n",
    "      \n",
    "for i in range(4):\n",
    "    print(\"\\n\\n\")\n",
    "    print(\"***Test***:\", vc.particiones[i].indicesTest, \"\\n\")\n",
    "    print(\"***Train***:\", vc.particiones[i].indicesTrain, \"\\n\")"
   ]
  },
  {
   "cell_type": "markdown",
   "metadata": {},
   "source": [
    "Se puede apreciar que el array es el mismo, solo vamos asignando la porcion del test que le toca.\n",
    "\n",
    "Ahora se ejecutará lo mismo con el dataset de _tic-tac-toe_."
   ]
  },
  {
   "cell_type": "code",
   "execution_count": 15,
   "metadata": {},
   "outputs": [
    {
     "name": "stdout",
     "output_type": "stream",
     "text": [
      "\n",
      "\n",
      "\n",
      "***Test***: [779, 86, 88, 594, 24, 99, 926, 803, 603, 13, 50, 890, 322, 358, 510, 102, 853, 613, 839, 662, 456, 74, 414, 590, 63, 225, 334, 70, 491, 632, 723, 138, 395, 894, 267, 748, 941, 189, 296, 111, 399, 533, 368, 600, 626, 588, 167, 12, 509, 496, 592, 913, 376, 404, 93, 229, 350, 29, 271, 469, 570, 931, 476, 332, 610, 443, 153, 175, 583, 500, 77, 825, 756, 381, 652, 781, 842, 772, 460, 911, 226, 331, 431, 511, 651, 360, 916, 338, 354, 702, 593, 128, 172, 923, 614] \n",
      "\n",
      "***Train***: [83, 305, 211, 677, 951, 217, 299, 105, 401, 648, 612, 188, 672, 377, 520, 801, 241, 525, 378, 675, 255, 230, 186, 256, 902, 101, 231, 813, 220, 398, 841, 306, 423, 607, 342, 503, 548, 523, 553, 119, 905, 471, 766, 200, 867, 690, 765, 300, 683, 87, 222, 184, 283, 513, 297, 826, 809, 582, 901, 264, 488, 640, 208, 278, 817, 575, 686, 499, 243, 660, 692, 597, 877, 852, 783, 486, 42, 213, 664, 402, 82, 157, 78, 237, 339, 752, 348, 789, 650, 676, 865, 137, 531, 857, 918, 873, 847, 304, 183, 219, 430, 127, 389, 864, 609, 7, 832, 62, 738, 106, 275, 908, 497, 385, 516, 849, 481, 312, 324, 619, 887, 816, 19, 379, 755, 357, 658, 311, 445, 45, 947, 566, 869, 333, 591, 294, 529, 269, 260, 467, 492, 240, 453, 26, 586, 403, 819, 218, 239, 65, 644, 468, 917, 103, 281, 112, 943, 728, 89, 424, 407, 462, 485, 273, 608, 845, 892, 770, 473, 784, 6, 100, 147, 581, 330, 790, 382, 724, 57, 212, 446, 915, 478, 778, 535, 104, 678, 798, 835, 9, 94, 289, 805, 564, 605, 323, 158, 359, 616, 843, 43, 198, 606, 177, 679, 150, 506, 0, 838, 733, 313, 44, 714, 196, 245, 623, 35, 934, 909, 782, 274, 155, 244, 47, 262, 717, 719, 673, 896, 560, 860, 821, 173, 46, 10, 599, 146, 556, 850, 534, 254, 881, 669, 277, 113, 507, 621, 18, 54, 713, 39, 792, 771, 344, 526, 391, 920, 448, 16, 795, 804, 680, 546, 361, 325, 142, 743, 751, 565, 2, 893, 96, 90, 636, 708, 761, 125, 598, 49, 272, 251, 829, 449, 528, 741, 248, 400, 706, 279, 532, 40, 932, 555, 501, 633, 861, 356, 397, 670, 903, 71, 945, 415, 797, 234, 567, 191, 79, 630, 601, 437, 114, 418, 625, 518, 310, 166, 854, 701, 417, 98, 953, 830, 955, 872, 739, 661, 33, 367, 487, 124, 585, 930, 223, 68, 394, 477, 544, 164, 629, 936, 387, 921, 906, 663, 545, 20, 718, 674, 794, 470, 786, 1, 4, 563, 265, 493, 938, 579, 121, 732, 653, 180, 602, 785, 252, 31, 364, 165, 235, 957, 408, 444, 458, 885, 726, 554, 502, 519, 72, 337, 317, 266, 428, 145, 161, 954, 874, 410, 434, 696, 740, 682, 351, 174, 624, 791, 494, 933, 811, 924, 800, 433, 914, 168, 773, 716, 15, 210, 940, 846, 447, 551, 882, 937, 820, 199, 698, 876, 282, 405, 721, 308, 426, 370, 259, 754, 205, 643, 66, 129, 774, 156, 482, 295, 27, 416, 812, 466, 236, 956, 207, 441, 725, 53, 776, 21, 442, 538, 349, 178, 573, 373, 742, 942, 681, 182, 250, 868, 120, 227, 707, 666, 380, 889, 55, 808, 204, 23, 197, 880, 14, 815, 345, 814, 133, 895, 769, 687, 517, 413, 34, 787, 483, 541, 81, 130, 336, 302, 639, 888, 720, 543, 92, 419, 427, 928, 440, 539, 929, 154, 192, 340, 369, 22, 620, 432, 11, 28, 76, 709, 148, 201, 900, 421, 871, 314, 84, 319, 73, 589, 341, 253, 627, 459, 51, 365, 303, 753, 315, 617, 392, 615, 793, 393, 799, 284, 524, 321, 671, 657, 190, 919, 944, 952, 705, 750, 176, 704, 270, 372, 353, 530, 38, 828, 859, 194, 767, 285, 67, 645, 703, 472, 912, 181, 224, 508, 412, 134, 221, 540, 862, 711, 48, 160, 228, 810, 878, 729, 927, 420, 595, 512, 747, 557, 32, 151, 836, 618, 286, 863, 479, 515, 628, 280, 136, 307, 170, 409, 454, 451, 135, 699, 710, 122, 346, 684, 891, 383, 60, 667, 689, 179, 309, 840, 115, 558, 59, 542, 622, 744, 504, 69, 731, 484, 3, 822, 552, 935, 152, 452, 301, 834, 736, 388, 41, 318, 187, 831, 37, 522, 290, 576, 505, 292, 396, 939, 56, 261, 162, 691, 242, 788, 263, 898, 163, 596, 118, 571, 362, 775, 638, 922, 406, 64, 910, 949, 760, 866, 656, 950, 514, 685, 695, 693, 527, 457, 126, 335, 110, 316, 948, 807, 886, 107, 465, 36, 143, 439, 549, 232, 875, 61, 818, 635, 233, 298, 329, 899, 802, 762, 109, 578, 495, 764, 562, 116, 366, 291, 435, 85, 870, 202, 715, 438, 823, 745, 52, 195, 694, 97, 425, 490, 474, 268, 455, 436, 287, 108, 604, 631, 215, 327, 649, 858, 140, 883, 117, 171, 144, 17, 688, 475, 668, 30, 904, 737, 429, 347, 343, 844, 95, 655, 247, 355, 386, 851, 293, 123, 450, 422, 746, 759, 925, 258, 587, 463, 856, 521, 547, 712, 722, 384, 352, 884, 5, 185, 572, 489, 276, 149, 203, 159, 763, 780, 498, 735, 411, 727, 561, 730, 75, 169, 461, 584, 642, 193, 257, 326, 659, 637, 131, 328, 697, 879, 569, 758, 907, 654, 320, 837, 91, 536, 634, 611, 374, 757, 375, 777, 214, 25, 58, 559, 288, 80, 855, 700, 824, 249, 568, 796, 550, 647, 848, 641, 390, 464, 209, 132, 8, 734, 580, 238, 480, 897, 141, 363, 806, 768, 749, 577, 371, 206, 216, 833, 574, 537, 827, 646, 139, 246, 946, 665] \n",
      "\n",
      "\n",
      "\n",
      "\n",
      "***Test***: [83, 305, 211, 677, 951, 217, 299, 105, 401, 648, 612, 188, 672, 377, 520, 801, 241, 525, 378, 675, 255, 230, 186, 256, 902, 101, 231, 813, 220, 398, 841, 306, 423, 607, 342, 503, 548, 523, 553, 119, 905, 471, 766, 200, 867, 690, 765, 300, 683, 87, 222, 184, 283, 513, 297, 826, 809, 582, 901, 264, 488, 640, 208, 278, 817, 575, 686, 499, 243, 660, 692, 597, 877, 852, 783, 486, 42, 213, 664, 402, 82, 157, 78, 237, 339, 752, 348, 789, 650, 676, 865, 137, 531, 857, 918] \n",
      "\n",
      "***Train***: [779, 86, 88, 594, 24, 99, 926, 803, 603, 13, 50, 890, 322, 358, 510, 102, 853, 613, 839, 662, 456, 74, 414, 590, 63, 225, 334, 70, 491, 632, 723, 138, 395, 894, 267, 748, 941, 189, 296, 111, 399, 533, 368, 600, 626, 588, 167, 12, 509, 496, 592, 913, 376, 404, 93, 229, 350, 29, 271, 469, 570, 931, 476, 332, 610, 443, 153, 175, 583, 500, 77, 825, 756, 381, 652, 781, 842, 772, 460, 911, 226, 331, 431, 511, 651, 360, 916, 338, 354, 702, 593, 128, 172, 923, 614, 873, 847, 304, 183, 219, 430, 127, 389, 864, 609, 7, 832, 62, 738, 106, 275, 908, 497, 385, 516, 849, 481, 312, 324, 619, 887, 816, 19, 379, 755, 357, 658, 311, 445, 45, 947, 566, 869, 333, 591, 294, 529, 269, 260, 467, 492, 240, 453, 26, 586, 403, 819, 218, 239, 65, 644, 468, 917, 103, 281, 112, 943, 728, 89, 424, 407, 462, 485, 273, 608, 845, 892, 770, 473, 784, 6, 100, 147, 581, 330, 790, 382, 724, 57, 212, 446, 915, 478, 778, 535, 104, 678, 798, 835, 9, 94, 289, 805, 564, 605, 323, 158, 359, 616, 843, 43, 198, 606, 177, 679, 150, 506, 0, 838, 733, 313, 44, 714, 196, 245, 623, 35, 934, 909, 782, 274, 155, 244, 47, 262, 717, 719, 673, 896, 560, 860, 821, 173, 46, 10, 599, 146, 556, 850, 534, 254, 881, 669, 277, 113, 507, 621, 18, 54, 713, 39, 792, 771, 344, 526, 391, 920, 448, 16, 795, 804, 680, 546, 361, 325, 142, 743, 751, 565, 2, 893, 96, 90, 636, 708, 761, 125, 598, 49, 272, 251, 829, 449, 528, 741, 248, 400, 706, 279, 532, 40, 932, 555, 501, 633, 861, 356, 397, 670, 903, 71, 945, 415, 797, 234, 567, 191, 79, 630, 601, 437, 114, 418, 625, 518, 310, 166, 854, 701, 417, 98, 953, 830, 955, 872, 739, 661, 33, 367, 487, 124, 585, 930, 223, 68, 394, 477, 544, 164, 629, 936, 387, 921, 906, 663, 545, 20, 718, 674, 794, 470, 786, 1, 4, 563, 265, 493, 938, 579, 121, 732, 653, 180, 602, 785, 252, 31, 364, 165, 235, 957, 408, 444, 458, 885, 726, 554, 502, 519, 72, 337, 317, 266, 428, 145, 161, 954, 874, 410, 434, 696, 740, 682, 351, 174, 624, 791, 494, 933, 811, 924, 800, 433, 914, 168, 773, 716, 15, 210, 940, 846, 447, 551, 882, 937, 820, 199, 698, 876, 282, 405, 721, 308, 426, 370, 259, 754, 205, 643, 66, 129, 774, 156, 482, 295, 27, 416, 812, 466, 236, 956, 207, 441, 725, 53, 776, 21, 442, 538, 349, 178, 573, 373, 742, 942, 681, 182, 250, 868, 120, 227, 707, 666, 380, 889, 55, 808, 204, 23, 197, 880, 14, 815, 345, 814, 133, 895, 769, 687, 517, 413, 34, 787, 483, 541, 81, 130, 336, 302, 639, 888, 720, 543, 92, 419, 427, 928, 440, 539, 929, 154, 192, 340, 369, 22, 620, 432, 11, 28, 76, 709, 148, 201, 900, 421, 871, 314, 84, 319, 73, 589, 341, 253, 627, 459, 51, 365, 303, 753, 315, 617, 392, 615, 793, 393, 799, 284, 524, 321, 671, 657, 190, 919, 944, 952, 705, 750, 176, 704, 270, 372, 353, 530, 38, 828, 859, 194, 767, 285, 67, 645, 703, 472, 912, 181, 224, 508, 412, 134, 221, 540, 862, 711, 48, 160, 228, 810, 878, 729, 927, 420, 595, 512, 747, 557, 32, 151, 836, 618, 286, 863, 479, 515, 628, 280, 136, 307, 170, 409, 454, 451, 135, 699, 710, 122, 346, 684, 891, 383, 60, 667, 689, 179, 309, 840, 115, 558, 59, 542, 622, 744, 504, 69, 731, 484, 3, 822, 552, 935, 152, 452, 301, 834, 736, 388, 41, 318, 187, 831, 37, 522, 290, 576, 505, 292, 396, 939, 56, 261, 162, 691, 242, 788, 263, 898, 163, 596, 118, 571, 362, 775, 638, 922, 406, 64, 910, 949, 760, 866, 656, 950, 514, 685, 695, 693, 527, 457, 126, 335, 110, 316, 948, 807, 886, 107, 465, 36, 143, 439, 549, 232, 875, 61, 818, 635, 233, 298, 329, 899, 802, 762, 109, 578, 495, 764, 562, 116, 366, 291, 435, 85, 870, 202, 715, 438, 823, 745, 52, 195, 694, 97, 425, 490, 474, 268, 455, 436, 287, 108, 604, 631, 215, 327, 649, 858, 140, 883, 117, 171, 144, 17, 688, 475, 668, 30, 904, 737, 429, 347, 343, 844, 95, 655, 247, 355, 386, 851, 293, 123, 450, 422, 746, 759, 925, 258, 587, 463, 856, 521, 547, 712, 722, 384, 352, 884, 5, 185, 572, 489, 276, 149, 203, 159, 763, 780, 498, 735, 411, 727, 561, 730, 75, 169, 461, 584, 642, 193, 257, 326, 659, 637, 131, 328, 697, 879, 569, 758, 907, 654, 320, 837, 91, 536, 634, 611, 374, 757, 375, 777, 214, 25, 58, 559, 288, 80, 855, 700, 824, 249, 568, 796, 550, 647, 848, 641, 390, 464, 209, 132, 8, 734, 580, 238, 480, 897, 141, 363, 806, 768, 749, 577, 371, 206, 216, 833, 574, 537, 827, 646, 139, 246, 946, 665] \n",
      "\n",
      "\n",
      "\n",
      "\n",
      "***Test***: [873, 847, 304, 183, 219, 430, 127, 389, 864, 609, 7, 832, 62, 738, 106, 275, 908, 497, 385, 516, 849, 481, 312, 324, 619, 887, 816, 19, 379, 755, 357, 658, 311, 445, 45, 947, 566, 869, 333, 591, 294, 529, 269, 260, 467, 492, 240, 453, 26, 586, 403, 819, 218, 239, 65, 644, 468, 917, 103, 281, 112, 943, 728, 89, 424, 407, 462, 485, 273, 608, 845, 892, 770, 473, 784, 6, 100, 147, 581, 330, 790, 382, 724, 57, 212, 446, 915, 478, 778, 535, 104, 678, 798, 835, 9] \n",
      "\n",
      "***Train***: [779, 86, 88, 594, 24, 99, 926, 803, 603, 13, 50, 890, 322, 358, 510, 102, 853, 613, 839, 662, 456, 74, 414, 590, 63, 225, 334, 70, 491, 632, 723, 138, 395, 894, 267, 748, 941, 189, 296, 111, 399, 533, 368, 600, 626, 588, 167, 12, 509, 496, 592, 913, 376, 404, 93, 229, 350, 29, 271, 469, 570, 931, 476, 332, 610, 443, 153, 175, 583, 500, 77, 825, 756, 381, 652, 781, 842, 772, 460, 911, 226, 331, 431, 511, 651, 360, 916, 338, 354, 702, 593, 128, 172, 923, 614, 83, 305, 211, 677, 951, 217, 299, 105, 401, 648, 612, 188, 672, 377, 520, 801, 241, 525, 378, 675, 255, 230, 186, 256, 902, 101, 231, 813, 220, 398, 841, 306, 423, 607, 342, 503, 548, 523, 553, 119, 905, 471, 766, 200, 867, 690, 765, 300, 683, 87, 222, 184, 283, 513, 297, 826, 809, 582, 901, 264, 488, 640, 208, 278, 817, 575, 686, 499, 243, 660, 692, 597, 877, 852, 783, 486, 42, 213, 664, 402, 82, 157, 78, 237, 339, 752, 348, 789, 650, 676, 865, 137, 531, 857, 918, 94, 289, 805, 564, 605, 323, 158, 359, 616, 843, 43, 198, 606, 177, 679, 150, 506, 0, 838, 733, 313, 44, 714, 196, 245, 623, 35, 934, 909, 782, 274, 155, 244, 47, 262, 717, 719, 673, 896, 560, 860, 821, 173, 46, 10, 599, 146, 556, 850, 534, 254, 881, 669, 277, 113, 507, 621, 18, 54, 713, 39, 792, 771, 344, 526, 391, 920, 448, 16, 795, 804, 680, 546, 361, 325, 142, 743, 751, 565, 2, 893, 96, 90, 636, 708, 761, 125, 598, 49, 272, 251, 829, 449, 528, 741, 248, 400, 706, 279, 532, 40, 932, 555, 501, 633, 861, 356, 397, 670, 903, 71, 945, 415, 797, 234, 567, 191, 79, 630, 601, 437, 114, 418, 625, 518, 310, 166, 854, 701, 417, 98, 953, 830, 955, 872, 739, 661, 33, 367, 487, 124, 585, 930, 223, 68, 394, 477, 544, 164, 629, 936, 387, 921, 906, 663, 545, 20, 718, 674, 794, 470, 786, 1, 4, 563, 265, 493, 938, 579, 121, 732, 653, 180, 602, 785, 252, 31, 364, 165, 235, 957, 408, 444, 458, 885, 726, 554, 502, 519, 72, 337, 317, 266, 428, 145, 161, 954, 874, 410, 434, 696, 740, 682, 351, 174, 624, 791, 494, 933, 811, 924, 800, 433, 914, 168, 773, 716, 15, 210, 940, 846, 447, 551, 882, 937, 820, 199, 698, 876, 282, 405, 721, 308, 426, 370, 259, 754, 205, 643, 66, 129, 774, 156, 482, 295, 27, 416, 812, 466, 236, 956, 207, 441, 725, 53, 776, 21, 442, 538, 349, 178, 573, 373, 742, 942, 681, 182, 250, 868, 120, 227, 707, 666, 380, 889, 55, 808, 204, 23, 197, 880, 14, 815, 345, 814, 133, 895, 769, 687, 517, 413, 34, 787, 483, 541, 81, 130, 336, 302, 639, 888, 720, 543, 92, 419, 427, 928, 440, 539, 929, 154, 192, 340, 369, 22, 620, 432, 11, 28, 76, 709, 148, 201, 900, 421, 871, 314, 84, 319, 73, 589, 341, 253, 627, 459, 51, 365, 303, 753, 315, 617, 392, 615, 793, 393, 799, 284, 524, 321, 671, 657, 190, 919, 944, 952, 705, 750, 176, 704, 270, 372, 353, 530, 38, 828, 859, 194, 767, 285, 67, 645, 703, 472, 912, 181, 224, 508, 412, 134, 221, 540, 862, 711, 48, 160, 228, 810, 878, 729, 927, 420, 595, 512, 747, 557, 32, 151, 836, 618, 286, 863, 479, 515, 628, 280, 136, 307, 170, 409, 454, 451, 135, 699, 710, 122, 346, 684, 891, 383, 60, 667, 689, 179, 309, 840, 115, 558, 59, 542, 622, 744, 504, 69, 731, 484, 3, 822, 552, 935, 152, 452, 301, 834, 736, 388, 41, 318, 187, 831, 37, 522, 290, 576, 505, 292, 396, 939, 56, 261, 162, 691, 242, 788, 263, 898, 163, 596, 118, 571, 362, 775, 638, 922, 406, 64, 910, 949, 760, 866, 656, 950, 514, 685, 695, 693, 527, 457, 126, 335, 110, 316, 948, 807, 886, 107, 465, 36, 143, 439, 549, 232, 875, 61, 818, 635, 233, 298, 329, 899, 802, 762, 109, 578, 495, 764, 562, 116, 366, 291, 435, 85, 870, 202, 715, 438, 823, 745, 52, 195, 694, 97, 425, 490, 474, 268, 455, 436, 287, 108, 604, 631, 215, 327, 649, 858, 140, 883, 117, 171, 144, 17, 688, 475, 668, 30, 904, 737, 429, 347, 343, 844, 95, 655, 247, 355, 386, 851, 293, 123, 450, 422, 746, 759, 925, 258, 587, 463, 856, 521, 547, 712, 722, 384, 352, 884, 5, 185, 572, 489, 276, 149, 203, 159, 763, 780, 498, 735, 411, 727, 561, 730, 75, 169, 461, 584, 642, 193, 257, 326, 659, 637, 131, 328, 697, 879, 569, 758, 907, 654, 320, 837, 91, 536, 634, 611, 374, 757, 375, 777, 214, 25, 58, 559, 288, 80, 855, 700, 824, 249, 568, 796, 550, 647, 848, 641, 390, 464, 209, 132, 8, 734, 580, 238, 480, 897, 141, 363, 806, 768, 749, 577, 371, 206, 216, 833, 574, 537, 827, 646, 139, 246, 946, 665] \n",
      "\n",
      "\n",
      "\n",
      "\n",
      "***Test***: [94, 289, 805, 564, 605, 323, 158, 359, 616, 843, 43, 198, 606, 177, 679, 150, 506, 0, 838, 733, 313, 44, 714, 196, 245, 623, 35, 934, 909, 782, 274, 155, 244, 47, 262, 717, 719, 673, 896, 560, 860, 821, 173, 46, 10, 599, 146, 556, 850, 534, 254, 881, 669, 277, 113, 507, 621, 18, 54, 713, 39, 792, 771, 344, 526, 391, 920, 448, 16, 795, 804, 680, 546, 361, 325, 142, 743, 751, 565, 2, 893, 96, 90, 636, 708, 761, 125, 598, 49, 272, 251, 829, 449, 528, 741] \n",
      "\n",
      "***Train***: [779, 86, 88, 594, 24, 99, 926, 803, 603, 13, 50, 890, 322, 358, 510, 102, 853, 613, 839, 662, 456, 74, 414, 590, 63, 225, 334, 70, 491, 632, 723, 138, 395, 894, 267, 748, 941, 189, 296, 111, 399, 533, 368, 600, 626, 588, 167, 12, 509, 496, 592, 913, 376, 404, 93, 229, 350, 29, 271, 469, 570, 931, 476, 332, 610, 443, 153, 175, 583, 500, 77, 825, 756, 381, 652, 781, 842, 772, 460, 911, 226, 331, 431, 511, 651, 360, 916, 338, 354, 702, 593, 128, 172, 923, 614, 83, 305, 211, 677, 951, 217, 299, 105, 401, 648, 612, 188, 672, 377, 520, 801, 241, 525, 378, 675, 255, 230, 186, 256, 902, 101, 231, 813, 220, 398, 841, 306, 423, 607, 342, 503, 548, 523, 553, 119, 905, 471, 766, 200, 867, 690, 765, 300, 683, 87, 222, 184, 283, 513, 297, 826, 809, 582, 901, 264, 488, 640, 208, 278, 817, 575, 686, 499, 243, 660, 692, 597, 877, 852, 783, 486, 42, 213, 664, 402, 82, 157, 78, 237, 339, 752, 348, 789, 650, 676, 865, 137, 531, 857, 918, 873, 847, 304, 183, 219, 430, 127, 389, 864, 609, 7, 832, 62, 738, 106, 275, 908, 497, 385, 516, 849, 481, 312, 324, 619, 887, 816, 19, 379, 755, 357, 658, 311, 445, 45, 947, 566, 869, 333, 591, 294, 529, 269, 260, 467, 492, 240, 453, 26, 586, 403, 819, 218, 239, 65, 644, 468, 917, 103, 281, 112, 943, 728, 89, 424, 407, 462, 485, 273, 608, 845, 892, 770, 473, 784, 6, 100, 147, 581, 330, 790, 382, 724, 57, 212, 446, 915, 478, 778, 535, 104, 678, 798, 835, 9, 248, 400, 706, 279, 532, 40, 932, 555, 501, 633, 861, 356, 397, 670, 903, 71, 945, 415, 797, 234, 567, 191, 79, 630, 601, 437, 114, 418, 625, 518, 310, 166, 854, 701, 417, 98, 953, 830, 955, 872, 739, 661, 33, 367, 487, 124, 585, 930, 223, 68, 394, 477, 544, 164, 629, 936, 387, 921, 906, 663, 545, 20, 718, 674, 794, 470, 786, 1, 4, 563, 265, 493, 938, 579, 121, 732, 653, 180, 602, 785, 252, 31, 364, 165, 235, 957, 408, 444, 458, 885, 726, 554, 502, 519, 72, 337, 317, 266, 428, 145, 161, 954, 874, 410, 434, 696, 740, 682, 351, 174, 624, 791, 494, 933, 811, 924, 800, 433, 914, 168, 773, 716, 15, 210, 940, 846, 447, 551, 882, 937, 820, 199, 698, 876, 282, 405, 721, 308, 426, 370, 259, 754, 205, 643, 66, 129, 774, 156, 482, 295, 27, 416, 812, 466, 236, 956, 207, 441, 725, 53, 776, 21, 442, 538, 349, 178, 573, 373, 742, 942, 681, 182, 250, 868, 120, 227, 707, 666, 380, 889, 55, 808, 204, 23, 197, 880, 14, 815, 345, 814, 133, 895, 769, 687, 517, 413, 34, 787, 483, 541, 81, 130, 336, 302, 639, 888, 720, 543, 92, 419, 427, 928, 440, 539, 929, 154, 192, 340, 369, 22, 620, 432, 11, 28, 76, 709, 148, 201, 900, 421, 871, 314, 84, 319, 73, 589, 341, 253, 627, 459, 51, 365, 303, 753, 315, 617, 392, 615, 793, 393, 799, 284, 524, 321, 671, 657, 190, 919, 944, 952, 705, 750, 176, 704, 270, 372, 353, 530, 38, 828, 859, 194, 767, 285, 67, 645, 703, 472, 912, 181, 224, 508, 412, 134, 221, 540, 862, 711, 48, 160, 228, 810, 878, 729, 927, 420, 595, 512, 747, 557, 32, 151, 836, 618, 286, 863, 479, 515, 628, 280, 136, 307, 170, 409, 454, 451, 135, 699, 710, 122, 346, 684, 891, 383, 60, 667, 689, 179, 309, 840, 115, 558, 59, 542, 622, 744, 504, 69, 731, 484, 3, 822, 552, 935, 152, 452, 301, 834, 736, 388, 41, 318, 187, 831, 37, 522, 290, 576, 505, 292, 396, 939, 56, 261, 162, 691, 242, 788, 263, 898, 163, 596, 118, 571, 362, 775, 638, 922, 406, 64, 910, 949, 760, 866, 656, 950, 514, 685, 695, 693, 527, 457, 126, 335, 110, 316, 948, 807, 886, 107, 465, 36, 143, 439, 549, 232, 875, 61, 818, 635, 233, 298, 329, 899, 802, 762, 109, 578, 495, 764, 562, 116, 366, 291, 435, 85, 870, 202, 715, 438, 823, 745, 52, 195, 694, 97, 425, 490, 474, 268, 455, 436, 287, 108, 604, 631, 215, 327, 649, 858, 140, 883, 117, 171, 144, 17, 688, 475, 668, 30, 904, 737, 429, 347, 343, 844, 95, 655, 247, 355, 386, 851, 293, 123, 450, 422, 746, 759, 925, 258, 587, 463, 856, 521, 547, 712, 722, 384, 352, 884, 5, 185, 572, 489, 276, 149, 203, 159, 763, 780, 498, 735, 411, 727, 561, 730, 75, 169, 461, 584, 642, 193, 257, 326, 659, 637, 131, 328, 697, 879, 569, 758, 907, 654, 320, 837, 91, 536, 634, 611, 374, 757, 375, 777, 214, 25, 58, 559, 288, 80, 855, 700, 824, 249, 568, 796, 550, 647, 848, 641, 390, 464, 209, 132, 8, 734, 580, 238, 480, 897, 141, 363, 806, 768, 749, 577, 371, 206, 216, 833, 574, 537, 827, 646, 139, 246, 946, 665] \n",
      "\n",
      "\n",
      "\n",
      "\n",
      "***Test***: [248, 400, 706, 279, 532, 40, 932, 555, 501, 633, 861, 356, 397, 670, 903, 71, 945, 415, 797, 234, 567, 191, 79, 630, 601, 437, 114, 418, 625, 518, 310, 166, 854, 701, 417, 98, 953, 830, 955, 872, 739, 661, 33, 367, 487, 124, 585, 930, 223, 68, 394, 477, 544, 164, 629, 936, 387, 921, 906, 663, 545, 20, 718, 674, 794, 470, 786, 1, 4, 563, 265, 493, 938, 579, 121, 732, 653, 180, 602, 785, 252, 31, 364, 165, 235, 957, 408, 444, 458, 885, 726, 554, 502, 519, 72] \n",
      "\n",
      "***Train***: [779, 86, 88, 594, 24, 99, 926, 803, 603, 13, 50, 890, 322, 358, 510, 102, 853, 613, 839, 662, 456, 74, 414, 590, 63, 225, 334, 70, 491, 632, 723, 138, 395, 894, 267, 748, 941, 189, 296, 111, 399, 533, 368, 600, 626, 588, 167, 12, 509, 496, 592, 913, 376, 404, 93, 229, 350, 29, 271, 469, 570, 931, 476, 332, 610, 443, 153, 175, 583, 500, 77, 825, 756, 381, 652, 781, 842, 772, 460, 911, 226, 331, 431, 511, 651, 360, 916, 338, 354, 702, 593, 128, 172, 923, 614, 83, 305, 211, 677, 951, 217, 299, 105, 401, 648, 612, 188, 672, 377, 520, 801, 241, 525, 378, 675, 255, 230, 186, 256, 902, 101, 231, 813, 220, 398, 841, 306, 423, 607, 342, 503, 548, 523, 553, 119, 905, 471, 766, 200, 867, 690, 765, 300, 683, 87, 222, 184, 283, 513, 297, 826, 809, 582, 901, 264, 488, 640, 208, 278, 817, 575, 686, 499, 243, 660, 692, 597, 877, 852, 783, 486, 42, 213, 664, 402, 82, 157, 78, 237, 339, 752, 348, 789, 650, 676, 865, 137, 531, 857, 918, 873, 847, 304, 183, 219, 430, 127, 389, 864, 609, 7, 832, 62, 738, 106, 275, 908, 497, 385, 516, 849, 481, 312, 324, 619, 887, 816, 19, 379, 755, 357, 658, 311, 445, 45, 947, 566, 869, 333, 591, 294, 529, 269, 260, 467, 492, 240, 453, 26, 586, 403, 819, 218, 239, 65, 644, 468, 917, 103, 281, 112, 943, 728, 89, 424, 407, 462, 485, 273, 608, 845, 892, 770, 473, 784, 6, 100, 147, 581, 330, 790, 382, 724, 57, 212, 446, 915, 478, 778, 535, 104, 678, 798, 835, 9, 94, 289, 805, 564, 605, 323, 158, 359, 616, 843, 43, 198, 606, 177, 679, 150, 506, 0, 838, 733, 313, 44, 714, 196, 245, 623, 35, 934, 909, 782, 274, 155, 244, 47, 262, 717, 719, 673, 896, 560, 860, 821, 173, 46, 10, 599, 146, 556, 850, 534, 254, 881, 669, 277, 113, 507, 621, 18, 54, 713, 39, 792, 771, 344, 526, 391, 920, 448, 16, 795, 804, 680, 546, 361, 325, 142, 743, 751, 565, 2, 893, 96, 90, 636, 708, 761, 125, 598, 49, 272, 251, 829, 449, 528, 741, 337, 317, 266, 428, 145, 161, 954, 874, 410, 434, 696, 740, 682, 351, 174, 624, 791, 494, 933, 811, 924, 800, 433, 914, 168, 773, 716, 15, 210, 940, 846, 447, 551, 882, 937, 820, 199, 698, 876, 282, 405, 721, 308, 426, 370, 259, 754, 205, 643, 66, 129, 774, 156, 482, 295, 27, 416, 812, 466, 236, 956, 207, 441, 725, 53, 776, 21, 442, 538, 349, 178, 573, 373, 742, 942, 681, 182, 250, 868, 120, 227, 707, 666, 380, 889, 55, 808, 204, 23, 197, 880, 14, 815, 345, 814, 133, 895, 769, 687, 517, 413, 34, 787, 483, 541, 81, 130, 336, 302, 639, 888, 720, 543, 92, 419, 427, 928, 440, 539, 929, 154, 192, 340, 369, 22, 620, 432, 11, 28, 76, 709, 148, 201, 900, 421, 871, 314, 84, 319, 73, 589, 341, 253, 627, 459, 51, 365, 303, 753, 315, 617, 392, 615, 793, 393, 799, 284, 524, 321, 671, 657, 190, 919, 944, 952, 705, 750, 176, 704, 270, 372, 353, 530, 38, 828, 859, 194, 767, 285, 67, 645, 703, 472, 912, 181, 224, 508, 412, 134, 221, 540, 862, 711, 48, 160, 228, 810, 878, 729, 927, 420, 595, 512, 747, 557, 32, 151, 836, 618, 286, 863, 479, 515, 628, 280, 136, 307, 170, 409, 454, 451, 135, 699, 710, 122, 346, 684, 891, 383, 60, 667, 689, 179, 309, 840, 115, 558, 59, 542, 622, 744, 504, 69, 731, 484, 3, 822, 552, 935, 152, 452, 301, 834, 736, 388, 41, 318, 187, 831, 37, 522, 290, 576, 505, 292, 396, 939, 56, 261, 162, 691, 242, 788, 263, 898, 163, 596, 118, 571, 362, 775, 638, 922, 406, 64, 910, 949, 760, 866, 656, 950, 514, 685, 695, 693, 527, 457, 126, 335, 110, 316, 948, 807, 886, 107, 465, 36, 143, 439, 549, 232, 875, 61, 818, 635, 233, 298, 329, 899, 802, 762, 109, 578, 495, 764, 562, 116, 366, 291, 435, 85, 870, 202, 715, 438, 823, 745, 52, 195, 694, 97, 425, 490, 474, 268, 455, 436, 287, 108, 604, 631, 215, 327, 649, 858, 140, 883, 117, 171, 144, 17, 688, 475, 668, 30, 904, 737, 429, 347, 343, 844, 95, 655, 247, 355, 386, 851, 293, 123, 450, 422, 746, 759, 925, 258, 587, 463, 856, 521, 547, 712, 722, 384, 352, 884, 5, 185, 572, 489, 276, 149, 203, 159, 763, 780, 498, 735, 411, 727, 561, 730, 75, 169, 461, 584, 642, 193, 257, 326, 659, 637, 131, 328, 697, 879, 569, 758, 907, 654, 320, 837, 91, 536, 634, 611, 374, 757, 375, 777, 214, 25, 58, 559, 288, 80, 855, 700, 824, 249, 568, 796, 550, 647, 848, 641, 390, 464, 209, 132, 8, 734, 580, 238, 480, 897, 141, 363, 806, 768, 749, 577, 371, 206, 216, 833, 574, 537, 827, 646, 139, 246, 946, 665] \n",
      "\n",
      "\n",
      "\n",
      "\n",
      "***Test***: [337, 317, 266, 428, 145, 161, 954, 874, 410, 434, 696, 740, 682, 351, 174, 624, 791, 494, 933, 811, 924, 800, 433, 914, 168, 773, 716, 15, 210, 940, 846, 447, 551, 882, 937, 820, 199, 698, 876, 282, 405, 721, 308, 426, 370, 259, 754, 205, 643, 66, 129, 774, 156, 482, 295, 27, 416, 812, 466, 236, 956, 207, 441, 725, 53, 776, 21, 442, 538, 349, 178, 573, 373, 742, 942, 681, 182, 250, 868, 120, 227, 707, 666, 380, 889, 55, 808, 204, 23, 197, 880, 14, 815, 345, 814] \n",
      "\n",
      "***Train***: [779, 86, 88, 594, 24, 99, 926, 803, 603, 13, 50, 890, 322, 358, 510, 102, 853, 613, 839, 662, 456, 74, 414, 590, 63, 225, 334, 70, 491, 632, 723, 138, 395, 894, 267, 748, 941, 189, 296, 111, 399, 533, 368, 600, 626, 588, 167, 12, 509, 496, 592, 913, 376, 404, 93, 229, 350, 29, 271, 469, 570, 931, 476, 332, 610, 443, 153, 175, 583, 500, 77, 825, 756, 381, 652, 781, 842, 772, 460, 911, 226, 331, 431, 511, 651, 360, 916, 338, 354, 702, 593, 128, 172, 923, 614, 83, 305, 211, 677, 951, 217, 299, 105, 401, 648, 612, 188, 672, 377, 520, 801, 241, 525, 378, 675, 255, 230, 186, 256, 902, 101, 231, 813, 220, 398, 841, 306, 423, 607, 342, 503, 548, 523, 553, 119, 905, 471, 766, 200, 867, 690, 765, 300, 683, 87, 222, 184, 283, 513, 297, 826, 809, 582, 901, 264, 488, 640, 208, 278, 817, 575, 686, 499, 243, 660, 692, 597, 877, 852, 783, 486, 42, 213, 664, 402, 82, 157, 78, 237, 339, 752, 348, 789, 650, 676, 865, 137, 531, 857, 918, 873, 847, 304, 183, 219, 430, 127, 389, 864, 609, 7, 832, 62, 738, 106, 275, 908, 497, 385, 516, 849, 481, 312, 324, 619, 887, 816, 19, 379, 755, 357, 658, 311, 445, 45, 947, 566, 869, 333, 591, 294, 529, 269, 260, 467, 492, 240, 453, 26, 586, 403, 819, 218, 239, 65, 644, 468, 917, 103, 281, 112, 943, 728, 89, 424, 407, 462, 485, 273, 608, 845, 892, 770, 473, 784, 6, 100, 147, 581, 330, 790, 382, 724, 57, 212, 446, 915, 478, 778, 535, 104, 678, 798, 835, 9, 94, 289, 805, 564, 605, 323, 158, 359, 616, 843, 43, 198, 606, 177, 679, 150, 506, 0, 838, 733, 313, 44, 714, 196, 245, 623, 35, 934, 909, 782, 274, 155, 244, 47, 262, 717, 719, 673, 896, 560, 860, 821, 173, 46, 10, 599, 146, 556, 850, 534, 254, 881, 669, 277, 113, 507, 621, 18, 54, 713, 39, 792, 771, 344, 526, 391, 920, 448, 16, 795, 804, 680, 546, 361, 325, 142, 743, 751, 565, 2, 893, 96, 90, 636, 708, 761, 125, 598, 49, 272, 251, 829, 449, 528, 741, 248, 400, 706, 279, 532, 40, 932, 555, 501, 633, 861, 356, 397, 670, 903, 71, 945, 415, 797, 234, 567, 191, 79, 630, 601, 437, 114, 418, 625, 518, 310, 166, 854, 701, 417, 98, 953, 830, 955, 872, 739, 661, 33, 367, 487, 124, 585, 930, 223, 68, 394, 477, 544, 164, 629, 936, 387, 921, 906, 663, 545, 20, 718, 674, 794, 470, 786, 1, 4, 563, 265, 493, 938, 579, 121, 732, 653, 180, 602, 785, 252, 31, 364, 165, 235, 957, 408, 444, 458, 885, 726, 554, 502, 519, 72, 133, 895, 769, 687, 517, 413, 34, 787, 483, 541, 81, 130, 336, 302, 639, 888, 720, 543, 92, 419, 427, 928, 440, 539, 929, 154, 192, 340, 369, 22, 620, 432, 11, 28, 76, 709, 148, 201, 900, 421, 871, 314, 84, 319, 73, 589, 341, 253, 627, 459, 51, 365, 303, 753, 315, 617, 392, 615, 793, 393, 799, 284, 524, 321, 671, 657, 190, 919, 944, 952, 705, 750, 176, 704, 270, 372, 353, 530, 38, 828, 859, 194, 767, 285, 67, 645, 703, 472, 912, 181, 224, 508, 412, 134, 221, 540, 862, 711, 48, 160, 228, 810, 878, 729, 927, 420, 595, 512, 747, 557, 32, 151, 836, 618, 286, 863, 479, 515, 628, 280, 136, 307, 170, 409, 454, 451, 135, 699, 710, 122, 346, 684, 891, 383, 60, 667, 689, 179, 309, 840, 115, 558, 59, 542, 622, 744, 504, 69, 731, 484, 3, 822, 552, 935, 152, 452, 301, 834, 736, 388, 41, 318, 187, 831, 37, 522, 290, 576, 505, 292, 396, 939, 56, 261, 162, 691, 242, 788, 263, 898, 163, 596, 118, 571, 362, 775, 638, 922, 406, 64, 910, 949, 760, 866, 656, 950, 514, 685, 695, 693, 527, 457, 126, 335, 110, 316, 948, 807, 886, 107, 465, 36, 143, 439, 549, 232, 875, 61, 818, 635, 233, 298, 329, 899, 802, 762, 109, 578, 495, 764, 562, 116, 366, 291, 435, 85, 870, 202, 715, 438, 823, 745, 52, 195, 694, 97, 425, 490, 474, 268, 455, 436, 287, 108, 604, 631, 215, 327, 649, 858, 140, 883, 117, 171, 144, 17, 688, 475, 668, 30, 904, 737, 429, 347, 343, 844, 95, 655, 247, 355, 386, 851, 293, 123, 450, 422, 746, 759, 925, 258, 587, 463, 856, 521, 547, 712, 722, 384, 352, 884, 5, 185, 572, 489, 276, 149, 203, 159, 763, 780, 498, 735, 411, 727, 561, 730, 75, 169, 461, 584, 642, 193, 257, 326, 659, 637, 131, 328, 697, 879, 569, 758, 907, 654, 320, 837, 91, 536, 634, 611, 374, 757, 375, 777, 214, 25, 58, 559, 288, 80, 855, 700, 824, 249, 568, 796, 550, 647, 848, 641, 390, 464, 209, 132, 8, 734, 580, 238, 480, 897, 141, 363, 806, 768, 749, 577, 371, 206, 216, 833, 574, 537, 827, 646, 139, 246, 946, 665] \n",
      "\n",
      "\n",
      "\n",
      "\n",
      "***Test***: [133, 895, 769, 687, 517, 413, 34, 787, 483, 541, 81, 130, 336, 302, 639, 888, 720, 543, 92, 419, 427, 928, 440, 539, 929, 154, 192, 340, 369, 22, 620, 432, 11, 28, 76, 709, 148, 201, 900, 421, 871, 314, 84, 319, 73, 589, 341, 253, 627, 459, 51, 365, 303, 753, 315, 617, 392, 615, 793, 393, 799, 284, 524, 321, 671, 657, 190, 919, 944, 952, 705, 750, 176, 704, 270, 372, 353, 530, 38, 828, 859, 194, 767, 285, 67, 645, 703, 472, 912, 181, 224, 508, 412, 134, 221] \n",
      "\n",
      "***Train***: [779, 86, 88, 594, 24, 99, 926, 803, 603, 13, 50, 890, 322, 358, 510, 102, 853, 613, 839, 662, 456, 74, 414, 590, 63, 225, 334, 70, 491, 632, 723, 138, 395, 894, 267, 748, 941, 189, 296, 111, 399, 533, 368, 600, 626, 588, 167, 12, 509, 496, 592, 913, 376, 404, 93, 229, 350, 29, 271, 469, 570, 931, 476, 332, 610, 443, 153, 175, 583, 500, 77, 825, 756, 381, 652, 781, 842, 772, 460, 911, 226, 331, 431, 511, 651, 360, 916, 338, 354, 702, 593, 128, 172, 923, 614, 83, 305, 211, 677, 951, 217, 299, 105, 401, 648, 612, 188, 672, 377, 520, 801, 241, 525, 378, 675, 255, 230, 186, 256, 902, 101, 231, 813, 220, 398, 841, 306, 423, 607, 342, 503, 548, 523, 553, 119, 905, 471, 766, 200, 867, 690, 765, 300, 683, 87, 222, 184, 283, 513, 297, 826, 809, 582, 901, 264, 488, 640, 208, 278, 817, 575, 686, 499, 243, 660, 692, 597, 877, 852, 783, 486, 42, 213, 664, 402, 82, 157, 78, 237, 339, 752, 348, 789, 650, 676, 865, 137, 531, 857, 918, 873, 847, 304, 183, 219, 430, 127, 389, 864, 609, 7, 832, 62, 738, 106, 275, 908, 497, 385, 516, 849, 481, 312, 324, 619, 887, 816, 19, 379, 755, 357, 658, 311, 445, 45, 947, 566, 869, 333, 591, 294, 529, 269, 260, 467, 492, 240, 453, 26, 586, 403, 819, 218, 239, 65, 644, 468, 917, 103, 281, 112, 943, 728, 89, 424, 407, 462, 485, 273, 608, 845, 892, 770, 473, 784, 6, 100, 147, 581, 330, 790, 382, 724, 57, 212, 446, 915, 478, 778, 535, 104, 678, 798, 835, 9, 94, 289, 805, 564, 605, 323, 158, 359, 616, 843, 43, 198, 606, 177, 679, 150, 506, 0, 838, 733, 313, 44, 714, 196, 245, 623, 35, 934, 909, 782, 274, 155, 244, 47, 262, 717, 719, 673, 896, 560, 860, 821, 173, 46, 10, 599, 146, 556, 850, 534, 254, 881, 669, 277, 113, 507, 621, 18, 54, 713, 39, 792, 771, 344, 526, 391, 920, 448, 16, 795, 804, 680, 546, 361, 325, 142, 743, 751, 565, 2, 893, 96, 90, 636, 708, 761, 125, 598, 49, 272, 251, 829, 449, 528, 741, 248, 400, 706, 279, 532, 40, 932, 555, 501, 633, 861, 356, 397, 670, 903, 71, 945, 415, 797, 234, 567, 191, 79, 630, 601, 437, 114, 418, 625, 518, 310, 166, 854, 701, 417, 98, 953, 830, 955, 872, 739, 661, 33, 367, 487, 124, 585, 930, 223, 68, 394, 477, 544, 164, 629, 936, 387, 921, 906, 663, 545, 20, 718, 674, 794, 470, 786, 1, 4, 563, 265, 493, 938, 579, 121, 732, 653, 180, 602, 785, 252, 31, 364, 165, 235, 957, 408, 444, 458, 885, 726, 554, 502, 519, 72, 337, 317, 266, 428, 145, 161, 954, 874, 410, 434, 696, 740, 682, 351, 174, 624, 791, 494, 933, 811, 924, 800, 433, 914, 168, 773, 716, 15, 210, 940, 846, 447, 551, 882, 937, 820, 199, 698, 876, 282, 405, 721, 308, 426, 370, 259, 754, 205, 643, 66, 129, 774, 156, 482, 295, 27, 416, 812, 466, 236, 956, 207, 441, 725, 53, 776, 21, 442, 538, 349, 178, 573, 373, 742, 942, 681, 182, 250, 868, 120, 227, 707, 666, 380, 889, 55, 808, 204, 23, 197, 880, 14, 815, 345, 814, 540, 862, 711, 48, 160, 228, 810, 878, 729, 927, 420, 595, 512, 747, 557, 32, 151, 836, 618, 286, 863, 479, 515, 628, 280, 136, 307, 170, 409, 454, 451, 135, 699, 710, 122, 346, 684, 891, 383, 60, 667, 689, 179, 309, 840, 115, 558, 59, 542, 622, 744, 504, 69, 731, 484, 3, 822, 552, 935, 152, 452, 301, 834, 736, 388, 41, 318, 187, 831, 37, 522, 290, 576, 505, 292, 396, 939, 56, 261, 162, 691, 242, 788, 263, 898, 163, 596, 118, 571, 362, 775, 638, 922, 406, 64, 910, 949, 760, 866, 656, 950, 514, 685, 695, 693, 527, 457, 126, 335, 110, 316, 948, 807, 886, 107, 465, 36, 143, 439, 549, 232, 875, 61, 818, 635, 233, 298, 329, 899, 802, 762, 109, 578, 495, 764, 562, 116, 366, 291, 435, 85, 870, 202, 715, 438, 823, 745, 52, 195, 694, 97, 425, 490, 474, 268, 455, 436, 287, 108, 604, 631, 215, 327, 649, 858, 140, 883, 117, 171, 144, 17, 688, 475, 668, 30, 904, 737, 429, 347, 343, 844, 95, 655, 247, 355, 386, 851, 293, 123, 450, 422, 746, 759, 925, 258, 587, 463, 856, 521, 547, 712, 722, 384, 352, 884, 5, 185, 572, 489, 276, 149, 203, 159, 763, 780, 498, 735, 411, 727, 561, 730, 75, 169, 461, 584, 642, 193, 257, 326, 659, 637, 131, 328, 697, 879, 569, 758, 907, 654, 320, 837, 91, 536, 634, 611, 374, 757, 375, 777, 214, 25, 58, 559, 288, 80, 855, 700, 824, 249, 568, 796, 550, 647, 848, 641, 390, 464, 209, 132, 8, 734, 580, 238, 480, 897, 141, 363, 806, 768, 749, 577, 371, 206, 216, 833, 574, 537, 827, 646, 139, 246, 946, 665] \n",
      "\n",
      "\n",
      "\n",
      "\n",
      "***Test***: [540, 862, 711, 48, 160, 228, 810, 878, 729, 927, 420, 595, 512, 747, 557, 32, 151, 836, 618, 286, 863, 479, 515, 628, 280, 136, 307, 170, 409, 454, 451, 135, 699, 710, 122, 346, 684, 891, 383, 60, 667, 689, 179, 309, 840, 115, 558, 59, 542, 622, 744, 504, 69, 731, 484, 3, 822, 552, 935, 152, 452, 301, 834, 736, 388, 41, 318, 187, 831, 37, 522, 290, 576, 505, 292, 396, 939, 56, 261, 162, 691, 242, 788, 263, 898, 163, 596, 118, 571, 362, 775, 638, 922, 406, 64] \n",
      "\n",
      "***Train***: [779, 86, 88, 594, 24, 99, 926, 803, 603, 13, 50, 890, 322, 358, 510, 102, 853, 613, 839, 662, 456, 74, 414, 590, 63, 225, 334, 70, 491, 632, 723, 138, 395, 894, 267, 748, 941, 189, 296, 111, 399, 533, 368, 600, 626, 588, 167, 12, 509, 496, 592, 913, 376, 404, 93, 229, 350, 29, 271, 469, 570, 931, 476, 332, 610, 443, 153, 175, 583, 500, 77, 825, 756, 381, 652, 781, 842, 772, 460, 911, 226, 331, 431, 511, 651, 360, 916, 338, 354, 702, 593, 128, 172, 923, 614, 83, 305, 211, 677, 951, 217, 299, 105, 401, 648, 612, 188, 672, 377, 520, 801, 241, 525, 378, 675, 255, 230, 186, 256, 902, 101, 231, 813, 220, 398, 841, 306, 423, 607, 342, 503, 548, 523, 553, 119, 905, 471, 766, 200, 867, 690, 765, 300, 683, 87, 222, 184, 283, 513, 297, 826, 809, 582, 901, 264, 488, 640, 208, 278, 817, 575, 686, 499, 243, 660, 692, 597, 877, 852, 783, 486, 42, 213, 664, 402, 82, 157, 78, 237, 339, 752, 348, 789, 650, 676, 865, 137, 531, 857, 918, 873, 847, 304, 183, 219, 430, 127, 389, 864, 609, 7, 832, 62, 738, 106, 275, 908, 497, 385, 516, 849, 481, 312, 324, 619, 887, 816, 19, 379, 755, 357, 658, 311, 445, 45, 947, 566, 869, 333, 591, 294, 529, 269, 260, 467, 492, 240, 453, 26, 586, 403, 819, 218, 239, 65, 644, 468, 917, 103, 281, 112, 943, 728, 89, 424, 407, 462, 485, 273, 608, 845, 892, 770, 473, 784, 6, 100, 147, 581, 330, 790, 382, 724, 57, 212, 446, 915, 478, 778, 535, 104, 678, 798, 835, 9, 94, 289, 805, 564, 605, 323, 158, 359, 616, 843, 43, 198, 606, 177, 679, 150, 506, 0, 838, 733, 313, 44, 714, 196, 245, 623, 35, 934, 909, 782, 274, 155, 244, 47, 262, 717, 719, 673, 896, 560, 860, 821, 173, 46, 10, 599, 146, 556, 850, 534, 254, 881, 669, 277, 113, 507, 621, 18, 54, 713, 39, 792, 771, 344, 526, 391, 920, 448, 16, 795, 804, 680, 546, 361, 325, 142, 743, 751, 565, 2, 893, 96, 90, 636, 708, 761, 125, 598, 49, 272, 251, 829, 449, 528, 741, 248, 400, 706, 279, 532, 40, 932, 555, 501, 633, 861, 356, 397, 670, 903, 71, 945, 415, 797, 234, 567, 191, 79, 630, 601, 437, 114, 418, 625, 518, 310, 166, 854, 701, 417, 98, 953, 830, 955, 872, 739, 661, 33, 367, 487, 124, 585, 930, 223, 68, 394, 477, 544, 164, 629, 936, 387, 921, 906, 663, 545, 20, 718, 674, 794, 470, 786, 1, 4, 563, 265, 493, 938, 579, 121, 732, 653, 180, 602, 785, 252, 31, 364, 165, 235, 957, 408, 444, 458, 885, 726, 554, 502, 519, 72, 337, 317, 266, 428, 145, 161, 954, 874, 410, 434, 696, 740, 682, 351, 174, 624, 791, 494, 933, 811, 924, 800, 433, 914, 168, 773, 716, 15, 210, 940, 846, 447, 551, 882, 937, 820, 199, 698, 876, 282, 405, 721, 308, 426, 370, 259, 754, 205, 643, 66, 129, 774, 156, 482, 295, 27, 416, 812, 466, 236, 956, 207, 441, 725, 53, 776, 21, 442, 538, 349, 178, 573, 373, 742, 942, 681, 182, 250, 868, 120, 227, 707, 666, 380, 889, 55, 808, 204, 23, 197, 880, 14, 815, 345, 814, 133, 895, 769, 687, 517, 413, 34, 787, 483, 541, 81, 130, 336, 302, 639, 888, 720, 543, 92, 419, 427, 928, 440, 539, 929, 154, 192, 340, 369, 22, 620, 432, 11, 28, 76, 709, 148, 201, 900, 421, 871, 314, 84, 319, 73, 589, 341, 253, 627, 459, 51, 365, 303, 753, 315, 617, 392, 615, 793, 393, 799, 284, 524, 321, 671, 657, 190, 919, 944, 952, 705, 750, 176, 704, 270, 372, 353, 530, 38, 828, 859, 194, 767, 285, 67, 645, 703, 472, 912, 181, 224, 508, 412, 134, 221, 910, 949, 760, 866, 656, 950, 514, 685, 695, 693, 527, 457, 126, 335, 110, 316, 948, 807, 886, 107, 465, 36, 143, 439, 549, 232, 875, 61, 818, 635, 233, 298, 329, 899, 802, 762, 109, 578, 495, 764, 562, 116, 366, 291, 435, 85, 870, 202, 715, 438, 823, 745, 52, 195, 694, 97, 425, 490, 474, 268, 455, 436, 287, 108, 604, 631, 215, 327, 649, 858, 140, 883, 117, 171, 144, 17, 688, 475, 668, 30, 904, 737, 429, 347, 343, 844, 95, 655, 247, 355, 386, 851, 293, 123, 450, 422, 746, 759, 925, 258, 587, 463, 856, 521, 547, 712, 722, 384, 352, 884, 5, 185, 572, 489, 276, 149, 203, 159, 763, 780, 498, 735, 411, 727, 561, 730, 75, 169, 461, 584, 642, 193, 257, 326, 659, 637, 131, 328, 697, 879, 569, 758, 907, 654, 320, 837, 91, 536, 634, 611, 374, 757, 375, 777, 214, 25, 58, 559, 288, 80, 855, 700, 824, 249, 568, 796, 550, 647, 848, 641, 390, 464, 209, 132, 8, 734, 580, 238, 480, 897, 141, 363, 806, 768, 749, 577, 371, 206, 216, 833, 574, 537, 827, 646, 139, 246, 946, 665] \n",
      "\n",
      "\n",
      "\n",
      "\n",
      "***Test***: [910, 949, 760, 866, 656, 950, 514, 685, 695, 693, 527, 457, 126, 335, 110, 316, 948, 807, 886, 107, 465, 36, 143, 439, 549, 232, 875, 61, 818, 635, 233, 298, 329, 899, 802, 762, 109, 578, 495, 764, 562, 116, 366, 291, 435, 85, 870, 202, 715, 438, 823, 745, 52, 195, 694, 97, 425, 490, 474, 268, 455, 436, 287, 108, 604, 631, 215, 327, 649, 858, 140, 883, 117, 171, 144, 17, 688, 475, 668, 30, 904, 737, 429, 347, 343, 844, 95, 655, 247, 355, 386, 851, 293, 123, 450] \n",
      "\n",
      "***Train***: [779, 86, 88, 594, 24, 99, 926, 803, 603, 13, 50, 890, 322, 358, 510, 102, 853, 613, 839, 662, 456, 74, 414, 590, 63, 225, 334, 70, 491, 632, 723, 138, 395, 894, 267, 748, 941, 189, 296, 111, 399, 533, 368, 600, 626, 588, 167, 12, 509, 496, 592, 913, 376, 404, 93, 229, 350, 29, 271, 469, 570, 931, 476, 332, 610, 443, 153, 175, 583, 500, 77, 825, 756, 381, 652, 781, 842, 772, 460, 911, 226, 331, 431, 511, 651, 360, 916, 338, 354, 702, 593, 128, 172, 923, 614, 83, 305, 211, 677, 951, 217, 299, 105, 401, 648, 612, 188, 672, 377, 520, 801, 241, 525, 378, 675, 255, 230, 186, 256, 902, 101, 231, 813, 220, 398, 841, 306, 423, 607, 342, 503, 548, 523, 553, 119, 905, 471, 766, 200, 867, 690, 765, 300, 683, 87, 222, 184, 283, 513, 297, 826, 809, 582, 901, 264, 488, 640, 208, 278, 817, 575, 686, 499, 243, 660, 692, 597, 877, 852, 783, 486, 42, 213, 664, 402, 82, 157, 78, 237, 339, 752, 348, 789, 650, 676, 865, 137, 531, 857, 918, 873, 847, 304, 183, 219, 430, 127, 389, 864, 609, 7, 832, 62, 738, 106, 275, 908, 497, 385, 516, 849, 481, 312, 324, 619, 887, 816, 19, 379, 755, 357, 658, 311, 445, 45, 947, 566, 869, 333, 591, 294, 529, 269, 260, 467, 492, 240, 453, 26, 586, 403, 819, 218, 239, 65, 644, 468, 917, 103, 281, 112, 943, 728, 89, 424, 407, 462, 485, 273, 608, 845, 892, 770, 473, 784, 6, 100, 147, 581, 330, 790, 382, 724, 57, 212, 446, 915, 478, 778, 535, 104, 678, 798, 835, 9, 94, 289, 805, 564, 605, 323, 158, 359, 616, 843, 43, 198, 606, 177, 679, 150, 506, 0, 838, 733, 313, 44, 714, 196, 245, 623, 35, 934, 909, 782, 274, 155, 244, 47, 262, 717, 719, 673, 896, 560, 860, 821, 173, 46, 10, 599, 146, 556, 850, 534, 254, 881, 669, 277, 113, 507, 621, 18, 54, 713, 39, 792, 771, 344, 526, 391, 920, 448, 16, 795, 804, 680, 546, 361, 325, 142, 743, 751, 565, 2, 893, 96, 90, 636, 708, 761, 125, 598, 49, 272, 251, 829, 449, 528, 741, 248, 400, 706, 279, 532, 40, 932, 555, 501, 633, 861, 356, 397, 670, 903, 71, 945, 415, 797, 234, 567, 191, 79, 630, 601, 437, 114, 418, 625, 518, 310, 166, 854, 701, 417, 98, 953, 830, 955, 872, 739, 661, 33, 367, 487, 124, 585, 930, 223, 68, 394, 477, 544, 164, 629, 936, 387, 921, 906, 663, 545, 20, 718, 674, 794, 470, 786, 1, 4, 563, 265, 493, 938, 579, 121, 732, 653, 180, 602, 785, 252, 31, 364, 165, 235, 957, 408, 444, 458, 885, 726, 554, 502, 519, 72, 337, 317, 266, 428, 145, 161, 954, 874, 410, 434, 696, 740, 682, 351, 174, 624, 791, 494, 933, 811, 924, 800, 433, 914, 168, 773, 716, 15, 210, 940, 846, 447, 551, 882, 937, 820, 199, 698, 876, 282, 405, 721, 308, 426, 370, 259, 754, 205, 643, 66, 129, 774, 156, 482, 295, 27, 416, 812, 466, 236, 956, 207, 441, 725, 53, 776, 21, 442, 538, 349, 178, 573, 373, 742, 942, 681, 182, 250, 868, 120, 227, 707, 666, 380, 889, 55, 808, 204, 23, 197, 880, 14, 815, 345, 814, 133, 895, 769, 687, 517, 413, 34, 787, 483, 541, 81, 130, 336, 302, 639, 888, 720, 543, 92, 419, 427, 928, 440, 539, 929, 154, 192, 340, 369, 22, 620, 432, 11, 28, 76, 709, 148, 201, 900, 421, 871, 314, 84, 319, 73, 589, 341, 253, 627, 459, 51, 365, 303, 753, 315, 617, 392, 615, 793, 393, 799, 284, 524, 321, 671, 657, 190, 919, 944, 952, 705, 750, 176, 704, 270, 372, 353, 530, 38, 828, 859, 194, 767, 285, 67, 645, 703, 472, 912, 181, 224, 508, 412, 134, 221, 540, 862, 711, 48, 160, 228, 810, 878, 729, 927, 420, 595, 512, 747, 557, 32, 151, 836, 618, 286, 863, 479, 515, 628, 280, 136, 307, 170, 409, 454, 451, 135, 699, 710, 122, 346, 684, 891, 383, 60, 667, 689, 179, 309, 840, 115, 558, 59, 542, 622, 744, 504, 69, 731, 484, 3, 822, 552, 935, 152, 452, 301, 834, 736, 388, 41, 318, 187, 831, 37, 522, 290, 576, 505, 292, 396, 939, 56, 261, 162, 691, 242, 788, 263, 898, 163, 596, 118, 571, 362, 775, 638, 922, 406, 64, 422, 746, 759, 925, 258, 587, 463, 856, 521, 547, 712, 722, 384, 352, 884, 5, 185, 572, 489, 276, 149, 203, 159, 763, 780, 498, 735, 411, 727, 561, 730, 75, 169, 461, 584, 642, 193, 257, 326, 659, 637, 131, 328, 697, 879, 569, 758, 907, 654, 320, 837, 91, 536, 634, 611, 374, 757, 375, 777, 214, 25, 58, 559, 288, 80, 855, 700, 824, 249, 568, 796, 550, 647, 848, 641, 390, 464, 209, 132, 8, 734, 580, 238, 480, 897, 141, 363, 806, 768, 749, 577, 371, 206, 216, 833, 574, 537, 827, 646, 139, 246, 946, 665] \n",
      "\n",
      "\n",
      "\n",
      "\n",
      "***Test***: [422, 746, 759, 925, 258, 587, 463, 856, 521, 547, 712, 722, 384, 352, 884, 5, 185, 572, 489, 276, 149, 203, 159, 763, 780, 498, 735, 411, 727, 561, 730, 75, 169, 461, 584, 642, 193, 257, 326, 659, 637, 131, 328, 697, 879, 569, 758, 907, 654, 320, 837, 91, 536, 634, 611, 374, 757, 375, 777, 214, 25, 58, 559, 288, 80, 855, 700, 824, 249, 568, 796, 550, 647, 848, 641, 390, 464, 209, 132, 8, 734, 580, 238, 480, 897, 141, 363, 806, 768, 749, 577, 371, 206, 216, 833] \n",
      "\n",
      "***Train***: [779, 86, 88, 594, 24, 99, 926, 803, 603, 13, 50, 890, 322, 358, 510, 102, 853, 613, 839, 662, 456, 74, 414, 590, 63, 225, 334, 70, 491, 632, 723, 138, 395, 894, 267, 748, 941, 189, 296, 111, 399, 533, 368, 600, 626, 588, 167, 12, 509, 496, 592, 913, 376, 404, 93, 229, 350, 29, 271, 469, 570, 931, 476, 332, 610, 443, 153, 175, 583, 500, 77, 825, 756, 381, 652, 781, 842, 772, 460, 911, 226, 331, 431, 511, 651, 360, 916, 338, 354, 702, 593, 128, 172, 923, 614, 83, 305, 211, 677, 951, 217, 299, 105, 401, 648, 612, 188, 672, 377, 520, 801, 241, 525, 378, 675, 255, 230, 186, 256, 902, 101, 231, 813, 220, 398, 841, 306, 423, 607, 342, 503, 548, 523, 553, 119, 905, 471, 766, 200, 867, 690, 765, 300, 683, 87, 222, 184, 283, 513, 297, 826, 809, 582, 901, 264, 488, 640, 208, 278, 817, 575, 686, 499, 243, 660, 692, 597, 877, 852, 783, 486, 42, 213, 664, 402, 82, 157, 78, 237, 339, 752, 348, 789, 650, 676, 865, 137, 531, 857, 918, 873, 847, 304, 183, 219, 430, 127, 389, 864, 609, 7, 832, 62, 738, 106, 275, 908, 497, 385, 516, 849, 481, 312, 324, 619, 887, 816, 19, 379, 755, 357, 658, 311, 445, 45, 947, 566, 869, 333, 591, 294, 529, 269, 260, 467, 492, 240, 453, 26, 586, 403, 819, 218, 239, 65, 644, 468, 917, 103, 281, 112, 943, 728, 89, 424, 407, 462, 485, 273, 608, 845, 892, 770, 473, 784, 6, 100, 147, 581, 330, 790, 382, 724, 57, 212, 446, 915, 478, 778, 535, 104, 678, 798, 835, 9, 94, 289, 805, 564, 605, 323, 158, 359, 616, 843, 43, 198, 606, 177, 679, 150, 506, 0, 838, 733, 313, 44, 714, 196, 245, 623, 35, 934, 909, 782, 274, 155, 244, 47, 262, 717, 719, 673, 896, 560, 860, 821, 173, 46, 10, 599, 146, 556, 850, 534, 254, 881, 669, 277, 113, 507, 621, 18, 54, 713, 39, 792, 771, 344, 526, 391, 920, 448, 16, 795, 804, 680, 546, 361, 325, 142, 743, 751, 565, 2, 893, 96, 90, 636, 708, 761, 125, 598, 49, 272, 251, 829, 449, 528, 741, 248, 400, 706, 279, 532, 40, 932, 555, 501, 633, 861, 356, 397, 670, 903, 71, 945, 415, 797, 234, 567, 191, 79, 630, 601, 437, 114, 418, 625, 518, 310, 166, 854, 701, 417, 98, 953, 830, 955, 872, 739, 661, 33, 367, 487, 124, 585, 930, 223, 68, 394, 477, 544, 164, 629, 936, 387, 921, 906, 663, 545, 20, 718, 674, 794, 470, 786, 1, 4, 563, 265, 493, 938, 579, 121, 732, 653, 180, 602, 785, 252, 31, 364, 165, 235, 957, 408, 444, 458, 885, 726, 554, 502, 519, 72, 337, 317, 266, 428, 145, 161, 954, 874, 410, 434, 696, 740, 682, 351, 174, 624, 791, 494, 933, 811, 924, 800, 433, 914, 168, 773, 716, 15, 210, 940, 846, 447, 551, 882, 937, 820, 199, 698, 876, 282, 405, 721, 308, 426, 370, 259, 754, 205, 643, 66, 129, 774, 156, 482, 295, 27, 416, 812, 466, 236, 956, 207, 441, 725, 53, 776, 21, 442, 538, 349, 178, 573, 373, 742, 942, 681, 182, 250, 868, 120, 227, 707, 666, 380, 889, 55, 808, 204, 23, 197, 880, 14, 815, 345, 814, 133, 895, 769, 687, 517, 413, 34, 787, 483, 541, 81, 130, 336, 302, 639, 888, 720, 543, 92, 419, 427, 928, 440, 539, 929, 154, 192, 340, 369, 22, 620, 432, 11, 28, 76, 709, 148, 201, 900, 421, 871, 314, 84, 319, 73, 589, 341, 253, 627, 459, 51, 365, 303, 753, 315, 617, 392, 615, 793, 393, 799, 284, 524, 321, 671, 657, 190, 919, 944, 952, 705, 750, 176, 704, 270, 372, 353, 530, 38, 828, 859, 194, 767, 285, 67, 645, 703, 472, 912, 181, 224, 508, 412, 134, 221, 540, 862, 711, 48, 160, 228, 810, 878, 729, 927, 420, 595, 512, 747, 557, 32, 151, 836, 618, 286, 863, 479, 515, 628, 280, 136, 307, 170, 409, 454, 451, 135, 699, 710, 122, 346, 684, 891, 383, 60, 667, 689, 179, 309, 840, 115, 558, 59, 542, 622, 744, 504, 69, 731, 484, 3, 822, 552, 935, 152, 452, 301, 834, 736, 388, 41, 318, 187, 831, 37, 522, 290, 576, 505, 292, 396, 939, 56, 261, 162, 691, 242, 788, 263, 898, 163, 596, 118, 571, 362, 775, 638, 922, 406, 64, 910, 949, 760, 866, 656, 950, 514, 685, 695, 693, 527, 457, 126, 335, 110, 316, 948, 807, 886, 107, 465, 36, 143, 439, 549, 232, 875, 61, 818, 635, 233, 298, 329, 899, 802, 762, 109, 578, 495, 764, 562, 116, 366, 291, 435, 85, 870, 202, 715, 438, 823, 745, 52, 195, 694, 97, 425, 490, 474, 268, 455, 436, 287, 108, 604, 631, 215, 327, 649, 858, 140, 883, 117, 171, 144, 17, 688, 475, 668, 30, 904, 737, 429, 347, 343, 844, 95, 655, 247, 355, 386, 851, 293, 123, 450, 574, 537, 827, 646, 139, 246, 946, 665] \n",
      "\n"
     ]
    }
   ],
   "source": [
    "vc = EstrategiaParticionado.ValidacionCruzada(10) \n",
    "vc.creaParticiones(dataset1.datos)\n",
    "\n",
    "for i in range(10):\n",
    "    print(\"\\n\\n\")\n",
    "    print(\"***Test***:\", vc.particiones[i].indicesTest, \"\\n\")\n",
    "    print(\"***Train***:\", vc.particiones[i].indicesTrain, \"\\n\")"
   ]
  },
  {
   "cell_type": "markdown",
   "metadata": {},
   "source": [
    "## 4. Diseño preliminar de la aplicación\n",
    "Se nos aconsejó implementar parte de la aplicación para entrenar modelos y comprobar el error producido en estos, como en esta práctica no se nos pide crear ningún modelo, unicamente se ha implementado el método __error__ del archivo clasificador, el método es muy simple, lo único que hace es comprobar si la predicción recibida es correcta comparando cada fila de la predicción con el elemento correspondiente en los datos (normalmente la clase). \n",
    "```py\n",
    "def error(self, datos, pred):\n",
    "    \"\"\"Obtiene el numero de aciertos y errores para calcular la tasa de fallo\n",
    "\n",
    "    Args:\n",
    "        datos: Matriz numpy con los datos de entrenamiento\n",
    "        pred: Predicción\n",
    "    \"\"\"\n",
    "    errores = 0\n",
    "\n",
    "    for i in range(datos.datos.shape[0]):\n",
    "        if datos[i][-1] != pred[i]:\n",
    "            errores += 1\n",
    "\n",
    "    return (errores/datos.datos.shape[0])*100\n",
    "```\n",
    "La razón por la que no se ha implementado el método __validacion__ es porque al no tener ningún clasificador implementado es complicado construir el método sin que en el futuro de errores (como los podría dar la implementación del método error). Es por eso que la implementación de ambos métodos se hará en la siguiente práctica."
   ]
  }
 ],
 "metadata": {
  "kernelspec": {
   "display_name": "Python 3",
   "language": "python",
   "name": "python3"
  },
  "language_info": {
   "codemirror_mode": {
    "name": "ipython",
    "version": 3
   },
   "file_extension": ".py",
   "mimetype": "text/x-python",
   "name": "python",
   "nbconvert_exporter": "python",
   "pygments_lexer": "ipython3",
   "version": "3.8.5"
  }
 },
 "nbformat": 4,
 "nbformat_minor": 5
}
