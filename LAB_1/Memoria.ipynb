{
 "cells": [
  {
   "cell_type": "markdown",
   "id": "58292d67-f4c0-4a04-bfb4-c0998dd67fe6",
   "metadata": {},
   "source": [
    "# __Fundamentos de Aprendizaje Automático 2021/2022__\n",
    "## Práctica de Introducción: _TRATAMIENTO DE DATOS, PARTICIONAMIENTO Y DISEÑO PRELIMINAR DE LA APLICACIÓN_\n",
    "### Grupo 1462 - Pareja 10 - Kevin de la Coba Malam"
   ]
  },
  {
   "cell_type": "code",
   "execution_count": 1,
   "id": "bebfbb21-9a19-46e4-b77d-1216d25d602c",
   "metadata": {},
   "outputs": [],
   "source": [
    "import pandas as pd\n",
    "import numpy as np\n",
    "from Datos import Datos"
   ]
  },
  {
   "cell_type": "markdown",
   "id": "c8cb763e-cb1f-47b5-a054-81f61f8aa665",
   "metadata": {},
   "source": [
    "## __1. Introducción__\n",
    "En este jupyter notebook se explicarán las soluciones a los diferentes apartados de la práctica de introducción."
   ]
  },
  {
   "cell_type": "markdown",
   "id": "0b1bb2cb-c3cd-4ef5-bf10-d4998bb49a79",
   "metadata": {},
   "source": [
    "## __2. Clase Datos - Tratamiento de datos__\n",
    "En el enunciado de la práctica se nos pide crear una clase \"Datos\" la cuál contenga los siguientes atributos:\n",
    "* **nominalAtributos**: Lista de valores booleanos indicando si una columna es nominal o no.\n",
    "* **diccionario**: Diccionario que nos permite _traducir_ los datos originales a datos númericos.\n",
    "* **datos**: Matriz en la cual se guardan los datos _traducidos_.\n",
    "\n",
    "Para resolver este apartado se ha creado el archivo __Datos.py__ donde se encuentra la clase __Datos__. \n",
    "Dicha clase contiene un constructor que se encarga de construir los atributos antes mencionados, para eso lo primero que se hace es cargar el archivo _\"tic-tac-toe.data\"_ o _\"german.data\"_ usando la librería _pandas_, en concreto, usando la función _read_csv_:"
   ]
  },
  {
   "cell_type": "code",
   "execution_count": 2,
   "id": "b819ba5b-adf3-4eea-a232-fe50c51f731c",
   "metadata": {},
   "outputs": [],
   "source": [
    "df1 = pd.read_csv(\"ConjuntosDatos/tic-tac-toe.data\")\n",
    "df2 = pd.read_csv(\"ConjuntosDatos/german.data\")"
   ]
  },
  {
   "cell_type": "markdown",
   "id": "e0b4f520-75ef-4e7f-bb5b-892d94072484",
   "metadata": {},
   "source": [
    "Como podemos ver, el archivo no es un _.csv_ pero el contenido que hay dentro _contiene el formato_ del _.csv_. Por esta razón la función no da ningún problema y se cargan los datos en el dataframe __df__. "
   ]
  },
  {
   "cell_type": "code",
   "execution_count": 3,
   "id": "18c0fc5f-ecef-4092-b41b-47a46cc285b3",
   "metadata": {},
   "outputs": [
    {
     "data": {
      "text/html": [
       "<div>\n",
       "<style scoped>\n",
       "    .dataframe tbody tr th:only-of-type {\n",
       "        vertical-align: middle;\n",
       "    }\n",
       "\n",
       "    .dataframe tbody tr th {\n",
       "        vertical-align: top;\n",
       "    }\n",
       "\n",
       "    .dataframe thead th {\n",
       "        text-align: right;\n",
       "    }\n",
       "</style>\n",
       "<table border=\"1\" class=\"dataframe\">\n",
       "  <thead>\n",
       "    <tr style=\"text-align: right;\">\n",
       "      <th></th>\n",
       "      <th>TLeftSq</th>\n",
       "      <th>TMidSq</th>\n",
       "      <th>TRightSq</th>\n",
       "      <th>MLeftSq</th>\n",
       "      <th>MMidSq</th>\n",
       "      <th>MRightSq</th>\n",
       "      <th>BLeftSq</th>\n",
       "      <th>BMidSq</th>\n",
       "      <th>BRightSq</th>\n",
       "      <th>Class</th>\n",
       "    </tr>\n",
       "  </thead>\n",
       "  <tbody>\n",
       "    <tr>\n",
       "      <th>0</th>\n",
       "      <td>x</td>\n",
       "      <td>x</td>\n",
       "      <td>x</td>\n",
       "      <td>x</td>\n",
       "      <td>o</td>\n",
       "      <td>o</td>\n",
       "      <td>x</td>\n",
       "      <td>o</td>\n",
       "      <td>o</td>\n",
       "      <td>positive</td>\n",
       "    </tr>\n",
       "    <tr>\n",
       "      <th>1</th>\n",
       "      <td>x</td>\n",
       "      <td>x</td>\n",
       "      <td>x</td>\n",
       "      <td>x</td>\n",
       "      <td>o</td>\n",
       "      <td>o</td>\n",
       "      <td>o</td>\n",
       "      <td>x</td>\n",
       "      <td>o</td>\n",
       "      <td>positive</td>\n",
       "    </tr>\n",
       "    <tr>\n",
       "      <th>2</th>\n",
       "      <td>x</td>\n",
       "      <td>x</td>\n",
       "      <td>x</td>\n",
       "      <td>x</td>\n",
       "      <td>o</td>\n",
       "      <td>o</td>\n",
       "      <td>o</td>\n",
       "      <td>o</td>\n",
       "      <td>x</td>\n",
       "      <td>positive</td>\n",
       "    </tr>\n",
       "    <tr>\n",
       "      <th>3</th>\n",
       "      <td>x</td>\n",
       "      <td>x</td>\n",
       "      <td>x</td>\n",
       "      <td>x</td>\n",
       "      <td>o</td>\n",
       "      <td>o</td>\n",
       "      <td>o</td>\n",
       "      <td>b</td>\n",
       "      <td>b</td>\n",
       "      <td>positive</td>\n",
       "    </tr>\n",
       "    <tr>\n",
       "      <th>4</th>\n",
       "      <td>x</td>\n",
       "      <td>x</td>\n",
       "      <td>x</td>\n",
       "      <td>x</td>\n",
       "      <td>o</td>\n",
       "      <td>o</td>\n",
       "      <td>b</td>\n",
       "      <td>o</td>\n",
       "      <td>b</td>\n",
       "      <td>positive</td>\n",
       "    </tr>\n",
       "  </tbody>\n",
       "</table>\n",
       "</div>"
      ],
      "text/plain": [
       "  TLeftSq TMidSq TRightSq MLeftSq MMidSq MRightSq BLeftSq BMidSq BRightSq  \\\n",
       "0       x      x        x       x      o        o       x      o        o   \n",
       "1       x      x        x       x      o        o       o      x        o   \n",
       "2       x      x        x       x      o        o       o      o        x   \n",
       "3       x      x        x       x      o        o       o      b        b   \n",
       "4       x      x        x       x      o        o       b      o        b   \n",
       "\n",
       "      Class  \n",
       "0  positive  \n",
       "1  positive  \n",
       "2  positive  \n",
       "3  positive  \n",
       "4  positive  "
      ]
     },
     "execution_count": 3,
     "metadata": {},
     "output_type": "execute_result"
    }
   ],
   "source": [
    "df1.head(5)"
   ]
  },
  {
   "cell_type": "code",
   "execution_count": 4,
   "id": "8ddc5673-d61a-4c7d-beb5-13f4deb46188",
   "metadata": {},
   "outputs": [
    {
     "data": {
      "text/html": [
       "<div>\n",
       "<style scoped>\n",
       "    .dataframe tbody tr th:only-of-type {\n",
       "        vertical-align: middle;\n",
       "    }\n",
       "\n",
       "    .dataframe tbody tr th {\n",
       "        vertical-align: top;\n",
       "    }\n",
       "\n",
       "    .dataframe thead th {\n",
       "        text-align: right;\n",
       "    }\n",
       "</style>\n",
       "<table border=\"1\" class=\"dataframe\">\n",
       "  <thead>\n",
       "    <tr style=\"text-align: right;\">\n",
       "      <th></th>\n",
       "      <th>A1</th>\n",
       "      <th>A2</th>\n",
       "      <th>A3</th>\n",
       "      <th>A4</th>\n",
       "      <th>A5</th>\n",
       "      <th>A6</th>\n",
       "      <th>A7</th>\n",
       "      <th>A8</th>\n",
       "      <th>A9</th>\n",
       "      <th>A10</th>\n",
       "      <th>...</th>\n",
       "      <th>A12</th>\n",
       "      <th>A13</th>\n",
       "      <th>A14</th>\n",
       "      <th>A15</th>\n",
       "      <th>A16</th>\n",
       "      <th>A17</th>\n",
       "      <th>A18</th>\n",
       "      <th>A19</th>\n",
       "      <th>A20</th>\n",
       "      <th>Class</th>\n",
       "    </tr>\n",
       "  </thead>\n",
       "  <tbody>\n",
       "    <tr>\n",
       "      <th>0</th>\n",
       "      <td>A11</td>\n",
       "      <td>6</td>\n",
       "      <td>A34</td>\n",
       "      <td>A43</td>\n",
       "      <td>1169</td>\n",
       "      <td>A65</td>\n",
       "      <td>A75</td>\n",
       "      <td>4</td>\n",
       "      <td>A93</td>\n",
       "      <td>A101</td>\n",
       "      <td>...</td>\n",
       "      <td>A121</td>\n",
       "      <td>67</td>\n",
       "      <td>A143</td>\n",
       "      <td>A152</td>\n",
       "      <td>2</td>\n",
       "      <td>A173</td>\n",
       "      <td>1</td>\n",
       "      <td>A192</td>\n",
       "      <td>A201</td>\n",
       "      <td>1</td>\n",
       "    </tr>\n",
       "    <tr>\n",
       "      <th>1</th>\n",
       "      <td>A12</td>\n",
       "      <td>48</td>\n",
       "      <td>A32</td>\n",
       "      <td>A43</td>\n",
       "      <td>5951</td>\n",
       "      <td>A61</td>\n",
       "      <td>A73</td>\n",
       "      <td>2</td>\n",
       "      <td>A92</td>\n",
       "      <td>A101</td>\n",
       "      <td>...</td>\n",
       "      <td>A121</td>\n",
       "      <td>22</td>\n",
       "      <td>A143</td>\n",
       "      <td>A152</td>\n",
       "      <td>1</td>\n",
       "      <td>A173</td>\n",
       "      <td>1</td>\n",
       "      <td>A191</td>\n",
       "      <td>A201</td>\n",
       "      <td>2</td>\n",
       "    </tr>\n",
       "    <tr>\n",
       "      <th>2</th>\n",
       "      <td>A14</td>\n",
       "      <td>12</td>\n",
       "      <td>A34</td>\n",
       "      <td>A46</td>\n",
       "      <td>2096</td>\n",
       "      <td>A61</td>\n",
       "      <td>A74</td>\n",
       "      <td>2</td>\n",
       "      <td>A93</td>\n",
       "      <td>A101</td>\n",
       "      <td>...</td>\n",
       "      <td>A121</td>\n",
       "      <td>49</td>\n",
       "      <td>A143</td>\n",
       "      <td>A152</td>\n",
       "      <td>1</td>\n",
       "      <td>A172</td>\n",
       "      <td>2</td>\n",
       "      <td>A191</td>\n",
       "      <td>A201</td>\n",
       "      <td>1</td>\n",
       "    </tr>\n",
       "    <tr>\n",
       "      <th>3</th>\n",
       "      <td>A11</td>\n",
       "      <td>42</td>\n",
       "      <td>A32</td>\n",
       "      <td>A42</td>\n",
       "      <td>7882</td>\n",
       "      <td>A61</td>\n",
       "      <td>A74</td>\n",
       "      <td>2</td>\n",
       "      <td>A93</td>\n",
       "      <td>A103</td>\n",
       "      <td>...</td>\n",
       "      <td>A122</td>\n",
       "      <td>45</td>\n",
       "      <td>A143</td>\n",
       "      <td>A153</td>\n",
       "      <td>1</td>\n",
       "      <td>A173</td>\n",
       "      <td>2</td>\n",
       "      <td>A191</td>\n",
       "      <td>A201</td>\n",
       "      <td>1</td>\n",
       "    </tr>\n",
       "    <tr>\n",
       "      <th>4</th>\n",
       "      <td>A11</td>\n",
       "      <td>24</td>\n",
       "      <td>A33</td>\n",
       "      <td>A40</td>\n",
       "      <td>4870</td>\n",
       "      <td>A61</td>\n",
       "      <td>A73</td>\n",
       "      <td>3</td>\n",
       "      <td>A93</td>\n",
       "      <td>A101</td>\n",
       "      <td>...</td>\n",
       "      <td>A124</td>\n",
       "      <td>53</td>\n",
       "      <td>A143</td>\n",
       "      <td>A153</td>\n",
       "      <td>2</td>\n",
       "      <td>A173</td>\n",
       "      <td>2</td>\n",
       "      <td>A191</td>\n",
       "      <td>A201</td>\n",
       "      <td>2</td>\n",
       "    </tr>\n",
       "  </tbody>\n",
       "</table>\n",
       "<p>5 rows × 21 columns</p>\n",
       "</div>"
      ],
      "text/plain": [
       "    A1  A2   A3   A4    A5   A6   A7  A8   A9   A10  ...   A12 A13   A14  \\\n",
       "0  A11   6  A34  A43  1169  A65  A75   4  A93  A101  ...  A121  67  A143   \n",
       "1  A12  48  A32  A43  5951  A61  A73   2  A92  A101  ...  A121  22  A143   \n",
       "2  A14  12  A34  A46  2096  A61  A74   2  A93  A101  ...  A121  49  A143   \n",
       "3  A11  42  A32  A42  7882  A61  A74   2  A93  A103  ...  A122  45  A143   \n",
       "4  A11  24  A33  A40  4870  A61  A73   3  A93  A101  ...  A124  53  A143   \n",
       "\n",
       "    A15 A16   A17 A18   A19   A20 Class  \n",
       "0  A152   2  A173   1  A192  A201     1  \n",
       "1  A152   1  A173   1  A191  A201     2  \n",
       "2  A152   1  A172   2  A191  A201     1  \n",
       "3  A153   1  A173   2  A191  A201     1  \n",
       "4  A153   2  A173   2  A191  A201     2  \n",
       "\n",
       "[5 rows x 21 columns]"
      ]
     },
     "execution_count": 4,
     "metadata": {},
     "output_type": "execute_result"
    }
   ],
   "source": [
    "df2.head(5)"
   ]
  },
  {
   "cell_type": "markdown",
   "id": "81a83aeb-2622-456c-9f36-3491d8c6b643",
   "metadata": {},
   "source": [
    "Podemos ver que el dataframe ha cargado los archivos de forma exitosa. Podemos empezar a crear los atributos."
   ]
  },
  {
   "cell_type": "code",
   "execution_count": 5,
   "id": "292d2dda-63e0-4b49-a11c-82835bbcfc42",
   "metadata": {},
   "outputs": [],
   "source": [
    "dataset1 = Datos(\"ConjuntosDatos/tic-tac-toe.data\")\n",
    "dataset2 = Datos(\"ConjuntosDatos/german.data\")"
   ]
  },
  {
   "cell_type": "markdown",
   "id": "8ee2b68a-ef1d-4b08-955c-b9362d79bc7d",
   "metadata": {},
   "source": [
    "## 2.1 nominalAtributos\n",
    "Para cargar esta lista, se creo un método llamado __asignaNominalAtributos__. Dicho método recibe como argumento los tipos de las columnas (obtenidos usando __df.dtypes__). \n",
    "```py\n",
    "def asignaNominalAtributos(self, tipos):\n",
    "        \"\"\"Itera sobre los tipos de atributos y asigna:\n",
    "            True: Si la columna es nominal (object).\n",
    "            False: Si la columna no es nominal.\n",
    "\n",
    "        Args:\n",
    "            line: Tipos obtenidos del dataframe de pandas.\n",
    "        \"\"\"\n",
    "        for tipo in tipos:\n",
    "            self.nominalAtributos.append(True if tipo == object else False)\n",
    "```\n",
    "Lo que se hace es que se itera sobre dichos elementos con el fin de ver si la columna contiene atributos nominales.\n"
   ]
  },
  {
   "cell_type": "code",
   "execution_count": 11,
   "id": "db0a0747-e867-4461-b9d3-ef37dfae1a40",
   "metadata": {},
   "outputs": [
    {
     "name": "stdout",
     "output_type": "stream",
     "text": [
      "Dataset tic-tac-toe\n"
     ]
    },
    {
     "data": {
      "text/plain": [
       "[True, True, True, True, True, True, True, True, True, True]"
      ]
     },
     "execution_count": 11,
     "metadata": {},
     "output_type": "execute_result"
    }
   ],
   "source": [
    "print(\"Dataset tic-tac-toe\")\n",
    "dataset1.nominalAtributos"
   ]
  },
  {
   "cell_type": "code",
   "execution_count": 10,
   "id": "865a6c18-12bd-4a94-8966-d82830767b50",
   "metadata": {},
   "outputs": [
    {
     "name": "stdout",
     "output_type": "stream",
     "text": [
      "Dataset german\n"
     ]
    },
    {
     "data": {
      "text/plain": [
       "[True,\n",
       " False,\n",
       " True,\n",
       " True,\n",
       " False,\n",
       " True,\n",
       " True,\n",
       " False,\n",
       " True,\n",
       " True,\n",
       " False,\n",
       " True,\n",
       " False,\n",
       " True,\n",
       " True,\n",
       " False,\n",
       " True,\n",
       " False,\n",
       " True,\n",
       " True,\n",
       " False]"
      ]
     },
     "execution_count": 10,
     "metadata": {},
     "output_type": "execute_result"
    }
   ],
   "source": [
    "print(\"Dataset german\")\n",
    "dataset2.nominalAtributos"
   ]
  },
  {
   "cell_type": "markdown",
   "id": "0caf1f08-2b22-49b4-be3d-f9527a076a0b",
   "metadata": {},
   "source": [
    "Podemos ver que el formato de las listas es el correcto. Podemos ver también que en el primer caso (tic-tac-toe) todos los atributos son nominales, pero en el segundo __no__. La segunda columan, la quinta... esas columnas tienen valores numéricos y se muestra correctamente en la lista."
   ]
  },
  {
   "cell_type": "markdown",
   "id": "d27d3b2c-34ba-4e92-b5ec-9baeb369625c",
   "metadata": {},
   "source": [
    "## 2.2 diccionario\n",
    "Para cargar este diccionario se creo un método llamado __construyeDiccionario__. Dicho método recibe como argumento el dataframe original. \n",
    "```py\n",
    "    def construyeDiccionario(self, df):\n",
    "        \"\"\"Método que itera sobre los datos y construye\n",
    "        un diccionario de diccionarios en el que se muestra\n",
    "        el valor que puede tener cada atributo. Ejemplo:\n",
    "        {\n",
    "            \"Attr1\": {\"x\": 1, \"y\": 2} -- Orden alfabético\n",
    "            \"Attr2\": {\"x\": 1, \"y\": 2}\n",
    "            ...\n",
    "        }\n",
    "        \n",
    "        Args:\n",
    "            df (Pandas Dataframe): Dataframe pandas con todos los datos.\n",
    "        \"\"\"\n",
    "        for item in df.iteritems():\n",
    "            columnName = item[0]\n",
    "            possibleValues = list(df[columnName].unique()).copy()\n",
    "            possibleValues.sort()\n",
    "            for i, value in enumerate(possibleValues):\n",
    "                if columnName not in self.diccionario:\n",
    "                    self.diccionario[columnName] = {}\n",
    "                self.diccionario[columnName][value] = i\n",
    "```\n",
    "El algoritmo implementado en el método itera sobre cada columna (con los datos de esta incluidos) mediante el métdo __df.iteritems()__. Una vez tenemos la columna lo que se hace es que se crea una lista con los todos los valores únicos de dicha columna mediante el método __df[column_name].unique()__. Esta lista se ordena y por último se añade un diccionario al diccionario \"padre\", donde la _key_ es el nombre de la columna y los _values_ son los distintos posibles valores ordenados alfabéticamente y enumerados. "
   ]
  },
  {
   "cell_type": "code",
   "execution_count": 13,
   "id": "10d6fc44-d87d-45fc-beac-efa9c51bb5a9",
   "metadata": {},
   "outputs": [
    {
     "name": "stdout",
     "output_type": "stream",
     "text": [
      "Dataset tic-tac-toe\n"
     ]
    },
    {
     "data": {
      "text/plain": [
       "{'b': 0, 'o': 1, 'x': 2}"
      ]
     },
     "execution_count": 13,
     "metadata": {},
     "output_type": "execute_result"
    }
   ],
   "source": [
    "print(\"Dataset tic-tac-toe\")\n",
    "dataset1.diccionario['TLeftSq']"
   ]
  },
  {
   "cell_type": "code",
   "execution_count": 12,
   "id": "aa60f104-9709-4810-879b-c3a649e191a1",
   "metadata": {},
   "outputs": [
    {
     "name": "stdout",
     "output_type": "stream",
     "text": [
      "Dataset german\n"
     ]
    },
    {
     "data": {
      "text/plain": [
       "{'A11': 0, 'A12': 1, 'A13': 2, 'A14': 3}"
      ]
     },
     "execution_count": 12,
     "metadata": {},
     "output_type": "execute_result"
    }
   ],
   "source": [
    "print(\"Dataset german\")\n",
    "dataset2.diccionario['A1']"
   ]
  },
  {
   "cell_type": "markdown",
   "id": "5b84cc99-a700-4cbb-ab96-39b5bfd23116",
   "metadata": {},
   "source": [
    "Como se muestra estos son los posibles valores de la primera columna de cada uno de los dataset."
   ]
  },
  {
   "cell_type": "markdown",
   "id": "56ddaf92-5e59-4966-a531-1655f8cd5976",
   "metadata": {},
   "source": [
    "## 2.3 datos\n",
    "Para cargar esta matriz se creo un método llamado __construyeDatos__. Dicho método recibe como argumento el dataframe original.\n",
    "```py\n",
    "    def construyeDatos(self, df):\n",
    "        \"\"\"Método que itera sobre todas las filas del dataset\n",
    "        con el fin de traducir los datos a números.\n",
    "\n",
    "        Args:\n",
    "            df (Pandas Dataframe): Dataset con los datos originales.\n",
    "        \"\"\"\n",
    "        self.datos = np.zeros(shape=df.shape)\n",
    "        for i, item in enumerate(df.iterrows()):\n",
    "            for j, col in enumerate(item[1].items()):\n",
    "                self.datos[i][j] = self.diccionario[col[0]][col[1]]\n",
    "```\n",
    "El algoritmo implementado primero crea una matriz con la misma forma que tiene el dataframe recibido mediante la librería __numpy__, para inicializar dicha matriz se usa __np.zeros(shape=...)__ (crea una matriz con ceros) y se le envía como argumento la forma de la matriz con __df.shape__ (nos devuelve la forma del dataframe).\n",
    "\n",
    "Una vez tenemos la matriz, iteramos sobre todas las filas mediante __df.iterrows()__, leemos cada columna en la fila y cambiamos el valor en la matriz numpy."
   ]
  },
  {
   "cell_type": "code",
   "execution_count": 14,
   "id": "54c75433-5441-4734-8eb1-55895e82e33f",
   "metadata": {},
   "outputs": [
    {
     "name": "stdout",
     "output_type": "stream",
     "text": [
      "Dataset tic-tac-toe\n"
     ]
    },
    {
     "data": {
      "text/plain": [
       "array([[2., 2., 2., ..., 1., 1., 1.],\n",
       "       [2., 2., 2., ..., 2., 1., 1.],\n",
       "       [2., 2., 2., ..., 1., 2., 1.],\n",
       "       ...,\n",
       "       [1., 2., 1., ..., 1., 2., 0.],\n",
       "       [1., 2., 1., ..., 1., 2., 0.],\n",
       "       [1., 1., 2., ..., 2., 2., 0.]])"
      ]
     },
     "execution_count": 14,
     "metadata": {},
     "output_type": "execute_result"
    }
   ],
   "source": [
    "print(\"Dataset tic-tac-toe\")\n",
    "dataset1.datos"
   ]
  },
  {
   "cell_type": "code",
   "execution_count": 15,
   "id": "78a04771-db6e-42a8-b41b-800ed72aee76",
   "metadata": {},
   "outputs": [
    {
     "name": "stdout",
     "output_type": "stream",
     "text": [
      "Dataset german\n"
     ]
    },
    {
     "data": {
      "text/plain": [
       "array([[ 0.,  2.,  4., ...,  1.,  0.,  0.],\n",
       "       [ 1., 29.,  2., ...,  0.,  0.,  1.],\n",
       "       [ 3.,  8.,  4., ...,  0.,  0.,  0.],\n",
       "       ...,\n",
       "       [ 3.,  8.,  2., ...,  0.,  0.,  0.],\n",
       "       [ 0., 27.,  2., ...,  1.,  0.,  1.],\n",
       "       [ 1., 27.,  4., ...,  0.,  0.,  0.]])"
      ]
     },
     "execution_count": 15,
     "metadata": {},
     "output_type": "execute_result"
    }
   ],
   "source": [
    "print(\"Dataset german\")\n",
    "dataset2.datos"
   ]
  },
  {
   "cell_type": "markdown",
   "id": "a22be966-4555-4466-a842-bf416cc5f1c3",
   "metadata": {},
   "source": [
    "Podemos ver que los datos se han traducido y unicamente tenemos valores numéricos."
   ]
  }
 ],
 "metadata": {
  "kernelspec": {
   "display_name": "Python 3",
   "language": "python",
   "name": "python3"
  },
  "language_info": {
   "codemirror_mode": {
    "name": "ipython",
    "version": 3
   },
   "file_extension": ".py",
   "mimetype": "text/x-python",
   "name": "python",
   "nbconvert_exporter": "python",
   "pygments_lexer": "ipython3",
   "version": "3.8.8"
  }
 },
 "nbformat": 4,
 "nbformat_minor": 5
}
